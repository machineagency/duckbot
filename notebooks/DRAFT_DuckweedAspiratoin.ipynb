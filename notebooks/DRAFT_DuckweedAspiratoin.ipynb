{
 "cells": [
  {
   "cell_type": "markdown",
   "id": "4541664a-6872-41c6-b0b2-3a09d4e475c3",
   "metadata": {},
   "source": [
    "### Duckweed Aspiration\n",
    "Test notebook for aspirating duckweed"
   ]
  },
  {
   "cell_type": "code",
   "execution_count": 1,
   "id": "3c5553db-f513-45f2-9f97-ff23ae815a86",
   "metadata": {},
   "outputs": [],
   "source": [
    "# import required modules\n",
    "from utils.MachineUtils import *\n",
    "import time\n",
    "import random\n",
    "from utils.Plate_positions import *"
   ]
  },
  {
   "cell_type": "code",
   "execution_count": 2,
   "id": "a2c30acd-2343-43e3-8a71-110794c268ef",
   "metadata": {},
   "outputs": [
    {
     "name": "stdout",
     "output_type": "stream",
     "text": [
      "['ttyACM0', 'ttyAMA0']\n"
     ]
    }
   ],
   "source": [
    "# Setup your machine connection\n",
    "# List available ports in thie cell\n",
    "\n",
    "ports = serial.tools.list_ports.comports()\n",
    "print([port.name for port in ports]) "
   ]
  },
  {
   "cell_type": "code",
   "execution_count": 3,
   "id": "4024af6f-4ddb-4aa8-a290-ca6fc67327be",
   "metadata": {},
   "outputs": [],
   "source": [
    "# Choose the correct port from above and establish connection with machine\n",
    "port = '/dev/ttyACM0'\n",
    "m = MachineCommunication(port)"
   ]
  },
  {
   "cell_type": "code",
   "execution_count": 5,
   "id": "b776da9a-53b3-43c1-8b0e-6e25b0691046",
   "metadata": {},
   "outputs": [],
   "source": [
    "m.toolChange(2)"
   ]
  },
  {
   "cell_type": "code",
   "execution_count": 4,
   "id": "1367f8cc-ee77-40ee-b6f7-c3d7592c5f8f",
   "metadata": {},
   "outputs": [],
   "source": [
    "m.setExtruderRelative()"
   ]
  },
  {
   "cell_type": "code",
   "execution_count": 25,
   "id": "48755e4b-5eb3-47f0-a528-4bb68298adaa",
   "metadata": {},
   "outputs": [],
   "source": [
    "# set the height of the surface of the water\n",
    "# by stepping slowly in z\n",
    "surface_depth = -53.5 # z"
   ]
  },
  {
   "cell_type": "code",
   "execution_count": 8,
   "id": "34cec067-a0c3-4f41-9ec0-a28c47d7d9ae",
   "metadata": {},
   "outputs": [],
   "source": [
    "# set the x,y location of the center of the petri dish\n",
    "petri_location = [77, 237]"
   ]
  },
  {
   "cell_type": "code",
   "execution_count": 9,
   "id": "413b69d7-4935-485b-bf50-d65478f89950",
   "metadata": {},
   "outputs": [],
   "source": [
    "m.moveTo(x=petri_location[0], y=petri_location[1])"
   ]
  },
  {
   "cell_type": "code",
   "execution_count": 11,
   "id": "29706baf-a2e5-4823-9007-5dc80fbe6c63",
   "metadata": {},
   "outputs": [
    {
     "name": "stdout",
     "output_type": "stream",
     "text": [
      "G1   Z-0.50  F6000.00\n",
      "G1   Z5.00 E25.00 F2000.00\n"
     ]
    }
   ],
   "source": [
    "# aspirate duckweed\n",
    "# first move to surface\n",
    "m.moveTo(z=surface_depth)\n",
    "m.move(dz=-0.5) # press slightly\n",
    "time.sleep(0.75) # wait a second\n",
    "m.move(dz=5, de=25, s=2000) # aspirate!"
   ]
  },
  {
   "cell_type": "code",
   "execution_count": 31,
   "id": "f811f6e3-8602-4f87-93bf-9d4b79a27611",
   "metadata": {},
   "outputs": [
    {
     "name": "stdout",
     "output_type": "stream",
     "text": [
      "G1    E-5.00 F1200.00\n"
     ]
    }
   ],
   "source": [
    "m.move(de=-5, s=1200)"
   ]
  },
  {
   "cell_type": "code",
   "execution_count": 72,
   "id": "a7f1a70b-18b3-4675-82be-e2b01600835f",
   "metadata": {},
   "outputs": [
    {
     "name": "stdout",
     "output_type": "stream",
     "text": [
      "G1    E-20.00 F1500.00\n"
     ]
    }
   ],
   "source": [
    "m.move(de=-20, s=500)"
   ]
  },
  {
   "cell_type": "code",
   "execution_count": 28,
   "id": "7519a2b1-77cd-43b1-8e45-7c1bbc8dc882",
   "metadata": {},
   "outputs": [
    {
     "name": "stdout",
     "output_type": "stream",
     "text": [
      "G1   Z-1.00  F6000.00\n",
      "G1   Z5.00 E20.00 F2000.00\n"
     ]
    }
   ],
   "source": [
    "# move to a random point to pick up duckweed\n",
    "# assumes dense petri dish\n",
    "r = 25\n",
    "rx = r * random.random()\n",
    "ry = r * random.random()\n",
    "\n",
    "# move in xy first\n",
    "m.moveTo(x=petri_location[0] + rx, y=petri_location[1] + ry)\n",
    "\n",
    "# aspirate duckweed\n",
    "# first move to surface\n",
    "m.moveTo(z=surface_depth)\n",
    "time.sleep(3) # wait a bit\n",
    "m.move(dz=-1) # press slightly\n",
    "time.sleep(3) # wait a bit\n",
    "m.move(dz=5, de=20, s=2000) # aspirate!"
   ]
  },
  {
   "cell_type": "code",
   "execution_count": 33,
   "id": "b3d6ca8a-86d5-4401-9d7d-2ccb6967d5e2",
   "metadata": {},
   "outputs": [
    {
     "name": "stdout",
     "output_type": "stream",
     "text": [
      "G1   Z8.00  F6000.00\n",
      "G1    E-20.00 F1500.00\n"
     ]
    }
   ],
   "source": [
    "# dipense\n",
    "m.move(dz=8)\n",
    "m.move(de=-20, s=1500)"
   ]
  },
  {
   "cell_type": "code",
   "execution_count": 98,
   "id": "77db84f0-0bdc-4a69-a322-00d59ba90fe2",
   "metadata": {},
   "outputs": [
    {
     "name": "stdout",
     "output_type": "stream",
     "text": [
      "G1    E-25.00 F500.00\n"
     ]
    }
   ],
   "source": [
    "m.move(de=-25, s=500)"
   ]
  },
  {
   "cell_type": "code",
   "execution_count": 69,
   "id": "ba0d46e2-dc2f-459c-9418-02535f3735e1",
   "metadata": {},
   "outputs": [
    {
     "name": "stdout",
     "output_type": "stream",
     "text": [
      "G1    E25.00 F1500.00\n"
     ]
    }
   ],
   "source": [
    "m.move(de=25, s=500)"
   ]
  },
  {
   "cell_type": "code",
   "execution_count": 105,
   "id": "3e52d8f6-2fb8-4c64-93af-2adf884c45b3",
   "metadata": {},
   "outputs": [
    {
     "name": "stdout",
     "output_type": "stream",
     "text": [
      "G1    E10.00 F2500.00\n"
     ]
    }
   ],
   "source": [
    "m.move(de=10, s=2500)"
   ]
  },
  {
   "cell_type": "code",
   "execution_count": 124,
   "id": "baf6b221-758a-4565-bc11-feccfc459781",
   "metadata": {},
   "outputs": [
    {
     "name": "stdout",
     "output_type": "stream",
     "text": [
      "G1   Z-0.75  F6000.00\n",
      "G1   Z10.00 E20.00 F2000.00\n"
     ]
    }
   ],
   "source": [
    "# without random movement\n",
    "# aspirate duckweed\n",
    "# first move to surface\n",
    "m.moveTo(z=surface_depth)\n",
    "time.sleep(5) # wait a bit\n",
    "m.move(dz=-0.75) # press slightly\n",
    "time.sleep(0.75) # wait a bit\n",
    "m.move(dz=10, de=20, s=2000) # aspirate!"
   ]
  },
  {
   "cell_type": "code",
   "execution_count": null,
   "id": "7ae3d5fe-6267-4214-98a3-3b516d943c62",
   "metadata": {},
   "outputs": [],
   "source": []
  }
 ],
 "metadata": {
  "kernelspec": {
   "display_name": ".venv",
   "language": "python",
   "name": ".venv"
  },
  "language_info": {
   "codemirror_mode": {
    "name": "ipython",
    "version": 3
   },
   "file_extension": ".py",
   "mimetype": "text/x-python",
   "name": "python",
   "nbconvert_exporter": "python",
   "pygments_lexer": "ipython3",
   "version": "3.7.3"
  }
 },
 "nbformat": 4,
 "nbformat_minor": 5
}
