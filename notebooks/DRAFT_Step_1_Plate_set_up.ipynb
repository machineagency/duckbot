{
 "cells": [
  {
   "cell_type": "markdown",
   "id": "94241553",
   "metadata": {},
   "source": [
    "## Set up a duckweed genotypes x media growth assay"
   ]
  },
  {
   "cell_type": "markdown",
   "id": "cbe12e31",
   "metadata": {},
   "source": [
    "### Pre-requisites to use this script\n",
    "1. Precise plate and well positions for your machine defined in Plate_positions.py in the 'utils' subdirectory. \n",
    "2. All the parameters defined in the cell 'User paramters'. \n",
    "3. Sufficient 24-well plates, sterile media and duckweed plants available. \n",
    "4. Jubilee machine set up with Media-dispensing syringe tool (50 mL), Duckweed transfer syringe tool and lab automation bedplate. \n"
   ]
  },
  {
   "cell_type": "code",
   "execution_count": null,
   "id": "d9261ed0",
   "metadata": {},
   "outputs": [],
   "source": [
    "#Importing python libraries downloaded from the internet\n",
    "import random\n",
    "import pandas as pd\n",
    "import os\n",
    "import json\n",
    "import time"
   ]
  },
  {
   "cell_type": "code",
   "execution_count": null,
   "id": "a859b399",
   "metadata": {},
   "outputs": [],
   "source": [
    "#Importing python libraries from local files. \n",
    "from utils.CameraUtils import *\n",
    "import utils.DuckbotExptSetupUtils as exp\n",
    "from utils.MachineUtils import *\n",
    "import utils.PlatePositionUtils as pp "
   ]
  },
  {
   "cell_type": "code",
   "execution_count": null,
   "id": "383ee4c9",
   "metadata": {},
   "outputs": [],
   "source": [
    "port = \"/dev/ttyACM0\"\n",
    "m = MachineCommunication(port)"
   ]
  },
  {
   "cell_type": "markdown",
   "id": "4e56cfe1",
   "metadata": {},
   "source": [
    "## 1. Define user parameters"
   ]
  },
  {
   "cell_type": "markdown",
   "id": "18a64ccc",
   "metadata": {},
   "source": [
    "### Labware config \n",
    "All should be in arbitrary Jubilee motor units. Find this manually on the machine. They shouldn't need to be updated until you start using a new reservoir. And if that's the case you could create a labware library and then define the media_reservoir variable as one of the objects in your library. "
   ]
  },
  {
   "cell_type": "code",
   "execution_count": null,
   "id": "d99f7a1f",
   "metadata": {},
   "outputs": [],
   "source": [
    "#X and Y should get the machine to the center of the reservoir. \n",
    "media_reservoir = { 'x' : 75, 'y' : 241,} #You could just point to the middle of position 0. \n",
    "\n",
    "#Tool positions\n",
    "media_syringe = 2 #What jubilee tool position did you define this as?\n",
    "duckweed_syringe = 3\n",
    "inoculation_loop = 4\n",
    "\n",
    "#Volume calculations\n",
    "dispenses_per_syringe_fill = 20\n",
    "dispense_mL = 1.5 #In mL\n",
    "vol_conversion = 3.9 #One mL is 3.9 units. \n",
    "dispense_offset = dispense_mL * vol_conversion\n",
    "\n",
    "#Z-positions for different actions\n",
    "z_dict = {\"zero\": 0, #Note that zeros\n",
    "          \"aspirate\" : -46.5, #Measure this for yourself and your labware/toolheads.\n",
    "          \"dispense\" : -21.5\n",
    "         }"
   ]
  },
  {
   "cell_type": "markdown",
   "id": "1135c3ef",
   "metadata": {},
   "source": [
    "### Define experimental variables, and desired file names and save locations. "
   ]
  },
  {
   "cell_type": "code",
   "execution_count": null,
   "id": "a916546d",
   "metadata": {},
   "outputs": [],
   "source": [
    "\n",
    "#1. DEFINE EXPERIMENTAL VARIABLES\n",
    "genotypes = [\"Sp7498\", \"Lm5500\", \"Lm8627\"] # Replace with names for unique duckweed genotypes\n",
    "media = [\"Mock\"] \n",
    "\n",
    "# media = [\"Mock\", \"25 mM Salt\", \"50 mM Salt\", \"75 mM Salt\",\"150 mM Salt\"] # Replace with names for unique media\n",
    "reps  = 8 # Replace with your desired number of replicates for each duckweed/media combination. \n",
    "\n",
    "#2. DEFINE FILE LOCATION AND NAME\n",
    "expt_setup_parent_dir = os.getcwd()\n",
    "# expt_setup_parent_dir = '/Users/Orlando/Documents/Github_clones/duckbot/notebooks/Demo/' # Default uses current working directory but you can replace with your own choice. \n",
    "# expt_setup_dir = \"TestDriveExpt_1_08032022\" # Name of the folder to hold experiment data and metadata including the setup file\n",
    "# expt_setup_dir = \"Test_experiments\" \n",
    "expt_setup_dir = \"SandboxAspiration\" \n",
    "# expt_setup_filename = \"TestDriveExpt_1_08032022.json\" #Name for the experiment setup file (Metadata)\n",
    "# expt_setup_filename = \"Expt_082222.json\" #Name for the experiment setup file (Metadata)\n",
    "expt_setup_filename = \"SandboxAspiration.json\"\n",
    "\n",
    "\n",
    "expt_setup_file_path = os.path.join(expt_setup_parent_dir, expt_setup_dir)\n",
    "print(expt_setup_file_path)\n",
    "\n",
    "if not os.path.exists(expt_setup_file_path):\n",
    "    os.mkdir(expt_setup_file_path)     "
   ]
  },
  {
   "cell_type": "markdown",
   "id": "1ce24584",
   "metadata": {},
   "source": [
    "## 2. Define and visualize experimental set up"
   ]
  },
  {
   "cell_type": "code",
   "execution_count": null,
   "id": "46b27146",
   "metadata": {},
   "outputs": [],
   "source": [
    "# Creates master list of sample info, shuffles and then assigns to plates and wells. \n",
    "master_expt_list = []\n",
    "\n",
    "for g in genotypes:\n",
    "    for md in media:\n",
    "        for x in range(reps):\n",
    "             master_expt_list.append({\"genotype\": g, \"media\": md, \"condition_replicate\": x + 1})\n",
    "\n",
    "\n",
    "random.shuffle(master_expt_list)\n",
    "master_expt_list = exp.assign_plates_and_wells(master_expt_list)\n",
    "expt_dict = {\"sample_info\" : master_expt_list}"
   ]
  },
  {
   "cell_type": "code",
   "execution_count": null,
   "id": "84a9591b",
   "metadata": {},
   "outputs": [],
   "source": [
    "#Save experimental set up file\n",
    "os.chdir(expt_setup_file_path)\n",
    "with open(expt_setup_filename, 'w') as f:\n",
    "    json.dump(expt_dict, f)"
   ]
  },
  {
   "cell_type": "code",
   "execution_count": null,
   "id": "5cce9399",
   "metadata": {},
   "outputs": [],
   "source": [
    "#Import from file (in case user wants to make any manual edits to the JSON file after creating it)\n",
    "\n",
    "with open(expt_setup_filename) as datafile:\n",
    "    expt_data = json.load(datafile)\n",
    "\n",
    "# Turn samples list into a dataframe\n",
    "sample_data = expt_data[\"sample_info\"]"
   ]
  },
  {
   "cell_type": "code",
   "execution_count": null,
   "id": "a66ed21b",
   "metadata": {},
   "outputs": [],
   "source": [
    "%matplotlib inline\n",
    "df_with_well_coords = pp.add_well_coords_to_df_from_file(expt_setup_file_path, expt_setup_filename)\n",
    "exp.visualize_plate_set_up(df_with_well_coords)"
   ]
  },
  {
   "cell_type": "markdown",
   "id": "61b71c98",
   "metadata": {},
   "source": [
    "## 3. Label 24-well plates and add to machine"
   ]
  },
  {
   "cell_type": "markdown",
   "id": "fe38bb67",
   "metadata": {},
   "source": [
    "#### Label Plates and add plates to machine"
   ]
  },
  {
   "cell_type": "code",
   "execution_count": null,
   "id": "bc31ce67",
   "metadata": {},
   "outputs": [],
   "source": [
    "df = pd.DataFrame(sample_data)\n",
    "num_plates = df.Plate.nunique()\n",
    "print(num_plates)\n",
    "\n",
    "print(\"This experiment requires {} 24-well plate(s)\".format(num_plates))\n",
    "print(\"----\")\n",
    "lst = list(range(1,num_plates + 1))\n",
    "for n in lst:\n",
    "    print(\"Label a plate with experiment ID or initials and 'plate {}'\".format(n))\n",
    "print(\"----\")\n",
    "print (\"Place the 24-well plate(s) in the jubilee\".format(num_plates))\n",
    "print (\"Start at position 1 and fill empty plate slots in order\")"
   ]
  },
  {
   "cell_type": "markdown",
   "id": "3bd8f5e8",
   "metadata": {},
   "source": [
    "## 2. Dispense media\n",
    "When prompted insert containers of the relevant sterile media into the input slot on the Jubilee. "
   ]
  },
  {
   "cell_type": "code",
   "execution_count": null,
   "id": "97e3d8a0",
   "metadata": {},
   "outputs": [],
   "source": [
    "#Retrieve absolute positions of wells from a library and then add those coordinatest to the plate set up dataframe\n",
    "df = pp.add_well_coords_to_df_from_file(expt_setup_file_path, expt_setup_filename)"
   ]
  },
  {
   "cell_type": "code",
   "execution_count": null,
   "id": "13862d22",
   "metadata": {},
   "outputs": [],
   "source": [
    "#Reorganizes dataframe to create machine instructions sorted by media-type\n",
    "media_dicts = pp.pull_list_of_well_coord_dicts_by_dfcolumn(df, 'media')\n",
    "print(media_dicts)"
   ]
  },
  {
   "cell_type": "code",
   "execution_count": null,
   "id": "eba8e49a",
   "metadata": {},
   "outputs": [],
   "source": [
    "#Pick up syringe toolhead\n",
    "m.toolChange(media_syringe)"
   ]
  },
  {
   "cell_type": "code",
   "execution_count": null,
   "id": "c2f07170",
   "metadata": {},
   "outputs": [],
   "source": [
    "# Send machine instructions\n",
    "for media in media_dicts:\n",
    "    m.moveTo(x=0,y=0,z=0)\n",
    "    print(f\"Please ensure {media['media']} is available in the machine before continuing.\")\n",
    "    print(\"Change syringe and/or needle if desired\")\n",
    "    while True:\n",
    "        value = input(\"Enter 'YES' to confirm that the correct media is in position\")\n",
    "        if value != \"YES\":\n",
    "            print(\"Please confirm\")\n",
    "        else:\n",
    "            break\n",
    "    exp.dispense_to_wells(m, media[\"well-coords\"], dispense_offset, dispenses_per_syringe_fill, media_reservoir, z_dict)"
   ]
  },
  {
   "cell_type": "markdown",
   "id": "999efd6b",
   "metadata": {},
   "source": [
    "## 5. Transfer duckweed\n",
    "Place a container filled with fronds of the relevant duckweed type and the machine will attempt to move individual fronds into the relevant wells. After each attempt at filling all wells a camera will take pictures of each well to confirm success and then unsuccessful wells will be reattempted"
   ]
  },
  {
   "cell_type": "code",
   "execution_count": null,
   "id": "d84fb453-3c96-4c55-a06a-b2555ae77f81",
   "metadata": {},
   "outputs": [],
   "source": [
    "duckweed_reservoir = [75, 241]\n",
    "#pop the bed down to avoid any collisions on tool change\n",
    "m.moveTo(z=50)"
   ]
  },
  {
   "cell_type": "code",
   "execution_count": null,
   "id": "43446f7e",
   "metadata": {},
   "outputs": [],
   "source": [
    "# pick up the innoculation loop\n",
    "m.toolChange(inoculation_loop)\n",
    "m.moveTo(x=duckweed_reservoir[0], y=duckweed_reservoir[1])"
   ]
  },
  {
   "cell_type": "code",
   "execution_count": null,
   "id": "34ebb1af",
   "metadata": {},
   "outputs": [],
   "source": [
    "# find suitable z heights to collect, move, and drop-off duckweed\n",
    "# this can be done using the duet web control interface\n",
    "inoculation_loop_z_dict = {\"collect\": -34.7,  # what height fully immerses the inoculation loop in the reservoir?\n",
    "                          \"move\" : -7, # what height clears all labware to move between reservoir/well plates?\n",
    "                          \"transfer\" : -32  # what height fully immerses the innoculation loop in the well plate?\n",
    "                          }"
   ]
  },
  {
   "cell_type": "code",
   "execution_count": null,
   "id": "2fb1e2a0",
   "metadata": {},
   "outputs": [],
   "source": [
    "# pop the bed down to avoid collisions after any probing \n",
    "m.moveTo(z=50)"
   ]
  },
  {
   "cell_type": "code",
   "execution_count": null,
   "id": "37281cba",
   "metadata": {},
   "outputs": [],
   "source": [
    "# Inoculation Loop Transfer\n",
    "# The machine will move after running this cell\n",
    "exp.inoculation_loop_transfer(m, df, duckweed_reservoir, inoculation_loop_z_dict)"
   ]
  },
  {
   "cell_type": "code",
   "execution_count": null,
   "id": "d489a7af",
   "metadata": {},
   "outputs": [],
   "source": [
    "# pop bed down to access labware\n",
    "m.moveTo(z=100)"
   ]
  },
  {
   "cell_type": "markdown",
   "id": "83d4887d",
   "metadata": {},
   "source": [
    "## Manual Transfer Instructions"
   ]
  },
  {
   "cell_type": "code",
   "execution_count": null,
   "id": "793e944d-1dc4-40c0-88e7-878d7d1ee4a1",
   "metadata": {},
   "outputs": [],
   "source": [
    "grouped_df = df.groupby('genotype')\n",
    "for field_value, sample_df in grouped_df:\n",
    "    print(\"Place container of duckweed type **{0}** into jubilee and ensure lid is open\".format(field_value))\n",
    "    for index,s in sample_df.iterrows():\n",
    "        plate = s[\"Plate\"]\n",
    "        well = s[\"Well\"]\n",
    "        print(f\"Transfer {field_value} to plate {plate}, well {well}\")\n",
    "    input()\n",
    "        #print(\"Dispensing media of type {0} into {1}, well {2}\".format(field_value,s[\"Plate\"], s[\"Well\"]))\n"
   ]
  },
  {
   "cell_type": "markdown",
   "id": "01f579cf",
   "metadata": {},
   "source": [
    "#### Record any extra notes you'd like to add\n",
    "Write down any notes about today's set up that you would like to be recorded in the set up file "
   ]
  },
  {
   "cell_type": "code",
   "execution_count": null,
   "id": "c81bef8e",
   "metadata": {},
   "outputs": [],
   "source": [
    "os.chdir(expt_setup_file_path)\n",
    "notes = input()\n",
    "im.add_input_to_json(notes, \"Set_up_notes\", expt_setup_filename)"
   ]
  },
  {
   "cell_type": "markdown",
   "id": "e62d63b0",
   "metadata": {},
   "source": [
    "## Consecutive Tranfser Passes\n",
    "These cells will find any wells missing duckweed, and then prompt you to swap in the appropriate duckweed reservoir for transfer"
   ]
  },
  {
   "cell_type": "code",
   "execution_count": null,
   "id": "7b7c4b9c",
   "metadata": {},
   "outputs": [],
   "source": [
    "m.toolChange(1)\n",
    "exp.check_wells(m, df)"
   ]
  },
  {
   "cell_type": "code",
   "execution_count": null,
   "id": "c301d691",
   "metadata": {},
   "outputs": [],
   "source": [
    "exp.fill_empty_wells(m, df, duckweed_reservoir, inoculation_loop_z_dict)"
   ]
  },
  {
   "cell_type": "code",
   "execution_count": null,
   "id": "04fe3ce4",
   "metadata": {},
   "outputs": [],
   "source": []
  }
 ],
 "metadata": {
  "kernelspec": {
   "display_name": "Python 3 (ipykernel)",
   "language": "python",
   "name": "python3"
  },
  "language_info": {
   "codemirror_mode": {
    "name": "ipython",
    "version": 3
   },
   "file_extension": ".py",
   "mimetype": "text/x-python",
   "name": "python",
   "nbconvert_exporter": "python",
   "pygments_lexer": "ipython3",
   "version": "3.7.3"
  }
 },
 "nbformat": 4,
 "nbformat_minor": 5
}
