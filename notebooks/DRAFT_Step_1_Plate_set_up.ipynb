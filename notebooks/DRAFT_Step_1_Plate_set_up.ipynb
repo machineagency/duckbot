{
 "cells": [
  {
   "cell_type": "markdown",
   "id": "94241553",
   "metadata": {},
   "source": [
    "# Set up plates for a duckweed genotypes x media growth assay"
   ]
  },
  {
   "cell_type": "markdown",
   "id": "5bcbfc62",
   "metadata": {},
   "source": [
    "## 0. Import packages and libraries"
   ]
  },
  {
   "cell_type": "code",
   "execution_count": 1,
   "id": "d9261ed0",
   "metadata": {},
   "outputs": [
    {
     "ename": "SyntaxError",
     "evalue": "EOL while scanning string literal (PlatePositionUtils.py, line 8)",
     "output_type": "error",
     "traceback": [
      "Traceback \u001b[0;36m(most recent call last)\u001b[0m:\n",
      "  File \u001b[1;32m/usr/local/lib/python3.9/site-packages/IPython/core/interactiveshell.py:3398\u001b[0m in \u001b[1;35mrun_code\u001b[0m\n    exec(code_obj, self.user_global_ns, self.user_ns)\n",
      "\u001b[0;36m  Input \u001b[0;32mIn [1]\u001b[0;36m in \u001b[0;35m<cell line: 6>\u001b[0;36m\u001b[0m\n\u001b[0;31m    import utils.PlatePositionUtils as pp\u001b[0m\n",
      "\u001b[0;36m  File \u001b[0;32m~/Documents/Github_clones/duckbot/notebooks/utils/PlatePositionUtils.py:8\u001b[0;36m\u001b[0m\n\u001b[0;31m    if curr_folder == 'duckbot:\u001b[0m\n\u001b[0m                               ^\u001b[0m\n\u001b[0;31mSyntaxError\u001b[0m\u001b[0;31m:\u001b[0m EOL while scanning string literal\n"
     ]
    }
   ],
   "source": [
    "import pandas as pd\n",
    "import os\n",
    "import json\n",
    "import time\n",
    "import ipywidgets as widgets\n",
    "import utils.PlatePositionUtils as pp \n",
    "import utils.DuckbotExptSetupUtils as exp\n"
   ]
  },
  {
   "cell_type": "code",
   "execution_count": null,
   "id": "a859b399",
   "metadata": {},
   "outputs": [],
   "source": [
    "#This cell will only run if you are working at a computer connected to the Jubilee\n",
    "from utils.CameraUtils import *\n",
    "from utils.MachineUtils import *\n",
    "port = \"/dev/ttyACM0\"\n",
    "m = MachineCommunication(port)"
   ]
  },
  {
   "cell_type": "markdown",
   "id": "4e56cfe1",
   "metadata": {},
   "source": [
    "## 1. Select config files"
   ]
  },
  {
   "cell_type": "markdown",
   "id": "4e02b9e5",
   "metadata": {},
   "source": [
    "### Select the computer you are currently working on to get the correct config file location"
   ]
  },
  {
   "cell_type": "code",
   "execution_count": 8,
   "id": "5ecc0b9a",
   "metadata": {},
   "outputs": [
    {
     "data": {
      "application/vnd.jupyter.widget-view+json": {
       "model_id": "42929f1c6dd344d583de2b18d3c213e3",
       "version_major": 2,
       "version_minor": 0
      },
      "text/plain": [
       "Dropdown(options=('Orlandos macbook', 'Jubilee Pi'), value='Orlandos macbook')"
      ]
     },
     "metadata": {},
     "output_type": "display_data"
    }
   ],
   "source": [
    "config_file_dirs = {'Orlandos macbook': '/Users/Orlando/Documents/Github_clones/duckbot/ConfigFiles', 'Jubilee Pi' :\n",
    "                     \"/home/pi/duckbot/ConfigFiles\"}\n",
    "\n",
    "config_dir_opts = [x for x in config_file_dirs]\n",
    "dir_choice = widgets.Dropdown(options = config_dir_opts)\n",
    "display(dir_choice)"
   ]
  },
  {
   "cell_type": "code",
   "execution_count": 9,
   "id": "004bf8d3",
   "metadata": {},
   "outputs": [
    {
     "name": "stdout",
     "output_type": "stream",
     "text": [
      "/home/pi/duckbot/ConfigFiles\n"
     ]
    }
   ],
   "source": [
    "computer = config_file_dirs[dir_choice.value]\n",
    "expt_config_file_dir = os.path.join(computer,'ExptConfigs')\n",
    "labware_config_file_dir = os.path.join(computer,'HardwareLabwareConfigs')"
   ]
  },
  {
   "cell_type": "markdown",
   "id": "18a64ccc",
   "metadata": {},
   "source": [
    "### Select  Hadware-Labware config file"
   ]
  },
  {
   "cell_type": "code",
   "execution_count": null,
   "id": "9b1016a8",
   "metadata": {},
   "outputs": [],
   "source": [
    "os.chdir(labware_config_file_dir)\n",
    "config_opts = os.listdir(os.getcwd())\n",
    "hl_choice = widgets.Dropdown(options = config_opts)\n",
    "display(hl_choice)\n",
    "\n",
    "with open(hl_choice.value,'r') as datafile:\n",
    "    hardwarelabwareconfig = json.load(datafile)\n",
    "media_reservoir = hardwarelabwareconfig['media_reservoir']\n",
    "tool_positions = hardwarelabwareconfig['tool_positions']\n",
    "dispense_calcs = hardwarelabwareconfig['dispense_calcs']\n",
    "media_dispensing_z_dict = hardwarelabwareconfig['media_dispensing_z_dict']\n",
    "inoculation_loop_z_dict = hardwarelabwareconfig['inoculation_loop_z_dict']\n",
    "dispense_offset =  dispense_calcs['dispense_mL'] * dispense_calcs['vol_conversion']\n",
    "dispenses_per_syringe_fill = dispense_calcs['dispenses_per_syringe_fill']\n",
    "duckweed_reservoir_loc = hardwarelabwareconfig[\"duckweed_reservoir_loc\"]"
   ]
  },
  {
   "cell_type": "markdown",
   "id": "f9f7daa3",
   "metadata": {},
   "source": [
    "### Select, visualize and confirm experimental config file"
   ]
  },
  {
   "cell_type": "code",
   "execution_count": null,
   "id": "dd4ba439",
   "metadata": {},
   "outputs": [],
   "source": [
    "os.chdir(expt_config_file_dir)\n",
    "config_opts = os.listdir(os.getcwd())\n",
    "expt_choice = widgets.Dropdown(options = config_opts)\n",
    "display(expt_choice)"
   ]
  },
  {
   "cell_type": "markdown",
   "id": "97225b7a",
   "metadata": {},
   "source": [
    "#### Run this cell to print a visualization of your experimental design. If this isn't as expected go back and re-run the config file selection cell or go back and directly edit your experimental config file and start again"
   ]
  },
  {
   "cell_type": "code",
   "execution_count": null,
   "id": "1ae0143e",
   "metadata": {},
   "outputs": [],
   "source": [
    "expt_setup_filepath = expt_config_file_dir + '/' + expt_choice.value"
   ]
  },
  {
   "cell_type": "code",
   "execution_count": null,
   "id": "0428b8ab",
   "metadata": {},
   "outputs": [],
   "source": [
    "%matplotlib inline\n",
    "with open(expt_setup_filepath,'r') as datafile:\n",
    "    expt_data = json.load(datafile)\n",
    "    \n",
    "# Turn samples list into a dataframe\n",
    "sample_data_dict = expt_data[\"sample_info\"]\n",
    "\n",
    "df_with_well_coords = pp.add_well_coords_to_df_from_sample_data_dict(sample_data_dict)\n",
    "exp.visualize_plate_set_up(df_with_well_coords)"
   ]
  },
  {
   "cell_type": "markdown",
   "id": "61b71c98",
   "metadata": {},
   "source": [
    "## 2. Label 24-well plates and add to machine\n",
    "Follow the instructions that are printed when you run the cells"
   ]
  },
  {
   "cell_type": "markdown",
   "id": "fe38bb67",
   "metadata": {},
   "source": [
    "#### Label Plates and add plates to machine"
   ]
  },
  {
   "cell_type": "code",
   "execution_count": null,
   "id": "bc31ce67",
   "metadata": {},
   "outputs": [],
   "source": [
    "df = pd.DataFrame(sample_data_dict)\n",
    "num_plates = df.Plate.nunique()\n",
    "print(num_plates)\n",
    "\n",
    "print(\"This experiment requires {} 24-well plate(s)\".format(num_plates))\n",
    "print(\"----\")\n",
    "lst = list(range(1,num_plates + 1))\n",
    "for n in lst:\n",
    "    print(\"Label a plate with experiment ID or initials and 'plate {}'\".format(n))\n",
    "print(\"----\")\n",
    "print (\"Place the 24-well plate(s) in the jubilee\".format(num_plates))\n",
    "print (\"Start at position 1 and fill empty plate slots in order\")"
   ]
  },
  {
   "cell_type": "markdown",
   "id": "3bd8f5e8",
   "metadata": {},
   "source": [
    "## 3. Dispense media\n",
    "Run cells, making sure to follow the instructions that print when your run the cells"
   ]
  },
  {
   "cell_type": "code",
   "execution_count": null,
   "id": "97e3d8a0",
   "metadata": {},
   "outputs": [],
   "source": [
    "#Retrieve absolute positions of wells from a library and then add those coordinatest to the plate set up dataframe\n",
    "df_with_well_coords = pp.add_well_coords_to_df_from_sample_data_dict(sample_data_dict)\n",
    "\n",
    "#Reorganizes dataframe to create machine instructions sorted by media-type\n",
    "media_dicts = pp.pull_list_of_well_coord_dicts_by_dfcolumn(df_with_well_coords, 'media')"
   ]
  },
  {
   "cell_type": "code",
   "execution_count": null,
   "id": "eba8e49a",
   "metadata": {},
   "outputs": [],
   "source": [
    "#Pick up syringe toolhead\n",
    "# port = \"/dev/ttyACM0\"\n",
    "# m = MachineCommunication(port)\n",
    "media_syringe = tool_positions['media_syringe']\n",
    "m.toolChange(media_syringe)"
   ]
  },
  {
   "cell_type": "code",
   "execution_count": null,
   "id": "c2f07170",
   "metadata": {},
   "outputs": [],
   "source": [
    "# Send machine instructions\n",
    "\n",
    "for media in media_dicts:\n",
    "    m.moveTo(x=0,y=0,z=0)\n",
    "    print(f\"Please ensure {media['media']} is available in the machine before continuing.\")\n",
    "    print(\"Change syringe and/or needle if desired\")\n",
    "    while True:\n",
    "        value = input(\"Enter 'YES' to confirm that the correct media is in position\")\n",
    "        if value != \"YES\":\n",
    "            print(\"Please confirm\")\n",
    "        else:\n",
    "            break\n",
    "    exp.dispense_to_wells(m, media[\"well-coords\"], dispense_offset, dispenses_per_syringe_fill, media_reservoir, media_dispensing_z_dict)"
   ]
  },
  {
   "cell_type": "markdown",
   "id": "999efd6b",
   "metadata": {},
   "source": [
    "## 4. Transfer duckweed\n",
    "\n",
    "### Transfer option 1: Automated transfer with inoculation loop"
   ]
  },
  {
   "cell_type": "code",
   "execution_count": null,
   "id": "d84fb453-3c96-4c55-a06a-b2555ae77f81",
   "metadata": {},
   "outputs": [],
   "source": [
    "#pop the bed down to avoid any collisions on tool change\n",
    "m.moveTo(z=50)"
   ]
  },
  {
   "cell_type": "code",
   "execution_count": null,
   "id": "34ebb1af",
   "metadata": {},
   "outputs": [],
   "source": [
    "# pick up the innoculation loop\n",
    "inoculation_loop = tool_positions['inoculation_loop']\n",
    "m.toolChange(inoculation_loop)\n",
    "m.moveTo(x=duckweed_reservoir_loc[0], y=duckweed_reservoir_loc[1])"
   ]
  },
  {
   "cell_type": "code",
   "execution_count": null,
   "id": "37281cba",
   "metadata": {},
   "outputs": [],
   "source": [
    "# pop the bed down to avoid collisions after probing \n",
    "m.moveTo(z=50)"
   ]
  },
  {
   "cell_type": "code",
   "execution_count": null,
   "id": "ad15db6d",
   "metadata": {},
   "outputs": [],
   "source": [
    "# Inoculation Loop Transfer\n",
    "# The machine will move after running this cell\n",
    "exp.inoculation_loop_transfer(m, df, duckweed_reservoir_loc, inoculation_loop_z_dict)"
   ]
  },
  {
   "cell_type": "code",
   "execution_count": null,
   "id": "ab7159af-f344-49be-86cb-cd363bc058e1",
   "metadata": {},
   "outputs": [],
   "source": [
    "# pop bed down to access labware\n",
    "m.moveTo(z=100)"
   ]
  },
  {
   "cell_type": "markdown",
   "id": "83140a54",
   "metadata": {},
   "source": [
    "### Consecutive Tranfser Passes\n",
    "These cells will find any wells missing duckweed, and then prompt you to swap in the appropriate duckweed reservoir for transfer. Re-run the cells as many times as you like until you are satisfied with the results"
   ]
  },
  {
   "cell_type": "code",
   "execution_count": null,
   "id": "310e5d7c",
   "metadata": {},
   "outputs": [],
   "source": [
    "m.toolChange(1)\n",
    "exp.check_wells(m, df_with_well_coords)"
   ]
  },
  {
   "cell_type": "code",
   "execution_count": null,
   "id": "3556413f",
   "metadata": {},
   "outputs": [],
   "source": [
    "exp.fill_empty_wells(m, df, duckweed_reservoir_loc, inoculation_loop_z_dict)"
   ]
  },
  {
   "cell_type": "markdown",
   "id": "6386c0ec",
   "metadata": {},
   "source": [
    "### Transfer option 2: Manual transfer\n",
    "Run this cell to generate written instructions of what duckweed genotypes should be in which wells. "
   ]
  },
  {
   "cell_type": "code",
   "execution_count": null,
   "id": "793e944d-1dc4-40c0-88e7-878d7d1ee4a1",
   "metadata": {},
   "outputs": [],
   "source": [
    "#Manual transfer\n",
    "\n",
    "grouped_df = df.groupby('genotype')\n",
    "for field_value, sample_df in grouped_df:\n",
    "    print(\"Place container of duckweed type **{0}** into jubilee and ensure lid is open\".format(field_value))\n",
    "    for index,s in sample_df.iterrows():\n",
    "        plate = s[\"Plate\"]\n",
    "        well = s[\"Well\"]\n",
    "        print(f\"Transfer {field_value} to plate {plate}, well {well}\")\n",
    "    input()\n",
    "        #print(\"Dispensing media of type {0} into {1}, well {2}\".format(field_value,s[\"Plate\"], s[\"Well\"]))\n"
   ]
  },
  {
   "cell_type": "markdown",
   "id": "01f579cf",
   "metadata": {},
   "source": [
    "#### Record any extra notes you'd like to add\n",
    "Write down any notes about today's set up that you would like to be recorded in the set up file "
   ]
  },
  {
   "cell_type": "code",
   "execution_count": null,
   "id": "c81bef8e",
   "metadata": {},
   "outputs": [],
   "source": [
    "notes = input()\n",
    "exp.add_input_to_json(notes, \"Set_up_notes\", expt_setup_filepath)"
   ]
  },
  {
   "cell_type": "code",
   "execution_count": null,
   "id": "f31b9725",
   "metadata": {},
   "outputs": [],
   "source": []
  }
 ],
 "metadata": {
  "kernelspec": {
   "display_name": "Python 3 (ipykernel)",
   "language": "python",
   "name": "python3"
  },
  "language_info": {
   "codemirror_mode": {
    "name": "ipython",
    "version": 3
   },
   "file_extension": ".py",
   "mimetype": "text/x-python",
   "name": "python",
   "nbconvert_exporter": "python",
   "pygments_lexer": "ipython3",
   "version": "3.9.13"
  }
 },
 "nbformat": 4,
 "nbformat_minor": 5
}
