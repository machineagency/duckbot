{
 "cells": [
  {
   "cell_type": "markdown",
   "id": "94241553",
   "metadata": {},
   "source": [
    "## Set up a duckweed genotypes x media growth assay"
   ]
  },
  {
   "cell_type": "markdown",
   "id": "cbe12e31",
   "metadata": {},
   "source": [
    "### Pre-requisites to use this script\n",
    "1. Precise plate and well positions for your machine defined in Plate_positions.py in the 'utils' subdirectory. \n",
    "2. All the parameters defined in the cell 'User paramters'. \n",
    "3. Sufficient 24-well plates, sterile media and duckweed plants available. \n",
    "4. Jubilee machine set up with Media-dispensing syringe tool (50 mL), Duckweed transfer syringe tool and lab automation bedplate. \n"
   ]
  },
  {
   "cell_type": "code",
   "execution_count": 38,
   "id": "d9261ed0",
   "metadata": {},
   "outputs": [],
   "source": [
    "#Importing python libraries downloaded from the internet\n",
    "import random\n",
    "import pandas as pd\n",
    "import os\n",
    "import json\n",
    "import time"
   ]
  },
  {
   "cell_type": "code",
   "execution_count": 39,
   "id": "a859b399",
   "metadata": {},
   "outputs": [],
   "source": [
    "#Importing python libraries from local files. \n",
    "from utils.CameraUtils import *\n",
    "import utils.DuckbotExptSetupUtils as exp\n",
    "from utils.MachineUtils import *\n",
    "import utils.PlatePositionUtils as pp "
   ]
  },
  {
   "cell_type": "code",
   "execution_count": 40,
   "id": "383ee4c9",
   "metadata": {},
   "outputs": [],
   "source": [
    "port = \"/dev/ttyACM0\"\n",
    "m = MachineCommunication(port)"
   ]
  },
  {
   "cell_type": "markdown",
   "id": "4e56cfe1",
   "metadata": {},
   "source": [
    "## 1. Define user parameters"
   ]
  },
  {
   "cell_type": "markdown",
   "id": "18a64ccc",
   "metadata": {},
   "source": [
    "### Labware config \n",
    "All should be in arbitrary Jubilee motor units. Find this manually on the machine. They shouldn't need to be updated until you start using a new reservoir. And if that's the case you could create a labware library and then define the media_reservoir variable as one of the objects in your library. "
   ]
  },
  {
   "cell_type": "code",
   "execution_count": 41,
   "id": "d99f7a1f",
   "metadata": {},
   "outputs": [],
   "source": [
    "#X and Y should get the machine to the center of the reservoir. \n",
    "media_reservoir = { 'x' : 75, 'y' : 241,}\n",
    "\n",
    "#Tool positions\n",
    "media_syringe = 2 #What jubilee tool position did you define this as?\n",
    "duckweed_syringe = 3\n",
    "inoculation_loop = 4\n",
    "\n",
    "#Volume calculations\n",
    "dispenses_per_syringe_fill = 20\n",
    "dispense_mL = 1.5 #In mL\n",
    "vol_conversion = 3.9 #One mL is 3.9 units. \n",
    "dispense_offset = dispense_mL * vol_conversion\n",
    "\n",
    "#Z-positions for different actions\n",
    "z_dict = {\"zero\": 0, #Note that zeros\n",
    "          \"aspirate\" : -46.5, #Measure this for yourself and your labware/toolheads.\n",
    "          \"dispense\" : -21.5\n",
    "         }"
   ]
  },
  {
   "cell_type": "markdown",
   "id": "1135c3ef",
   "metadata": {},
   "source": [
    "### Define experimental variables, and desired file names and save locations. "
   ]
  },
  {
   "cell_type": "code",
   "execution_count": 56,
   "id": "a916546d",
   "metadata": {},
   "outputs": [
    {
     "name": "stdout",
     "output_type": "stream",
     "text": [
      "/home/pi/duckbot/notebooks/Demo/Test_experiments/SandboxAspiration/SandboxAspiration\n"
     ]
    }
   ],
   "source": [
    "\n",
    "#1. DEFINE EXPERIMENTAL VARIABLES\n",
    "# genotypes = [\"Sp7498\", \"Lm5500\", \"Lm8627\"] # Replace with names for unique duckweed genotypes\n",
    "genotypes = [\"Sp7498\"] # Replace with names for unique duckweed genotypes\n",
    "media = [\"Mock\"] # Replace with names for unique media\n",
    "\n",
    "# media = [\"Mock\", \"25 mM Salt\", \"50 mM Salt\", \"75 mM Salt\",\"150 mM Salt\"] # Replace with names for unique media\n",
    "reps  = 24 # Replace with your desired number of replicates for each duckweed/media combination. \n",
    "\n",
    "#2. DEFINE FILE LOCATION AND NAME\n",
    "expt_setup_parent_dir = os.getcwd() # Default uses current working directory but you can replace with your own choice. \n",
    "# expt_setup_dir = \"TestDriveExpt_1_08032022\" # Name of the folder to hold experiment data and metadata including the setup file\n",
    "expt_setup_dir = \"SandboxAspiration\" \n",
    "# expt_setup_filename = \"TestDriveExpt_1_08032022.json\" #Name for the experiment setup file (Metadata)\n",
    "expt_setup_filename = \"SandboxAspiration.json\" #Name for the experiment setup file (Metadata)\n",
    "\n",
    "\n",
    "expt_setup_file_path = os.path.join(expt_setup_parent_dir, expt_setup_dir)\n",
    "print(expt_setup_file_path)\n",
    "\n",
    "if not os.path.exists(expt_setup_file_path):\n",
    "    os.mkdir(expt_setup_file_path)     "
   ]
  },
  {
   "cell_type": "markdown",
   "id": "1ce24584",
   "metadata": {},
   "source": [
    "## 2. Create dataframe with experiment metadata"
   ]
  },
  {
   "cell_type": "code",
   "execution_count": 57,
   "id": "46b27146",
   "metadata": {},
   "outputs": [],
   "source": [
    "# Creates master list of sample info, shuffles and then assigns to plates and wells. \n",
    "master_expt_list = []\n",
    "\n",
    "for g in genotypes:\n",
    "    for m in media:\n",
    "        for x in range(reps):\n",
    "             master_expt_list.append({\"genotype\": g, \"media\": m, \"condition_replicate\": x + 1})\n",
    "\n",
    "\n",
    "random.shuffle(master_expt_list)\n",
    "master_expt_list = exp.assign_plates_and_wells(master_expt_list)\n",
    "expt_dict = {\"sample_info\" : master_expt_list}"
   ]
  },
  {
   "cell_type": "code",
   "execution_count": 58,
   "id": "84a9591b",
   "metadata": {},
   "outputs": [],
   "source": [
    "#Save experimental set up file\n",
    "os.chdir(expt_setup_file_path)\n",
    "with open(expt_setup_filename, 'w') as f:\n",
    "    json.dump(expt_dict, f)"
   ]
  },
  {
   "cell_type": "code",
   "execution_count": 59,
   "id": "5cce9399",
   "metadata": {},
   "outputs": [],
   "source": [
    "#Import from file (in case user wants to make any manual edits to the JSON file after creating it)\n",
    "\n",
    "with open(expt_setup_filename) as datafile:\n",
    "    expt_data = json.load(datafile)\n",
    "\n",
    "# Turn samples list into a dataframe\n",
    "sample_data = expt_data[\"sample_info\"]"
   ]
  },
  {
   "cell_type": "markdown",
   "id": "61b71c98",
   "metadata": {},
   "source": [
    "## 3. Label 24-well plates and add to machine"
   ]
  },
  {
   "cell_type": "markdown",
   "id": "fe38bb67",
   "metadata": {},
   "source": [
    "#### Label Plates and add plates to machine"
   ]
  },
  {
   "cell_type": "code",
   "execution_count": 71,
   "id": "bc31ce67",
   "metadata": {},
   "outputs": [
    {
     "name": "stdout",
     "output_type": "stream",
     "text": [
      "1\n",
      "This experiment requires 1 24-well plate(s)\n",
      "----\n",
      "Label a plate with experiment ID or initials and 'plate 1'\n",
      "----\n",
      "Place the 24-well plate(s) in the jubilee\n",
      "Start at position 1 and fill empty plate slots in order\n"
     ]
    }
   ],
   "source": [
    "df = pd.DataFrame(sample_data)\n",
    "num_plates = df.Plate.nunique()\n",
    "print(num_plates)\n",
    "\n",
    "print(\"This experiment requires {} 24-well plate(s)\".format(num_plates))\n",
    "print(\"----\")\n",
    "lst = list(range(1,num_plates + 1))\n",
    "for n in lst:\n",
    "    print(\"Label a plate with experiment ID or initials and 'plate {}'\".format(n))\n",
    "print(\"----\")\n",
    "print (\"Place the 24-well plate(s) in the jubilee\".format(num_plates))\n",
    "print (\"Start at position 1 and fill empty plate slots in order\")"
   ]
  },
  {
   "cell_type": "markdown",
   "id": "3bd8f5e8",
   "metadata": {},
   "source": [
    "## 2. Dispense media\n",
    "When prompted insert containers of the relevant sterile media into the input slot on the Jubilee. "
   ]
  },
  {
   "cell_type": "code",
   "execution_count": 61,
   "id": "97e3d8a0",
   "metadata": {},
   "outputs": [
    {
     "name": "stdout",
     "output_type": "stream",
     "text": [
      "   genotype media  condition_replicate    plate_well_id    Plate Well      x  \\\n",
      "0    Sp7498  Mock                    3  Plate_1_Well_A1  Plate_1   A1   29.0   \n",
      "1    Sp7498  Mock                   21  Plate_1_Well_A2  Plate_1   A2   48.0   \n",
      "2    Sp7498  Mock                   19  Plate_1_Well_A3  Plate_1   A3   67.0   \n",
      "3    Sp7498  Mock                   22  Plate_1_Well_A4  Plate_1   A4   86.0   \n",
      "4    Sp7498  Mock                   23  Plate_1_Well_A5  Plate_1   A5  105.0   \n",
      "5    Sp7498  Mock                   11  Plate_1_Well_A6  Plate_1   A6  124.0   \n",
      "6    Sp7498  Mock                    1  Plate_1_Well_B1  Plate_1   B1   29.0   \n",
      "7    Sp7498  Mock                   12  Plate_1_Well_B2  Plate_1   B2   48.0   \n",
      "8    Sp7498  Mock                    7  Plate_1_Well_B3  Plate_1   B3   67.0   \n",
      "9    Sp7498  Mock                    6  Plate_1_Well_B4  Plate_1   B4   86.0   \n",
      "10   Sp7498  Mock                    4  Plate_1_Well_B5  Plate_1   B5  105.0   \n",
      "11   Sp7498  Mock                   24  Plate_1_Well_B6  Plate_1   B6  124.0   \n",
      "12   Sp7498  Mock                   14  Plate_1_Well_C1  Plate_1   C1   29.0   \n",
      "13   Sp7498  Mock                   10  Plate_1_Well_C2  Plate_1   C2   48.0   \n",
      "14   Sp7498  Mock                    9  Plate_1_Well_C3  Plate_1   C3   67.0   \n",
      "15   Sp7498  Mock                    2  Plate_1_Well_C4  Plate_1   C4   86.0   \n",
      "16   Sp7498  Mock                   20  Plate_1_Well_C5  Plate_1   C5  105.0   \n",
      "17   Sp7498  Mock                   18  Plate_1_Well_C6  Plate_1   C6  124.0   \n",
      "18   Sp7498  Mock                    8  Plate_1_Well_D1  Plate_1   D1   29.0   \n",
      "19   Sp7498  Mock                    5  Plate_1_Well_D2  Plate_1   D2   48.0   \n",
      "20   Sp7498  Mock                   17  Plate_1_Well_D3  Plate_1   D3   67.0   \n",
      "21   Sp7498  Mock                   15  Plate_1_Well_D4  Plate_1   D4   86.0   \n",
      "22   Sp7498  Mock                   13  Plate_1_Well_D5  Plate_1   D5  105.0   \n",
      "23   Sp7498  Mock                   16  Plate_1_Well_D6  Plate_1   D6  124.0   \n",
      "\n",
      "        y  \n",
      "0   175.0  \n",
      "1   175.0  \n",
      "2   175.0  \n",
      "3   175.0  \n",
      "4   175.0  \n",
      "5   175.0  \n",
      "6   156.0  \n",
      "7   156.0  \n",
      "8   156.0  \n",
      "9   156.0  \n",
      "10  156.0  \n",
      "11  156.0  \n",
      "12  137.0  \n",
      "13  137.0  \n",
      "14  137.0  \n",
      "15  137.0  \n",
      "16  137.0  \n",
      "17  137.0  \n",
      "18  118.0  \n",
      "19  118.0  \n",
      "20  118.0  \n",
      "21  118.0  \n",
      "22  118.0  \n",
      "23  118.0  \n"
     ]
    }
   ],
   "source": [
    "#Retrieve absolute positions of wells from a library and then add those coordinatest to the plate set up dataframe\n",
    "df = pp.add_well_coords_to_df_from_file(expt_setup_file_path, expt_setup_filename)\n",
    "print(df)"
   ]
  },
  {
   "cell_type": "code",
   "execution_count": 62,
   "id": "13862d22",
   "metadata": {},
   "outputs": [
    {
     "name": "stdout",
     "output_type": "stream",
     "text": [
      "[{'media': 'Mock', 'well-coords': [[29.0, 175.0], [48.0, 175.0], [67.0, 175.0], [86.0, 175.0], [105.0, 175.0], [124.0, 175.0], [29.0, 156.0], [48.0, 156.0], [67.0, 156.0], [86.0, 156.0], [105.0, 156.0], [124.0, 156.0], [29.0, 137.0], [48.0, 137.0], [67.0, 137.0], [86.0, 137.0], [105.0, 137.0], [124.0, 137.0], [29.0, 118.0], [48.0, 118.0], [67.0, 118.0], [86.0, 118.0], [105.0, 118.0], [124.0, 118.0]]}]\n"
     ]
    }
   ],
   "source": [
    "#Reorganizes dataframe to create machine instructions sorted by media-type\n",
    "media_dicts = pp.pull_list_of_well_coord_dicts_by_dfcolumn(df, 'media')\n",
    "print(media_dicts)"
   ]
  },
  {
   "cell_type": "code",
   "execution_count": 72,
   "id": "eba8e49a",
   "metadata": {},
   "outputs": [],
   "source": [
    "#Pick up syringe toolhead\n",
    "port = \"/dev/ttyACM0\"\n",
    "m = MachineCommunication(port)\n",
    "m.toolChange(media_syringe)"
   ]
  },
  {
   "cell_type": "code",
   "execution_count": 74,
   "id": "c2f07170",
   "metadata": {},
   "outputs": [
    {
     "name": "stdout",
     "output_type": "stream",
     "text": [
      "Please ensure Mock is available in the machine before continuing.\n",
      "Change syringe and/or needle if desired\n",
      "Enter 'YES' to confirm that the correct media is in positionYES\n",
      "Move to Z = zero\n",
      "Move to reservoir position\n",
      "moved to height for aspiration\n",
      "G1    E128.70 F1000.00\n",
      "Moved to Z = zero\n",
      "Hovering over the first well to dispense into\n",
      "Prepare to dispense\n",
      "X = 29.0\n",
      "Y = 175.0\n",
      "G1    E-5.85 F1000.00\n",
      "Prepare to dispense\n",
      "X = 48.0\n",
      "Y = 175.0\n",
      "G1    E-5.85 F1000.00\n",
      "Prepare to dispense\n",
      "X = 67.0\n",
      "Y = 175.0\n",
      "G1    E-5.85 F1000.00\n",
      "Prepare to dispense\n",
      "X = 86.0\n",
      "Y = 175.0\n",
      "G1    E-5.85 F1000.00\n",
      "Prepare to dispense\n",
      "X = 105.0\n",
      "Y = 175.0\n",
      "G1    E-5.85 F1000.00\n",
      "Prepare to dispense\n",
      "X = 124.0\n",
      "Y = 175.0\n",
      "G1    E-5.85 F1000.00\n",
      "Prepare to dispense\n",
      "X = 29.0\n",
      "Y = 156.0\n",
      "G1    E-5.85 F1000.00\n",
      "Prepare to dispense\n",
      "X = 48.0\n",
      "Y = 156.0\n",
      "G1    E-5.85 F1000.00\n",
      "Prepare to dispense\n",
      "X = 67.0\n",
      "Y = 156.0\n",
      "G1    E-5.85 F1000.00\n",
      "Prepare to dispense\n",
      "X = 86.0\n",
      "Y = 156.0\n",
      "G1    E-5.85 F1000.00\n",
      "Prepare to dispense\n",
      "X = 105.0\n",
      "Y = 156.0\n",
      "G1    E-5.85 F1000.00\n",
      "Prepare to dispense\n",
      "X = 124.0\n",
      "Y = 156.0\n",
      "G1    E-5.85 F1000.00\n",
      "Prepare to dispense\n",
      "X = 29.0\n",
      "Y = 137.0\n",
      "G1    E-5.85 F1000.00\n",
      "Prepare to dispense\n",
      "X = 48.0\n",
      "Y = 137.0\n",
      "G1    E-5.85 F1000.00\n",
      "Prepare to dispense\n",
      "X = 67.0\n",
      "Y = 137.0\n",
      "G1    E-5.85 F1000.00\n",
      "Prepare to dispense\n",
      "X = 86.0\n",
      "Y = 137.0\n",
      "G1    E-5.85 F1000.00\n",
      "Prepare to dispense\n",
      "X = 105.0\n",
      "Y = 137.0\n",
      "G1    E-5.85 F1000.00\n",
      "Prepare to dispense\n",
      "X = 124.0\n",
      "Y = 137.0\n",
      "G1    E-5.85 F1000.00\n",
      "Prepare to dispense\n",
      "X = 29.0\n",
      "Y = 118.0\n",
      "G1    E-5.85 F1000.00\n",
      "Prepare to dispense\n",
      "X = 48.0\n",
      "Y = 118.0\n",
      "G1    E-5.85 F1000.00\n",
      "Move to Z = zero\n",
      "Move to reservoir position\n",
      "G1    E-11.70 F1000.00\n",
      "Empty excess media from syringe\n",
      "Move to Z = zero\n",
      "Move to reservoir position\n",
      "moved to height for aspiration\n",
      "G1    E35.10 F1000.00\n",
      "Moved to Z = zero\n",
      "Hovering over the first well to dispense into\n",
      "Prepare to dispense\n",
      "X = 67.0\n",
      "Y = 118.0\n",
      "G1    E-5.85 F1000.00\n",
      "Prepare to dispense\n",
      "X = 86.0\n",
      "Y = 118.0\n",
      "G1    E-5.85 F1000.00\n",
      "Prepare to dispense\n",
      "X = 105.0\n",
      "Y = 118.0\n",
      "G1    E-5.85 F1000.00\n",
      "Prepare to dispense\n",
      "X = 124.0\n",
      "Y = 118.0\n",
      "G1    E-5.85 F1000.00\n",
      "Move to Z = zero\n",
      "Move to reservoir position\n",
      "G1    E-11.70 F1000.00\n",
      "Empty excess media from syringe\n"
     ]
    }
   ],
   "source": [
    "# Send machine instructions\n",
    "for media in media_dicts:\n",
    "    m.moveTo(x=0,y=0,z=0)\n",
    "    print(f\"Please ensure {media['media']} is available in the machine before continuing.\")\n",
    "    print(\"Change syringe and/or needle if desired\")\n",
    "    while True:\n",
    "        value = input(\"Enter 'YES' to confirm that the correct media is in position\")\n",
    "        if value != \"YES\":\n",
    "            print(\"Please confirm\")\n",
    "        else:\n",
    "            break\n",
    "    exp.dispense_to_wells(m, media[\"well-coords\"], dispense_offset, dispenses_per_syringe_fill, media_reservoir, z_dict)"
   ]
  },
  {
   "cell_type": "markdown",
   "id": "999efd6b",
   "metadata": {},
   "source": [
    "## 5. Transfer duckweed\n",
    "Place a container filled with fronds of the relevant duckweed type and the machine will attempt to move individual fronds into the relevant wells. After each attempt at filling all wells a camera will take pictures of each well to confirm success and then unsuccessful wells will be reattempted"
   ]
  },
  {
   "cell_type": "code",
   "execution_count": null,
   "id": "59ee7954-c5b6-4e19-ab39-44e64db1a087",
   "metadata": {},
   "outputs": [],
   "source": []
  },
  {
   "cell_type": "code",
   "execution_count": 75,
   "id": "d84fb453-3c96-4c55-a06a-b2555ae77f81",
   "metadata": {},
   "outputs": [],
   "source": [
    "duckweed_reservoir = [75, 241]\n",
    "#pop the bed down to avoid any collisions on tool change\n",
    "m.moveTo(z=50)"
   ]
  },
  {
   "cell_type": "code",
   "execution_count": null,
   "id": "025e16be",
   "metadata": {},
   "outputs": [],
   "source": []
  },
  {
   "cell_type": "code",
   "execution_count": 76,
   "id": "b4a2ba5b",
   "metadata": {},
   "outputs": [],
   "source": [
    "# pick up the innoculation loop\n",
    "m.toolChange(inoculation_loop)\n",
    "m.moveTo(x=duckweed_reservoir[0], y=duckweed_reservoir[1])"
   ]
  },
  {
   "cell_type": "code",
   "execution_count": 77,
   "id": "a0ea1dae",
   "metadata": {},
   "outputs": [],
   "source": [
    "# find suitable z heights to collect, move, and drop-off duckweed\n",
    "# this can be done using the duet web control interface\n",
    "collect_height = -34.7 # what height fully immerses the inoculation loop in the reservoir?\n",
    "move_height = 3 # what height clears all labware to move between reservoir/well plates?\n",
    "transfer_height = -32 # what height fully immerses the innoculation loop in the well plate?"
   ]
  },
  {
   "cell_type": "code",
   "execution_count": null,
   "id": "a93f23c8",
   "metadata": {},
   "outputs": [],
   "source": [
    "# pop the bed down to avoid collisions after probing \n",
    "m.moveTo(z=25)"
   ]
  },
  {
   "cell_type": "code",
   "execution_count": 78,
   "id": "ab7159af-f344-49be-86cb-cd363bc058e1",
   "metadata": {},
   "outputs": [
    {
     "name": "stdout",
     "output_type": "stream",
     "text": [
      "Place container of duckweed type **Sp7498** into jubilee and ensure lid is open\n",
      "Type anything into the input field to confirm that the media is available.\n",
      "    After this point the Jubilee will begin dispensing\n",
      "y\n",
      "G1 X10.00    F100.00\n",
      "G1  Y10.00   F100.00\n",
      "G1   Z7.00  F250.00\n",
      "G1 X3.00    F100.00\n",
      "G1  Y-3.00   F100.00\n",
      "G1 X10.00    F100.00\n",
      "G1  Y10.00   F100.00\n",
      "G1   Z7.00  F250.00\n",
      "G1 X3.00    F100.00\n",
      "G1  Y-3.00   F100.00\n",
      "G1 X10.00    F100.00\n",
      "G1  Y10.00   F100.00\n",
      "G1   Z7.00  F250.00\n",
      "G1 X3.00    F100.00\n",
      "G1  Y-3.00   F100.00\n",
      "G1 X10.00    F100.00\n",
      "G1  Y10.00   F100.00\n",
      "G1   Z7.00  F250.00\n",
      "G1 X3.00    F100.00\n",
      "G1  Y-3.00   F100.00\n",
      "G1 X10.00    F100.00\n",
      "G1  Y10.00   F100.00\n",
      "G1   Z7.00  F250.00\n",
      "G1 X3.00    F100.00\n",
      "G1  Y-3.00   F100.00\n",
      "G1 X10.00    F100.00\n",
      "G1  Y10.00   F100.00\n",
      "G1   Z7.00  F250.00\n",
      "G1 X3.00    F100.00\n",
      "G1  Y-3.00   F100.00\n",
      "G1 X10.00    F100.00\n",
      "G1  Y10.00   F100.00\n",
      "G1   Z7.00  F250.00\n",
      "G1 X3.00    F100.00\n",
      "G1  Y-3.00   F100.00\n",
      "G1 X10.00    F100.00\n",
      "G1  Y10.00   F100.00\n",
      "G1   Z7.00  F250.00\n",
      "G1 X3.00    F100.00\n",
      "G1  Y-3.00   F100.00\n",
      "G1 X10.00    F100.00\n",
      "G1  Y10.00   F100.00\n",
      "G1   Z7.00  F250.00\n"
     ]
    },
    {
     "ename": "KeyboardInterrupt",
     "evalue": "",
     "output_type": "error",
     "traceback": [
      "\u001b[0;31m---------------------------------------------------------------------------\u001b[0m",
      "\u001b[0;31mKeyboardInterrupt\u001b[0m                         Traceback (most recent call last)",
      "\u001b[0;32m/tmp/ipykernel_4020/2350248288.py\u001b[0m in \u001b[0;36m<module>\u001b[0;34m\u001b[0m\n\u001b[1;32m     29\u001b[0m         \u001b[0mm\u001b[0m\u001b[0;34m.\u001b[0m\u001b[0mmoveTo\u001b[0m\u001b[0;34m(\u001b[0m\u001b[0mx\u001b[0m\u001b[0;34m=\u001b[0m\u001b[0mwell\u001b[0m\u001b[0;34m[\u001b[0m\u001b[0;34m'x'\u001b[0m\u001b[0;34m]\u001b[0m\u001b[0;34m,\u001b[0m \u001b[0my\u001b[0m\u001b[0;34m=\u001b[0m\u001b[0mwell\u001b[0m\u001b[0;34m[\u001b[0m\u001b[0;34m'y'\u001b[0m\u001b[0;34m]\u001b[0m\u001b[0;34m)\u001b[0m\u001b[0;34m\u001b[0m\u001b[0;34m\u001b[0m\u001b[0m\n\u001b[1;32m     30\u001b[0m         \u001b[0mm\u001b[0m\u001b[0;34m.\u001b[0m\u001b[0mmoveTo\u001b[0m\u001b[0;34m(\u001b[0m\u001b[0mz\u001b[0m\u001b[0;34m=\u001b[0m\u001b[0mtransfer_height\u001b[0m\u001b[0;34m)\u001b[0m\u001b[0;34m\u001b[0m\u001b[0;34m\u001b[0m\u001b[0m\n\u001b[0;32m---> 31\u001b[0;31m         \u001b[0mm\u001b[0m\u001b[0;34m.\u001b[0m\u001b[0mmove\u001b[0m\u001b[0;34m(\u001b[0m\u001b[0mdx\u001b[0m\u001b[0;34m=\u001b[0m\u001b[0;36m3\u001b[0m\u001b[0;34m,\u001b[0m \u001b[0ms\u001b[0m\u001b[0;34m=\u001b[0m\u001b[0;36m100\u001b[0m\u001b[0;34m)\u001b[0m\u001b[0;34m\u001b[0m\u001b[0;34m\u001b[0m\u001b[0m\n\u001b[0m\u001b[1;32m     32\u001b[0m         \u001b[0mm\u001b[0m\u001b[0;34m.\u001b[0m\u001b[0mmove\u001b[0m\u001b[0;34m(\u001b[0m\u001b[0mdy\u001b[0m\u001b[0;34m=\u001b[0m\u001b[0;34m-\u001b[0m\u001b[0;36m3\u001b[0m\u001b[0;34m,\u001b[0m \u001b[0ms\u001b[0m\u001b[0;34m=\u001b[0m\u001b[0;36m100\u001b[0m\u001b[0;34m)\u001b[0m \u001b[0;31m# move in opposite direction\u001b[0m\u001b[0;34m\u001b[0m\u001b[0;34m\u001b[0m\u001b[0m\n\u001b[1;32m     33\u001b[0m         \u001b[0mm\u001b[0m\u001b[0;34m.\u001b[0m\u001b[0mdwell\u001b[0m\u001b[0;34m(\u001b[0m\u001b[0;36m250\u001b[0m\u001b[0;34m)\u001b[0m\u001b[0;34m\u001b[0m\u001b[0;34m\u001b[0m\u001b[0m\n",
      "\u001b[0;32m~/duckbot/notebooks/utils/MachineUtils.py\u001b[0m in \u001b[0;36mmove\u001b[0;34m(self, dx, dy, dz, de, s)\u001b[0m\n\u001b[1;32m     89\u001b[0m \u001b[0;34m\u001b[0m\u001b[0m\n\u001b[1;32m     90\u001b[0m \u001b[0;34m\u001b[0m\u001b[0m\n\u001b[0;32m---> 91\u001b[0;31m         \u001b[0mself\u001b[0m\u001b[0;34m.\u001b[0m\u001b[0msetRelative\u001b[0m\u001b[0;34m(\u001b[0m\u001b[0;34m)\u001b[0m\u001b[0;34m\u001b[0m\u001b[0;34m\u001b[0m\u001b[0m\n\u001b[0m\u001b[1;32m     92\u001b[0m         \u001b[0mself\u001b[0m\u001b[0;34m.\u001b[0m\u001b[0msetExtruderRelative\u001b[0m\u001b[0;34m(\u001b[0m\u001b[0;34m)\u001b[0m\u001b[0;34m\u001b[0m\u001b[0;34m\u001b[0m\u001b[0m\n\u001b[1;32m     93\u001b[0m         \u001b[0mcmd\u001b[0m \u001b[0;34m=\u001b[0m \u001b[0;34mf\"G1 {x_cmd} {y_cmd} {z_cmd} {e_cmd} {f_cmd}\"\u001b[0m\u001b[0;34m\u001b[0m\u001b[0;34m\u001b[0m\u001b[0m\n",
      "\u001b[0;32m~/duckbot/notebooks/utils/MachineUtils.py\u001b[0m in \u001b[0;36msetRelative\u001b[0;34m(self)\u001b[0m\n\u001b[1;32m    134\u001b[0m         This does NOT set the extruder to relative mode\"\"\"\n\u001b[1;32m    135\u001b[0m         \u001b[0mcmd\u001b[0m \u001b[0;34m=\u001b[0m \u001b[0;34m\"G91\"\u001b[0m\u001b[0;34m\u001b[0m\u001b[0;34m\u001b[0m\u001b[0m\n\u001b[0;32m--> 136\u001b[0;31m         \u001b[0mself\u001b[0m\u001b[0;34m.\u001b[0m\u001b[0msend\u001b[0m\u001b[0;34m(\u001b[0m\u001b[0mcmd\u001b[0m\u001b[0;34m)\u001b[0m\u001b[0;34m\u001b[0m\u001b[0;34m\u001b[0m\u001b[0m\n\u001b[0m\u001b[1;32m    137\u001b[0m \u001b[0;34m\u001b[0m\u001b[0m\n\u001b[1;32m    138\u001b[0m     \u001b[0;32mdef\u001b[0m \u001b[0msetExtruderRelative\u001b[0m\u001b[0;34m(\u001b[0m\u001b[0mself\u001b[0m\u001b[0;34m)\u001b[0m\u001b[0;34m:\u001b[0m\u001b[0;34m\u001b[0m\u001b[0;34m\u001b[0m\u001b[0m\n",
      "\u001b[0;32m~/duckbot/notebooks/utils/MachineUtils.py\u001b[0m in \u001b[0;36msend\u001b[0;34m(self, cmd)\u001b[0m\n\u001b[1;32m     20\u001b[0m         \u001b[0mcmd\u001b[0m \u001b[0;34m+=\u001b[0m \u001b[0mself\u001b[0m\u001b[0;34m.\u001b[0m\u001b[0mlineEnding\u001b[0m\u001b[0;34m\u001b[0m\u001b[0;34m\u001b[0m\u001b[0m\n\u001b[1;32m     21\u001b[0m         \u001b[0mbcmd\u001b[0m \u001b[0;34m=\u001b[0m \u001b[0mcmd\u001b[0m\u001b[0;34m.\u001b[0m\u001b[0mencode\u001b[0m\u001b[0;34m(\u001b[0m\u001b[0;34m'UTF-8'\u001b[0m\u001b[0;34m)\u001b[0m\u001b[0;34m\u001b[0m\u001b[0;34m\u001b[0m\u001b[0m\n\u001b[0;32m---> 22\u001b[0;31m         \u001b[0mself\u001b[0m\u001b[0;34m.\u001b[0m\u001b[0mser\u001b[0m\u001b[0;34m.\u001b[0m\u001b[0mwrite\u001b[0m\u001b[0;34m(\u001b[0m\u001b[0mbcmd\u001b[0m\u001b[0;34m)\u001b[0m\u001b[0;34m\u001b[0m\u001b[0;34m\u001b[0m\u001b[0m\n\u001b[0m\u001b[1;32m     23\u001b[0m \u001b[0;34m\u001b[0m\u001b[0m\n\u001b[1;32m     24\u001b[0m \u001b[0;34m\u001b[0m\u001b[0m\n",
      "\u001b[0;32m~/duckbot/.venv/lib/python3.7/site-packages/serial/serialposix.py\u001b[0m in \u001b[0;36mwrite\u001b[0;34m(self, data)\u001b[0m\n\u001b[1;32m    638\u001b[0m                     \u001b[0;32massert\u001b[0m \u001b[0mtimeout\u001b[0m\u001b[0;34m.\u001b[0m\u001b[0mtime_left\u001b[0m\u001b[0;34m(\u001b[0m\u001b[0;34m)\u001b[0m \u001b[0;32mis\u001b[0m \u001b[0;32mNone\u001b[0m\u001b[0;34m\u001b[0m\u001b[0;34m\u001b[0m\u001b[0m\n\u001b[1;32m    639\u001b[0m                     \u001b[0;31m# wait for write operation\u001b[0m\u001b[0;34m\u001b[0m\u001b[0;34m\u001b[0m\u001b[0;34m\u001b[0m\u001b[0m\n\u001b[0;32m--> 640\u001b[0;31m                     \u001b[0mabort\u001b[0m\u001b[0;34m,\u001b[0m \u001b[0mready\u001b[0m\u001b[0;34m,\u001b[0m \u001b[0m_\u001b[0m \u001b[0;34m=\u001b[0m \u001b[0mselect\u001b[0m\u001b[0;34m.\u001b[0m\u001b[0mselect\u001b[0m\u001b[0;34m(\u001b[0m\u001b[0;34m[\u001b[0m\u001b[0mself\u001b[0m\u001b[0;34m.\u001b[0m\u001b[0mpipe_abort_write_r\u001b[0m\u001b[0;34m]\u001b[0m\u001b[0;34m,\u001b[0m \u001b[0;34m[\u001b[0m\u001b[0mself\u001b[0m\u001b[0;34m.\u001b[0m\u001b[0mfd\u001b[0m\u001b[0;34m]\u001b[0m\u001b[0;34m,\u001b[0m \u001b[0;34m[\u001b[0m\u001b[0;34m]\u001b[0m\u001b[0;34m,\u001b[0m \u001b[0;32mNone\u001b[0m\u001b[0;34m)\u001b[0m\u001b[0;34m\u001b[0m\u001b[0;34m\u001b[0m\u001b[0m\n\u001b[0m\u001b[1;32m    641\u001b[0m                     \u001b[0;32mif\u001b[0m \u001b[0mabort\u001b[0m\u001b[0;34m:\u001b[0m\u001b[0;34m\u001b[0m\u001b[0;34m\u001b[0m\u001b[0m\n\u001b[1;32m    642\u001b[0m                         \u001b[0mos\u001b[0m\u001b[0;34m.\u001b[0m\u001b[0mread\u001b[0m\u001b[0;34m(\u001b[0m\u001b[0mself\u001b[0m\u001b[0;34m.\u001b[0m\u001b[0mpipe_abort_write_r\u001b[0m\u001b[0;34m,\u001b[0m \u001b[0;36m1\u001b[0m\u001b[0;34m)\u001b[0m\u001b[0;34m\u001b[0m\u001b[0;34m\u001b[0m\u001b[0m\n",
      "\u001b[0;31mKeyboardInterrupt\u001b[0m: "
     ]
    }
   ],
   "source": [
    "# Inoculation Loop Transfer Test\n",
    "# The machine will move after running this cell\n",
    "grouped_df = df.groupby('genotype')\n",
    "for field_value, sample_df in grouped_df:\n",
    "    print(\"Place container of duckweed type **{0}** into jubilee and ensure lid is open\".format(field_value))\n",
    "    print(\"\"\"Type anything into the input field to confirm that the media is available.\n",
    "    After this point the Jubilee will begin dispensing\"\"\")\n",
    "    input() \n",
    "    count = 0\n",
    "    for index,s in sample_df.iterrows():\n",
    "        #move to plate and well\n",
    "        #move to plate and well\n",
    "        r = 20\n",
    "        rx = random.randint(-r, r)\n",
    "        ry = random.randint(-r, r)\n",
    "\n",
    "        # move in xy first\n",
    "        m.moveTo(x=duckweed_reservoir[0] + rx, y=duckweed_reservoir[1] + ry)\n",
    "\n",
    "        # dip into the reservoir\n",
    "        m.moveTo(z=collect_height)\n",
    "        # slowly sweep\n",
    "        m.move(dx=10, s=100)\n",
    "        m.move(dy=10, s=100)\n",
    "#         m.dwell(1000) # wait a bit\n",
    "        m.move(dz=7, s=250) # start moving slowly up\n",
    "        m.moveTo(z=move_height)\n",
    "        well = pp.fetch_well_position(s[\"Plate\"][-1], str(s[\"Well\"]))\n",
    "        m.moveTo(x=well['x'], y=well['y'])\n",
    "        m.moveTo(z=transfer_height)\n",
    "        m.move(dx=3, s=100)\n",
    "        m.move(dy=-3, s=100) # move in opposite direction\n",
    "        m.dwell(250)\n",
    "        m.moveTo(z=move_height, s=800)"
   ]
  },
  {
   "cell_type": "code",
   "execution_count": null,
   "id": "bb111561-9207-4b52-b33e-87870658b674",
   "metadata": {},
   "outputs": [],
   "source": []
  },
  {
   "cell_type": "code",
   "execution_count": null,
   "id": "43f6b4a6-11cd-461e-8ae3-d086d32ee89f",
   "metadata": {},
   "outputs": [],
   "source": []
  },
  {
   "cell_type": "markdown",
   "id": "e3485bec",
   "metadata": {},
   "source": [
    "## Print out instructions for manual transfer of fronds"
   ]
  },
  {
   "cell_type": "code",
   "execution_count": 36,
   "id": "793e944d-1dc4-40c0-88e7-878d7d1ee4a1",
   "metadata": {},
   "outputs": [
    {
     "name": "stdout",
     "output_type": "stream",
     "text": [
      "Place container of duckweed type **Lm5500** into jubilee and ensure lid is open\n",
      "Transfer Lm5500 to plate Plate_1, well A6\n",
      "Transfer Lm5500 to plate Plate_1, well B2\n",
      "Transfer Lm5500 to plate Plate_1, well B3\n",
      "Transfer Lm5500 to plate Plate_1, well B5\n",
      "Transfer Lm5500 to plate Plate_1, well B6\n",
      "Transfer Lm5500 to plate Plate_1, well C2\n",
      "Transfer Lm5500 to plate Plate_2, well A1\n",
      "Transfer Lm5500 to plate Plate_2, well A5\n",
      "Transfer Lm5500 to plate Plate_2, well B2\n",
      "Transfer Lm5500 to plate Plate_2, well B4\n",
      "Transfer Lm5500 to plate Plate_2, well C1\n",
      "Transfer Lm5500 to plate Plate_2, well C5\n",
      "Transfer Lm5500 to plate Plate_2, well C6\n",
      "Transfer Lm5500 to plate Plate_2, well D3\n",
      "Transfer Lm5500 to plate Plate_3, well A1\n",
      "Transfer Lm5500 to plate Plate_3, well A2\n",
      "Transfer Lm5500 to plate Plate_3, well A5\n",
      "Transfer Lm5500 to plate Plate_3, well A6\n",
      "Transfer Lm5500 to plate Plate_3, well B2\n",
      "Transfer Lm5500 to plate Plate_3, well B3\n",
      "\n",
      "Place container of duckweed type **Lm8627** into jubilee and ensure lid is open\n",
      "Transfer Lm8627 to plate Plate_1, well A1\n",
      "Transfer Lm8627 to plate Plate_1, well A2\n",
      "Transfer Lm8627 to plate Plate_1, well A4\n",
      "Transfer Lm8627 to plate Plate_1, well B4\n",
      "Transfer Lm8627 to plate Plate_1, well C5\n",
      "Transfer Lm8627 to plate Plate_1, well C6\n",
      "Transfer Lm8627 to plate Plate_1, well D3\n",
      "Transfer Lm8627 to plate Plate_1, well D4\n",
      "Transfer Lm8627 to plate Plate_1, well D5\n",
      "Transfer Lm8627 to plate Plate_1, well D6\n",
      "Transfer Lm8627 to plate Plate_2, well A2\n",
      "Transfer Lm8627 to plate Plate_2, well B3\n",
      "Transfer Lm8627 to plate Plate_2, well B5\n",
      "Transfer Lm8627 to plate Plate_2, well C3\n",
      "Transfer Lm8627 to plate Plate_2, well D1\n",
      "Transfer Lm8627 to plate Plate_2, well D2\n",
      "Transfer Lm8627 to plate Plate_2, well D4\n",
      "Transfer Lm8627 to plate Plate_2, well D6\n",
      "Transfer Lm8627 to plate Plate_3, well A4\n",
      "Transfer Lm8627 to plate Plate_3, well B4\n",
      "f\n",
      "Place container of duckweed type **Sp7498** into jubilee and ensure lid is open\n",
      "Transfer Sp7498 to plate Plate_1, well A3\n",
      "Transfer Sp7498 to plate Plate_1, well A5\n",
      "Transfer Sp7498 to plate Plate_1, well B1\n",
      "Transfer Sp7498 to plate Plate_1, well C1\n",
      "Transfer Sp7498 to plate Plate_1, well C3\n",
      "Transfer Sp7498 to plate Plate_1, well C4\n",
      "Transfer Sp7498 to plate Plate_1, well D1\n",
      "Transfer Sp7498 to plate Plate_1, well D2\n",
      "Transfer Sp7498 to plate Plate_2, well A3\n",
      "Transfer Sp7498 to plate Plate_2, well A4\n",
      "Transfer Sp7498 to plate Plate_2, well A6\n",
      "Transfer Sp7498 to plate Plate_2, well B1\n",
      "Transfer Sp7498 to plate Plate_2, well B6\n",
      "Transfer Sp7498 to plate Plate_2, well C2\n",
      "Transfer Sp7498 to plate Plate_2, well C4\n",
      "Transfer Sp7498 to plate Plate_2, well D5\n",
      "Transfer Sp7498 to plate Plate_3, well A3\n",
      "Transfer Sp7498 to plate Plate_3, well B1\n",
      "Transfer Sp7498 to plate Plate_3, well B5\n",
      "Transfer Sp7498 to plate Plate_3, well B6\n"
     ]
    },
    {
     "ename": "KeyboardInterrupt",
     "evalue": "Interrupted by user",
     "output_type": "error",
     "traceback": [
      "\u001b[0;31m---------------------------------------------------------------------------\u001b[0m",
      "\u001b[0;31mKeyboardInterrupt\u001b[0m                         Traceback (most recent call last)",
      "\u001b[0;32m/tmp/ipykernel_4020/470260354.py\u001b[0m in \u001b[0;36m<module>\u001b[0;34m\u001b[0m\n\u001b[1;32m      8\u001b[0m         \u001b[0mwell\u001b[0m \u001b[0;34m=\u001b[0m \u001b[0ms\u001b[0m\u001b[0;34m[\u001b[0m\u001b[0;34m\"Well\"\u001b[0m\u001b[0;34m]\u001b[0m\u001b[0;34m\u001b[0m\u001b[0;34m\u001b[0m\u001b[0m\n\u001b[1;32m      9\u001b[0m         \u001b[0mprint\u001b[0m\u001b[0;34m(\u001b[0m\u001b[0;34mf\"Transfer {field_value} to plate {plate}, well {well}\"\u001b[0m\u001b[0;34m)\u001b[0m\u001b[0;34m\u001b[0m\u001b[0;34m\u001b[0m\u001b[0m\n\u001b[0;32m---> 10\u001b[0;31m     \u001b[0minput\u001b[0m\u001b[0;34m(\u001b[0m\u001b[0;34m)\u001b[0m\u001b[0;34m\u001b[0m\u001b[0;34m\u001b[0m\u001b[0m\n\u001b[0m\u001b[1;32m     11\u001b[0m         \u001b[0;31m#print(\"Dispensing media of type {0} into {1}, well {2}\".format(field_value,s[\"Plate\"], s[\"Well\"]))\u001b[0m\u001b[0;34m\u001b[0m\u001b[0;34m\u001b[0m\u001b[0;34m\u001b[0m\u001b[0m\n",
      "\u001b[0;32m~/duckbot/.venv/lib/python3.7/site-packages/ipykernel/kernelbase.py\u001b[0m in \u001b[0;36mraw_input\u001b[0;34m(self, prompt)\u001b[0m\n\u001b[1;32m   1179\u001b[0m             \u001b[0mself\u001b[0m\u001b[0;34m.\u001b[0m\u001b[0m_parent_ident\u001b[0m\u001b[0;34m[\u001b[0m\u001b[0;34m\"shell\"\u001b[0m\u001b[0;34m]\u001b[0m\u001b[0;34m,\u001b[0m\u001b[0;34m\u001b[0m\u001b[0;34m\u001b[0m\u001b[0m\n\u001b[1;32m   1180\u001b[0m             \u001b[0mself\u001b[0m\u001b[0;34m.\u001b[0m\u001b[0mget_parent\u001b[0m\u001b[0;34m(\u001b[0m\u001b[0;34m\"shell\"\u001b[0m\u001b[0;34m)\u001b[0m\u001b[0;34m,\u001b[0m\u001b[0;34m\u001b[0m\u001b[0;34m\u001b[0m\u001b[0m\n\u001b[0;32m-> 1181\u001b[0;31m             \u001b[0mpassword\u001b[0m\u001b[0;34m=\u001b[0m\u001b[0;32mFalse\u001b[0m\u001b[0;34m,\u001b[0m\u001b[0;34m\u001b[0m\u001b[0;34m\u001b[0m\u001b[0m\n\u001b[0m\u001b[1;32m   1182\u001b[0m         )\n\u001b[1;32m   1183\u001b[0m \u001b[0;34m\u001b[0m\u001b[0m\n",
      "\u001b[0;32m~/duckbot/.venv/lib/python3.7/site-packages/ipykernel/kernelbase.py\u001b[0m in \u001b[0;36m_input_request\u001b[0;34m(self, prompt, ident, parent, password)\u001b[0m\n\u001b[1;32m   1217\u001b[0m             \u001b[0;32mexcept\u001b[0m \u001b[0mKeyboardInterrupt\u001b[0m\u001b[0;34m:\u001b[0m\u001b[0;34m\u001b[0m\u001b[0;34m\u001b[0m\u001b[0m\n\u001b[1;32m   1218\u001b[0m                 \u001b[0;31m# re-raise KeyboardInterrupt, to truncate traceback\u001b[0m\u001b[0;34m\u001b[0m\u001b[0;34m\u001b[0m\u001b[0;34m\u001b[0m\u001b[0m\n\u001b[0;32m-> 1219\u001b[0;31m                 \u001b[0;32mraise\u001b[0m \u001b[0mKeyboardInterrupt\u001b[0m\u001b[0;34m(\u001b[0m\u001b[0;34m\"Interrupted by user\"\u001b[0m\u001b[0;34m)\u001b[0m \u001b[0;32mfrom\u001b[0m \u001b[0;32mNone\u001b[0m\u001b[0;34m\u001b[0m\u001b[0;34m\u001b[0m\u001b[0m\n\u001b[0m\u001b[1;32m   1220\u001b[0m             \u001b[0;32mexcept\u001b[0m \u001b[0mException\u001b[0m\u001b[0;34m:\u001b[0m\u001b[0;34m\u001b[0m\u001b[0;34m\u001b[0m\u001b[0m\n\u001b[1;32m   1221\u001b[0m                 \u001b[0mself\u001b[0m\u001b[0;34m.\u001b[0m\u001b[0mlog\u001b[0m\u001b[0;34m.\u001b[0m\u001b[0mwarning\u001b[0m\u001b[0;34m(\u001b[0m\u001b[0;34m\"Invalid Message:\"\u001b[0m\u001b[0;34m,\u001b[0m \u001b[0mexc_info\u001b[0m\u001b[0;34m=\u001b[0m\u001b[0;32mTrue\u001b[0m\u001b[0;34m)\u001b[0m\u001b[0;34m\u001b[0m\u001b[0;34m\u001b[0m\u001b[0m\n",
      "\u001b[0;31mKeyboardInterrupt\u001b[0m: Interrupted by user"
     ]
    }
   ],
   "source": [
    "#Manual transfer\n",
    "\n",
    "grouped_df = df.groupby('genotype')\n",
    "for field_value, sample_df in grouped_df:\n",
    "    print(\"Place container of duckweed type **{0}** into jubilee and ensure lid is open\".format(field_value))\n",
    "    for index,s in sample_df.iterrows():\n",
    "        plate = s[\"Plate\"]\n",
    "        well = s[\"Well\"]\n",
    "        print(f\"Transfer {field_value} to plate {plate}, well {well}\")\n",
    "    input()\n",
    "        #print(\"Dispensing media of type {0} into {1}, well {2}\".format(field_value,s[\"Plate\"], s[\"Well\"]))\n"
   ]
  },
  {
   "cell_type": "code",
   "execution_count": 35,
   "id": "2b61f0f7",
   "metadata": {},
   "outputs": [
    {
     "name": "stdout",
     "output_type": "stream",
     "text": [
      "Write down any notes about today's set up that you would like to be recorded in the set up file\n"
     ]
    }
   ],
   "source": [
    "# print(\"Write down any notes about today's set up that you would like to be recorded in the set up file\")\n",
    "# notes = input()\n",
    "# #Save experimental set up file\n",
    "# # os.chdir(expt_setup_file_path)\n",
    "\n",
    "# with open(expt_setup_filename) as datafile:\n",
    "#     expt_data = json.load(datafile)\n",
    "#     expt_data[\"Set_up_notes\"] = notes\n",
    "#     #Save file?\n",
    "#     print(expt_data)"
   ]
  },
  {
   "cell_type": "code",
   "execution_count": null,
   "id": "652a9b09",
   "metadata": {},
   "outputs": [],
   "source": []
  }
 ],
 "metadata": {
  "kernelspec": {
   "display_name": "Python 3 (ipykernel)",
   "language": "python",
   "name": "python3"
  },
  "language_info": {
   "codemirror_mode": {
    "name": "ipython",
    "version": 3
   },
   "file_extension": ".py",
   "mimetype": "text/x-python",
   "name": "python",
   "nbconvert_exporter": "python",
   "pygments_lexer": "ipython3",
   "version": "3.7.3"
  }
 },
 "nbformat": 4,
 "nbformat_minor": 5
}
