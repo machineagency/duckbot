{
 "cells": [
  {
   "cell_type": "markdown",
   "id": "de796d34-1e45-47d9-8239-c290c7caef34",
   "metadata": {},
   "source": [
    "# Serial Dilution Demo"
   ]
  },
  {
   "cell_type": "code",
   "execution_count": 1,
   "id": "2e297701-1bf2-4a92-99bd-1d0088cd9b9a",
   "metadata": {},
   "outputs": [],
   "source": [
    "# Import libraries\n",
    "from duckbot.Machine import Machine\n",
    "%load_ext autoreload\n",
    "%autoreload 2"
   ]
  },
  {
   "cell_type": "code",
   "execution_count": 2,
   "id": "bfe29f0a-5755-4439-bf46-6d4c64ad0bab",
   "metadata": {
    "tags": []
   },
   "outputs": [],
   "source": [
    "# Connect to the machine, specifying your plate configuration\n",
    "m = Machine()\n",
    "m.set_plate(config='base_plate_config')"
   ]
  },
  {
   "cell_type": "code",
   "execution_count": 3,
   "id": "ef2ce76a-c5eb-4df2-8f02-dd531b14d7b5",
   "metadata": {
    "tags": []
   },
   "outputs": [
    {
     "data": {
      "text/plain": [
       "{0: 'Inoculation Loop',\n",
       " 1: 'BrokenTrons',\n",
       " 2: 'Side Camera',\n",
       " 3: 'Top-Down Camera'}"
      ]
     },
     "execution_count": 3,
     "metadata": {},
     "output_type": "execute_result"
    }
   ],
   "source": [
    "# We can take a look at our configured tools\n",
    "m._configured_tools"
   ]
  },
  {
   "cell_type": "code",
   "execution_count": 5,
   "id": "13546d71-293d-44ac-8556-ac5719c61bc8",
   "metadata": {
    "tags": []
   },
   "outputs": [
    {
     "name": "stdout",
     "output_type": "stream",
     "text": [
      "Load opentrons_96_tiprack_300ul into slot 0. Press enter to continue.\n",
      "Load scienfocus_6_wellplate into slot 1. Press enter to continue.\n",
      "Load scienfocus_96_wellplate into slot 2. Press enter to continue.\n"
     ]
    }
   ],
   "source": [
    "# Drop the bed plate down and load our labware\n",
    "m.move_to(z=125)\n",
    "\n",
    "# For our serial dilution demo, we'll need a pipette rack, a media reservoir, and a 96 well plate\n",
    "tip_rack = m.plate.load_labware(0, \"opentrons_96_tiprack_300ul\")\n",
    "reservoir = m.plate.load_labware(1, \"scienfocus_6_wellplate\")\n",
    "well_plate = m.plate.load_labware(2, \"scienfocus_96_wellplate\")"
   ]
  },
  {
   "cell_type": "code",
   "execution_count": 58,
   "id": "5314e9eb",
   "metadata": {},
   "outputs": [],
   "source": [
    "# Grab the pipette\n",
    "pipette = m.tool_change(1)"
   ]
  },
  {
   "cell_type": "code",
   "execution_count": 39,
   "id": "0afbd095-21a1-41b5-badf-bbf8e8a4ab55",
   "metadata": {
    "tags": []
   },
   "outputs": [],
   "source": [
    "# Equip pipette with a pipette tip\n",
    "m.tool.pickup_tip(tip_rack)"
   ]
  },
  {
   "cell_type": "code",
   "execution_count": 22,
   "id": "000a22bf",
   "metadata": {},
   "outputs": [],
   "source": [
    "# Transfer 50 uL of water into each well\n",
    "m.tool.aspirate_prime()\n",
    "m.tool.transfer(50, reservoir[\"wells\"][\"A1\"], well_plate[\"wells\"])"
   ]
  },
  {
   "cell_type": "code",
   "execution_count": 41,
   "id": "a46f74a1",
   "metadata": {},
   "outputs": [],
   "source": [
    "# Add 100 uL of solution to the first row\n",
    "m.tool.aspirate_prime()\n",
    "m.tool.transfer(100, reservoir[\"wells\"][\"B1\"], well_plate[\"rows\"]['A'], mix_after = (3, 50))"
   ]
  },
  {
   "cell_type": "code",
   "execution_count": 28,
   "id": "bf321e43",
   "metadata": {},
   "outputs": [],
   "source": [
    "# Move 100 mL from the first well in the row to the next & mix, and so on\n",
    "m.tool.aspirate_prime()\n",
    "\n",
    "for row in ['A', 'B', 'C', 'D', 'E', 'F', 'G', 'H']: # ToDo: Switch rows and columns\n",
    "    for column in range(1, well_plate['column_count']):\n",
    "        m.tool.transfer(100, well_plate[\"wells\"][f\"{row}{column}\"], well_plate[\"wells\"][f\"{row}{column+1}\"], mix_after = (3, 50))"
   ]
  },
  {
   "cell_type": "code",
   "execution_count": 37,
   "id": "3878caf2",
   "metadata": {},
   "outputs": [
    {
     "name": "stdout",
     "output_type": "stream",
     "text": [
      "I ejected a tip!\n"
     ]
    }
   ],
   "source": [
    "# Dispose of your pipette tip, and you're done!\n",
    "m.tool.eject_tip()"
   ]
  },
  {
   "cell_type": "code",
   "execution_count": 35,
   "id": "004433dd",
   "metadata": {},
   "outputs": [],
   "source": [
    "########"
   ]
  },
  {
   "cell_type": "code",
   "execution_count": 40,
   "id": "b3cc5e08",
   "metadata": {},
   "outputs": [],
   "source": [
    "# Transfer 50 uL of water into each well\n",
    "m.tool.aspirate_prime()\n",
    "m.tool.transfer(50, reservoir[\"wells\"][\"A1\"], well_plate[\"rows\"]['A'])"
   ]
  },
  {
   "cell_type": "code",
   "execution_count": 44,
   "id": "ca4b6e84",
   "metadata": {},
   "outputs": [],
   "source": []
  },
  {
   "cell_type": "code",
   "execution_count": 60,
   "id": "3b58ccb2",
   "metadata": {},
   "outputs": [],
   "source": [
    "## Air Gap\n",
    "r = m.plate.get_well_position(1, \"B1\")\n",
    "m.move_to(x=r[0], y=r[1])\n",
    "\n",
    "for v in range(4):\n",
    "    m.move_to(z=47)\n",
    "    pipette.aspirate(20)\n",
    "    pipette.air_gap()\n",
    "    \n",
    "m.move_to(z=80)"
   ]
  },
  {
   "cell_type": "code",
   "execution_count": 69,
   "id": "99f499c8",
   "metadata": {},
   "outputs": [],
   "source": [
    "pipette.aspirate_prime()\n",
    "pipette.blowout(40)"
   ]
  },
  {
   "cell_type": "code",
   "execution_count": null,
   "id": "5ddd1ca0",
   "metadata": {},
   "outputs": [],
   "source": []
  },
  {
   "cell_type": "code",
   "execution_count": 62,
   "id": "900b5588",
   "metadata": {},
   "outputs": [],
   "source": [
    "### MA design"
   ]
  },
  {
   "cell_type": "code",
   "execution_count": 74,
   "id": "db634101",
   "metadata": {},
   "outputs": [],
   "source": [
    "# M\n",
    "pipette.aspirate_prime()\n",
    "pipette.transfer(100, reservoir[\"wells\"][\"A2\"], well_plate[\"columns\"][1])\n",
    "pipette.transfer(100, reservoir[\"wells\"][\"A2\"], well_plate[\"wells\"][\"B2\"])\n",
    "pipette.transfer(100, reservoir[\"wells\"][\"A2\"], well_plate[\"wells\"][\"C3\"])\n",
    "pipette.transfer(100, reservoir[\"wells\"][\"A2\"], well_plate[\"wells\"][\"B4\"])\n",
    "pipette.transfer(100, reservoir[\"wells\"][\"A2\"], well_plate[\"columns\"][5])"
   ]
  },
  {
   "cell_type": "code",
   "execution_count": null,
   "id": "495ff067",
   "metadata": {},
   "outputs": [],
   "source": [
    "# A\n",
    "pipette.transfer(100, reservoir[\"wells\"][\"A2\"], well_plate[\"columns\"][8])\n",
    "pipette.transfer(100, reservoir[\"wells\"][\"A2\"], well_plate[\"columns\"][12])\n",
    "pipette.transfer(100, reservoir[\"wells\"][\"A2\"], well_plate[\"wells\"][\"A9\"])\n",
    "pipette.transfer(100, reservoir[\"wells\"][\"A2\"], well_plate[\"wells\"][\"A10\"])\n",
    "pipette.transfer(100, reservoir[\"wells\"][\"A2\"], well_plate[\"wells\"][\"A11\"])\n",
    "\n",
    "pipette.transfer(100, reservoir[\"wells\"][\"A2\"], well_plate[\"wells\"][\"D9\"])\n",
    "pipette.transfer(100, reservoir[\"wells\"][\"A2\"], well_plate[\"wells\"][\"D10\"])\n",
    "pipette.transfer(100, reservoir[\"wells\"][\"A2\"], well_plate[\"wells\"][\"D11\"])"
   ]
  },
  {
   "cell_type": "code",
   "execution_count": 72,
   "id": "618b57d6",
   "metadata": {},
   "outputs": [
    {
     "ename": "TypeError",
     "evalue": "unhashable type: 'slice'",
     "output_type": "error",
     "traceback": [
      "\u001b[0;31m---------------------------------------------------------------------------\u001b[0m",
      "\u001b[0;31mTypeError\u001b[0m                                 Traceback (most recent call last)",
      "\u001b[0;32m/tmp/ipykernel_1678/3913733277.py\u001b[0m in \u001b[0;36m<module>\u001b[0;34m\u001b[0m\n\u001b[0;32m----> 1\u001b[0;31m \u001b[0mwell_plate\u001b[0m\u001b[0;34m[\u001b[0m\u001b[0;34m\"columns\"\u001b[0m\u001b[0;34m]\u001b[0m\u001b[0;34m[\u001b[0m\u001b[0;36m3\u001b[0m\u001b[0;34m]\u001b[0m\u001b[0;34m[\u001b[0m\u001b[0;36m3\u001b[0m\u001b[0;34m:\u001b[0m\u001b[0;34m]\u001b[0m\u001b[0;34m\u001b[0m\u001b[0;34m\u001b[0m\u001b[0m\n\u001b[0m",
      "\u001b[0;31mTypeError\u001b[0m: unhashable type: 'slice'"
     ]
    }
   ],
   "source": [
    "well_plate[\"columns\"][3][3:]"
   ]
  },
  {
   "cell_type": "code",
   "execution_count": null,
   "id": "39c21f86",
   "metadata": {},
   "outputs": [],
   "source": []
  }
 ],
 "metadata": {
  "kernelspec": {
   "display_name": "Python 3 (ipykernel)",
   "language": "python",
   "name": "python3"
  },
  "language_info": {
   "codemirror_mode": {
    "name": "ipython",
    "version": 3
   },
   "file_extension": ".py",
   "mimetype": "text/x-python",
   "name": "python",
   "nbconvert_exporter": "python",
   "pygments_lexer": "ipython3",
   "version": "3.7.3"
  }
 },
 "nbformat": 4,
 "nbformat_minor": 5
}
