{
 "cells": [
  {
   "cell_type": "markdown",
   "id": "de796d34-1e45-47d9-8239-c290c7caef34",
   "metadata": {},
   "source": [
    "# Serial Dilution Demo"
   ]
  },
  {
   "cell_type": "code",
   "execution_count": 2,
   "id": "2e297701-1bf2-4a92-99bd-1d0088cd9b9a",
   "metadata": {},
   "outputs": [],
   "source": [
    "# Import libraries\n",
    "from duckbot.Machine import Machine\n",
    "%load_ext autoreload\n",
    "%autoreload 2"
   ]
  },
  {
   "cell_type": "code",
   "execution_count": 4,
   "id": "bfe29f0a-5755-4439-bf46-6d4c64ad0bab",
   "metadata": {
    "tags": []
   },
   "outputs": [],
   "source": [
    "# Connect to the machine, specifying your plate configuration\n",
    "m = Machine()\n",
    "m.set_plate(config='base_plate_config')"
   ]
  },
  {
   "cell_type": "code",
   "execution_count": 6,
   "id": "ef2ce76a-c5eb-4df2-8f02-dd531b14d7b5",
   "metadata": {
    "tags": []
   },
   "outputs": [
    {
     "data": {
      "text/plain": [
       "{0: 'Inoculation Loop',\n",
       " 1: 'BrokenTrons',\n",
       " 2: 'Side Camera',\n",
       " 3: 'Top-Down Camera'}"
      ]
     },
     "execution_count": 6,
     "metadata": {},
     "output_type": "execute_result"
    }
   ],
   "source": [
    "# We can take a look at our configured tools by querying the duet\n",
    "m._configured_tools"
   ]
  },
  {
   "cell_type": "code",
   "execution_count": null,
   "id": "13546d71-293d-44ac-8556-ac5719c61bc8",
   "metadata": {
    "tags": []
   },
   "outputs": [],
   "source": [
    "# Drop the bed plate down and load our labware\n",
    "m.move_to(z=100)\n",
    "\n",
    "# For our serial dilution demo, we'll need a pipette rack, a media reservoir, and a 96 well plate\n",
    "m.plate.load_labware(0, \"opentrons_96_tiprack_300ul\")\n",
    "m.plate.load_labware(1, \"scienfocus_6_wellplate\")\n",
    "m.plate.load_labware(2, \"scienfocus_96_wellplate\")"
   ]
  },
  {
   "cell_type": "code",
   "execution_count": null,
   "id": "0afbd095-21a1-41b5-badf-bbf8e8a4ab55",
   "metadata": {
    "tags": []
   },
   "outputs": [],
   "source": [
    "# return all wells in the tip rack\n",
    "m.plate.wells(0)"
   ]
  },
  {
   "cell_type": "code",
   "execution_count": null,
   "id": "532314dd-96bd-446a-bba2-c7fbc8d3f073",
   "metadata": {},
   "outputs": [],
   "source": []
  }
 ],
 "metadata": {
  "kernelspec": {
   "display_name": "Python 3 (ipykernel)",
   "language": "python",
   "name": "python3"
  },
  "language_info": {
   "codemirror_mode": {
    "name": "ipython",
    "version": 3
   },
   "file_extension": ".py",
   "mimetype": "text/x-python",
   "name": "python",
   "nbconvert_exporter": "python",
   "pygments_lexer": "ipython3",
   "version": "3.7.3"
  }
 },
 "nbformat": 4,
 "nbformat_minor": 5
}
