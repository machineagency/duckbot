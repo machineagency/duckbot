{
 "cells": [
  {
   "cell_type": "markdown",
   "id": "de796d34-1e45-47d9-8239-c290c7caef34",
   "metadata": {},
   "source": [
    "# Serial Dilution Demo"
   ]
  },
  {
   "cell_type": "code",
   "execution_count": 1,
   "id": "2e297701-1bf2-4a92-99bd-1d0088cd9b9a",
   "metadata": {},
   "outputs": [],
   "source": [
    "# Import libraries\n",
    "from duckbot.Machine import Machine\n",
    "%load_ext autoreload\n",
    "%autoreload 2"
   ]
  },
  {
   "cell_type": "code",
   "execution_count": 2,
   "id": "bfe29f0a-5755-4439-bf46-6d4c64ad0bab",
   "metadata": {
    "tags": []
   },
   "outputs": [],
   "source": [
    "# Connect to the machine, specifying your plate configuration\n",
    "m = Machine()\n",
    "m.set_plate(config='base_plate_config')"
   ]
  },
  {
   "cell_type": "code",
   "execution_count": 3,
   "id": "ef2ce76a-c5eb-4df2-8f02-dd531b14d7b5",
   "metadata": {
    "tags": []
   },
   "outputs": [
    {
     "data": {
      "text/plain": [
       "{0: 'Inoculation Loop',\n",
       " 1: 'BrokenTrons',\n",
       " 2: 'Side Camera',\n",
       " 3: 'Top-Down Camera'}"
      ]
     },
     "execution_count": 3,
     "metadata": {},
     "output_type": "execute_result"
    }
   ],
   "source": [
    "# We can take a look at our configured tools\n",
    "m._configured_tools"
   ]
  },
  {
   "cell_type": "code",
   "execution_count": 4,
   "id": "13546d71-293d-44ac-8556-ac5719c61bc8",
   "metadata": {
    "tags": []
   },
   "outputs": [
    {
     "name": "stdout",
     "output_type": "stream",
     "text": [
      "Load opentrons_96_tiprack_300ul into slot 0. Press enter to continue.\n",
      "Load scienfocus_6_wellplate into slot 1. Press enter to continue.\n",
      "Load scienfocus_96_wellplate into slot 2. Press enter to continue.\n"
     ]
    }
   ],
   "source": [
    "# Drop the bed plate down and load our labware\n",
    "m.move_to(z=125)\n",
    "\n",
    "# For our serial dilution demo, we'll need a pipette rack, a media reservoir, and a 96 well plate\n",
    "tip_rack = m.plate.load_labware(0, \"opentrons_96_tiprack_300ul\")\n",
    "reservoir = m.plate.load_labware(1, \"scienfocus_6_wellplate\")\n",
    "well_plate = m.plate.load_labware(2, \"scienfocus_96_wellplate\")"
   ]
  },
  {
   "cell_type": "code",
   "execution_count": 5,
   "id": "5314e9eb",
   "metadata": {},
   "outputs": [],
   "source": [
    "# Grab the pipette\n",
    "pipette = m.tool_change(1)"
   ]
  },
  {
   "cell_type": "code",
   "execution_count": 6,
   "id": "0afbd095-21a1-41b5-badf-bbf8e8a4ab55",
   "metadata": {
    "tags": []
   },
   "outputs": [],
   "source": [
    "# Equip pipette with a pipette tip\n",
    "pipette.pickup_tip(tip_rack)"
   ]
  },
  {
   "cell_type": "code",
   "execution_count": 7,
   "id": "36992546",
   "metadata": {},
   "outputs": [],
   "source": [
    "# Make sure your sharps container is loaded in to dispose of tips\n",
    "pipette.eject_tip()"
   ]
  },
  {
   "cell_type": "code",
   "execution_count": 8,
   "id": "e1b63c19",
   "metadata": {},
   "outputs": [],
   "source": [
    "# Next time we get a tip, we'll move to the next available one\n",
    "pipette.pickup_tip(tip_rack)"
   ]
  },
  {
   "cell_type": "code",
   "execution_count": null,
   "id": "000a22bf",
   "metadata": {},
   "outputs": [],
   "source": [
    "# Transfer 50 uL of water into each well\n",
    "pipette.transfer(50, reservoir[\"wells\"][\"A1\"], well_plate[\"wells\"])"
   ]
  },
  {
   "cell_type": "code",
   "execution_count": 14,
   "id": "a46f74a1",
   "metadata": {},
   "outputs": [],
   "source": [
    "# Add 100 uL of solution to the first row\n",
    "pipette.transfer(100, reservoir[\"wells\"][\"B1\"], well_plate[\"columns\"][1], mix_after = (3, 50))"
   ]
  },
  {
   "cell_type": "code",
   "execution_count": null,
   "id": "bf321e43",
   "metadata": {},
   "outputs": [],
   "source": [
    "# Move 100 mL from the first well in the row to the next & mix, and so on\n",
    "for row in well_plate[\"rows\"]:\n",
    "    for column in range(1, well_plate['column_count']):\n",
    "        pipette.transfer(100, well_plate[\"wells\"][f\"{row}{column}\"], well_plate[\"wells\"][f\"{row}{column+1}\"], mix_after = (3, 50))"
   ]
  },
  {
   "cell_type": "code",
   "execution_count": 25,
   "id": "3878caf2",
   "metadata": {},
   "outputs": [],
   "source": [
    "# Dispose of your pipette tip\n",
    "pipette.eject_tip()"
   ]
  },
  {
   "cell_type": "code",
   "execution_count": 26,
   "id": "795f8997",
   "metadata": {},
   "outputs": [],
   "source": [
    "# Park the pipette\n",
    "m.park_tool()"
   ]
  },
  {
   "cell_type": "code",
   "execution_count": 21,
   "id": "004433dd",
   "metadata": {},
   "outputs": [],
   "source": [
    "########"
   ]
  },
  {
   "cell_type": "code",
   "execution_count": 12,
   "id": "f7575e9e",
   "metadata": {},
   "outputs": [],
   "source": [
    "# Move to water and clear pipette\n",
    "m.move_to(z=80)\n",
    "water = m.plate.get_well_position(1, \"A1\")\n",
    "m.move_to(x=water[0], y=water[1])\n",
    "pipette.aspirate_prime()\n",
    "pipette.blowout()"
   ]
  },
  {
   "cell_type": "code",
   "execution_count": null,
   "id": "031a2cff",
   "metadata": {},
   "outputs": [],
   "source": []
  },
  {
   "cell_type": "code",
   "execution_count": 24,
   "id": "9493505d",
   "metadata": {},
   "outputs": [],
   "source": [
    "#\n",
    "pipette.aspirate_prime()\n",
    "pipette.blowout(45)"
   ]
  },
  {
   "cell_type": "code",
   "execution_count": null,
   "id": "65f94cf5",
   "metadata": {},
   "outputs": [],
   "source": []
  },
  {
   "cell_type": "code",
   "execution_count": 13,
   "id": "d29d7ecc",
   "metadata": {},
   "outputs": [],
   "source": [
    "# Move to blue solution and clear pipette\n",
    "m.move_to(z=80)\n",
    "blue = m.plate.get_well_position(1, \"B1\")\n",
    "m.move_to(x=blue[0], y=blue[1])\n",
    "pipette.aspirate_prime()\n",
    "pipette.blowout()"
   ]
  },
  {
   "cell_type": "code",
   "execution_count": null,
   "id": "ca4b6e84",
   "metadata": {},
   "outputs": [],
   "source": []
  },
  {
   "cell_type": "code",
   "execution_count": null,
   "id": "3b58ccb2",
   "metadata": {},
   "outputs": [],
   "source": [
    "## Air Gap\n",
    "blue = m.plate.get_well_position(1, \"B1\")\n",
    "m.move_to(x=blue[0], y=blue[1])\n",
    "\n",
    "for v in range(4):\n",
    "    m.move_to(z=47)\n",
    "    pipette.aspirate(20)\n",
    "    pipette.air_gap()\n",
    "    \n",
    "m.move_to(z=80)"
   ]
  },
  {
   "cell_type": "code",
   "execution_count": null,
   "id": "f707e4ce",
   "metadata": {},
   "outputs": [],
   "source": []
  },
  {
   "cell_type": "code",
   "execution_count": null,
   "id": "99f499c8",
   "metadata": {},
   "outputs": [],
   "source": []
  },
  {
   "cell_type": "code",
   "execution_count": null,
   "id": "6380b704",
   "metadata": {},
   "outputs": [],
   "source": []
  },
  {
   "cell_type": "code",
   "execution_count": null,
   "id": "eec743d8",
   "metadata": {},
   "outputs": [],
   "source": []
  }
 ],
 "metadata": {
  "kernelspec": {
   "display_name": "Python 3 (ipykernel)",
   "language": "python",
   "name": "python3"
  },
  "language_info": {
   "codemirror_mode": {
    "name": "ipython",
    "version": 3
   },
   "file_extension": ".py",
   "mimetype": "text/x-python",
   "name": "python",
   "nbconvert_exporter": "python",
   "pygments_lexer": "ipython3",
   "version": "3.7.3"
  }
 },
 "nbformat": 4,
 "nbformat_minor": 5
}
