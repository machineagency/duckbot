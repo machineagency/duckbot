{
 "cells": [
  {
   "cell_type": "markdown",
   "id": "de796d34-1e45-47d9-8239-c290c7caef34",
   "metadata": {},
   "source": [
    "# 2D Serial Dilution Demo"
   ]
  },
  {
   "cell_type": "code",
   "execution_count": 1,
   "id": "2e297701-1bf2-4a92-99bd-1d0088cd9b9a",
   "metadata": {},
   "outputs": [],
   "source": [
    "# Import libraries\n",
    "from duckbot.Machine import Machine\n",
    "%load_ext autoreload\n",
    "%autoreload 2"
   ]
  },
  {
   "cell_type": "code",
   "execution_count": 2,
   "id": "bfe29f0a-5755-4439-bf46-6d4c64ad0bab",
   "metadata": {
    "tags": []
   },
   "outputs": [],
   "source": [
    "# Connect to the machine, specifying your plate configuration\n",
    "m = Machine()\n",
    "m.set_plate(config='base_plate_config')"
   ]
  },
  {
   "cell_type": "code",
   "execution_count": 3,
   "id": "ef2ce76a-c5eb-4df2-8f02-dd531b14d7b5",
   "metadata": {
    "tags": []
   },
   "outputs": [
    {
     "data": {
      "text/plain": [
       "{0: 'Inoculation Loop',\n",
       " 1: 'BrokenTrons',\n",
       " 2: 'Side Camera',\n",
       " 3: 'Top-Down Camera'}"
      ]
     },
     "execution_count": 3,
     "metadata": {},
     "output_type": "execute_result"
    }
   ],
   "source": [
    "# We can take a look at our configured tools\n",
    "m._configured_tools"
   ]
  },
  {
   "cell_type": "code",
   "execution_count": 4,
   "id": "13546d71-293d-44ac-8556-ac5719c61bc8",
   "metadata": {
    "tags": []
   },
   "outputs": [
    {
     "name": "stdout",
     "output_type": "stream",
     "text": [
      "Load opentrons_96_tiprack_300ul into slot 0. Press enter to continue.\n",
      "Load scienfocus_6_wellplate into slot 1. Press enter to continue.\n",
      "Load scienfocus_96_wellplate into slot 2. Press enter to continue.\n"
     ]
    }
   ],
   "source": [
    "# Drop the bed plate down and load our labware\n",
    "m.move_to(z=125)\n",
    "\n",
    "# For our serial dilution demo, we'll need a pipette rack, a media reservoir, and a 96 well plate\n",
    "tip_rack = m.plate.load_labware(0, \"opentrons_96_tiprack_300ul\")\n",
    "reservoir = m.plate.load_labware(1, \"scienfocus_6_wellplate\")\n",
    "well_plate = m.plate.load_labware(2, \"scienfocus_96_wellplate\")"
   ]
  },
  {
   "cell_type": "code",
   "execution_count": 5,
   "id": "5314e9eb",
   "metadata": {},
   "outputs": [],
   "source": [
    "# Grab the pipette\n",
    "pipette = m.tool_change(1)"
   ]
  },
  {
   "cell_type": "code",
   "execution_count": 39,
   "id": "0afbd095-21a1-41b5-badf-bbf8e8a4ab55",
   "metadata": {
    "tags": []
   },
   "outputs": [],
   "source": [
    "# Equip pipette with a pipette tip\n",
    "pipette.pickup_tip(tip_rack)"
   ]
  },
  {
   "cell_type": "code",
   "execution_count": 38,
   "id": "36992546",
   "metadata": {},
   "outputs": [],
   "source": [
    "# Make sure your sharps container is loaded in to dispose of tips\n",
    "pipette.eject_tip()"
   ]
  },
  {
   "cell_type": "code",
   "execution_count": 9,
   "id": "e1b63c19",
   "metadata": {},
   "outputs": [],
   "source": [
    "# Next time we get a tip, we'll move to the next available one\n",
    "pipette.pickup_tip(tip_rack)"
   ]
  },
  {
   "cell_type": "code",
   "execution_count": 9,
   "id": "000a22bf",
   "metadata": {},
   "outputs": [],
   "source": [
    "# We'll put increasing amounts of water in the first row\n",
    "fill_volume = 25\n",
    "for well in well_plate[\"rows\"][\"A\"]:\n",
    "    pipette.transfer(fill_volume, reservoir[\"wells\"][\"A1\"], well_plate[\"wells\"][well])\n",
    "    fill_volume += 5"
   ]
  },
  {
   "cell_type": "code",
   "execution_count": 10,
   "id": "9ab8a1a8",
   "metadata": {},
   "outputs": [],
   "source": [
    "# Fill the rest of the rows with 50 uL water\n",
    "for row in ['B', 'C', 'D', 'E', 'F', 'G', 'H']:\n",
    "    pipette.transfer(50, reservoir[\"wells\"][\"A1\"], well_plate[\"rows\"][row])"
   ]
  },
  {
   "cell_type": "code",
   "execution_count": 11,
   "id": "a46f74a1",
   "metadata": {},
   "outputs": [],
   "source": [
    "# Add decreasing amounts of solution to the first row, ensuring the total volume sums to 150\n",
    "fill_volume = 125\n",
    "for well in well_plate[\"rows\"][\"A\"]:\n",
    "    pipette.transfer(fill_volume, reservoir[\"wells\"][\"B1\"], well_plate[\"wells\"][well], mix_after = (2, 50))\n",
    "    fill_volume -= 5"
   ]
  },
  {
   "cell_type": "code",
   "execution_count": 35,
   "id": "bf321e43",
   "metadata": {},
   "outputs": [],
   "source": [
    "# Move 100 mL from the first well in the row to the next & mix, and so on\n",
    "m.tool.aspirate_prime()\n",
    "\n",
    "for column in well_plate[\"columns\"]:\n",
    "    for row in ['A', 'B', 'C', 'D', 'E', 'F', 'G']:\n",
    "        pipette.transfer(100, well_plate[\"wells\"][f\"{row}{column}\"], well_plate[\"wells\"][f\"{chr(ord(row)+1)}{column}\"], mix_after = (2, 50))"
   ]
  },
  {
   "cell_type": "code",
   "execution_count": 36,
   "id": "3878caf2",
   "metadata": {},
   "outputs": [],
   "source": [
    "# Dispose of your pipette tip, and you're done!\n",
    "m.tool.eject_tip()"
   ]
  },
  {
   "cell_type": "code",
   "execution_count": null,
   "id": "004433dd",
   "metadata": {},
   "outputs": [],
   "source": [
    "########"
   ]
  },
  {
   "cell_type": "code",
   "execution_count": 11,
   "id": "ad366049",
   "metadata": {},
   "outputs": [],
   "source": [
    "# Transfer 50 uL of water into each well\n",
    "m.tool.aspirate_prime()\n",
    "m.tool.transfer(50, reservoir[\"wells\"][\"A1\"], well_plate[\"rows\"]['B'])"
   ]
  },
  {
   "cell_type": "code",
   "execution_count": null,
   "id": "ca4b6e84",
   "metadata": {},
   "outputs": [],
   "source": []
  },
  {
   "cell_type": "code",
   "execution_count": 43,
   "id": "3b58ccb2",
   "metadata": {},
   "outputs": [],
   "source": [
    "## Air Gap\n",
    "r = m.plate.get_well_position(1, \"B1\")\n",
    "m.move_to(x=r[0], y=r[1])\n",
    "\n",
    "for v in range(4):\n",
    "    m.move_to(z=47)\n",
    "    pipette.aspirate(20)\n",
    "    pipette.air_gap()\n",
    "    \n",
    "m.move_to(z=80)"
   ]
  },
  {
   "cell_type": "code",
   "execution_count": 49,
   "id": "99f499c8",
   "metadata": {},
   "outputs": [],
   "source": [
    "pipette.aspirate_prime()\n",
    "pipette.blowout(46)"
   ]
  },
  {
   "cell_type": "code",
   "execution_count": null,
   "id": "6380b704",
   "metadata": {},
   "outputs": [],
   "source": [
    "for column in well_plate[\"columns\"]:\n",
    "    for row in well_plate[\"rows\"]:\n",
    "        pipette.transfer(100, well_plate[\"wells\"][f\"{row}{column}\"], well_plate[\"wells\"][f\"{chr(ord(row)+1)}{column}\"], mix_after = (2, 50))"
   ]
  },
  {
   "cell_type": "code",
   "execution_count": 34,
   "id": "294840cf",
   "metadata": {},
   "outputs": [
    {
     "name": "stdout",
     "output_type": "stream",
     "text": [
      "A\n",
      "B\n",
      "B\n",
      "C\n",
      "C\n",
      "D\n",
      "D\n",
      "E\n",
      "E\n",
      "F\n",
      "F\n",
      "G\n",
      "G\n",
      "H\n",
      "H\n",
      "I\n",
      "A\n",
      "B\n",
      "B\n",
      "C\n",
      "C\n",
      "D\n",
      "D\n",
      "E\n",
      "E\n",
      "F\n",
      "F\n",
      "G\n",
      "G\n",
      "H\n",
      "H\n",
      "I\n",
      "A\n",
      "B\n",
      "B\n",
      "C\n",
      "C\n",
      "D\n",
      "D\n",
      "E\n",
      "E\n",
      "F\n",
      "F\n",
      "G\n",
      "G\n",
      "H\n",
      "H\n",
      "I\n",
      "A\n",
      "B\n",
      "B\n",
      "C\n",
      "C\n",
      "D\n",
      "D\n",
      "E\n",
      "E\n",
      "F\n",
      "F\n",
      "G\n",
      "G\n",
      "H\n",
      "H\n",
      "I\n",
      "A\n",
      "B\n",
      "B\n",
      "C\n",
      "C\n",
      "D\n",
      "D\n",
      "E\n",
      "E\n",
      "F\n",
      "F\n",
      "G\n",
      "G\n",
      "H\n",
      "H\n",
      "I\n",
      "A\n",
      "B\n",
      "B\n",
      "C\n",
      "C\n",
      "D\n",
      "D\n",
      "E\n",
      "E\n",
      "F\n",
      "F\n",
      "G\n",
      "G\n",
      "H\n",
      "H\n",
      "I\n",
      "A\n",
      "B\n",
      "B\n",
      "C\n",
      "C\n",
      "D\n",
      "D\n",
      "E\n",
      "E\n",
      "F\n",
      "F\n",
      "G\n",
      "G\n",
      "H\n",
      "H\n",
      "I\n",
      "A\n",
      "B\n",
      "B\n",
      "C\n",
      "C\n",
      "D\n",
      "D\n",
      "E\n",
      "E\n",
      "F\n",
      "F\n",
      "G\n",
      "G\n",
      "H\n",
      "H\n",
      "I\n",
      "A\n",
      "B\n",
      "B\n",
      "C\n",
      "C\n",
      "D\n",
      "D\n",
      "E\n",
      "E\n",
      "F\n",
      "F\n",
      "G\n",
      "G\n",
      "H\n",
      "H\n",
      "I\n",
      "A\n",
      "B\n",
      "B\n",
      "C\n",
      "C\n",
      "D\n",
      "D\n",
      "E\n",
      "E\n",
      "F\n",
      "F\n",
      "G\n",
      "G\n",
      "H\n",
      "H\n",
      "I\n",
      "A\n",
      "B\n",
      "B\n",
      "C\n",
      "C\n",
      "D\n",
      "D\n",
      "E\n",
      "E\n",
      "F\n",
      "F\n",
      "G\n",
      "G\n",
      "H\n",
      "H\n",
      "I\n",
      "A\n",
      "B\n",
      "B\n",
      "C\n",
      "C\n",
      "D\n",
      "D\n",
      "E\n",
      "E\n",
      "F\n",
      "F\n",
      "G\n",
      "G\n",
      "H\n",
      "H\n",
      "I\n"
     ]
    }
   ],
   "source": [
    "for column in well_plate[\"columns\"]:\n",
    "    for row in well_plate[\"rows\"]:\n",
    "        print(row)\n",
    "        print(chr(ord(row)+1))\n",
    "# chr(ord('A') + 1)\n",
    "# it = iter(well_plate[\"rows\"])"
   ]
  },
  {
   "cell_type": "code",
   "execution_count": 54,
   "id": "59126471",
   "metadata": {},
   "outputs": [],
   "source": [
    "pipette.transfer(100, reservoir[\"wells\"][\"B1\"], well_plate[\"wells\"][\"A2\"], mix_after = (3, 50))"
   ]
  },
  {
   "cell_type": "code",
   "execution_count": null,
   "id": "1c9b37de",
   "metadata": {},
   "outputs": [],
   "source": [
    "### MA design"
   ]
  },
  {
   "cell_type": "code",
   "execution_count": null,
   "id": "9847e4ab",
   "metadata": {},
   "outputs": [],
   "source": [
    "# M\n",
    "pipette.aspirate_prime()\n",
    "pipette.transfer(100, reservoir[\"wells\"][\"A2\"], well_plate[\"columns\"][1])\n",
    "pipette.transfer(100, reservoir[\"wells\"][\"A2\"], well_plate[\"wells\"][\"B2\"])\n",
    "pipette.transfer(100, reservoir[\"wells\"][\"A2\"], well_plate[\"wells\"][\"C3\"])\n",
    "pipette.transfer(100, reservoir[\"wells\"][\"A2\"], well_plate[\"wells\"][\"B4\"])\n",
    "pipette.transfer(100, reservoir[\"wells\"][\"A2\"], well_plate[\"columns\"][5])"
   ]
  },
  {
   "cell_type": "code",
   "execution_count": null,
   "id": "cddbfeee",
   "metadata": {},
   "outputs": [],
   "source": [
    "# A\n",
    "# pipette.transfer(100, reservoir[\"wells\"][\"A2\"], well_plate[\"columns\"][8])\n",
    "pipette.transfer(100, reservoir[\"wells\"][\"A2\"], well_plate[\"wells\"][\"H8\"])\n",
    "pipette.transfer(100, reservoir[\"wells\"][\"A2\"], well_plate[\"columns\"][12])\n",
    "pipette.transfer(100, reservoir[\"wells\"][\"A2\"], well_plate[\"wells\"][\"A9\"])\n",
    "pipette.transfer(100, reservoir[\"wells\"][\"A2\"], well_plate[\"wells\"][\"A10\"])\n",
    "pipette.transfer(100, reservoir[\"wells\"][\"A2\"], well_plate[\"wells\"][\"A11\"])\n",
    "\n",
    "pipette.transfer(100, reservoir[\"wells\"][\"A2\"], well_plate[\"wells\"][\"D9\"])\n",
    "pipette.transfer(100, reservoir[\"wells\"][\"A2\"], well_plate[\"wells\"][\"D10\"])\n",
    "pipette.transfer(100, reservoir[\"wells\"][\"A2\"], well_plate[\"wells\"][\"D11\"])"
   ]
  },
  {
   "cell_type": "code",
   "execution_count": null,
   "id": "8113327d",
   "metadata": {},
   "outputs": [],
   "source": [
    "available_tips = tip_rack[\"wells\"]"
   ]
  },
  {
   "cell_type": "code",
   "execution_count": null,
   "id": "56143a19",
   "metadata": {},
   "outputs": [],
   "source": [
    "tips_iter = iter(available_tips)"
   ]
  },
  {
   "cell_type": "code",
   "execution_count": null,
   "id": "b50e5ce0",
   "metadata": {},
   "outputs": [],
   "source": [
    "pipette.pickup_tip(tip_rack)"
   ]
  },
  {
   "cell_type": "code",
   "execution_count": null,
   "id": "2d6222b9",
   "metadata": {},
   "outputs": [],
   "source": [
    "pipette.eject_tip()"
   ]
  },
  {
   "cell_type": "code",
   "execution_count": null,
   "id": "eec743d8",
   "metadata": {},
   "outputs": [],
   "source": []
  }
 ],
 "metadata": {
  "kernelspec": {
   "display_name": "Python 3 (ipykernel)",
   "language": "python",
   "name": "python3"
  },
  "language_info": {
   "codemirror_mode": {
    "name": "ipython",
    "version": 3
   },
   "file_extension": ".py",
   "mimetype": "text/x-python",
   "name": "python",
   "nbconvert_exporter": "python",
   "pygments_lexer": "ipython3",
   "version": "3.7.3"
  }
 },
 "nbformat": 4,
 "nbformat_minor": 5
}
