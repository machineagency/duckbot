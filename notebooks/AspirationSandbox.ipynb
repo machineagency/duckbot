{
 "cells": [
  {
   "cell_type": "markdown",
   "id": "4541664a-6872-41c6-b0b2-3a09d4e475c3",
   "metadata": {},
   "source": [
    "### Duckweed Aspiration\n",
    "Test notebook for aspirating duckweed"
   ]
  },
  {
   "cell_type": "code",
   "execution_count": 1,
   "id": "3c5553db-f513-45f2-9f97-ff23ae815a86",
   "metadata": {},
   "outputs": [],
   "source": [
    "# import required modules\n",
    "from utils.MachineUtils import *\n",
    "import time\n",
    "import random\n",
    "import numpy as np\n",
    "import cv2 as cv2\n",
    "from utils.PlatePositionUtils import *\n",
    "from utils.CameraUtils import *"
   ]
  },
  {
   "cell_type": "code",
   "execution_count": 2,
   "id": "a2c30acd-2343-43e3-8a71-110794c268ef",
   "metadata": {},
   "outputs": [
    {
     "name": "stdout",
     "output_type": "stream",
     "text": [
      "['ttyACM0', 'ttyAMA0']\n"
     ]
    }
   ],
   "source": [
    "# Setup your machine connection\n",
    "# List available ports in thie cell\n",
    "\n",
    "ports = serial.tools.list_ports.comports()\n",
    "print([port.name for port in ports]) "
   ]
  },
  {
   "cell_type": "code",
   "execution_count": 3,
   "id": "4024af6f-4ddb-4aa8-a290-ca6fc67327be",
   "metadata": {},
   "outputs": [],
   "source": [
    "# Choose the correct port from above and establish connection with machine\n",
    "port = '/dev/ttyACM0'\n",
    "m = MachineCommunication(port)"
   ]
  },
  {
   "cell_type": "code",
   "execution_count": 4,
   "id": "6aeb7ca9-7528-4a01-ad9a-473716e164ab",
   "metadata": {},
   "outputs": [
    {
     "name": "stdout",
     "output_type": "stream",
     "text": [
      "[[ 2.83177792e-01 -1.52038853e+00]\n",
      " [ 2.96527139e+00 -3.34144830e+00]\n",
      " [-4.89224219e-01  2.59932583e-01]\n",
      " [ 5.55483812e-01  7.52317823e+01]\n",
      " [-7.49778260e+01 -4.26956240e-02]\n",
      " [ 8.02453667e+01  2.39263142e+02]]\n",
      "[1200, 1200]\n"
     ]
    }
   ],
   "source": [
    "# load in the relevant calibration files\n",
    "# read in the calibration file\n",
    "# with open(\"/home/pi/autofocus-test/JubileeAutofocus/camera_cal_z_110_update.json\") as f:\n",
    "with open(\"/home/pi/autofocus-test/JubileeAutofocus/camera_cal_z_60_tape.json\") as f:\n",
    "    cal = json.load(f)\n",
    "matrix = np.array(cal['transform'])\n",
    "size = cal['resolution']\n",
    "print(matrix)\n",
    "print(size)\n",
    "\n",
    "m.transform = matrix\n",
    "m.img_size = size"
   ]
  },
  {
   "cell_type": "code",
   "execution_count": 24,
   "id": "b776da9a-53b3-43c1-8b0e-6e25b0691046",
   "metadata": {},
   "outputs": [],
   "source": [
    "# grab the camera, move the relevant height & position to take pic of duckweed\n",
    "m.toolChange(1)\n",
    "o = [80, 240]\n",
    "m.moveTo(x=o[0], y=o[1])\n",
    "# m.moveTo(z=60)\n",
    "# move down more based on surface height\n",
    "m.moveTo(z=65)"
   ]
  },
  {
   "cell_type": "code",
   "execution_count": 25,
   "id": "1463dbce-6778-4f18-8f46-c93754b6c0d0",
   "metadata": {},
   "outputs": [
    {
     "name": "stdout",
     "output_type": "stream",
     "text": [
      "(320, 240)\n"
     ]
    }
   ],
   "source": [
    "#focus camera\n",
    "cap = cv2.VideoCapture(0) #Note that the index corresponding to your camera may not be zero but this is the most common default\n",
    "\n",
    "# draw a circle in the center of the frame\n",
    "center = None\n",
    "while center is None:\n",
    "    # the first frame grab is sometimes empty\n",
    "    ret, frame = cap.read()\n",
    "    h, w = frame.shape[0:2]\n",
    "    center = (int(w/2), int(h/2))\n",
    "    print(center)\n",
    "\n",
    "while True:\n",
    "    ret, frame = cap.read()\n",
    "    target = cv2.circle(frame, center, 5, (0,255,0), -1)\n",
    "    cv2.imshow('Input', frame)\n",
    "    c = cv2.waitKey(1)\n",
    "    if c ==27: #27 is the built in code for ESC so press escape to close the window. \n",
    "        break \n",
    "        \n",
    "cap.release()\n",
    "cv2.destroyAllWindows()"
   ]
  },
  {
   "cell_type": "code",
   "execution_count": 26,
   "id": "3e463736-53f6-4f9b-8d2c-64b7ff83180d",
   "metadata": {},
   "outputs": [],
   "source": [
    "# take a picture, and take only green pixels:\n",
    "f = getFrame()\n",
    "showFrame(f, grid=True)\n",
    "saveFrame(f, 'petri-test.jpg')"
   ]
  },
  {
   "cell_type": "code",
   "execution_count": null,
   "id": "3af6cefc-c27d-4731-bff0-f8311d9b8e5c",
   "metadata": {},
   "outputs": [],
   "source": [
    "m = cv2.imread('petri.jpg')\n",
    "for i in range(im.shape[0]): #im.shape[0] is the y-axis\n",
    "    for j in range(im.shape[1]): #im.shape[1] is the x returns X and Y axes of the image\n",
    "        if im[i, j][0] > 0.9*im[i, j][1]:  #If more blue than green in pixel than set to black.         \n",
    "            im[i, j] = [0, 0, 0]\n",
    "        if np.array([x < 90 for x in im[i, j]]).all():\n",
    "            im[i, j] = [0, 0, 0]\n",
    "showFrame(im)"
   ]
  },
  {
   "cell_type": "code",
   "execution_count": null,
   "id": "b473d358-5120-4d7e-a942-799de8556395",
   "metadata": {},
   "outputs": [],
   "source": [
    "# now we want to pick a random green pixel-- this is the duckweed to pick up\n",
    "r = 200 # look in a 200 mm circle around the center\n",
    "px = None\n",
    "\n",
    "while px is None:\n",
    "    randx = random.randint(-r, r)\n",
    "    randy = random.randint(-r, r)\n",
    "    coord = [600 + randx, 600 + randy]\n",
    "    if im[coord[0], coord[1]][1] > 0: # if green\n",
    "        px = coord\n",
    "    else:\n",
    "        continue\n",
    "\n",
    "print(px)"
   ]
  },
  {
   "cell_type": "code",
   "execution_count": 13,
   "id": "5b5d28e4-46a7-4fc6-8356-aa9050f45cb9",
   "metadata": {},
   "outputs": [],
   "source": [
    "# convert px coord to real coord\n",
    "def px_to_real(x,y, absolute = False):\n",
    "        x = (x / m.img_size[0]) - 0.5\n",
    "        y = (y / m.img_size[1]) - 0.5\n",
    "        a = 1 if absolute else 0\n",
    "\n",
    "        return (m.transform.T @ np.array([x**2, y**2, x * y, x, y, a]))"
   ]
  },
  {
   "cell_type": "code",
   "execution_count": 28,
   "id": "a44ee44e-13a9-4960-8766-46d3788630c4",
   "metadata": {},
   "outputs": [
    {
     "name": "stdout",
     "output_type": "stream",
     "text": [
      "[(486.6255911718338, 511.5336311087757), (929.8355603933637, 630.4436228511373), (692.0155769086405, 612.426957435628), (666.7922453269273, 769.1719465505593), (951.455558891975, 832.230275504842), (520.8572554613015, 879.0736055851662), (329.8806020569025, 882.6769386682681), (618.1472487050521, 190.8369867127094)]\n"
     ]
    }
   ],
   "source": [
    "# alternatively, manually click a frond\n",
    "im = cv2.imread('petri-test.jpg')\n",
    "# px = selectPoint(im)\n",
    "pts = selectPoint(im, num_pts=12)"
   ]
  },
  {
   "cell_type": "code",
   "execution_count": 29,
   "id": "65e6871e-25e1-45f1-b802-695754b192e8",
   "metadata": {},
   "outputs": [],
   "source": [
    "# convert px coord to real coord\n",
    "def px_to_real(x,y, absolute = False):\n",
    "        x = (x / m.img_size[0]) - 0.5\n",
    "        y = (y / m.img_size[1]) - 0.5\n",
    "        a = 1 if absolute else 0\n",
    "\n",
    "        return (m.transform.T @ np.array([x**2, y**2, x * y, x, y, a]))\n",
    "\n",
    "fronds = []\n",
    "for pt in pts:\n",
    "    frond_off = px_to_real(pt[0], pt[1])\n",
    "    frond = [o[0] - frond_off[0], o[1] - frond_off[1]]\n",
    "    fronds.append(frond)"
   ]
  },
  {
   "cell_type": "code",
   "execution_count": 30,
   "id": "5c7218e1-90af-4e11-b508-984be197d2ca",
   "metadata": {},
   "outputs": [
    {
     "name": "stdout",
     "output_type": "stream",
     "text": [
      "[74.50973180356098, 247.13457282174033]\n",
      "[81.72959090991758, 219.43785515794124]\n",
      "[80.73226636693782, 234.24078707308126]\n",
      "[90.48323082498254, 235.88768262277003]\n",
      "[94.23979418048287, 218.2152336342473]\n",
      "[97.30446748575547, 245.1629590167579]\n",
      "[97.5822902940912, 257.2209332733764]\n",
      "[54.07914212185028, 239.23789861777004]\n"
     ]
    }
   ],
   "source": [
    "# print(px)\n",
    "# frond_off = px_to_real(px[0], px[1])\n",
    "# frond = [o[0] - frond_off[0], o[1] - frond_off[1]]\n",
    "# print(frond)\n",
    "for f in fronds:\n",
    "    print(f)"
   ]
  },
  {
   "cell_type": "code",
   "execution_count": 37,
   "id": "1a88d28a-c7b7-4fce-b79d-68dc223b01b8",
   "metadata": {},
   "outputs": [
    {
     "name": "stdout",
     "output_type": "stream",
     "text": [
      "10.5\n"
     ]
    }
   ],
   "source": [
    "# switch tools, account for offset\n",
    "m.toolChange(2)\n",
    "syringe_off = [-5.5, 3.3]\n",
    "surface_depth = -61.2 # z\n",
    "syringe_zero = 71.7\n",
    "print(syringe_zero + surface_depth)\n",
    "# m.move(dz=syringe_zero + surface_depth)\n",
    "# m.moveTo(m.moveTo(x=frond[0] + syringe_off[0], y=frond[1] + syringe_off[1]))"
   ]
  },
  {
   "cell_type": "code",
   "execution_count": 43,
   "id": "d90230bf-3568-4e84-9af3-0ca720797877",
   "metadata": {},
   "outputs": [
    {
     "name": "stdout",
     "output_type": "stream",
     "text": [
      "G1   Z-0.50  F6000.00\n",
      "G1   Z5.00 E50.00 F1800.00\n",
      "G1   Z10.00  F6000.00\n",
      "G1    E-50.00 F1500.00\n",
      "G1   Z-0.50  F6000.00\n",
      "G1   Z5.00 E50.00 F1800.00\n",
      "G1   Z10.00  F6000.00\n",
      "G1    E-50.00 F1500.00\n",
      "G1   Z-0.50  F6000.00\n",
      "G1   Z5.00 E50.00 F1800.00\n",
      "G1   Z10.00  F6000.00\n",
      "G1    E-50.00 F1500.00\n",
      "G1   Z-0.50  F6000.00\n",
      "G1   Z5.00 E50.00 F1800.00\n",
      "G1   Z10.00  F6000.00\n",
      "G1    E-50.00 F1500.00\n",
      "G1   Z-0.50  F6000.00\n",
      "G1   Z5.00 E50.00 F1800.00\n",
      "G1   Z10.00  F6000.00\n",
      "G1    E-50.00 F1500.00\n",
      "G1   Z-0.50  F6000.00\n",
      "G1   Z5.00 E50.00 F1800.00\n",
      "G1   Z10.00  F6000.00\n",
      "G1    E-50.00 F1500.00\n",
      "G1   Z-0.50  F6000.00\n",
      "G1   Z5.00 E50.00 F1800.00\n",
      "G1   Z10.00  F6000.00\n",
      "G1    E-50.00 F1500.00\n",
      "G1   Z-0.50  F6000.00\n",
      "G1   Z5.00 E50.00 F1800.00\n",
      "G1   Z10.00  F6000.00\n",
      "G1    E-50.00 F1500.00\n"
     ]
    }
   ],
   "source": [
    "# aspirate duckweed\n",
    "# first move to surface\n",
    "def aspirate():\n",
    "    m.moveTo(z=surface_depth)\n",
    "    m.dwell(1000)\n",
    "    m.move(dz=-0.5) # press slightly\n",
    "    m.dwell(1000)\n",
    "    m.move(dz=5, de=50, s=1800) # aspirate!\n",
    "\n",
    "def dispense():\n",
    "    m.move(dz=10)\n",
    "    m.dwell(1000)\n",
    "    m.move(de=-50, s=1500)\n",
    "    m.dwell(500)\n",
    "    \n",
    "for frond in fronds:\n",
    "    m.moveTo(m.moveTo(x=frond[0] + syringe_off[0], y=frond[1] + syringe_off[1]))\n",
    "    aspirate()\n",
    "    m.dwell(3000)\n",
    "    dispense()\n",
    "    "
   ]
  },
  {
   "cell_type": "code",
   "execution_count": 35,
   "id": "233fa7be-3f4d-41d5-9e70-06964aba0a3e",
   "metadata": {},
   "outputs": [],
   "source": [
    "# move camera over to check if it is centered\n",
    "check = 2\n",
    "m.moveTo(x=fronds[check][0], y=fronds[check][1])"
   ]
  },
  {
   "cell_type": "code",
   "execution_count": 36,
   "id": "4abbf83a-8482-4706-acd4-b51a2b339bf2",
   "metadata": {},
   "outputs": [],
   "source": [
    "showFrame(getFrame(), grid=True)"
   ]
  },
  {
   "cell_type": "code",
   "execution_count": null,
   "id": "1367f8cc-ee77-40ee-b6f7-c3d7592c5f8f",
   "metadata": {},
   "outputs": [],
   "source": [
    "m.setExtruderRelative()"
   ]
  },
  {
   "cell_type": "code",
   "execution_count": null,
   "id": "48755e4b-5eb3-47f0-a528-4bb68298adaa",
   "metadata": {},
   "outputs": [],
   "source": [
    "# set the height of the surface of the water\n",
    "# by stepping slowly in z\n",
    "surface_depth = -61.6 # z\n"
   ]
  },
  {
   "cell_type": "code",
   "execution_count": 5,
   "id": "34cec067-a0c3-4f41-9ec0-a28c47d7d9ae",
   "metadata": {},
   "outputs": [],
   "source": [
    "# set the x,y location of the center of the petri dish\n",
    "petri_location = [77, 237]"
   ]
  },
  {
   "cell_type": "code",
   "execution_count": 6,
   "id": "413b69d7-4935-485b-bf50-d65478f89950",
   "metadata": {},
   "outputs": [],
   "source": [
    "m.moveTo(x=petri_location[0], y=petri_location[1])"
   ]
  },
  {
   "cell_type": "code",
   "execution_count": null,
   "id": "29706baf-a2e5-4823-9007-5dc80fbe6c63",
   "metadata": {},
   "outputs": [],
   "source": [
    "# aspirate duckweed\n",
    "# first move to surface\n",
    "m.moveTo(z=surface_depth)\n",
    "m.dwell(1000)\n",
    "m.move(dz=-0.5) # press slightly\n",
    "m.dwell(1000)\n",
    "m.move(dz=5, de=50, s=2000) # aspirate!"
   ]
  },
  {
   "cell_type": "code",
   "execution_count": 150,
   "id": "f811f6e3-8602-4f87-93bf-9d4b79a27611",
   "metadata": {},
   "outputs": [
    {
     "name": "stdout",
     "output_type": "stream",
     "text": [
      "G1   Z5.00 E30.00 F1800.00\n"
     ]
    }
   ],
   "source": [
    "m.move(dz=5, de=30, s=1800)"
   ]
  },
  {
   "cell_type": "code",
   "execution_count": 181,
   "id": "a7f1a70b-18b3-4675-82be-e2b01600835f",
   "metadata": {},
   "outputs": [
    {
     "name": "stdout",
     "output_type": "stream",
     "text": [
      "G1    E-25.00 F1500.00\n"
     ]
    }
   ],
   "source": [
    "m.move(de=-25, s=1500)\n"
   ]
  },
  {
   "cell_type": "code",
   "execution_count": null,
   "id": "7519a2b1-77cd-43b1-8e45-7c1bbc8dc882",
   "metadata": {},
   "outputs": [],
   "source": [
    "# move to a random point to pick up duckweed\n",
    "# assumes dense petri dish\n",
    "r = 25\n",
    "rx = r * random.random()\n",
    "ry = r * random.random()\n",
    "\n",
    "# move in xy first\n",
    "m.moveTo(x=petri_location[0] + rx, y=petri_location[1] + ry)\n",
    "\n",
    "# aspirate duckweed\n",
    "# first move to surface\n",
    "m.moveTo(z=surface_depth)\n",
    "time.sleep(3) # wait a bit\n",
    "m.move(dz=-1) # press slightly\n",
    "time.sleep(3) # wait a bit\n",
    "m.move(dz=5, de=20, s=2000) # aspirate!"
   ]
  },
  {
   "cell_type": "code",
   "execution_count": null,
   "id": "b3d6ca8a-86d5-4401-9d7d-2ccb6967d5e2",
   "metadata": {},
   "outputs": [],
   "source": [
    "# dipense\n",
    "m.move(dz=8)\n",
    "m.move(de=-20, s=1500)"
   ]
  },
  {
   "cell_type": "code",
   "execution_count": 65,
   "id": "77db84f0-0bdc-4a69-a322-00d59ba90fe2",
   "metadata": {},
   "outputs": [
    {
     "name": "stdout",
     "output_type": "stream",
     "text": [
      "G1   Z-5.00 E30.00 F1800.00\n"
     ]
    }
   ],
   "source": [
    "m.setExtruderRelative()\n",
    "m.move(dz=-5, de=30, s=1800) # aspirate!"
   ]
  },
  {
   "cell_type": "code",
   "execution_count": 67,
   "id": "ba0d46e2-dc2f-459c-9418-02535f3735e1",
   "metadata": {},
   "outputs": [
    {
     "name": "stdout",
     "output_type": "stream",
     "text": [
      "G1    E-50.00 F1000.00\n"
     ]
    }
   ],
   "source": [
    "m.move(de=-50, s=1000) # aspirate!"
   ]
  },
  {
   "cell_type": "code",
   "execution_count": 46,
   "id": "3e52d8f6-2fb8-4c64-93af-2adf884c45b3",
   "metadata": {},
   "outputs": [
    {
     "name": "stdout",
     "output_type": "stream",
     "text": [
      "G1    E10.00 F1000.00\n"
     ]
    }
   ],
   "source": [
    "m.move(de=10, s=1000)"
   ]
  },
  {
   "cell_type": "code",
   "execution_count": null,
   "id": "baf6b221-758a-4565-bc11-feccfc459781",
   "metadata": {},
   "outputs": [],
   "source": [
    "# without random movement\n",
    "# aspirate duckweed\n",
    "# first move to surface\n",
    "m.moveTo(z=surface_depth)\n",
    "time.sleep(5) # wait a bit\n",
    "m.move(dz=-0.75) # press slightly\n",
    "time.sleep(0.75) # wait a bit\n",
    "m.move(dz=10, de=20, s=2000) # aspirate!"
   ]
  },
  {
   "cell_type": "code",
   "execution_count": 42,
   "id": "7ae3d5fe-6267-4214-98a3-3b516d943c62",
   "metadata": {},
   "outputs": [
    {
     "name": "stdout",
     "output_type": "stream",
     "text": [
      "G1    E25.00 F1800.00\n"
     ]
    }
   ],
   "source": [
    "m.move(de=25, s=1800)"
   ]
  },
  {
   "cell_type": "code",
   "execution_count": 23,
   "id": "3df6a081-2446-4ee3-96ac-5eda5c18b18b",
   "metadata": {},
   "outputs": [
    {
     "name": "stdout",
     "output_type": "stream",
     "text": [
      "G1   Z-0.50  F6000.00\n",
      "G1   Z5.00 E50.00 F1800.00\n",
      "G1    E-50.00 F2000.00\n",
      "G1   Z-0.50  F6000.00\n",
      "G1   Z5.00 E50.00 F1800.00\n",
      "G1    E-50.00 F2000.00\n",
      "G1   Z-0.50  F6000.00\n",
      "G1   Z5.00 E50.00 F1800.00\n",
      "G1    E-50.00 F2000.00\n",
      "G1   Z-0.50  F6000.00\n",
      "G1   Z5.00 E50.00 F1800.00\n",
      "G1    E-50.00 F2000.00\n",
      "G1   Z-0.50  F6000.00\n",
      "G1   Z5.00 E50.00 F1800.00\n",
      "G1    E-50.00 F2000.00\n",
      "G1   Z-0.50  F6000.00\n",
      "G1   Z5.00 E50.00 F1800.00\n",
      "G1    E-50.00 F2000.00\n",
      "G1   Z-0.50  F6000.00\n",
      "G1   Z5.00 E50.00 F1800.00\n",
      "G1    E-50.00 F2000.00\n"
     ]
    },
    {
     "ename": "KeyboardInterrupt",
     "evalue": "",
     "output_type": "error",
     "traceback": [
      "\u001b[0;31m---------------------------------------------------------------------------\u001b[0m",
      "\u001b[0;31mKeyboardInterrupt\u001b[0m                         Traceback (most recent call last)",
      "\u001b[0;32m/tmp/ipykernel_1496/3270385212.py\u001b[0m in \u001b[0;36m<module>\u001b[0;34m\u001b[0m\n\u001b[1;32m     17\u001b[0m \u001b[0;32mfor\u001b[0m \u001b[0mfrond\u001b[0m \u001b[0;32min\u001b[0m \u001b[0mfronds\u001b[0m\u001b[0;34m:\u001b[0m\u001b[0;34m\u001b[0m\u001b[0;34m\u001b[0m\u001b[0m\n\u001b[1;32m     18\u001b[0m     \u001b[0mm\u001b[0m\u001b[0;34m.\u001b[0m\u001b[0mmoveTo\u001b[0m\u001b[0;34m(\u001b[0m\u001b[0mm\u001b[0m\u001b[0;34m.\u001b[0m\u001b[0mmoveTo\u001b[0m\u001b[0;34m(\u001b[0m\u001b[0mx\u001b[0m\u001b[0;34m=\u001b[0m\u001b[0mfrond\u001b[0m\u001b[0;34m[\u001b[0m\u001b[0;36m0\u001b[0m\u001b[0;34m]\u001b[0m \u001b[0;34m+\u001b[0m \u001b[0msyringe_off\u001b[0m\u001b[0;34m[\u001b[0m\u001b[0;36m0\u001b[0m\u001b[0;34m]\u001b[0m\u001b[0;34m,\u001b[0m \u001b[0my\u001b[0m\u001b[0;34m=\u001b[0m\u001b[0mfrond\u001b[0m\u001b[0;34m[\u001b[0m\u001b[0;36m1\u001b[0m\u001b[0;34m]\u001b[0m \u001b[0;34m+\u001b[0m \u001b[0msyringe_off\u001b[0m\u001b[0;34m[\u001b[0m\u001b[0;36m1\u001b[0m\u001b[0;34m]\u001b[0m\u001b[0;34m)\u001b[0m\u001b[0;34m)\u001b[0m\u001b[0;34m\u001b[0m\u001b[0;34m\u001b[0m\u001b[0m\n\u001b[0;32m---> 19\u001b[0;31m     \u001b[0maspirate\u001b[0m\u001b[0;34m(\u001b[0m\u001b[0;34m)\u001b[0m\u001b[0;34m\u001b[0m\u001b[0;34m\u001b[0m\u001b[0m\n\u001b[0m\u001b[1;32m     20\u001b[0m     \u001b[0mm\u001b[0m\u001b[0;34m.\u001b[0m\u001b[0mdwell\u001b[0m\u001b[0;34m(\u001b[0m\u001b[0;36m3000\u001b[0m\u001b[0;34m)\u001b[0m\u001b[0;34m\u001b[0m\u001b[0;34m\u001b[0m\u001b[0m\n\u001b[1;32m     21\u001b[0m     \u001b[0mdispense\u001b[0m\u001b[0;34m(\u001b[0m\u001b[0;34m)\u001b[0m\u001b[0;34m\u001b[0m\u001b[0;34m\u001b[0m\u001b[0m\n",
      "\u001b[0;32m/tmp/ipykernel_1496/3270385212.py\u001b[0m in \u001b[0;36maspirate\u001b[0;34m()\u001b[0m\n\u001b[1;32m      4\u001b[0m \u001b[0;32mdef\u001b[0m \u001b[0maspirate\u001b[0m\u001b[0;34m(\u001b[0m\u001b[0;34m)\u001b[0m\u001b[0;34m:\u001b[0m\u001b[0;34m\u001b[0m\u001b[0;34m\u001b[0m\u001b[0m\n\u001b[1;32m      5\u001b[0m     \u001b[0;31m# m.moveTo(z=surface_depth)\u001b[0m\u001b[0;34m\u001b[0m\u001b[0;34m\u001b[0m\u001b[0;34m\u001b[0m\u001b[0m\n\u001b[0;32m----> 6\u001b[0;31m     \u001b[0mm\u001b[0m\u001b[0;34m.\u001b[0m\u001b[0mdwell\u001b[0m\u001b[0;34m(\u001b[0m\u001b[0;36m1000\u001b[0m\u001b[0;34m)\u001b[0m\u001b[0;34m\u001b[0m\u001b[0;34m\u001b[0m\u001b[0m\n\u001b[0m\u001b[1;32m      7\u001b[0m     \u001b[0mm\u001b[0m\u001b[0;34m.\u001b[0m\u001b[0mmove\u001b[0m\u001b[0;34m(\u001b[0m\u001b[0mdz\u001b[0m\u001b[0;34m=\u001b[0m\u001b[0;34m-\u001b[0m\u001b[0;36m0.5\u001b[0m\u001b[0;34m)\u001b[0m \u001b[0;31m# press slightly\u001b[0m\u001b[0;34m\u001b[0m\u001b[0;34m\u001b[0m\u001b[0m\n\u001b[1;32m      8\u001b[0m     \u001b[0mm\u001b[0m\u001b[0;34m.\u001b[0m\u001b[0mdwell\u001b[0m\u001b[0;34m(\u001b[0m\u001b[0;36m1000\u001b[0m\u001b[0;34m)\u001b[0m\u001b[0;34m\u001b[0m\u001b[0;34m\u001b[0m\u001b[0m\n",
      "\u001b[0;32m~/duckbot/notebooks/utils/MachineUtils.py\u001b[0m in \u001b[0;36mdwell\u001b[0;34m(self, t, millis)\u001b[0m\n\u001b[1;32m    114\u001b[0m         \u001b[0mcmd\u001b[0m \u001b[0;34m=\u001b[0m \u001b[0;34mf\"G4 {param}{t}\"\u001b[0m\u001b[0;34m\u001b[0m\u001b[0;34m\u001b[0m\u001b[0m\n\u001b[1;32m    115\u001b[0m \u001b[0;34m\u001b[0m\u001b[0m\n\u001b[0;32m--> 116\u001b[0;31m         \u001b[0mself\u001b[0m\u001b[0;34m.\u001b[0m\u001b[0msend\u001b[0m\u001b[0;34m(\u001b[0m\u001b[0mcmd\u001b[0m\u001b[0;34m)\u001b[0m\u001b[0;34m\u001b[0m\u001b[0;34m\u001b[0m\u001b[0m\n\u001b[0m\u001b[1;32m    117\u001b[0m \u001b[0;34m\u001b[0m\u001b[0m\n\u001b[1;32m    118\u001b[0m \u001b[0;34m\u001b[0m\u001b[0m\n",
      "\u001b[0;32m~/duckbot/notebooks/utils/MachineUtils.py\u001b[0m in \u001b[0;36msend\u001b[0;34m(self, cmd)\u001b[0m\n\u001b[1;32m     20\u001b[0m         \u001b[0mcmd\u001b[0m \u001b[0;34m+=\u001b[0m \u001b[0mself\u001b[0m\u001b[0;34m.\u001b[0m\u001b[0mlineEnding\u001b[0m\u001b[0;34m\u001b[0m\u001b[0;34m\u001b[0m\u001b[0m\n\u001b[1;32m     21\u001b[0m         \u001b[0mbcmd\u001b[0m \u001b[0;34m=\u001b[0m \u001b[0mcmd\u001b[0m\u001b[0;34m.\u001b[0m\u001b[0mencode\u001b[0m\u001b[0;34m(\u001b[0m\u001b[0;34m'UTF-8'\u001b[0m\u001b[0;34m)\u001b[0m\u001b[0;34m\u001b[0m\u001b[0;34m\u001b[0m\u001b[0m\n\u001b[0;32m---> 22\u001b[0;31m         \u001b[0mself\u001b[0m\u001b[0;34m.\u001b[0m\u001b[0mser\u001b[0m\u001b[0;34m.\u001b[0m\u001b[0mwrite\u001b[0m\u001b[0;34m(\u001b[0m\u001b[0mbcmd\u001b[0m\u001b[0;34m)\u001b[0m\u001b[0;34m\u001b[0m\u001b[0;34m\u001b[0m\u001b[0m\n\u001b[0m\u001b[1;32m     23\u001b[0m \u001b[0;34m\u001b[0m\u001b[0m\n\u001b[1;32m     24\u001b[0m \u001b[0;34m\u001b[0m\u001b[0m\n",
      "\u001b[0;32m~/duckbot/.venv/lib/python3.7/site-packages/serial/serialposix.py\u001b[0m in \u001b[0;36mwrite\u001b[0;34m(self, data)\u001b[0m\n\u001b[1;32m    638\u001b[0m                     \u001b[0;32massert\u001b[0m \u001b[0mtimeout\u001b[0m\u001b[0;34m.\u001b[0m\u001b[0mtime_left\u001b[0m\u001b[0;34m(\u001b[0m\u001b[0;34m)\u001b[0m \u001b[0;32mis\u001b[0m \u001b[0;32mNone\u001b[0m\u001b[0;34m\u001b[0m\u001b[0;34m\u001b[0m\u001b[0m\n\u001b[1;32m    639\u001b[0m                     \u001b[0;31m# wait for write operation\u001b[0m\u001b[0;34m\u001b[0m\u001b[0;34m\u001b[0m\u001b[0;34m\u001b[0m\u001b[0m\n\u001b[0;32m--> 640\u001b[0;31m                     \u001b[0mabort\u001b[0m\u001b[0;34m,\u001b[0m \u001b[0mready\u001b[0m\u001b[0;34m,\u001b[0m \u001b[0m_\u001b[0m \u001b[0;34m=\u001b[0m \u001b[0mselect\u001b[0m\u001b[0;34m.\u001b[0m\u001b[0mselect\u001b[0m\u001b[0;34m(\u001b[0m\u001b[0;34m[\u001b[0m\u001b[0mself\u001b[0m\u001b[0;34m.\u001b[0m\u001b[0mpipe_abort_write_r\u001b[0m\u001b[0;34m]\u001b[0m\u001b[0;34m,\u001b[0m \u001b[0;34m[\u001b[0m\u001b[0mself\u001b[0m\u001b[0;34m.\u001b[0m\u001b[0mfd\u001b[0m\u001b[0;34m]\u001b[0m\u001b[0;34m,\u001b[0m \u001b[0;34m[\u001b[0m\u001b[0;34m]\u001b[0m\u001b[0;34m,\u001b[0m \u001b[0;32mNone\u001b[0m\u001b[0;34m)\u001b[0m\u001b[0;34m\u001b[0m\u001b[0;34m\u001b[0m\u001b[0m\n\u001b[0m\u001b[1;32m    641\u001b[0m                     \u001b[0;32mif\u001b[0m \u001b[0mabort\u001b[0m\u001b[0;34m:\u001b[0m\u001b[0;34m\u001b[0m\u001b[0;34m\u001b[0m\u001b[0m\n\u001b[1;32m    642\u001b[0m                         \u001b[0mos\u001b[0m\u001b[0;34m.\u001b[0m\u001b[0mread\u001b[0m\u001b[0;34m(\u001b[0m\u001b[0mself\u001b[0m\u001b[0;34m.\u001b[0m\u001b[0mpipe_abort_write_r\u001b[0m\u001b[0;34m,\u001b[0m \u001b[0;36m1\u001b[0m\u001b[0;34m)\u001b[0m\u001b[0;34m\u001b[0m\u001b[0;34m\u001b[0m\u001b[0m\n",
      "\u001b[0;31mKeyboardInterrupt\u001b[0m: "
     ]
    }
   ],
   "source": [
    "# debug syringe\n",
    "# aspirate duckweed\n",
    "# first move to surface\n",
    "def aspirate():\n",
    "    # m.moveTo(z=surface_depth)\n",
    "    m.dwell(1000)\n",
    "    m.move(dz=-0.5) # press slightly\n",
    "    m.dwell(1000)\n",
    "    m.move(dz=5, de=50, s=1800) # aspirate!\n",
    "\n",
    "def dispense():\n",
    "    # m.move(dz=10)\n",
    "    m.dwell(500)\n",
    "    m.move(de=-50, s=2000)\n",
    "    m.dwell(500)\n",
    "    \n",
    "for frond in fronds:\n",
    "    m.moveTo(m.moveTo(x=frond[0] + syringe_off[0], y=frond[1] + syringe_off[1]))\n",
    "    aspirate()\n",
    "    m.dwell(3000)\n",
    "    dispense()"
   ]
  },
  {
   "cell_type": "code",
   "execution_count": 7,
   "id": "eecef678-6c1c-4fa8-b1bf-db105cf72125",
   "metadata": {},
   "outputs": [],
   "source": [
    "o = [77, 200]"
   ]
  },
  {
   "cell_type": "code",
   "execution_count": 21,
   "id": "e38bd834",
   "metadata": {},
   "outputs": [],
   "source": [
    "surface_depth = -26.3"
   ]
  },
  {
   "cell_type": "code",
   "execution_count": 37,
   "id": "a0925309",
   "metadata": {},
   "outputs": [
    {
     "name": "stdout",
     "output_type": "stream",
     "text": [
      "G1   Z-0.50  F6000.00\n",
      "G1    E20.00 F2000.00\n",
      "G1   Z5.00  F500.00\n",
      "G1    E-20.00 F2000.00\n",
      "G1   Z-0.50  F6000.00\n",
      "G1    E20.00 F2000.00\n",
      "G1   Z5.00  F500.00\n",
      "G1    E-20.00 F2000.00\n",
      "G1   Z-0.50  F6000.00\n",
      "G1    E20.00 F2000.00\n",
      "G1   Z5.00  F500.00\n",
      "G1    E-20.00 F2000.00\n",
      "G1   Z-0.50  F6000.00\n",
      "G1    E20.00 F2000.00\n",
      "G1   Z5.00  F500.00\n",
      "G1    E-20.00 F2000.00\n",
      "G1   Z-0.50  F6000.00\n",
      "G1    E20.00 F2000.00\n",
      "G1   Z5.00  F500.00\n",
      "G1    E-20.00 F2000.00\n",
      "G1   Z-0.50  F6000.00\n",
      "G1    E20.00 F2000.00\n",
      "G1   Z5.00  F500.00\n",
      "G1    E-20.00 F2000.00\n",
      "G1   Z-0.50  F6000.00\n",
      "G1    E20.00 F2000.00\n",
      "G1   Z5.00  F500.00\n",
      "G1    E-20.00 F2000.00\n",
      "G1   Z-0.50  F6000.00\n",
      "G1    E20.00 F2000.00\n",
      "G1   Z5.00  F500.00\n",
      "G1    E-20.00 F2000.00\n",
      "G1   Z-0.50  F6000.00\n",
      "G1    E20.00 F2000.00\n",
      "G1   Z5.00  F500.00\n",
      "G1    E-20.00 F2000.00\n",
      "G1   Z-0.50  F6000.00\n",
      "G1    E20.00 F2000.00\n",
      "G1   Z5.00  F500.00\n",
      "G1    E-20.00 F2000.00\n"
     ]
    }
   ],
   "source": [
    "# move to a random point to pick up duckweed\n",
    "# assumes dense petri dish\n",
    "for i in range(10):\n",
    "    r = 10\n",
    "    rx = random.randint(-r, r)\n",
    "    ry = random.randint(-r, r)\n",
    "\n",
    "    # move in xy first\n",
    "    m.moveTo(x=o[0] + rx, y=o[1] + ry)\n",
    "\n",
    "    # aspirate duckweed\n",
    "    # first move to surface\n",
    "    m.moveTo(z=surface_depth)\n",
    "    m.dwell(1000) # wait a bit\n",
    "    m.move(dz=-0.5) # press slightly\n",
    "    m.dwell(1000)\n",
    "    m.move(de=20, s=2000) # aspirate!\n",
    "    m.move(dz=5, s=500) # aspirate!\n",
    "\n",
    "    m.dwell(1000)\n",
    "    m.move(de=-20, s=2000) # dispense\n",
    "\n",
    "# m.move(dz=5, de=20, s=2000) # aspirate!"
   ]
  },
  {
   "cell_type": "code",
   "execution_count": 36,
   "id": "881a254e",
   "metadata": {},
   "outputs": [
    {
     "name": "stdout",
     "output_type": "stream",
     "text": [
      "G1    E-20.00 F2000.00\n"
     ]
    }
   ],
   "source": [
    "m.move(de=-20, s=2000) # dispense"
   ]
  },
  {
   "cell_type": "code",
   "execution_count": null,
   "id": "68ad603d",
   "metadata": {},
   "outputs": [],
   "source": []
  }
 ],
 "metadata": {
  "kernelspec": {
   "display_name": "Python 3 (ipykernel)",
   "language": "python",
   "name": "python3"
  },
  "language_info": {
   "codemirror_mode": {
    "name": "ipython",
    "version": 3
   },
   "file_extension": ".py",
   "mimetype": "text/x-python",
   "name": "python",
   "nbconvert_exporter": "python",
   "pygments_lexer": "ipython3",
   "version": "3.7.3"
  }
 },
 "nbformat": 4,
 "nbformat_minor": 5
}
