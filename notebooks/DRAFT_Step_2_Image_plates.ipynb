{
 "cells": [
  {
   "cell_type": "markdown",
   "id": "b50e21ab",
   "metadata": {},
   "source": [
    "# Image plates of duckweed in growth assay experiment"
   ]
  },
  {
   "cell_type": "markdown",
   "id": "3432466a",
   "metadata": {},
   "source": [
    "Ensure the following before running anything in this notebook:\n",
    " - The machine is switched on, connected to the computer and all axes have been homed. \n",
    " - The camera tool is accessible and in position 1 on the Jubilee\n",
    " \n",
    " Once those steps are complete run the cells in this notebook in order"
   ]
  },
  {
   "cell_type": "code",
   "execution_count": 15,
   "id": "85622224",
   "metadata": {},
   "outputs": [],
   "source": [
    "#Importing python libraries downloaded from the internet and those saved locally\n",
    "\n",
    "import yaml\n",
    "import matplotlib\n",
    "matplotlib.use('TkAgg') \n",
    "from matplotlib import pyplot as plt\n",
    "import numpy as np\n",
    "import os\n",
    "import pandas as pd\n",
    "import json\n",
    "import threading\n",
    "from datetime import date\n",
    "import ipywidgets as widgets\n",
    "import utils.PlatePositionUtils as pp \n"
   ]
  },
  {
   "cell_type": "code",
   "execution_count": null,
   "id": "efcf631a",
   "metadata": {},
   "outputs": [],
   "source": [
    "#This cell will only run if you are working at a computer connected to the Jubilee\n",
    "\n",
    "from utils.MachineUtils import * \n",
    "from utils.CameraUtils import * #Note that this library requirs a package that can only be installed on raspbery pi. \n",
    "import utils.ImageCaptureUtils as im"
   ]
  },
  {
   "cell_type": "code",
   "execution_count": 10,
   "id": "bf43367f",
   "metadata": {},
   "outputs": [],
   "source": [
    "port = '/dev/ttyACM0'\n",
    "m = MachineCommunication(port)\n",
    "m.toolChange(1)"
   ]
  },
  {
   "cell_type": "markdown",
   "id": "8a731fd0",
   "metadata": {},
   "source": [
    "## 1. Select config files and directory for image data"
   ]
  },
  {
   "cell_type": "markdown",
   "id": "5e8d5cfd",
   "metadata": {},
   "source": [
    "### Select config file location"
   ]
  },
  {
   "cell_type": "code",
   "execution_count": 16,
   "id": "f56d2d14",
   "metadata": {},
   "outputs": [
    {
     "data": {
      "application/vnd.jupyter.widget-view+json": {
       "model_id": "3f071801bf96430fb77ae95232e6d283",
       "version_major": 2,
       "version_minor": 0
      },
      "text/plain": [
       "Dropdown(options=('/Users/Orlando/Documents/Github_clones/duckbot/ConfigFiles', '/home/pi/Documents/Data/Confi…"
      ]
     },
     "metadata": {},
     "output_type": "display_data"
    }
   ],
   "source": [
    "config_file_dirs = ['/Users/Orlando/Documents/Github_clones/duckbot/ConfigFiles', \n",
    "                     \"/home/pi/Documents/Data/ConfigFiles\"]\n",
    "\n",
    "config_dir_opts = config_file_dirs\n",
    "dir_choice = widgets.Dropdown(options = config_dir_opts)\n",
    "display(dir_choice)"
   ]
  },
  {
   "cell_type": "code",
   "execution_count": 17,
   "id": "1d31da4d",
   "metadata": {},
   "outputs": [],
   "source": [
    "expt_config_file_dir = os.path.join(dir_choice.value,'ExptConfigs')"
   ]
  },
  {
   "cell_type": "markdown",
   "id": "9ef8ee55",
   "metadata": {},
   "source": [
    "### Select config file\n",
    "Select the config file that matches the experiment you are collecting data for"
   ]
  },
  {
   "cell_type": "code",
   "execution_count": 22,
   "id": "b968a28c",
   "metadata": {},
   "outputs": [
    {
     "data": {
      "application/vnd.jupyter.widget-view+json": {
       "model_id": "af928fca9ebe4f07bdde7c7015700cab",
       "version_major": 2,
       "version_minor": 0
      },
      "text/plain": [
       "Dropdown(options=('Test_082422.json', 'Expt_082222.json', 'Test_expt.json', '.ipynb_checkpoints', 'Test_082422…"
      ]
     },
     "metadata": {},
     "output_type": "display_data"
    }
   ],
   "source": [
    "os.chdir(expt_config_file_dir)\n",
    "config_opts = os.listdir(os.getcwd())\n",
    "expt_choice = widgets.Dropdown(options = config_opts)\n",
    "display(expt_choice)"
   ]
  },
  {
   "cell_type": "code",
   "execution_count": 23,
   "id": "5e41d8db",
   "metadata": {},
   "outputs": [
    {
     "name": "stdout",
     "output_type": "stream",
     "text": [
      "You selected:\n",
      "Test_082422.json\n",
      "If this is not correct re-select before continuing\n"
     ]
    }
   ],
   "source": [
    "print(\"You selected:\")\n",
    "print(expt_choice.value)\n",
    "print(\"If this is not correct re-select before continuing\")"
   ]
  },
  {
   "cell_type": "code",
   "execution_count": 24,
   "id": "abe3ed8a",
   "metadata": {},
   "outputs": [],
   "source": [
    "expt_setup_filepath = config_file_dir + '/' + expt_choice.value"
   ]
  },
  {
   "cell_type": "code",
   "execution_count": 26,
   "id": "63561397",
   "metadata": {},
   "outputs": [],
   "source": [
    "with open(expt_setup_filepath,'r') as datafile:\n",
    "    expt_data = json.load(datafile)\n",
    "\n",
    "#Host directory that you want to host the folder with your image files. End with forward slash\n",
    "output_data_dir_opts = expt_data[\"Experimental_data_directories\"]\n",
    "sample_data_dict = expt_data[\"sample_info\"]\n",
    "expt_name = expt_data[\"Experiment_name\"]"
   ]
  },
  {
   "cell_type": "code",
   "execution_count": 28,
   "id": "3e83ee01",
   "metadata": {},
   "outputs": [
    {
     "data": {
      "application/vnd.jupyter.widget-view+json": {
       "model_id": "a06aa9619afa4189abbee09365f05d23",
       "version_major": 2,
       "version_minor": 0
      },
      "text/plain": [
       "Dropdown(options=('/Users/Orlando/Documents/Github_clones/duckbot/test_data/Test_082422', '/home/pi/Documents/…"
      ]
     },
     "metadata": {},
     "output_type": "display_data"
    }
   ],
   "source": [
    "data_dir_choice = widgets.Dropdown(options = output_data_dir_opts)\n",
    "data_dir_choice.observe( handler = None, names='value')\n",
    "display(data_dir_choice)"
   ]
  },
  {
   "cell_type": "code",
   "execution_count": 29,
   "id": "ae38fea7",
   "metadata": {},
   "outputs": [],
   "source": [
    "Experimental_data_host_directory = data_dir_choice.value"
   ]
  },
  {
   "cell_type": "code",
   "execution_count": 31,
   "id": "24ea43ee",
   "metadata": {},
   "outputs": [],
   "source": [
    "if not os.path.exists(Experimental_data_host_directory):\n",
    "    print(\"This path does not exist. Please correct or create required folders and then re-run this cell\")\n",
    "    print(Experimental_data_host_directory)\n",
    "\n",
    "if os.path.exists(Experimental_data_host_directory):\n",
    "    data_dir = os.path.join(Experimental_data_host_directory, expt_name)\n",
    "    if not os.path.exists(data_dir):\n",
    "        os.mkdir(data_dir) "
   ]
  },
  {
   "cell_type": "markdown",
   "id": "5fa41c5b",
   "metadata": {},
   "source": [
    "## 2. Load plates into machine"
   ]
  },
  {
   "cell_type": "code",
   "execution_count": 16,
   "id": "bf3dedb1-3e7d-4b60-8daf-853621474f84",
   "metadata": {},
   "outputs": [
    {
     "name": "stdout",
     "output_type": "stream",
     "text": [
      "Load the following experimental plates into the appropriate positions on the bed: ['1', '2', '3']\n",
      "Add plates to the bed. Hit any button to confirm and proceed\n",
      "y\n"
     ]
    },
    {
     "data": {
      "text/plain": [
       "'y'"
      ]
     },
     "execution_count": 16,
     "metadata": {},
     "output_type": "execute_result"
    }
   ],
   "source": [
    "#Drop bed down and add plates\n",
    "plates_to_image = im.pull_plates_to_image(expt_setup_filepath)\n",
    "\n",
    "m.moveTo(z=100)\n",
    "\n",
    "print(f'Load the following experimental plates into the appropriate positions on the bed: {plates_to_image}')\n",
    "print(\"Add plates to the bed. Hit any button to confirm and proceed\")\n",
    "input()"
   ]
  },
  {
   "cell_type": "markdown",
   "id": "b28a6469",
   "metadata": {},
   "source": [
    "## 3. Focus camera\n",
    "Run the cells below. It will move the camera over the first well of the first plate and then pop up a live camera window. Manually adjust the focus to the desired point by twisting the housing of the camera lens. You will need to loosen the nut that holds the lens in place to be able to adjust the focus and then tighten it again once you are done. Then hit the escape key to close the window"
   ]
  },
  {
   "cell_type": "code",
   "execution_count": 17,
   "id": "fbf3abb4-1b64-4746-bf21-c305afbf28aa",
   "metadata": {},
   "outputs": [],
   "source": [
    "#Move camera over first well to be imaged\n",
    "im.move_to_first_well(m, plates_to_image)"
   ]
  },
  {
   "cell_type": "code",
   "execution_count": 18,
   "id": "feba91f2-f131-4e86-adf6-7d32d270948a",
   "metadata": {},
   "outputs": [],
   "source": [
    "#Open a live video window\n",
    "cap = cv2.VideoCapture(0) #Note that the index corresponding to your camera may not be zero but this is the most common default\n",
    "\n",
    "while True:\n",
    "    ret, frame = cap.read()\n",
    "    cv2.imshow('Input', frame)\n",
    "    c = cv2.waitKey(1)\n",
    "    if c ==27: #27 is the built in code for ESC so press escape to close the window. \n",
    "        break \n",
    "        \n",
    "cap.release()\n",
    "\n",
    "cv2.destroyAllWindows()"
   ]
  },
  {
   "cell_type": "markdown",
   "id": "5517b096",
   "metadata": {},
   "source": [
    "## 4. Capture and save images"
   ]
  },
  {
   "cell_type": "code",
   "execution_count": 32,
   "id": "9eb324b2",
   "metadata": {},
   "outputs": [],
   "source": [
    "%matplotlib inline\n",
    "\n",
    "df_with_well_coords = pp.add_well_coords_to_df_from_sample_data_dict(sample_data_dict)\n",
    "\n",
    "im.image_plates(m, df_with_well_coords, output_data_dir, expt_name)\n",
    "\n",
    "plates = list(np.unique(df_with_well_coords['Plate']))\n",
    "plates = [int(x[-1]) for x in plates]\n",
    "\n",
    "im.create_plate_image_grid(df_with_well_coords, output_data_dir)"
   ]
  },
  {
   "cell_type": "code",
   "execution_count": 8,
   "id": "26f3723b-ac55-4bde-a3b9-8f86b694d2a0",
   "metadata": {},
   "outputs": [
    {
     "name": "stdout",
     "output_type": "stream",
     "text": [
      "Please remove plates from machine then hit any key to continue\n",
      "h\n"
     ]
    },
    {
     "data": {
      "text/plain": [
       "'h'"
      ]
     },
     "execution_count": 8,
     "metadata": {},
     "output_type": "execute_result"
    }
   ],
   "source": [
    "m.moveTo(z=100)\n",
    "print(\"Please remove plates from machine then hit any key to continue\")\n",
    "input()"
   ]
  }
 ],
 "metadata": {
  "kernelspec": {
   "display_name": "Python 3 (ipykernel)",
   "language": "python",
   "name": "python3"
  },
  "language_info": {
   "codemirror_mode": {
    "name": "ipython",
    "version": 3
   },
   "file_extension": ".py",
   "mimetype": "text/x-python",
   "name": "python",
   "nbconvert_exporter": "python",
   "pygments_lexer": "ipython3",
   "version": "3.9.13"
  }
 },
 "nbformat": 4,
 "nbformat_minor": 5
}
