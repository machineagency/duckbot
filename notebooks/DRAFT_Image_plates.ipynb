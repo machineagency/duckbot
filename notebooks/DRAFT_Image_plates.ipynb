{
 "cells": [
  {
   "cell_type": "markdown",
   "id": "23c1a4a9",
   "metadata": {},
   "source": [
    "### Step 1: Define directories and specify plates to image\n",
    "Ensure the following before running anything in this notebook:\n",
    " - Plates with duckweed are loaded in the correct positions on the bedplate\n",
    " - The machine is switched on, connected to the computer and all axes have been homed. \n",
    " - The camera tool is accessible and in position 1 on the Jubilee"
   ]
  },
  {
   "cell_type": "code",
   "execution_count": 25,
   "id": "63561397",
   "metadata": {},
   "outputs": [
    {
     "name": "stdout",
     "output_type": "stream",
     "text": [
      "/home/pi/Documents/Data/Test_expt\n"
     ]
    }
   ],
   "source": [
    "#Define directory to save image data for this experiment\n",
    "data_dir = '/home/pi/Documents/Data'\n",
    "expt_dir = data_dir + '/Test_expt'\n",
    "expt_id = \"test\"\n",
    "print(expt_dir)"
   ]
  },
  {
   "cell_type": "code",
   "execution_count": null,
   "id": "edd971e8",
   "metadata": {},
   "outputs": [],
   "source": [
    "#Which plates do you want to image (numbers correspond to positions on bedplate. Options: 1,2,3,4,5)\n",
    "plates_to_image = [1]"
   ]
  },
  {
   "cell_type": "markdown",
   "id": "ad3d2c1a",
   "metadata": {},
   "source": [
    "### Step 2: Run these cells to import required packages and define methods"
   ]
  },
  {
   "cell_type": "code",
   "execution_count": 31,
   "id": "85622224",
   "metadata": {},
   "outputs": [],
   "source": [
    "import serial \n",
    "from serial.tools import list_ports\n",
    "import yaml\n",
    "import matplotlib\n",
    "matplotlib.use('TkAgg') #This is a specific back end of matplotlib \n",
    "from matplotlib import pyplot as plt\n",
    "import numpy as np\n",
    "import os\n",
    "import cv2\n",
    "import time\n",
    "import glob\n",
    "import json\n",
    "import datetime\n",
    "from datetime import date\n",
    "from MachineUtils import *\n",
    "from CameraUtils import *\n",
    "import Plate_positions as pp\n"
   ]
  },
  {
   "cell_type": "code",
   "execution_count": 32,
   "id": "4ad3898f",
   "metadata": {},
   "outputs": [],
   "source": [
    "def move_across_platewells(well_coord_list_of_dicts):\n",
    "    for i, well in enumerate(well_coord_list_of_dicts):\n",
    "        m.moveTo(x=well[\"x\"], y=well[\"y\"], z=10)\n",
    "        ser.write(b'G4 P1000') \n",
    "\n",
    "def image_plate(plate_num):\n",
    "    well_coord_list_of_dicts = pp.fetch_plate_wellpostions(plate_num)\n",
    "    for i, well in enumerate(well_coord_list_of_dicts):\n",
    "        m.moveTo(x=well[\"x\"], y=well[\"y\"], z=10)\n",
    "#         wellFrame, wellData = getSingleWell(getFrame(), minR=330, maxR=335) #Adjust focus\n",
    "#         well = wellData[0]\n",
    "#         print(well)\n",
    "        f = getFrame()\n",
    "        cv2.imwrite(f'{expt_dir}/{expt_id}_plate{plate_num}_well{well[\"well_id\"]}_{date.today()}.jpg', f)"
   ]
  },
  {
   "cell_type": "code",
   "execution_count": 4,
   "id": "bf43367f",
   "metadata": {},
   "outputs": [
    {
     "name": "stdout",
     "output_type": "stream",
     "text": [
      "['ttyACM0', 'ttyAMA0']\n"
     ]
    }
   ],
   "source": [
    "ports = serial.tools.list_ports.comports()\n",
    "ser = serial.Serial('/dev/ttyACM0', 115200) #Port address and Baudrate (info transfer rate)\n",
    "port = '/dev/ttyACM0'\n",
    "m = MachineCommunication(port)\n",
    "ser.write(b'G90\\n') #Command to make sure the Jubilee is using absolute as opposed to relative positioning\n",
    "m.toolChange(1)"
   ]
  },
  {
   "cell_type": "markdown",
   "id": "5517b096",
   "metadata": {},
   "source": [
    "### Step 3: Run this cell to image the plates defined in step 1 "
   ]
  },
  {
   "cell_type": "code",
   "execution_count": 30,
   "id": "9eb324b2",
   "metadata": {},
   "outputs": [
    {
     "name": "stdout",
     "output_type": "stream",
     "text": [
      "... camera connection established\n",
      "... camera connection established\n",
      "... camera connection established\n",
      "... camera connection established\n",
      "... camera connection established\n",
      "... camera connection established\n",
      "... camera connection established\n",
      "... camera connection established\n",
      "... camera connection established\n",
      "... camera connection established\n",
      "... camera connection established\n",
      "... camera connection established\n",
      "... camera connection established\n",
      "... camera connection established\n",
      "... camera connection established\n",
      "... camera connection established\n",
      "... camera connection established\n",
      "... camera connection established\n",
      "... camera connection established\n",
      "... camera connection established\n",
      "... camera connection established\n",
      "... camera connection established\n",
      "... camera connection established\n",
      "... camera connection established\n"
     ]
    }
   ],
   "source": [
    "for p in plates_to_image:\n",
    "    image_plate(p)"
   ]
  }
 ],
 "metadata": {
  "kernelspec": {
   "display_name": "Python 3 (ipykernel)",
   "language": "python",
   "name": "python3"
  },
  "language_info": {
   "codemirror_mode": {
    "name": "ipython",
    "version": 3
   },
   "file_extension": ".py",
   "mimetype": "text/x-python",
   "name": "python",
   "nbconvert_exporter": "python",
   "pygments_lexer": "ipython3",
   "version": "3.7.3"
  }
 },
 "nbformat": 4,
 "nbformat_minor": 5
}
