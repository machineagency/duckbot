{
 "cells": [
  {
   "cell_type": "markdown",
   "id": "b50e21ab",
   "metadata": {},
   "source": [
    "# Image plates of duckweed in growth assay experiment"
   ]
  },
  {
   "cell_type": "code",
   "execution_count": 1,
   "id": "85622224",
   "metadata": {},
   "outputs": [],
   "source": [
    "#Importing python libraries downloaded from the internet and those saved locally\n",
    "import serial \n",
    "from serial.tools import list_ports\n",
    "import yaml\n",
    "import matplotlib\n",
    "matplotlib.use('TkAgg') #This is a specific back end of matplotlib \n",
    "from matplotlib import pyplot as plt\n",
    "import numpy as np\n",
    "import os\n",
    "import cv2\n",
    "import time\n",
    "import pandas as pd\n",
    "import glob\n",
    "import json\n",
    "import datetime\n",
    "from datetime import date\n",
    "from utils.MachineUtils import * #Local library\n",
    "from utils.CameraUtils import * #Local library. #Note that this library requirs a package that can only be installed on raspbery pi. \n",
    "import utils.Plate_positions as pp #Local library"
   ]
  },
  {
   "cell_type": "markdown",
   "id": "23c1a4a9",
   "metadata": {},
   "source": [
    "### 1. Define directories and specify plates to image\n",
    "Ensure the following before running anything in this notebook:\n",
    " - Plates with duckweed are loaded in the correct positions on the bedplate\n",
    " - The machine is switched on, connected to the computer and all axes have been homed. \n",
    " - The camera tool is accessible and in position 1 on the Jubilee"
   ]
  },
  {
   "cell_type": "code",
   "execution_count": 2,
   "id": "63561397",
   "metadata": {},
   "outputs": [
    {
     "name": "stdout",
     "output_type": "stream",
     "text": [
      "/home/pi/Documents/Data/Test_expt\n",
      "/Users/Orlando/Documents/Github_clones/duckbot/notebooks/TestExptDir\n"
     ]
    }
   ],
   "source": [
    "#Define directory to save image data for this experiment\n",
    "data_dir = '/home/pi/Documents/Data'\n",
    "expt_dir = data_dir + '/Test_expt'\n",
    "expt_id = \"test\"\n",
    "print(expt_dir)\n",
    "\n",
    "expt_setup_parent_dir = os.getcwd() # Default uses current working directory but you can replace with your own choice. \n",
    "expt_setup_dir = \"TestExptDir\" # Name of the folder to hold experiment data and metadata including the setup file\n",
    "expt_setup_file_name = \"TestFile.json\" #Name for the experiment setup file (Metadata)\n",
    "\n",
    "exp_setup_file_path = os.path.join(expt_setup_parent_dir, expt_setup_dir)\n",
    "print(exp_setup_file_path)"
   ]
  },
  {
   "cell_type": "code",
   "execution_count": 3,
   "id": "edd971e8",
   "metadata": {},
   "outputs": [
    {
     "name": "stdout",
     "output_type": "stream",
     "text": [
      "['1']\n"
     ]
    }
   ],
   "source": [
    "#Which plates do you want to image (numbers correspond to positions on bedplate. Options: 1,2,3,4,5)\n",
    "plates_to_image = [1]\n",
    "os.chdir(exp_setup_file_path)\n",
    "\n",
    "with open(expt_setup_file_name) as datafile:\n",
    "    expt_data = json.load(datafile)\n",
    "\n",
    "# Turn samples list into a dataframe\n",
    "sample_data = expt_data[\"sample_info\"]\n",
    "df = pd.DataFrame(sample_data)\n",
    "\n",
    "unique_plates = list(df.Plate.unique())\n",
    "\n",
    "def pull_last_number(n):\n",
    "    return n[-1:]\n",
    "\n",
    "plates_to_image = list(map(pull_last_number, unique_plates))\n",
    "print(plates_to_image)\n"
   ]
  },
  {
   "cell_type": "markdown",
   "id": "ad3d2c1a",
   "metadata": {},
   "source": [
    "### Step 2: Run these cells to import required packages and define methods"
   ]
  },
  {
   "cell_type": "code",
   "execution_count": 4,
   "id": "4ad3898f",
   "metadata": {},
   "outputs": [],
   "source": [
    "def move_across_platewells(well_coord_list_of_dicts):\n",
    "    for i, well in enumerate(well_coord_list_of_dicts):\n",
    "        m.moveTo(x=well[\"x\"], y=well[\"y\"], z=10)\n",
    "        ser.write(b'G4 P1000') \n",
    "\n",
    "def image_plate(plate_num):\n",
    "    well_coord_list_of_dicts = pp.fetch_plate_wellpostions(plate_num)\n",
    "    for i, well in enumerate(well_coord_list_of_dicts):\n",
    "        m.moveTo(x=well[\"x\"], y=well[\"y\"], z=10)\n",
    "#         wellFrame, wellData = getSingleWell(getFrame(), minR=330, maxR=335) #Adjust focus\n",
    "#         well = wellData[0]\n",
    "#         print(well)\n",
    "        f = getFrame()\n",
    "        cv2.imwrite(f'{expt_dir}/{expt_id}_plate{plate_num}_well{well[\"well_id\"]}_{date.today()}.jpg', f)"
   ]
  },
  {
   "cell_type": "code",
   "execution_count": 5,
   "id": "bf43367f",
   "metadata": {},
   "outputs": [
    {
     "ename": "SerialException",
     "evalue": "[Errno 2] could not open port /dev/ttyACM0: [Errno 2] No such file or directory: '/dev/ttyACM0'",
     "output_type": "error",
     "traceback": [
      "\u001b[0;31m---------------------------------------------------------------------------\u001b[0m",
      "\u001b[0;31mFileNotFoundError\u001b[0m                         Traceback (most recent call last)",
      "\u001b[0;32m~/virtualenvs/duckbot/duckbot_jupyter/lib/python3.7/site-packages/serial/serialposix.py\u001b[0m in \u001b[0;36mopen\u001b[0;34m(self)\u001b[0m\n\u001b[1;32m    321\u001b[0m         \u001b[0;32mtry\u001b[0m\u001b[0;34m:\u001b[0m\u001b[0;34m\u001b[0m\u001b[0m\n\u001b[0;32m--> 322\u001b[0;31m             \u001b[0mself\u001b[0m\u001b[0;34m.\u001b[0m\u001b[0mfd\u001b[0m \u001b[0;34m=\u001b[0m \u001b[0mos\u001b[0m\u001b[0;34m.\u001b[0m\u001b[0mopen\u001b[0m\u001b[0;34m(\u001b[0m\u001b[0mself\u001b[0m\u001b[0;34m.\u001b[0m\u001b[0mportstr\u001b[0m\u001b[0;34m,\u001b[0m \u001b[0mos\u001b[0m\u001b[0;34m.\u001b[0m\u001b[0mO_RDWR\u001b[0m \u001b[0;34m|\u001b[0m \u001b[0mos\u001b[0m\u001b[0;34m.\u001b[0m\u001b[0mO_NOCTTY\u001b[0m \u001b[0;34m|\u001b[0m \u001b[0mos\u001b[0m\u001b[0;34m.\u001b[0m\u001b[0mO_NONBLOCK\u001b[0m\u001b[0;34m)\u001b[0m\u001b[0;34m\u001b[0m\u001b[0m\n\u001b[0m\u001b[1;32m    323\u001b[0m         \u001b[0;32mexcept\u001b[0m \u001b[0mOSError\u001b[0m \u001b[0;32mas\u001b[0m \u001b[0mmsg\u001b[0m\u001b[0;34m:\u001b[0m\u001b[0;34m\u001b[0m\u001b[0m\n",
      "\u001b[0;31mFileNotFoundError\u001b[0m: [Errno 2] No such file or directory: '/dev/ttyACM0'",
      "\nDuring handling of the above exception, another exception occurred:\n",
      "\u001b[0;31mSerialException\u001b[0m                           Traceback (most recent call last)",
      "\u001b[0;32m/var/folders/nc/pbz0zfmn5tq28c62lh3svf880000gn/T/ipykernel_36764/3306996337.py\u001b[0m in \u001b[0;36m<module>\u001b[0;34m\u001b[0m\n\u001b[1;32m      1\u001b[0m \u001b[0mports\u001b[0m \u001b[0;34m=\u001b[0m \u001b[0mserial\u001b[0m\u001b[0;34m.\u001b[0m\u001b[0mtools\u001b[0m\u001b[0;34m.\u001b[0m\u001b[0mlist_ports\u001b[0m\u001b[0;34m.\u001b[0m\u001b[0mcomports\u001b[0m\u001b[0;34m(\u001b[0m\u001b[0;34m)\u001b[0m\u001b[0;34m\u001b[0m\u001b[0m\n\u001b[0;32m----> 2\u001b[0;31m \u001b[0mser\u001b[0m \u001b[0;34m=\u001b[0m \u001b[0mserial\u001b[0m\u001b[0;34m.\u001b[0m\u001b[0mSerial\u001b[0m\u001b[0;34m(\u001b[0m\u001b[0;34m'/dev/ttyACM0'\u001b[0m\u001b[0;34m,\u001b[0m \u001b[0;36m115200\u001b[0m\u001b[0;34m)\u001b[0m \u001b[0;31m#Port address and Baudrate (info transfer rate)\u001b[0m\u001b[0;34m\u001b[0m\u001b[0m\n\u001b[0m\u001b[1;32m      3\u001b[0m \u001b[0mport\u001b[0m \u001b[0;34m=\u001b[0m \u001b[0;34m'/dev/ttyACM0'\u001b[0m\u001b[0;34m\u001b[0m\u001b[0m\n\u001b[1;32m      4\u001b[0m \u001b[0mm\u001b[0m \u001b[0;34m=\u001b[0m \u001b[0mMachineCommunication\u001b[0m\u001b[0;34m(\u001b[0m\u001b[0mport\u001b[0m\u001b[0;34m)\u001b[0m\u001b[0;34m\u001b[0m\u001b[0m\n\u001b[1;32m      5\u001b[0m \u001b[0mser\u001b[0m\u001b[0;34m.\u001b[0m\u001b[0mwrite\u001b[0m\u001b[0;34m(\u001b[0m\u001b[0;34mb'G90\\n'\u001b[0m\u001b[0;34m)\u001b[0m \u001b[0;31m#Command to make sure the Jubilee is using absolute as opposed to relative positioning\u001b[0m\u001b[0;34m\u001b[0m\u001b[0m\n",
      "\u001b[0;32m~/virtualenvs/duckbot/duckbot_jupyter/lib/python3.7/site-packages/serial/serialutil.py\u001b[0m in \u001b[0;36m__init__\u001b[0;34m(self, port, baudrate, bytesize, parity, stopbits, timeout, xonxoff, rtscts, write_timeout, dsrdtr, inter_byte_timeout, exclusive, **kwargs)\u001b[0m\n\u001b[1;32m    242\u001b[0m \u001b[0;34m\u001b[0m\u001b[0m\n\u001b[1;32m    243\u001b[0m         \u001b[0;32mif\u001b[0m \u001b[0mport\u001b[0m \u001b[0;32mis\u001b[0m \u001b[0;32mnot\u001b[0m \u001b[0;32mNone\u001b[0m\u001b[0;34m:\u001b[0m\u001b[0;34m\u001b[0m\u001b[0m\n\u001b[0;32m--> 244\u001b[0;31m             \u001b[0mself\u001b[0m\u001b[0;34m.\u001b[0m\u001b[0mopen\u001b[0m\u001b[0;34m(\u001b[0m\u001b[0;34m)\u001b[0m\u001b[0;34m\u001b[0m\u001b[0m\n\u001b[0m\u001b[1;32m    245\u001b[0m \u001b[0;34m\u001b[0m\u001b[0m\n\u001b[1;32m    246\u001b[0m     \u001b[0;31m#  -  -  -  -  -  -  -  -  -  -  -  -  -  -  -  -  -  -  -  -  -  -  -  -\u001b[0m\u001b[0;34m\u001b[0m\u001b[0;34m\u001b[0m\u001b[0m\n",
      "\u001b[0;32m~/virtualenvs/duckbot/duckbot_jupyter/lib/python3.7/site-packages/serial/serialposix.py\u001b[0m in \u001b[0;36mopen\u001b[0;34m(self)\u001b[0m\n\u001b[1;32m    323\u001b[0m         \u001b[0;32mexcept\u001b[0m \u001b[0mOSError\u001b[0m \u001b[0;32mas\u001b[0m \u001b[0mmsg\u001b[0m\u001b[0;34m:\u001b[0m\u001b[0;34m\u001b[0m\u001b[0m\n\u001b[1;32m    324\u001b[0m             \u001b[0mself\u001b[0m\u001b[0;34m.\u001b[0m\u001b[0mfd\u001b[0m \u001b[0;34m=\u001b[0m \u001b[0;32mNone\u001b[0m\u001b[0;34m\u001b[0m\u001b[0m\n\u001b[0;32m--> 325\u001b[0;31m             \u001b[0;32mraise\u001b[0m \u001b[0mSerialException\u001b[0m\u001b[0;34m(\u001b[0m\u001b[0mmsg\u001b[0m\u001b[0;34m.\u001b[0m\u001b[0merrno\u001b[0m\u001b[0;34m,\u001b[0m \u001b[0;34m\"could not open port {}: {}\"\u001b[0m\u001b[0;34m.\u001b[0m\u001b[0mformat\u001b[0m\u001b[0;34m(\u001b[0m\u001b[0mself\u001b[0m\u001b[0;34m.\u001b[0m\u001b[0m_port\u001b[0m\u001b[0;34m,\u001b[0m \u001b[0mmsg\u001b[0m\u001b[0;34m)\u001b[0m\u001b[0;34m)\u001b[0m\u001b[0;34m\u001b[0m\u001b[0m\n\u001b[0m\u001b[1;32m    326\u001b[0m         \u001b[0;31m#~ fcntl.fcntl(self.fd, fcntl.F_SETFL, 0)  # set blocking\u001b[0m\u001b[0;34m\u001b[0m\u001b[0;34m\u001b[0m\u001b[0m\n\u001b[1;32m    327\u001b[0m \u001b[0;34m\u001b[0m\u001b[0m\n",
      "\u001b[0;31mSerialException\u001b[0m: [Errno 2] could not open port /dev/ttyACM0: [Errno 2] No such file or directory: '/dev/ttyACM0'"
     ]
    }
   ],
   "source": [
    "ports = serial.tools.list_ports.comports()\n",
    "ser = serial.Serial('/dev/ttyACM0', 115200) #Port address and Baudrate (info transfer rate)\n",
    "port = '/dev/ttyACM0'\n",
    "m = MachineCommunication(port)\n",
    "ser.write(b'G90\\n') #Command to make sure the Jubilee is using absolute as opposed to relative positioning\n",
    "m.toolChange(1)"
   ]
  },
  {
   "cell_type": "markdown",
   "id": "5517b096",
   "metadata": {},
   "source": [
    "### Step 3: Run this cell to image the plates defined in step 1 "
   ]
  },
  {
   "cell_type": "code",
   "execution_count": 30,
   "id": "9eb324b2",
   "metadata": {},
   "outputs": [
    {
     "name": "stdout",
     "output_type": "stream",
     "text": [
      "... camera connection established\n",
      "... camera connection established\n",
      "... camera connection established\n",
      "... camera connection established\n",
      "... camera connection established\n",
      "... camera connection established\n",
      "... camera connection established\n",
      "... camera connection established\n",
      "... camera connection established\n",
      "... camera connection established\n",
      "... camera connection established\n",
      "... camera connection established\n",
      "... camera connection established\n",
      "... camera connection established\n",
      "... camera connection established\n",
      "... camera connection established\n",
      "... camera connection established\n",
      "... camera connection established\n",
      "... camera connection established\n",
      "... camera connection established\n",
      "... camera connection established\n",
      "... camera connection established\n",
      "... camera connection established\n",
      "... camera connection established\n"
     ]
    }
   ],
   "source": [
    "for p in plates_to_image:\n",
    "    image_plate(p)"
   ]
  }
 ],
 "metadata": {
  "kernelspec": {
   "display_name": "Python 3 (ipykernel)",
   "language": "python",
   "name": "python3"
  },
  "language_info": {
   "codemirror_mode": {
    "name": "ipython",
    "version": 3
   },
   "file_extension": ".py",
   "mimetype": "text/x-python",
   "name": "python",
   "nbconvert_exporter": "python",
   "pygments_lexer": "ipython3",
   "version": "3.7.0"
  }
 },
 "nbformat": 4,
 "nbformat_minor": 5
}
