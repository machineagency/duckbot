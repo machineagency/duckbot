{
 "cells": [
  {
   "cell_type": "markdown",
   "id": "b50e21ab",
   "metadata": {},
   "source": [
    "# Image plates of duckweed in growth assay experiment"
   ]
  },
  {
   "cell_type": "code",
   "execution_count": 1,
   "id": "85622224",
   "metadata": {},
   "outputs": [],
   "source": [
    "#Importing python libraries downloaded from the internet and those saved locally\n",
    "import serial \n",
    "from serial.tools import list_ports\n",
    "import yaml\n",
    "import matplotlib\n",
    "matplotlib.use('TkAgg') #This is a specific back end of matplotlib \n",
    "from matplotlib import pyplot as plt\n",
    "import numpy as np\n",
    "import os\n",
    "import cv2 as cv2\n",
    "import time\n",
    "import pandas as pd\n",
    "import glob\n",
    "import json\n",
    "import datetime\n",
    "from datetime import date\n",
    "from utils.MachineUtils import * #Local library\n",
    "from utils.CameraUtils import * #Local library. #Note that this library requirs a package that can only be installed on raspbery pi. \n",
    "import utils.Plate_positions as pp #Local library\n",
    "\n",
    "import ipywidgets as widgets\n",
    "# from Ipython.display import display, Image\n",
    "import threading"
   ]
  },
  {
   "cell_type": "markdown",
   "id": "23c1a4a9",
   "metadata": {},
   "source": [
    "### 1. Define directories and specify plates to image\n",
    "Ensure the following before running anything in this notebook:\n",
    " - Plates with duckweed are loaded in the correct positions on the bedplate\n",
    " - The machine is switched on, connected to the computer and all axes have been homed. \n",
    " - The camera tool is accessible and in position 1 on the Jubilee"
   ]
  },
  {
   "cell_type": "code",
   "execution_count": null,
   "id": "63561397",
   "metadata": {},
   "outputs": [],
   "source": [
    "#Define directory to save image data for this experiment\n",
    "data_dir = '/home/pi/Documents/Data'\n",
    "expt_dir = data_dir + '/Test_expt'\n",
    "expt_id = \"test\"\n",
    "print(\"Image files will be saved to:\")\n",
    "print(expt_dir)\n"
   ]
  },
  {
   "cell_type": "markdown",
   "id": "01fda554-d909-48cf-b15a-d18d3a4821f1",
   "metadata": {},
   "source": [
    "### CELLS TO RUN FOR MANUAL PLATE SELECTION"
   ]
  },
  {
   "cell_type": "code",
   "execution_count": null,
   "id": "edd971e8",
   "metadata": {},
   "outputs": [],
   "source": [
    "# Manual option: Which plates do you want to image (numbers correspond to positions on bedplate. Options: 1,2,3,4,5)\n",
    "plates_to_image = [1]\n",
    "\n",
    "\n"
   ]
  },
  {
   "cell_type": "markdown",
   "id": "9f0faaee-9f99-43a2-be97-687d62ada213",
   "metadata": {},
   "source": [
    "### CELLS TO RUN FOR AUTOMATED PLATE SELECTION"
   ]
  },
  {
   "cell_type": "code",
   "execution_count": null,
   "id": "38289a40-31b4-43da-8b0a-89ed80e769f6",
   "metadata": {},
   "outputs": [],
   "source": [
    "\n",
    "#Automated option: Define experiment set up file and read from that which plates are to be imaged. \n",
    "\n",
    "expt_setup_parent_dir = os.getcwd() # Default uses current working directory but you can replace with your own choice. \n",
    "expt_setup_dir = \"TestExptDir\" # Name of the folder to hold experiment data and metadata including the setup file\n",
    "expt_setup_file_name = \"TestFile.json\" #Name for the experiment setup file (Metadata)\n",
    "\n",
    "exp_setup_file_path = os.path.join(expt_setup_parent_dir, expt_setup_dir)\n",
    "print(exp_setup_file_path)"
   ]
  },
  {
   "cell_type": "code",
   "execution_count": null,
   "id": "56aea553-f2b0-435c-9042-d9ed1901d3f2",
   "metadata": {},
   "outputs": [],
   "source": [
    "os.chdir(exp_setup_file_path)\n",
    "\n",
    "with open(expt_setup_file_name) as datafile:\n",
    "    expt_data = json.load(datafile)\n",
    "\n",
    "# Turn samples list into a dataframe\n",
    "sample_data = expt_data[\"sample_info\"]\n",
    "df = pd.DataFrame(sample_data)\n",
    "\n",
    "unique_plates = list(df.Plate.unique())\n",
    "\n",
    "def pull_last_number(n):\n",
    "    return n[-1:]\n",
    "\n",
    "plates_to_image = list(map(pull_last_number, unique_plates))\n",
    "print(plates_to_image)\n"
   ]
  },
  {
   "cell_type": "markdown",
   "id": "ad3d2c1a",
   "metadata": {},
   "source": [
    "### Step 2: Run these cells to define methods"
   ]
  },
  {
   "cell_type": "code",
   "execution_count": null,
   "id": "4ad3898f",
   "metadata": {},
   "outputs": [],
   "source": [
    "def move_across_platewells(well_coord_list_of_dicts):\n",
    "    for i, well in enumerate(well_coord_list_of_dicts):\n",
    "        m.moveTo(x=well[\"x\"], y=well[\"y\"], z=10)\n",
    "        ser.write(b'G4 P1000') \n",
    "\n",
    "def image_plate(plate_num):\n",
    "    well_coord_list_of_dicts = pp.fetch_plate_wellpostions(plate_num)\n",
    "    for i, well in enumerate(well_coord_list_of_dicts):\n",
    "        m.moveTo(x=well[\"x\"], y=well[\"y\"], z=10)\n",
    "#         wellFrame, wellData = getSingleWell(getFrame(), minR=330, maxR=335) #Adjust focus\n",
    "#         well = wellData[0]\n",
    "#         print(well)\n",
    "        f = getFrame()\n",
    "        cv2.imwrite(f'{expt_dir}/{expt_id}_plate{plate_num}_well{well[\"well_id\"]}_{date.today()}.jpg', f)"
   ]
  },
  {
   "cell_type": "code",
   "execution_count": 2,
   "id": "bf43367f",
   "metadata": {},
   "outputs": [],
   "source": [
    "ports = serial.tools.list_ports.comports()\n",
    "ser = serial.Serial('/dev/ttyACM0', 115200) #Port address and Baudrate (info transfer rate)\n",
    "port = '/dev/ttyACM0'\n",
    "m = MachineCommunication(port)\n",
    "ser.write(b'G90\\n') #Command to make sure the Jubilee is using absolute as opposed to relative positioning\n",
    "m.toolChange(1)"
   ]
  },
  {
   "cell_type": "markdown",
   "id": "5517b096",
   "metadata": {},
   "source": [
    "### Step 3: Run this cell to image the plates defined in step 1 "
   ]
  },
  {
   "cell_type": "code",
   "execution_count": null,
   "id": "9eb324b2",
   "metadata": {},
   "outputs": [],
   "source": [
    "for p in plates_to_image:\n",
    "    image_plate(p)"
   ]
  },
  {
   "cell_type": "code",
   "execution_count": 6,
   "id": "d86ac272-26bc-4907-9ecf-1792e57e5137",
   "metadata": {},
   "outputs": [
    {
     "name": "stdout",
     "output_type": "stream",
     "text": [
      "[0]\n"
     ]
    },
    {
     "name": "stderr",
     "output_type": "stream",
     "text": [
      "[ WARN:1@427.558] global /tmp/pip-wheel-8c7uejek/opencv-python_88dbbad412c5416b992ae69de26299d6/opencv/modules/videoio/src/cap_v4l.cpp (902) open VIDEOIO(V4L2:/dev/video1): can't open camera by index\n",
      "[ WARN:1@427.558] global /tmp/pip-wheel-8c7uejek/opencv-python_88dbbad412c5416b992ae69de26299d6/opencv/modules/videoio/src/cap_v4l.cpp (902) open VIDEOIO(V4L2:/dev/video2): can't open camera by index\n",
      "[ WARN:1@427.559] global /tmp/pip-wheel-8c7uejek/opencv-python_88dbbad412c5416b992ae69de26299d6/opencv/modules/videoio/src/cap_v4l.cpp (902) open VIDEOIO(V4L2:/dev/video3): can't open camera by index\n"
     ]
    }
   ],
   "source": [
    "i = getCameraIndices()\n",
    "print(i)"
   ]
  },
  {
   "cell_type": "code",
   "execution_count": 4,
   "id": "b148b33c-d129-4c8c-911b-c73e8b8ed5e5",
   "metadata": {},
   "outputs": [],
   "source": [
    "cap = cv2.VideoCapture(0)\n",
    "cap.set(3,640)\n",
    "cap.set(4,480)\n",
    "\n",
    "success, img = cap.read()\n",
    "cv2.imshow(\"Webcam\", img)\n",
    "\n",
    "# while True:\n",
    "#     success, img = cap.read()\n",
    "#     cv2.imshow(\"Webcam\", img)\n",
    "#     if cv2.waitKey(1) & OxFF==ord('q'):\n",
    "#         cap.release()\n",
    "#         break\n",
    "        \n",
    "# cv2.destroyAllWindows()\n",
    "\n",
    "# cv2.waitKey(1)"
   ]
  },
  {
   "cell_type": "code",
   "execution_count": 4,
   "id": "ddc5106d-8c43-4eac-9438-22ba09058442",
   "metadata": {},
   "outputs": [
    {
     "data": {
      "application/vnd.jupyter.widget-view+json": {
       "model_id": "33eda73f1e534efe96eea61703f3e63c",
       "version_major": 2,
       "version_minor": 0
      },
      "text/plain": [
       "ToggleButton(value=False, button_style='danger', description='Stop', icon='square', tooltip='Description')"
      ]
     },
     "metadata": {},
     "output_type": "display_data"
    },
    {
     "name": "stderr",
     "output_type": "stream",
     "text": [
      "[ WARN:0@28.866] global /tmp/pip-wheel-8c7uejek/opencv-python_88dbbad412c5416b992ae69de26299d6/opencv/modules/videoio/src/cap_v4l.cpp (902) open VIDEOIO(V4L2:/dev/video1): can't open camera by index\n"
     ]
    },
    {
     "data": {
      "text/plain": [
       "None"
      ]
     },
     "metadata": {},
     "output_type": "display_data"
    },
    {
     "name": "stderr",
     "output_type": "stream",
     "text": [
      "Exception in thread Thread-5:\n",
      "Traceback (most recent call last):\n",
      "  File \"/usr/lib/python3.7/threading.py\", line 917, in _bootstrap_inner\n",
      "    self.run()\n",
      "  File \"/usr/lib/python3.7/threading.py\", line 865, in run\n",
      "    self._target(*self._args, **self._kwargs)\n",
      "  File \"/tmp/ipykernel_2832/2413573139.py\", line 22, in view\n",
      "    _, frame = cv2.imencode('.jpeg', frame)\n",
      "cv2.error: OpenCV(4.6.0) /tmp/pip-wheel-8c7uejek/opencv-python_88dbbad412c5416b992ae69de26299d6/opencv/modules/imgcodecs/src/loadsave.cpp:976: error: (-215:Assertion failed) !image.empty() in function 'imencode'\n",
      "\n",
      "\n"
     ]
    }
   ],
   "source": [
    "# Stop button\n",
    "# ================\n",
    "stopButton = widgets.ToggleButton(\n",
    "    value=False,\n",
    "    description='Stop',\n",
    "    disabled=False,\n",
    "    button_style='danger', # 'success', 'info', 'warning', 'danger' or ''\n",
    "    tooltip='Description',\n",
    "    icon='square' # (FontAwesome names without the `fa-` prefix)\n",
    ")\n",
    "\n",
    "\n",
    "# Display function\n",
    "# ================\n",
    "def view(button):\n",
    "    cap = cv2.VideoCapture(1)\n",
    "    display_handle=display(None, display_id=True)\n",
    "    i = 0\n",
    "    while True:\n",
    "        _, frame = cap.read()\n",
    "        frame = cv2.flip(frame, 1) # if your camera reverses your image\n",
    "        _, frame = cv2.imencode('.jpeg', frame)\n",
    "        display_handle.update(Image(data=frame.tobytes()))\n",
    "        if stopButton.value==True:\n",
    "            cap.release()\n",
    "            display_handle.update(None)\n",
    "\n",
    "            \n",
    "# Run\n",
    "# ================\n",
    "display(stopButton)\n",
    "thread = threading.Thread(target=view, args=(stopButton,))\n",
    "thread.start()"
   ]
  },
  {
   "cell_type": "code",
   "execution_count": 7,
   "id": "feba91f2-f131-4e86-adf6-7d32d270948a",
   "metadata": {},
   "outputs": [],
   "source": [
    "cap = cv2.VideoCapture(0)\n",
    "\n",
    "while True:\n",
    "    ret, frame = cap.read()\n",
    "    # frame = cv2.resize(frame, None, fx =0.5, fy=0.5, interpolation = cv2.INTER_AREA)\n",
    "    cv2.imshow('Input', frame)\n",
    "    c = cv2.waitKey(1)\n",
    "    if c ==27: #27 is the built in code for ESC so press escape to close the window. \n",
    "        break \n",
    "        \n",
    "cap.release()\n",
    "cv2.destroyAllWindows()"
   ]
  },
  {
   "cell_type": "code",
   "execution_count": null,
   "id": "24d7f4bb-03b9-44af-9add-ffeab7a27a02",
   "metadata": {},
   "outputs": [],
   "source": []
  }
 ],
 "metadata": {
  "kernelspec": {
   "display_name": "Python 3 (ipykernel)",
   "language": "python",
   "name": "python3"
  },
  "language_info": {
   "codemirror_mode": {
    "name": "ipython",
    "version": 3
   },
   "file_extension": ".py",
   "mimetype": "text/x-python",
   "name": "python",
   "nbconvert_exporter": "python",
   "pygments_lexer": "ipython3",
   "version": "3.7.3"
  }
 },
 "nbformat": 4,
 "nbformat_minor": 5
}
