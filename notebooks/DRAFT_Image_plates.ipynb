{
 "cells": [
  {
   "cell_type": "markdown",
   "id": "b50e21ab",
   "metadata": {},
   "source": [
    "# Image plates of duckweed in growth assay experiment"
   ]
  },
  {
   "cell_type": "markdown",
   "id": "3432466a",
   "metadata": {},
   "source": [
    "Ensure the following before running anything in this notebook:\n",
    " - The machine is switched on, connected to the computer and all axes have been homed. \n",
    " - The camera tool is accessible and in position 1 on the Jubilee\n",
    " \n",
    " Once those steps are complete run the cells in this notebook in order"
   ]
  },
  {
   "cell_type": "code",
   "execution_count": 1,
   "id": "85622224",
   "metadata": {},
   "outputs": [],
   "source": [
    "#Importing python libraries downloaded from the internet and those saved locally\n",
    "import serial \n",
    "from serial.tools import list_ports\n",
    "import yaml\n",
    "import matplotlib\n",
    "matplotlib.use('TkAgg') #This is a specific back end of matplotlib \n",
    "from matplotlib import pyplot as plt\n",
    "import numpy as np\n",
    "import os\n",
    "import cv2 as cv2\n",
    "# import time\n",
    "import pandas as pd\n",
    "import glob\n",
    "import json\n",
    "import ipywidgets as widgets\n",
    "# from Ipython.display import display, Image\n",
    "import threading\n",
    "\n",
    "from utils.MachineUtils import * #Local library\n",
    "# from utils.CameraUtils import * #Local library. #Note that this library requirs a package that can only be installed on raspbery pi. \n",
    "import utils.PlatePositionUtils as pp #Local library\n",
    "import utils.ImageCaptureUtils as im"
   ]
  },
  {
   "cell_type": "code",
   "execution_count": 2,
   "id": "bf43367f",
   "metadata": {},
   "outputs": [],
   "source": [
    "ports = serial.tools.list_ports.comports()\n",
    "ser = serial.Serial('/dev/ttyACM0', 115200) #Port address and Baudrate (info transfer rate)\n",
    "port = '/dev/ttyACM0'\n",
    "m = MachineCommunication(port)\n",
    "ser.write(b'G90\\n') #Command to make sure the Jubilee is using absolute as opposed to relative positioning\n",
    "m.toolChange(1)"
   ]
  },
  {
   "cell_type": "markdown",
   "id": "23c1a4a9",
   "metadata": {},
   "source": [
    "### 1. Define directories and file names"
   ]
  },
  {
   "cell_type": "code",
   "execution_count": 4,
   "id": "63561397",
   "metadata": {},
   "outputs": [
    {
     "name": "stdout",
     "output_type": "stream",
     "text": [
      "Image files will be saved to:\n",
      "/home/pi/Documents/Data/TestDriveExpt_1_08032022\n"
     ]
    }
   ],
   "source": [
    "#Directory that hosts experiment set up file\n",
    "expt_setup_dir = '/home/pi/duckbot/notebooks/TestDriveExpt_1_08032022/'\n",
    "\n",
    "#Experimental set up file name, including .json\n",
    "expt_setup_filename = 'TestDriveExpt_1_08032022.json'\n",
    "\n",
    "#Host directory that you want to host the folder with your image files. End with forward slash\n",
    "data_host_dir = '/home/pi/Documents/Data/'\n",
    "\n",
    "#Name you want to use for the folder with your image files\n",
    "data_dir = 'TestDriveExpt_1_08032022'\n",
    "expt_name = 'TestDriveExpt_1_08032022' #Will be used as prefix for file names\n",
    "\n",
    "#Where data will be saved\n",
    "output_data_dir = data_host_dir + data_dir  \n",
    "\n",
    "isExist = os.path.exists(output_data_dir)\n",
    "if not isExist:\n",
    "  # Create a new directory because it does not exist \n",
    "    os.makedirs(output_data_dir)\n",
    "    print(\"The new directory is created!\")\n",
    "    \n",
    "print(\"Image files will be saved to:\")\n",
    "print(output_data_dir)\n"
   ]
  },
  {
   "cell_type": "markdown",
   "id": "5fa41c5b",
   "metadata": {},
   "source": [
    "## 2. Load plates into machine"
   ]
  },
  {
   "cell_type": "code",
   "execution_count": 4,
   "id": "bf3dedb1-3e7d-4b60-8daf-853621474f84",
   "metadata": {},
   "outputs": [
    {
     "name": "stdout",
     "output_type": "stream",
     "text": [
      "/home/pi/duckbot/notebooks/TestDriveExpt_1_08032022/\n",
      "TestDriveExpt_1_08032022.json\n",
      "Load the following experimental plates into the appropriate positions on the bed: ['1', '2']\n",
      "Add plates to the bed. Hit any button to confirm and proceed\n"
     ]
    }
   ],
   "source": [
    "#Drop bed down and add plates\n",
    "print(expt_setup_dir)\n",
    "print(expt_setup_filename)\n",
    "plates_to_image = im.pull_plates_to_image(expt_setup_dir, expt_setup_filename)\n",
    "\n",
    "m.moveTo(z=100)\n",
    "\n",
    "print(f'Load the following experimental plates into the appropriate positions on the bed: {plates_to_image}')\n",
    "print(\"Add plates to the bed. Hit any button to confirm and proceed\")"
   ]
  },
  {
   "cell_type": "markdown",
   "id": "b28a6469",
   "metadata": {},
   "source": [
    "### 3. Focus camera\n",
    "Run the cells below. It will move the camera over the first well of the first plate and then pop up a live camera window. Manually adjust the focus to the desired point by twisting the housing of the camera lens. Then hit the escape key to close the window"
   ]
  },
  {
   "cell_type": "code",
   "execution_count": 9,
   "id": "fbf3abb4-1b64-4746-bf21-c305afbf28aa",
   "metadata": {},
   "outputs": [],
   "source": [
    "#Move camera over first well to be imaged\n",
    "plates_to_image = im.pull_plates_to_image(expt_setup_dir, expt_setup_filename)\n",
    "im.move_to_first_well(m, plates_to_image)"
   ]
  },
  {
   "cell_type": "code",
   "execution_count": 7,
   "id": "feba91f2-f131-4e86-adf6-7d32d270948a",
   "metadata": {},
   "outputs": [],
   "source": [
    "#Open a live video window\n",
    "cap = cv2.VideoCapture(0) #Note that the index corresponding to your camera may not be zero but this is the most common default\n",
    "\n",
    "while True:\n",
    "    ret, frame = cap.read()\n",
    "    cv2.imshow('Input', frame)\n",
    "    c = cv2.waitKey(1)\n",
    "    if c ==27: #27 is the built in code for ESC so press escape to close the window. \n",
    "        break \n",
    "        \n",
    "cap.release()\n",
    "cv2.destroyAllWindows()"
   ]
  },
  {
   "cell_type": "markdown",
   "id": "5517b096",
   "metadata": {},
   "source": [
    "### 3. Capture and save images"
   ]
  },
  {
   "cell_type": "code",
   "execution_count": 11,
   "id": "9eb324b2",
   "metadata": {},
   "outputs": [
    {
     "name": "stdout",
     "output_type": "stream",
     "text": [
      "Imaging well A1\n",
      "Imaging well A2\n",
      "Imaging well A3\n",
      "Imaging well A4\n",
      "Imaging well A5\n",
      "Imaging well A6\n",
      "Imaging well B1\n",
      "Imaging well B2\n",
      "Imaging well B3\n",
      "Imaging well B4\n",
      "Imaging well B5\n",
      "Imaging well B6\n",
      "Imaging well C1\n",
      "Imaging well C2\n",
      "Imaging well C3\n",
      "Imaging well C4\n",
      "Imaging well C5\n",
      "Imaging well C6\n",
      "Imaging well D1\n",
      "Imaging well D2\n",
      "Imaging well D3\n",
      "Imaging well D4\n",
      "Imaging well D5\n",
      "Imaging well D6\n",
      "Imaging well A1\n",
      "Imaging well A2\n",
      "Imaging well A3\n",
      "Imaging well A4\n",
      "Imaging well A5\n",
      "Imaging well A6\n",
      "Imaging well B1\n",
      "Imaging well B2\n",
      "Imaging well B3\n",
      "Imaging well B4\n",
      "Imaging well B5\n",
      "Imaging well B6\n"
     ]
    }
   ],
   "source": [
    "df_with_well_coords = pp.add_well_coords_to_df_from_file(expt_setup_dir, expt_setup_filename)\n",
    "# # print(df_with_well_coords)\n",
    "# os.chdir(output_data_dir)\n",
    "im.image_plates(m, df_with_well_coords, output_data_dir, expt_name)"
   ]
  },
  {
   "cell_type": "code",
   "execution_count": null,
   "id": "26f3723b-ac55-4bde-a3b9-8f86b694d2a0",
   "metadata": {},
   "outputs": [],
   "source": [
    "print(\"Please remove plates from machine then hit any key to continue\")\n",
    "input()"
   ]
  },
  {
   "cell_type": "code",
   "execution_count": null,
   "id": "1e65a05f-b44a-443d-b415-ca9617af1a13",
   "metadata": {},
   "outputs": [],
   "source": [
    "#TO DO \n",
    "#Return tool \n",
    "#Prompt user to remove plates\n",
    "#Home everything. "
   ]
  },
  {
   "cell_type": "code",
   "execution_count": null,
   "id": "4ad3898f",
   "metadata": {},
   "outputs": [],
   "source": [
    "# def move_across_platewells(well_coord_list_of_dicts):\n",
    "#     for i, well in enumerate(well_coord_list_of_dicts):\n",
    "#         m.moveTo(x=well[\"x\"], y=well[\"y\"], z=10)\n",
    "#         ser.write(b'G4 P1000') \n",
    "\n",
    "# #TODO make sure it only images wells with duckweed in them. Not crucial since empty wells will be ignored \n",
    "# # in data analysis but still its a waste of time and disk space. \n",
    "                    \n"
   ]
  }
 ],
 "metadata": {
  "kernelspec": {
   "display_name": "Python 3 (ipykernel)",
   "language": "python",
   "name": "python3"
  },
  "language_info": {
   "codemirror_mode": {
    "name": "ipython",
    "version": 3
   },
   "file_extension": ".py",
   "mimetype": "text/x-python",
   "name": "python",
   "nbconvert_exporter": "python",
   "pygments_lexer": "ipython3",
   "version": "3.9.13"
  }
 },
 "nbformat": 4,
 "nbformat_minor": 5
}
