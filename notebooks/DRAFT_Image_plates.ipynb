{
 "cells": [
  {
   "cell_type": "markdown",
   "id": "b50e21ab",
   "metadata": {},
   "source": [
    "# Image plates of duckweed in growth assay experiment"
   ]
  },
  {
   "cell_type": "markdown",
   "id": "3432466a",
   "metadata": {},
   "source": [
    "Ensure the following before running anything in this notebook:\n",
    " - Plates with duckweed are loaded in the correct positions on the bedplate\n",
    " - The machine is switched on, connected to the computer and all axes have been homed. \n",
    " - The camera tool is accessible and in position 1 on the Jubilee\n",
    " \n",
    " Once those steps are complete run the cells in this notebook in order"
   ]
  },
  {
   "cell_type": "code",
   "execution_count": 1,
   "id": "85622224",
   "metadata": {},
   "outputs": [],
   "source": [
    "#Importing python libraries downloaded from the internet and those saved locally\n",
    "import serial \n",
    "from serial.tools import list_ports\n",
    "import yaml\n",
    "import matplotlib\n",
    "matplotlib.use('TkAgg') #This is a specific back end of matplotlib \n",
    "from matplotlib import pyplot as plt\n",
    "import numpy as np\n",
    "import os\n",
    "import cv2 as cv2\n",
    "import time\n",
    "import pandas as pd\n",
    "import glob\n",
    "import json\n",
    "import datetime\n",
    "from datetime import date\n",
    "from utils.MachineUtils import * #Local library\n",
    "from utils.CameraUtils import * #Local library. #Note that this library requirs a package that can only be installed on raspbery pi. \n",
    "import utils.Plate_positions as pp #Local library\n",
    "\n",
    "import ipywidgets as widgets\n",
    "# from Ipython.display import display, Image\n",
    "import threading"
   ]
  },
  {
   "cell_type": "code",
   "execution_count": null,
   "id": "4ad3898f",
   "metadata": {},
   "outputs": [],
   "source": [
    "def move_across_platewells(well_coord_list_of_dicts):\n",
    "    for i, well in enumerate(well_coord_list_of_dicts):\n",
    "        m.moveTo(x=well[\"x\"], y=well[\"y\"], z=10)\n",
    "        ser.write(b'G4 P1000') \n",
    "\n",
    "def image_plate(plate_num):\n",
    "    well_coord_list_of_dicts = pp.fetch_plate_wellpostions(plate_num, tool)\n",
    "    for i, well in enumerate(well_coord_list_of_dicts):\n",
    "        m.moveTo(x=well[\"x\"], y=well[\"y\"], z=10)\n",
    "#         wellFrame, wellData = getSingleWell(getFrame(), minR=330, maxR=335) #Adjust focus\n",
    "#         well = wellData[0]\n",
    "#         print(well)\n",
    "        f = getFrame()\n",
    "        cv2.imwrite(f'{expt_dir}/{expt_id}_plate{plate_num}_well{well[\"well_id\"]}_{date.today()}.jpg', f)"
   ]
  },
  {
   "cell_type": "code",
   "execution_count": null,
   "id": "aae32812",
   "metadata": {},
   "outputs": [],
   "source": [
    "def move_to_first_well(plates_to_image):\n",
    "    first_plate = plates_to_image[0]\n",
    "    well_coord_list_of_dicts = pp.fetch_plate_wellpostions(first_plate)\n",
    "    for i, well in well_coord_list_of_dicts[0]:\n",
    "        m.moveTo(x=well[\"x\"], y=well[\"y\"], z=10)"
   ]
  },
  {
   "cell_type": "code",
   "execution_count": 2,
   "id": "bf43367f",
   "metadata": {},
   "outputs": [],
   "source": [
    "ports = serial.tools.list_ports.comports()\n",
    "ser = serial.Serial('/dev/ttyACM0', 115200) #Port address and Baudrate (info transfer rate)\n",
    "port = '/dev/ttyACM0'\n",
    "m = MachineCommunication(port)\n",
    "ser.write(b'G90\\n') #Command to make sure the Jubilee is using absolute as opposed to relative positioning\n",
    "m.toolChange(1)"
   ]
  },
  {
   "cell_type": "markdown",
   "id": "23c1a4a9",
   "metadata": {},
   "source": [
    "### 1. Define output directory"
   ]
  },
  {
   "cell_type": "code",
   "execution_count": null,
   "id": "63561397",
   "metadata": {},
   "outputs": [],
   "source": [
    "#Define directory to save image data for this experiment\n",
    "data_dir = '/home/pi/Documents/Data'\n",
    "expt_dir = data_dir + '/Test_expt'\n",
    "expt_id = \"test\"\n",
    "print(\"Image files will be saved to:\")\n",
    "print(expt_dir)\n"
   ]
  },
  {
   "cell_type": "markdown",
   "id": "9f0faaee-9f99-43a2-be97-687d62ada213",
   "metadata": {},
   "source": [
    "### 2. Option 1 - Read file to define plates to be imaged"
   ]
  },
  {
   "cell_type": "code",
   "execution_count": null,
   "id": "38289a40-31b4-43da-8b0a-89ed80e769f6",
   "metadata": {},
   "outputs": [],
   "source": [
    "\n",
    "#Automated option: Define experiment set up file and read from that which plates are to be imaged. \n",
    "\n",
    "expt_setup_parent_dir = os.getcwd() # Default uses current working directory but you can replace with your own choice. \n",
    "expt_setup_dir = \"TestExptDir\" # Name of the folder to hold experiment data and metadata including the setup file\n",
    "expt_setup_file_name = \"TestFile.json\" #Name for the experiment setup file (Metadata)\n",
    "\n",
    "exp_setup_file_path = os.path.join(expt_setup_parent_dir, expt_setup_dir)\n",
    "print(exp_setup_file_path)"
   ]
  },
  {
   "cell_type": "code",
   "execution_count": null,
   "id": "56aea553-f2b0-435c-9042-d9ed1901d3f2",
   "metadata": {},
   "outputs": [],
   "source": [
    "os.chdir(exp_setup_file_path)\n",
    "\n",
    "with open(expt_setup_file_name) as datafile:\n",
    "    expt_data = json.load(datafile)\n",
    "\n",
    "# Turn samples list into a dataframe\n",
    "sample_data = expt_data[\"sample_info\"]\n",
    "df = pd.DataFrame(sample_data)\n",
    "\n",
    "unique_plates = list(df.Plate.unique())\n",
    "\n",
    "def pull_last_number(n):\n",
    "    return n[-1:]\n",
    "\n",
    "plates_to_image = list(map(pull_last_number, unique_plates))\n",
    "print(plates_to_image)\n"
   ]
  },
  {
   "cell_type": "markdown",
   "id": "01fda554-d909-48cf-b15a-d18d3a4821f1",
   "metadata": {},
   "source": [
    "### 2. Option 2 - Manually define plates to be imaged"
   ]
  },
  {
   "cell_type": "code",
   "execution_count": null,
   "id": "edd971e8",
   "metadata": {},
   "outputs": [],
   "source": [
    "# Manual option: Which plates do you want to image (numbers correspond to positions on bedplate. Options: 1,2,3,4,5)\n",
    "plates_to_image = [1]"
   ]
  },
  {
   "cell_type": "markdown",
   "id": "b28a6469",
   "metadata": {},
   "source": [
    "### 3. Focus camera\n",
    "Run the cells below. It will move the camera over the first well of the first plate and then pop up a live camera window. Manually adjust the focus to the desired point by twisting the housing of the camera lens. Then hit the escape key to close the window"
   ]
  },
  {
   "cell_type": "code",
   "execution_count": 7,
   "id": "feba91f2-f131-4e86-adf6-7d32d270948a",
   "metadata": {},
   "outputs": [],
   "source": [
    "#Move camera over first well to be imaged\n",
    "move_to_first_well(plates_to_image)\n",
    "\n",
    "#Open a live video window\n",
    "cap = cv2.VideoCapture(0) #Note that the index corresponding to your camera may not be zero but this is the most common default\n",
    "\n",
    "while True:\n",
    "    ret, frame = cap.read()\n",
    "    cv2.imshow('Input', frame)\n",
    "    c = cv2.waitKey(1)\n",
    "    if c ==27: #27 is the built in code for ESC so press escape to close the window. \n",
    "        break \n",
    "        \n",
    "cap.release()\n",
    "cv2.destroyAllWindows()"
   ]
  },
  {
   "cell_type": "markdown",
   "id": "5517b096",
   "metadata": {},
   "source": [
    "### 3. Capture and save images"
   ]
  },
  {
   "cell_type": "code",
   "execution_count": null,
   "id": "9eb324b2",
   "metadata": {},
   "outputs": [],
   "source": [
    "for p in plates_to_image:\n",
    "    image_plate(p)"
   ]
  }
 ],
 "metadata": {
  "kernelspec": {
   "display_name": "Python 3 (ipykernel)",
   "language": "python",
   "name": "python3"
  },
  "language_info": {
   "codemirror_mode": {
    "name": "ipython",
    "version": 3
   },
   "file_extension": ".py",
   "mimetype": "text/x-python",
   "name": "python",
   "nbconvert_exporter": "python",
   "pygments_lexer": "ipython3",
   "version": "3.7.3"
  }
 },
 "nbformat": 4,
 "nbformat_minor": 5
}
