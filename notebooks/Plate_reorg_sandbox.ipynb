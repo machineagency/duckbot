{
 "cells": [
  {
   "cell_type": "code",
   "execution_count": 13,
   "id": "27a38287",
   "metadata": {},
   "outputs": [],
   "source": [
    "import random\n",
    "import pandas as pd\n",
    "import utils.DuckbotExptSetupUtils as exp\n",
    "import os\n",
    "import json\n",
    "import utils.Plate_positions as pp\n"
   ]
  },
  {
   "cell_type": "code",
   "execution_count": 10,
   "id": "42d6aeb8",
   "metadata": {},
   "outputs": [],
   "source": [
    "# USER ACTION REQUIRED\n",
    "\n",
    "#1. DEFINE EXPERIMENTAL VARIABLES\n",
    "genotypes = [\"Sp7498\", \"sp3484\"] # Replace with names for unique duckweed genotypes\n",
    "media = [\"Mock\", \"Salt\"] # Replace with names for unique media\n",
    "reps  = 3 # Replace with your desired number of replicates for each duckweed/media combination. \n",
    "\n",
    "#2. DEFINE FILE LOCATION AND NAME\n",
    "expt_setup_parent_dir = os.getcwd() # Default uses current working directory but you can replace with your own choice. \n",
    "expt_setup_dir = \"test_data/TestExptDir\" # Name of the folder to hold experiment data and metadata including the setup file\n",
    "expt_setup_file_name = \"TestFile.json\" #Name for the experiment setup file (Metadata)\n",
    "\n",
    "        "
   ]
  },
  {
   "cell_type": "code",
   "execution_count": 8,
   "id": "b7762cc2",
   "metadata": {},
   "outputs": [
    {
     "name": "stdout",
     "output_type": "stream",
     "text": [
      "/home/delangeo/duckbot_git_clone/duckbot\n"
     ]
    }
   ],
   "source": [
    "# os.chdir('duckbot/')\n",
    "\n",
    "print(os.getcwd())\n",
    "# os.chdir('..')\n"
   ]
  },
  {
   "cell_type": "code",
   "execution_count": 11,
   "id": "fe2a104f",
   "metadata": {},
   "outputs": [
    {
     "name": "stdout",
     "output_type": "stream",
     "text": [
      "/home/delangeo/duckbot_git_clone/duckbot/test_data/TestExptDir\n",
      "/home/delangeo/duckbot_git_clone/duckbot/test_data/TestExptDir\n",
      "  genotype media  condition_replicate    plate_well_id    Plate Well\n",
      "0   Sp7498  Mock                    1  Plate_1_Well_A1  Plate_1   A1\n",
      "1   Sp7498  Salt                    2  Plate_1_Well_A2  Plate_1   A2\n",
      "2   Sp7498  Salt                    1  Plate_1_Well_A3  Plate_1   A3\n",
      "3   Sp7498  Mock                    2  Plate_1_Well_A4  Plate_1   A4\n"
     ]
    }
   ],
   "source": [
    "path = os.path.join(expt_setup_parent_dir, expt_setup_dir)\n",
    "# print(os.getcwd())\n",
    "# os.chdir('..')\n",
    "# print(os.getcwd())\n",
    "print(path)\n",
    "\n",
    "os.chdir(path)\n",
    "print(os.getcwd())\n",
    "\n",
    "\n",
    "\n",
    "with open(expt_setup_file_name) as datafile:\n",
    "    expt_data = json.load(datafile)\n",
    "\n",
    "sample_data = expt_data[\"sample_info\"]\n",
    "df = pd.DataFrame(sample_data)\n",
    "print (df[0:])\n"
   ]
  },
  {
   "cell_type": "code",
   "execution_count": 21,
   "id": "1c05e947",
   "metadata": {},
   "outputs": [
    {
     "name": "stdout",
     "output_type": "stream",
     "text": [
      "[{'well_id': 'A1', 'col': 0, 'row': 0, 'x': 10, 'y': 210}, {'well_id': 'A2', 'col': 1, 'row': 0, 'x': 27, 'y': 210}, {'well_id': 'A3', 'col': 2, 'row': 0, 'x': 44, 'y': 210}, {'well_id': 'A4', 'col': 3, 'row': 0, 'x': 61, 'y': 210}, {'well_id': 'A5', 'col': 4, 'row': 0, 'x': 78, 'y': 210}, {'well_id': 'A6', 'col': 5, 'row': 0, 'x': 95, 'y': 210}, {'well_id': 'B1', 'col': 0, 'row': 0, 'x': 10, 'y': 210}, {'well_id': 'B2', 'col': 1, 'row': 1, 'x': 27, 'y': 193}, {'well_id': 'B3', 'col': 2, 'row': 1, 'x': 44, 'y': 193}, {'well_id': 'B4', 'col': 3, 'row': 1, 'x': 61, 'y': 193}, {'well_id': 'B5', 'col': 4, 'row': 1, 'x': 78, 'y': 193}, {'well_id': 'B6', 'col': 5, 'row': 1, 'x': 95, 'y': 193}, {'well_id': 'C1', 'col': 0, 'row': 2, 'x': 10, 'y': 176}, {'well_id': 'C2', 'col': 1, 'row': 2, 'x': 27, 'y': 176}, {'well_id': 'C3', 'col': 2, 'row': 2, 'x': 44, 'y': 176}, {'well_id': 'C4', 'col': 3, 'row': 2, 'x': 61, 'y': 176}, {'well_id': 'C5', 'col': 4, 'row': 2, 'x': 78, 'y': 176}, {'well_id': 'C6', 'col': 5, 'row': 2, 'x': 95, 'y': 176}, {'well_id': 'D1', 'col': 0, 'row': 3, 'x': 10, 'y': 159}, {'well_id': 'D2', 'col': 1, 'row': 3, 'x': 27, 'y': 159}, {'well_id': 'D3', 'col': 2, 'row': 3, 'x': 44, 'y': 159}, {'well_id': 'D4', 'col': 3, 'row': 3, 'x': 61, 'y': 159}, {'well_id': 'D5', 'col': 4, 'row': 3, 'x': 78, 'y': 159}, {'well_id': 'D6', 'col': 5, 'row': 3, 'x': 95, 'y': 159}]\n",
      "A1\n",
      "A2\n",
      "A3\n",
      "A4\n",
      "  genotype media  condition_replicate    plate_well_id    Plate Well     x  \\\n",
      "0   Sp7498  Mock                    1  Plate_1_Well_A1  Plate_1   A1  10.0   \n",
      "1   Sp7498  Salt                    2  Plate_1_Well_A2  Plate_1   A2  27.0   \n",
      "2   Sp7498  Salt                    1  Plate_1_Well_A3  Plate_1   A3  44.0   \n",
      "3   Sp7498  Mock                    2  Plate_1_Well_A4  Plate_1   A4  61.0   \n",
      "\n",
      "       y  \n",
      "0  210.0  \n",
      "1  210.0  \n",
      "2  210.0  \n",
      "3  210.0  \n"
     ]
    }
   ],
   "source": [
    "#Add X and Y coordinates\n",
    "plates_to_set_up = [1] #That is drawn from the number of unique plates in the dataframe. Not too hard. \n",
    "\n",
    "def add_well_coords_to_df(plate_num, df):\n",
    "    well_coord_list_of_dicts = pp.fetch_plate_wellpostions(plate_num)\n",
    "    print(well_coord_list_of_dicts)\n",
    "#     plate_df = df.loc[df['Plate'] == f'Plate_{plate_num}']\n",
    "    for index, row in df.iterrows():\n",
    "        print(row['Well'])\n",
    "        for well in well_coord_list_of_dicts:\n",
    "            if row['Plate'] == f'Plate_{plate_num}' and row['Well'] == well['well_id']:\n",
    "                df.loc[index, 'x'] = well['x']\n",
    "                df.loc[index, 'y'] = well['y']\n",
    "    print(df)\n",
    "#     for i, well in enumerate(well_coord_list_of_dicts):\n",
    "        \n",
    "#         m.moveTo(x=well[\"x\"], y=well[\"y\"], z=10)\n",
    "\n",
    "for p in plates_to_set_up:\n",
    "    add_well_coords_to_df(p, df)\n",
    "    \n",
    "        \n"
   ]
  },
  {
   "cell_type": "code",
   "execution_count": 31,
   "id": "168fa35d",
   "metadata": {},
   "outputs": [
    {
     "name": "stdout",
     "output_type": "stream",
     "text": [
      "[{'media': 'Mock', 'well-coords': [[10.0, 210.0], [61.0, 210.0]]}, {'media': 'Salt', 'well-coords': [[27.0, 210.0], [44.0, 210.0]]}]\n"
     ]
    }
   ],
   "source": [
    "#Create new dictionary\n",
    "media_df = df.groupby(['media']) #Returns a list of tuples with [0] being the group key and [1] the dataframe\n",
    "media_dicts = []\n",
    "for m in media_df:\n",
    "    well_coords = []\n",
    "    for index, row in m[1].iterrows():\n",
    "        this_well = []\n",
    "        this_well.append(row['x'])\n",
    "        this_well.append(row['y'])\n",
    "        well_coords.append(this_well)\n",
    "    media_dicts.append({'media': m[0], 'well-coords' : well_coords})\n",
    "    \n",
    "print(media_dicts)"
   ]
  },
  {
   "cell_type": "code",
   "execution_count": 7,
   "id": "69a650b9",
   "metadata": {},
   "outputs": [],
   "source": [
    "\n",
    "bedplate_z_offest = 10\n",
    "plate_column_offset = 141\n",
    "plate_row_offset = 97\n",
    "\n",
    "well_column_offset = 19\n",
    "well_row_offset = 19\n",
    "\n",
    "plate_start_position = {\"x\" : 27, \"y\" : 267}#The way we have the bedplate set up is basically upside down relative to what the Duetboard is expecting. So instead of calculating our y up from zero we go down from 300. \n",
    "\n",
    "plates = [{\"plate_id\": 1, \"col\": 0, \"row\": 1},\n",
    "          {\"plate_id\": 2, \"col\": 0, \"row\": 2},\n",
    "          {\"plate_id\": 3, \"col\": 1, \"row\": 0},\n",
    "          {\"plate_id\": 4, \"col\": 1, \"row\": 1},\n",
    "          {\"plate_id\": 5, \"col\": 1, \"row\": 2}]\n",
    "\n",
    "\n",
    "\n",
    "wells_in_plate= [{\"well_id\" : \"A1\", \"col\": 0, \"row\": 0}                          ,\n",
    "                 {\"well_id\" : \"A2\", \"col\": 1, \"row\": 0},\n",
    "                 {\"well_id\" : \"A3\", \"col\": 2, \"row\": 0},\n",
    "                 {\"well_id\" : \"A4\", \"col\": 3, \"row\": 0},\n",
    "                 {\"well_id\" : \"A5\", \"col\": 4, \"row\": 0},\n",
    "                 {\"well_id\" : \"A6\", \"col\": 5, \"row\": 0},\n",
    "                 {\"well_id\" : \"B1\", \"col\": 0, \"row\": 0},\n",
    "                 {\"well_id\" : \"B2\", \"col\": 1, \"row\": 1},\n",
    "                 {\"well_id\" : \"B3\", \"col\": 2, \"row\": 1},\n",
    "                 {\"well_id\" : \"B4\", \"col\": 3, \"row\": 1},\n",
    "                 {\"well_id\" : \"B5\", \"col\": 4, \"row\": 1},\n",
    "                 {\"well_id\" : \"B6\", \"col\": 5, \"row\": 1},\n",
    "                 {\"well_id\" : \"C1\", \"col\": 0, \"row\": 2},\n",
    "                 {\"well_id\" : \"C2\", \"col\": 1, \"row\": 2},\n",
    "                 {\"well_id\" : \"C3\", \"col\": 2, \"row\": 2},\n",
    "                 {\"well_id\" : \"C4\", \"col\": 3, \"row\": 2},\n",
    "                 {\"well_id\" : \"C5\", \"col\": 4, \"row\": 2},\n",
    "                 {\"well_id\" : \"C6\", \"col\": 5, \"row\": 2},\n",
    "                 {\"well_id\" : \"D1\", \"col\": 0, \"row\": 3},\n",
    "                 {\"well_id\" : \"D2\", \"col\": 1, \"row\": 3},\n",
    "                 {\"well_id\" : \"D3\", \"col\": 2, \"row\": 3},\n",
    "                 {\"well_id\" : \"D4\", \"col\": 3, \"row\": 3},\n",
    "                 {\"well_id\" : \"D5\", \"col\": 4, \"row\": 3},\n",
    "                 {\"well_id\" : \"D6\", \"col\": 5, \"row\": 3}]\n",
    "\n",
    "\n",
    "\n",
    "def fetch_plate_wellpostions(plate_num):\n",
    "    plate_of_interest = next(p for p in plates if p[\"plate_id\"] == plate_num)\n",
    "    start_x = plate_start_position[\"x\"] + (plate_of_interest[\"col\"] * plate_column_offset)\n",
    "    start_y = plate_start_position[\"y\"] - (plate_of_interest[\"row\"] * plate_row_offset)\n",
    "    for i, well in enumerate(wells_in_plate):\n",
    "        well[\"x\"] = start_x + (well[\"col\"] * well_column_offset)\n",
    "        well[\"y\"] = start_y - (well[\"row\"] * well_row_offset)\n",
    "    return(wells_in_plate)\n"
   ]
  },
  {
   "cell_type": "code",
   "execution_count": 8,
   "id": "38c9bc83",
   "metadata": {},
   "outputs": [
    {
     "name": "stdout",
     "output_type": "stream",
     "text": [
      "[{'plate_id': 1, 'col': 0, 'row': 1}, {'plate_id': 2, 'col': 0, 'row': 2}, {'plate_id': 3, 'col': 1, 'row': 0}, {'plate_id': 4, 'col': 1, 'row': 1}, {'plate_id': 5, 'col': 1, 'row': 2}]\n"
     ]
    }
   ],
   "source": [
    "print(plates)"
   ]
  },
  {
   "cell_type": "code",
   "execution_count": 14,
   "id": "092d503d",
   "metadata": {},
   "outputs": [
    {
     "name": "stdout",
     "output_type": "stream",
     "text": [
      "[{'plate': 1, 'well_dict': [{'well_id': 'A1', 'col': 0, 'row': 0, 'x': 168, 'y': 73}, {'well_id': 'A2', 'col': 1, 'row': 0, 'x': 187, 'y': 73}, {'well_id': 'A3', 'col': 2, 'row': 0, 'x': 206, 'y': 73}, {'well_id': 'A4', 'col': 3, 'row': 0, 'x': 225, 'y': 73}, {'well_id': 'A5', 'col': 4, 'row': 0, 'x': 244, 'y': 73}, {'well_id': 'A6', 'col': 5, 'row': 0, 'x': 263, 'y': 73}, {'well_id': 'B1', 'col': 0, 'row': 0, 'x': 168, 'y': 73}, {'well_id': 'B2', 'col': 1, 'row': 1, 'x': 187, 'y': 54}, {'well_id': 'B3', 'col': 2, 'row': 1, 'x': 206, 'y': 54}, {'well_id': 'B4', 'col': 3, 'row': 1, 'x': 225, 'y': 54}, {'well_id': 'B5', 'col': 4, 'row': 1, 'x': 244, 'y': 54}, {'well_id': 'B6', 'col': 5, 'row': 1, 'x': 263, 'y': 54}, {'well_id': 'C1', 'col': 0, 'row': 2, 'x': 168, 'y': 35}, {'well_id': 'C2', 'col': 1, 'row': 2, 'x': 187, 'y': 35}, {'well_id': 'C3', 'col': 2, 'row': 2, 'x': 206, 'y': 35}, {'well_id': 'C4', 'col': 3, 'row': 2, 'x': 225, 'y': 35}, {'well_id': 'C5', 'col': 4, 'row': 2, 'x': 244, 'y': 35}, {'well_id': 'C6', 'col': 5, 'row': 2, 'x': 263, 'y': 35}, {'well_id': 'D1', 'col': 0, 'row': 3, 'x': 168, 'y': 16}, {'well_id': 'D2', 'col': 1, 'row': 3, 'x': 187, 'y': 16}, {'well_id': 'D3', 'col': 2, 'row': 3, 'x': 206, 'y': 16}, {'well_id': 'D4', 'col': 3, 'row': 3, 'x': 225, 'y': 16}, {'well_id': 'D5', 'col': 4, 'row': 3, 'x': 244, 'y': 16}, {'well_id': 'D6', 'col': 5, 'row': 3, 'x': 263, 'y': 16}]}, {'plate': 2, 'well_dict': [{'well_id': 'A1', 'col': 0, 'row': 0, 'x': 168, 'y': 73}, {'well_id': 'A2', 'col': 1, 'row': 0, 'x': 187, 'y': 73}, {'well_id': 'A3', 'col': 2, 'row': 0, 'x': 206, 'y': 73}, {'well_id': 'A4', 'col': 3, 'row': 0, 'x': 225, 'y': 73}, {'well_id': 'A5', 'col': 4, 'row': 0, 'x': 244, 'y': 73}, {'well_id': 'A6', 'col': 5, 'row': 0, 'x': 263, 'y': 73}, {'well_id': 'B1', 'col': 0, 'row': 0, 'x': 168, 'y': 73}, {'well_id': 'B2', 'col': 1, 'row': 1, 'x': 187, 'y': 54}, {'well_id': 'B3', 'col': 2, 'row': 1, 'x': 206, 'y': 54}, {'well_id': 'B4', 'col': 3, 'row': 1, 'x': 225, 'y': 54}, {'well_id': 'B5', 'col': 4, 'row': 1, 'x': 244, 'y': 54}, {'well_id': 'B6', 'col': 5, 'row': 1, 'x': 263, 'y': 54}, {'well_id': 'C1', 'col': 0, 'row': 2, 'x': 168, 'y': 35}, {'well_id': 'C2', 'col': 1, 'row': 2, 'x': 187, 'y': 35}, {'well_id': 'C3', 'col': 2, 'row': 2, 'x': 206, 'y': 35}, {'well_id': 'C4', 'col': 3, 'row': 2, 'x': 225, 'y': 35}, {'well_id': 'C5', 'col': 4, 'row': 2, 'x': 244, 'y': 35}, {'well_id': 'C6', 'col': 5, 'row': 2, 'x': 263, 'y': 35}, {'well_id': 'D1', 'col': 0, 'row': 3, 'x': 168, 'y': 16}, {'well_id': 'D2', 'col': 1, 'row': 3, 'x': 187, 'y': 16}, {'well_id': 'D3', 'col': 2, 'row': 3, 'x': 206, 'y': 16}, {'well_id': 'D4', 'col': 3, 'row': 3, 'x': 225, 'y': 16}, {'well_id': 'D5', 'col': 4, 'row': 3, 'x': 244, 'y': 16}, {'well_id': 'D6', 'col': 5, 'row': 3, 'x': 263, 'y': 16}]}, {'plate': 3, 'well_dict': [{'well_id': 'A1', 'col': 0, 'row': 0, 'x': 168, 'y': 73}, {'well_id': 'A2', 'col': 1, 'row': 0, 'x': 187, 'y': 73}, {'well_id': 'A3', 'col': 2, 'row': 0, 'x': 206, 'y': 73}, {'well_id': 'A4', 'col': 3, 'row': 0, 'x': 225, 'y': 73}, {'well_id': 'A5', 'col': 4, 'row': 0, 'x': 244, 'y': 73}, {'well_id': 'A6', 'col': 5, 'row': 0, 'x': 263, 'y': 73}, {'well_id': 'B1', 'col': 0, 'row': 0, 'x': 168, 'y': 73}, {'well_id': 'B2', 'col': 1, 'row': 1, 'x': 187, 'y': 54}, {'well_id': 'B3', 'col': 2, 'row': 1, 'x': 206, 'y': 54}, {'well_id': 'B4', 'col': 3, 'row': 1, 'x': 225, 'y': 54}, {'well_id': 'B5', 'col': 4, 'row': 1, 'x': 244, 'y': 54}, {'well_id': 'B6', 'col': 5, 'row': 1, 'x': 263, 'y': 54}, {'well_id': 'C1', 'col': 0, 'row': 2, 'x': 168, 'y': 35}, {'well_id': 'C2', 'col': 1, 'row': 2, 'x': 187, 'y': 35}, {'well_id': 'C3', 'col': 2, 'row': 2, 'x': 206, 'y': 35}, {'well_id': 'C4', 'col': 3, 'row': 2, 'x': 225, 'y': 35}, {'well_id': 'C5', 'col': 4, 'row': 2, 'x': 244, 'y': 35}, {'well_id': 'C6', 'col': 5, 'row': 2, 'x': 263, 'y': 35}, {'well_id': 'D1', 'col': 0, 'row': 3, 'x': 168, 'y': 16}, {'well_id': 'D2', 'col': 1, 'row': 3, 'x': 187, 'y': 16}, {'well_id': 'D3', 'col': 2, 'row': 3, 'x': 206, 'y': 16}, {'well_id': 'D4', 'col': 3, 'row': 3, 'x': 225, 'y': 16}, {'well_id': 'D5', 'col': 4, 'row': 3, 'x': 244, 'y': 16}, {'well_id': 'D6', 'col': 5, 'row': 3, 'x': 263, 'y': 16}]}, {'plate': 4, 'well_dict': [{'well_id': 'A1', 'col': 0, 'row': 0, 'x': 168, 'y': 73}, {'well_id': 'A2', 'col': 1, 'row': 0, 'x': 187, 'y': 73}, {'well_id': 'A3', 'col': 2, 'row': 0, 'x': 206, 'y': 73}, {'well_id': 'A4', 'col': 3, 'row': 0, 'x': 225, 'y': 73}, {'well_id': 'A5', 'col': 4, 'row': 0, 'x': 244, 'y': 73}, {'well_id': 'A6', 'col': 5, 'row': 0, 'x': 263, 'y': 73}, {'well_id': 'B1', 'col': 0, 'row': 0, 'x': 168, 'y': 73}, {'well_id': 'B2', 'col': 1, 'row': 1, 'x': 187, 'y': 54}, {'well_id': 'B3', 'col': 2, 'row': 1, 'x': 206, 'y': 54}, {'well_id': 'B4', 'col': 3, 'row': 1, 'x': 225, 'y': 54}, {'well_id': 'B5', 'col': 4, 'row': 1, 'x': 244, 'y': 54}, {'well_id': 'B6', 'col': 5, 'row': 1, 'x': 263, 'y': 54}, {'well_id': 'C1', 'col': 0, 'row': 2, 'x': 168, 'y': 35}, {'well_id': 'C2', 'col': 1, 'row': 2, 'x': 187, 'y': 35}, {'well_id': 'C3', 'col': 2, 'row': 2, 'x': 206, 'y': 35}, {'well_id': 'C4', 'col': 3, 'row': 2, 'x': 225, 'y': 35}, {'well_id': 'C5', 'col': 4, 'row': 2, 'x': 244, 'y': 35}, {'well_id': 'C6', 'col': 5, 'row': 2, 'x': 263, 'y': 35}, {'well_id': 'D1', 'col': 0, 'row': 3, 'x': 168, 'y': 16}, {'well_id': 'D2', 'col': 1, 'row': 3, 'x': 187, 'y': 16}, {'well_id': 'D3', 'col': 2, 'row': 3, 'x': 206, 'y': 16}, {'well_id': 'D4', 'col': 3, 'row': 3, 'x': 225, 'y': 16}, {'well_id': 'D5', 'col': 4, 'row': 3, 'x': 244, 'y': 16}, {'well_id': 'D6', 'col': 5, 'row': 3, 'x': 263, 'y': 16}]}, {'plate': 5, 'well_dict': [{'well_id': 'A1', 'col': 0, 'row': 0, 'x': 168, 'y': 73}, {'well_id': 'A2', 'col': 1, 'row': 0, 'x': 187, 'y': 73}, {'well_id': 'A3', 'col': 2, 'row': 0, 'x': 206, 'y': 73}, {'well_id': 'A4', 'col': 3, 'row': 0, 'x': 225, 'y': 73}, {'well_id': 'A5', 'col': 4, 'row': 0, 'x': 244, 'y': 73}, {'well_id': 'A6', 'col': 5, 'row': 0, 'x': 263, 'y': 73}, {'well_id': 'B1', 'col': 0, 'row': 0, 'x': 168, 'y': 73}, {'well_id': 'B2', 'col': 1, 'row': 1, 'x': 187, 'y': 54}, {'well_id': 'B3', 'col': 2, 'row': 1, 'x': 206, 'y': 54}, {'well_id': 'B4', 'col': 3, 'row': 1, 'x': 225, 'y': 54}, {'well_id': 'B5', 'col': 4, 'row': 1, 'x': 244, 'y': 54}, {'well_id': 'B6', 'col': 5, 'row': 1, 'x': 263, 'y': 54}, {'well_id': 'C1', 'col': 0, 'row': 2, 'x': 168, 'y': 35}, {'well_id': 'C2', 'col': 1, 'row': 2, 'x': 187, 'y': 35}, {'well_id': 'C3', 'col': 2, 'row': 2, 'x': 206, 'y': 35}, {'well_id': 'C4', 'col': 3, 'row': 2, 'x': 225, 'y': 35}, {'well_id': 'C5', 'col': 4, 'row': 2, 'x': 244, 'y': 35}, {'well_id': 'C6', 'col': 5, 'row': 2, 'x': 263, 'y': 35}, {'well_id': 'D1', 'col': 0, 'row': 3, 'x': 168, 'y': 16}, {'well_id': 'D2', 'col': 1, 'row': 3, 'x': 187, 'y': 16}, {'well_id': 'D3', 'col': 2, 'row': 3, 'x': 206, 'y': 16}, {'well_id': 'D4', 'col': 3, 'row': 3, 'x': 225, 'y': 16}, {'well_id': 'D5', 'col': 4, 'row': 3, 'x': 244, 'y': 16}, {'well_id': 'D6', 'col': 5, 'row': 3, 'x': 263, 'y': 16}]}]\n",
      "   plate                                          well_dict\n",
      "0      1  [{'well_id': 'A1', 'col': 0, 'row': 0, 'x': 16...\n",
      "1      2  [{'well_id': 'A1', 'col': 0, 'row': 0, 'x': 16...\n",
      "2      3  [{'well_id': 'A1', 'col': 0, 'row': 0, 'x': 16...\n",
      "3      4  [{'well_id': 'A1', 'col': 0, 'row': 0, 'x': 16...\n",
      "4      5  [{'well_id': 'A1', 'col': 0, 'row': 0, 'x': 16...\n"
     ]
    }
   ],
   "source": [
    "whole_bedplate_positions = []\n",
    "\n",
    "for p in plates:\n",
    "    plate_dict = {}\n",
    "    start_x = plate_start_position[\"x\"] + (p[\"col\"] * plate_column_offset)\n",
    "    start_y = plate_start_position[\"y\"] - (p[\"row\"] * plate_row_offset)\n",
    "    for i, well in enumerate(wells_in_plate):\n",
    "        well[\"x\"] = start_x + (well[\"col\"] * well_column_offset)\n",
    "        well[\"y\"] = start_y - (well[\"row\"] * well_row_offset)\n",
    "    plate_dict[\"plate\"] = p['plate_id']\n",
    "    plate_dict[\"well_dict\"] = wells_in_plate\n",
    "    whole_bedplate_positions.append(plate_dict)\n",
    "\n",
    "print(whole_bedplate_positions)\n",
    "\n",
    "\n",
    "bedplate_df = pd.DataFrame(whole_bedplate_positions)\n",
    "print(bedplate_df)"
   ]
  },
  {
   "cell_type": "code",
   "execution_count": 37,
   "id": "79f5826d",
   "metadata": {},
   "outputs": [],
   "source": [
    "def fetch_well_position(plate_num, well_id):\n",
    "    coords = {}\n",
    "    for p in whole_bedplate_positions:\n",
    "        if str(plate_num) == str(p['plate']):\n",
    "            for w in p[\"well_dict\"]:\n",
    "                if w['well_id'] == well_id:\n",
    "                    coords['x'] = w['x']\n",
    "                    coords['y'] = w['y']\n",
    "    return(coords)\n",
    "                    "
   ]
  },
  {
   "cell_type": "code",
   "execution_count": 38,
   "id": "586aff3a",
   "metadata": {},
   "outputs": [
    {
     "name": "stdout",
     "output_type": "stream",
     "text": [
      "{'x': 168, 'y': 16}\n",
      "168\n",
      "16\n"
     ]
    }
   ],
   "source": [
    "my_well = fetch_well_position(2, \"D1\")\n",
    "print(my_well)\n",
    "print(my_well['x'])\n",
    "print(my_well['y'])\n"
   ]
  },
  {
   "cell_type": "code",
   "execution_count": null,
   "id": "34d57e15",
   "metadata": {},
   "outputs": [],
   "source": []
  }
 ],
 "metadata": {
  "kernelspec": {
   "display_name": "Python 3 (ipykernel)",
   "language": "python",
   "name": "python3"
  },
  "language_info": {
   "codemirror_mode": {
    "name": "ipython",
    "version": 3
   },
   "file_extension": ".py",
   "mimetype": "text/x-python",
   "name": "python",
   "nbconvert_exporter": "python",
   "pygments_lexer": "ipython3",
   "version": "3.7.3"
  }
 },
 "nbformat": 4,
 "nbformat_minor": 5
}
