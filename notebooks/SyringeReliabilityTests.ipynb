{
 "cells": [
  {
   "cell_type": "markdown",
   "id": "1a384faf-ea06-4e9d-b634-52efb876e6c7",
   "metadata": {},
   "source": [
    "# Syringe Reliability Testing\n",
    "\n",
    "WARNING: This is a living test document. Do not run these cells on the machine without checking locations & heights of labware. \n",
    "\n",
    "This notebook is designed to tune values for filling & dispensing the 50cc syringe tool"
   ]
  },
  {
   "cell_type": "code",
   "execution_count": 1,
   "id": "4f40811f-1f5e-418c-8ff4-2991cfa5595d",
   "metadata": {},
   "outputs": [],
   "source": [
    "# import required modules\n",
    "from utils.MachineUtils import *"
   ]
  },
  {
   "cell_type": "code",
   "execution_count": 2,
   "id": "21710fd6-4ffd-4a2a-9f94-f808862f5e0b",
   "metadata": {},
   "outputs": [
    {
     "name": "stdout",
     "output_type": "stream",
     "text": [
      "['ttyACM0', 'ttyAMA0']\n"
     ]
    }
   ],
   "source": [
    "# Setup your machine connection\n",
    "# List available ports in thie cell\n",
    "\n",
    "ports = serial.tools.list_ports.comports()\n",
    "print([port.name for port in ports]) "
   ]
  },
  {
   "cell_type": "code",
   "execution_count": 3,
   "id": "e9c7043e-2dd4-4f47-bca5-d17fc73ab8c9",
   "metadata": {},
   "outputs": [],
   "source": [
    "# Choose the correct port from above and establish connection with machine\n",
    "port = '/dev/ttyACM0'\n",
    "m = MachineCommunication(port)"
   ]
  },
  {
   "cell_type": "code",
   "execution_count": 20,
   "id": "d1501db8-b611-4d34-a7ef-56afab454340",
   "metadata": {},
   "outputs": [],
   "source": [
    "m.toolChange(2)"
   ]
  },
  {
   "cell_type": "code",
   "execution_count": 21,
   "id": "29f6abd2-46d9-4bd7-91c0-1292d3516bfa",
   "metadata": {},
   "outputs": [],
   "source": [
    "m.setExtruderRelative()"
   ]
  },
  {
   "cell_type": "code",
   "execution_count": 22,
   "id": "d7fa6283-ccce-407e-962c-7e3cf2cd3de0",
   "metadata": {},
   "outputs": [],
   "source": [
    "# negative dispenses-- look at config file for extruder\n",
    "m.move(de=1)"
   ]
  },
  {
   "cell_type": "code",
   "execution_count": 23,
   "id": "26d1ee92-4174-4e8b-ab2a-a04327475287",
   "metadata": {},
   "outputs": [],
   "source": [
    "## Set up the location to suck up media\n",
    "media_location = [154, 195, 75]"
   ]
  },
  {
   "cell_type": "code",
   "execution_count": 24,
   "id": "8f213ab4-999c-48a9-9d06-449401a039e5",
   "metadata": {},
   "outputs": [],
   "source": [
    "# move to pick-up media\n",
    "# first move xy\n",
    "m.moveTo(x=media_location[0], y=media_location[1])\n",
    "\n",
    "# then move z\n",
    "m.moveTo(z=media_location[2])"
   ]
  },
  {
   "cell_type": "markdown",
   "id": "c54db644-45fe-4bc6-9945-08587ead363a",
   "metadata": {},
   "source": [
    "### Automate Media Pick Up\n",
    "The following cell dips, aspirates, then undips. The next cell dispenses the liquid. Make sure you've manually set correct depths already. To start, manually 'zero' the syringe"
   ]
  },
  {
   "cell_type": "code",
   "execution_count": 47,
   "id": "67a1c139-2065-49e0-bbb3-4df4214badb2",
   "metadata": {},
   "outputs": [],
   "source": [
    "# dip into media beaker\n",
    "e = 50\n",
    "m.move(dz=-25)\n",
    "\n",
    "# aspirate liquid\n",
    "m.move(de=e, s=500)\n",
    "\n",
    "# undip\n",
    "m.move(dz=25)"
   ]
  },
  {
   "cell_type": "code",
   "execution_count": 48,
   "id": "e19bebbd-8285-485e-9d22-f7437437b835",
   "metadata": {},
   "outputs": [],
   "source": [
    "# dispense the liquid\n",
    "m.move(de=-1*e)"
   ]
  },
  {
   "cell_type": "code",
   "execution_count": null,
   "id": "9318ac6d-ae9c-4f78-951a-66cdac28edff",
   "metadata": {},
   "outputs": [],
   "source": []
  },
  {
   "cell_type": "code",
   "execution_count": null,
   "id": "2651498e-f317-463c-b7fb-3cfba555c547",
   "metadata": {},
   "outputs": [],
   "source": []
  },
  {
   "cell_type": "code",
   "execution_count": 54,
   "id": "49828705-4cf5-4956-9940-521f5994ad3c",
   "metadata": {},
   "outputs": [],
   "source": [
    "# pick up media\n",
    "m.move(de=-50, s=500)"
   ]
  },
  {
   "cell_type": "code",
   "execution_count": 45,
   "id": "f3d70388-5dca-4a66-93ad-586ccefe99f2",
   "metadata": {},
   "outputs": [],
   "source": [
    "# pop z axis down to avoid collisions!\n",
    "m.move(dz=50)"
   ]
  },
  {
   "cell_type": "code",
   "execution_count": 105,
   "id": "9dd5be86-8d47-40a1-b0db-57eeb9625795",
   "metadata": {},
   "outputs": [],
   "source": [
    "# move to dispense location xy pos\n",
    "m.moveTo(x=well_location[0], y=well_location[1])"
   ]
  },
  {
   "cell_type": "code",
   "execution_count": 106,
   "id": "b4ae3dc8-7d5d-4e7e-883d-b3773cc73515",
   "metadata": {},
   "outputs": [],
   "source": [
    "# then move z\n",
    "m.moveTo(z=well_location[2])"
   ]
  },
  {
   "cell_type": "code",
   "execution_count": 115,
   "id": "61f32792-9fa8-423f-8ec0-72f0089cd889",
   "metadata": {},
   "outputs": [],
   "source": [
    "m.move(de=7.8, s=300)"
   ]
  },
  {
   "cell_type": "code",
   "execution_count": null,
   "id": "b5bda70e-b446-4759-b971-b7b19b8fbea8",
   "metadata": {},
   "outputs": [],
   "source": []
  }
 ],
 "metadata": {
  "kernelspec": {
   "display_name": ".venv",
   "language": "python",
   "name": ".venv"
  },
  "language_info": {
   "codemirror_mode": {
    "name": "ipython",
    "version": 3
   },
   "file_extension": ".py",
   "mimetype": "text/x-python",
   "name": "python",
   "nbconvert_exporter": "python",
   "pygments_lexer": "ipython3",
   "version": "3.7.3"
  }
 },
 "nbformat": 4,
 "nbformat_minor": 5
}
