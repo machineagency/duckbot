{
 "cells": [
  {
   "cell_type": "markdown",
   "id": "ef238c27",
   "metadata": {},
   "source": [
    "# Define variables and create experiment config file\n",
    "Run all python code cells in this notebook, filling in your own choices where prompted"
   ]
  },
  {
   "cell_type": "markdown",
   "id": "59a7f526",
   "metadata": {},
   "source": [
    "### Import required libraries and define fixed variables"
   ]
  },
  {
   "cell_type": "code",
   "execution_count": 17,
   "id": "1689331a",
   "metadata": {},
   "outputs": [],
   "source": [
    "import os\n",
    "import json\n",
    "import random\n",
    "import pprint as pprint\n",
    "import utils.PlatePositionUtils as pp\n",
    "import ipywidgets as widgets"
   ]
  },
  {
   "cell_type": "markdown",
   "id": "c6d388e3",
   "metadata": {},
   "source": [
    "## Select where to save this config file\n",
    "Will be different if you are working directly at the raspberry pi or at another computer. You can add to the list of options to suit your workflow. If you do make sure to update across all notebooks. "
   ]
  },
  {
   "cell_type": "code",
   "execution_count": 20,
   "id": "606383eb",
   "metadata": {},
   "outputs": [
    {
     "data": {
      "application/vnd.jupyter.widget-view+json": {
       "model_id": "4747d1c4adcc4b499d118921bd6475d7",
       "version_major": 2,
       "version_minor": 0
      },
      "text/plain": [
       "Dropdown(options=('/Users/Orlando/Documents/Github_clones/duckbot/ConfigFiles/ExptConfigs', '/home/pi/Document…"
      ]
     },
     "metadata": {},
     "output_type": "display_data"
    }
   ],
   "source": [
    "config_file_dirs = ['/Users/Orlando/Documents/Github_clones/duckbot/ConfigFiles/ExptConfigs', \n",
    "                     \"/home/pi/Documents/Data/ConfigFiles/ExptConfigs\"]\n",
    "\n",
    "config_dir_opts = config_file_dirs\n",
    "dir_choice = widgets.Dropdown(options = config_dir_opts)\n",
    "dir_choice.observe( handler = None, names='value')\n",
    "display(dir_choice)"
   ]
  },
  {
   "cell_type": "code",
   "execution_count": 21,
   "id": "ba2d7b2a",
   "metadata": {},
   "outputs": [],
   "source": [
    "config_file_dir = dir_choice.value"
   ]
  },
  {
   "cell_type": "markdown",
   "id": "a173b7d0",
   "metadata": {},
   "source": [
    "### Define your experimental variables\n",
    "Replace values in this cell to define your experiment"
   ]
  },
  {
   "cell_type": "code",
   "execution_count": 22,
   "id": "c564c904",
   "metadata": {},
   "outputs": [],
   "source": [
    "genotypes = [\"Sp7498\", \"Lm5500\", \"Lm8627\",\"TEST\"] # Replace with names for unique duckweed genotypes\n",
    "media = [\"Mock\", \"TEST\"] # Replace with names for unique media\n",
    "reps  = 4 # Replace with your desired number of replicates for each duckweed/media combination. \n"
   ]
  },
  {
   "cell_type": "markdown",
   "id": "1fd0e97d",
   "metadata": {},
   "source": [
    "### Define file names and directories"
   ]
  },
  {
   "cell_type": "code",
   "execution_count": 23,
   "id": "0529e44f",
   "metadata": {},
   "outputs": [],
   "source": [
    "# expt_setup_filename = \"TestDriveExpt_1_08032022.json\" #Name for the experiment setup file (Metadata)\n",
    "Experiment_name = \"Test_082422_2\" #Will be used as set up filename as well as experimental data prefix\n",
    "\n",
    "#Full path to folder where you would like a new folder to be created to save image files from the experiment\n",
    "Experimental_data_host_directories = ['/Users/Orlando/Documents/Github_clones/duckbot/test_data', \n",
    "                                      \"/home/pi/Documents/Data/\"]\n",
    "\n",
    "Experimental_data_directories = [ os.path.join(x,Experiment_name) for x in Experimental_data_host_directories]\n",
    "\n"
   ]
  },
  {
   "cell_type": "markdown",
   "id": "de796356",
   "metadata": {},
   "source": [
    "### Create and save experiment setup config file"
   ]
  },
  {
   "cell_type": "code",
   "execution_count": 24,
   "id": "b9589537",
   "metadata": {},
   "outputs": [],
   "source": [
    "# Creates master list of sample info, shuffles and then assigns to plates and wells. \n",
    "master_expt_list = []\n",
    "\n",
    "for g in genotypes:\n",
    "    for m in media:\n",
    "        for x in range(reps):\n",
    "             master_expt_list.append({\"genotype\": g, \"media\": m, \"condition_replicate\": x + 1})\n",
    "\n",
    "\n",
    "random.shuffle(master_expt_list)\n",
    "master_expt_list = pp.assign_plates_and_wells(master_expt_list)\n",
    "expt_dict = {\"sample_info\" : master_expt_list}"
   ]
  },
  {
   "cell_type": "code",
   "execution_count": 25,
   "id": "aba7b5d4",
   "metadata": {},
   "outputs": [],
   "source": [
    "expt_dict[\"Experiment_name\"] = Experiment_name\n",
    "expt_dict[\"Experimental_data_directories\"] = Experimental_data_directories"
   ]
  },
  {
   "cell_type": "code",
   "execution_count": 26,
   "id": "f6399d49",
   "metadata": {},
   "outputs": [
    {
     "name": "stdout",
     "output_type": "stream",
     "text": [
      "Experiment config file successfully created and saved at path below\n",
      "/Users/Orlando/Documents/Github_clones/duckbot/ConfigFiles/ExptConfigs/Test_082422_2.json\n",
      "\n",
      "Contents of config file are as follows:\n",
      "{'Experiment_name': 'Test_082422_2',\n",
      " 'Experimental_data_directories': ['/Users/Orlando/Documents/Github_clones/duckbot/test_data/Test_082422_2',\n",
      "                                   '/home/pi/Documents/Data/Test_082422_2'],\n",
      " 'sample_info': [{'Plate': 'Plate_1',\n",
      "                  'Well': 'A1',\n",
      "                  'condition_replicate': 1,\n",
      "                  'genotype': 'Lm5500',\n",
      "                  'media': 'TEST',\n",
      "                  'plate_well_id': 'Plate_1_Well_A1'},\n",
      "                 {'Plate': 'Plate_1',\n",
      "                  'Well': 'A2',\n",
      "                  'condition_replicate': 3,\n",
      "                  'genotype': 'Sp7498',\n",
      "                  'media': 'TEST',\n",
      "                  'plate_well_id': 'Plate_1_Well_A2'},\n",
      "                 {'Plate': 'Plate_1',\n",
      "                  'Well': 'A3',\n",
      "                  'condition_replicate': 1,\n",
      "                  'genotype': 'Lm8627',\n",
      "                  'media': 'TEST',\n",
      "                  'plate_well_id': 'Plate_1_Well_A3'},\n",
      "                 {'Plate': 'Plate_1',\n",
      "                  'Well': 'A4',\n",
      "                  'condition_replicate': 3,\n",
      "                  'genotype': 'Lm5500',\n",
      "                  'media': 'Mock',\n",
      "                  'plate_well_id': 'Plate_1_Well_A4'},\n",
      "                 {'Plate': 'Plate_1',\n",
      "                  'Well': 'A5',\n",
      "                  'condition_replicate': 2,\n",
      "                  'genotype': 'Lm5500',\n",
      "                  'media': 'Mock',\n",
      "                  'plate_well_id': 'Plate_1_Well_A5'},\n",
      "                 {'Plate': 'Plate_1',\n",
      "                  'Well': 'A6',\n",
      "                  'condition_replicate': 2,\n",
      "                  'genotype': 'TEST',\n",
      "                  'media': 'Mock',\n",
      "                  'plate_well_id': 'Plate_1_Well_A6'},\n",
      "                 {'Plate': 'Plate_1',\n",
      "                  'Well': 'B1',\n",
      "                  'condition_replicate': 1,\n",
      "                  'genotype': 'TEST',\n",
      "                  'media': 'Mock',\n",
      "                  'plate_well_id': 'Plate_1_Well_B1'},\n",
      "                 {'Plate': 'Plate_1',\n",
      "                  'Well': 'B2',\n",
      "                  'condition_replicate': 1,\n",
      "                  'genotype': 'Sp7498',\n",
      "                  'media': 'Mock',\n",
      "                  'plate_well_id': 'Plate_1_Well_B2'},\n",
      "                 {'Plate': 'Plate_1',\n",
      "                  'Well': 'B3',\n",
      "                  'condition_replicate': 2,\n",
      "                  'genotype': 'Sp7498',\n",
      "                  'media': 'Mock',\n",
      "                  'plate_well_id': 'Plate_1_Well_B3'},\n",
      "                 {'Plate': 'Plate_1',\n",
      "                  'Well': 'B4',\n",
      "                  'condition_replicate': 1,\n",
      "                  'genotype': 'TEST',\n",
      "                  'media': 'TEST',\n",
      "                  'plate_well_id': 'Plate_1_Well_B4'},\n",
      "                 {'Plate': 'Plate_1',\n",
      "                  'Well': 'B5',\n",
      "                  'condition_replicate': 2,\n",
      "                  'genotype': 'Sp7498',\n",
      "                  'media': 'TEST',\n",
      "                  'plate_well_id': 'Plate_1_Well_B5'},\n",
      "                 {'Plate': 'Plate_1',\n",
      "                  'Well': 'B6',\n",
      "                  'condition_replicate': 4,\n",
      "                  'genotype': 'Lm8627',\n",
      "                  'media': 'TEST',\n",
      "                  'plate_well_id': 'Plate_1_Well_B6'},\n",
      "                 {'Plate': 'Plate_1',\n",
      "                  'Well': 'C1',\n",
      "                  'condition_replicate': 3,\n",
      "                  'genotype': 'Lm8627',\n",
      "                  'media': 'TEST',\n",
      "                  'plate_well_id': 'Plate_1_Well_C1'},\n",
      "                 {'Plate': 'Plate_1',\n",
      "                  'Well': 'C2',\n",
      "                  'condition_replicate': 4,\n",
      "                  'genotype': 'Sp7498',\n",
      "                  'media': 'Mock',\n",
      "                  'plate_well_id': 'Plate_1_Well_C2'},\n",
      "                 {'Plate': 'Plate_1',\n",
      "                  'Well': 'C3',\n",
      "                  'condition_replicate': 3,\n",
      "                  'genotype': 'Sp7498',\n",
      "                  'media': 'Mock',\n",
      "                  'plate_well_id': 'Plate_1_Well_C3'},\n",
      "                 {'Plate': 'Plate_1',\n",
      "                  'Well': 'C4',\n",
      "                  'condition_replicate': 4,\n",
      "                  'genotype': 'Lm5500',\n",
      "                  'media': 'Mock',\n",
      "                  'plate_well_id': 'Plate_1_Well_C4'},\n",
      "                 {'Plate': 'Plate_1',\n",
      "                  'Well': 'C5',\n",
      "                  'condition_replicate': 2,\n",
      "                  'genotype': 'Lm5500',\n",
      "                  'media': 'TEST',\n",
      "                  'plate_well_id': 'Plate_1_Well_C5'},\n",
      "                 {'Plate': 'Plate_1',\n",
      "                  'Well': 'C6',\n",
      "                  'condition_replicate': 4,\n",
      "                  'genotype': 'TEST',\n",
      "                  'media': 'TEST',\n",
      "                  'plate_well_id': 'Plate_1_Well_C6'},\n",
      "                 {'Plate': 'Plate_1',\n",
      "                  'Well': 'D1',\n",
      "                  'condition_replicate': 3,\n",
      "                  'genotype': 'TEST',\n",
      "                  'media': 'Mock',\n",
      "                  'plate_well_id': 'Plate_1_Well_D1'},\n",
      "                 {'Plate': 'Plate_1',\n",
      "                  'Well': 'D2',\n",
      "                  'condition_replicate': 2,\n",
      "                  'genotype': 'Lm8627',\n",
      "                  'media': 'Mock',\n",
      "                  'plate_well_id': 'Plate_1_Well_D2'},\n",
      "                 {'Plate': 'Plate_1',\n",
      "                  'Well': 'D3',\n",
      "                  'condition_replicate': 2,\n",
      "                  'genotype': 'Lm8627',\n",
      "                  'media': 'TEST',\n",
      "                  'plate_well_id': 'Plate_1_Well_D3'},\n",
      "                 {'Plate': 'Plate_1',\n",
      "                  'Well': 'D4',\n",
      "                  'condition_replicate': 1,\n",
      "                  'genotype': 'Sp7498',\n",
      "                  'media': 'TEST',\n",
      "                  'plate_well_id': 'Plate_1_Well_D4'},\n",
      "                 {'Plate': 'Plate_1',\n",
      "                  'Well': 'D5',\n",
      "                  'condition_replicate': 2,\n",
      "                  'genotype': 'TEST',\n",
      "                  'media': 'TEST',\n",
      "                  'plate_well_id': 'Plate_1_Well_D5'},\n",
      "                 {'Plate': 'Plate_1',\n",
      "                  'Well': 'D6',\n",
      "                  'condition_replicate': 3,\n",
      "                  'genotype': 'Lm5500',\n",
      "                  'media': 'TEST',\n",
      "                  'plate_well_id': 'Plate_1_Well_D6'},\n",
      "                 {'Plate': 'Plate_2',\n",
      "                  'Well': 'A1',\n",
      "                  'condition_replicate': 3,\n",
      "                  'genotype': 'Lm8627',\n",
      "                  'media': 'Mock',\n",
      "                  'plate_well_id': 'Plate_2_Well_A1'},\n",
      "                 {'Plate': 'Plate_2',\n",
      "                  'Well': 'A2',\n",
      "                  'condition_replicate': 4,\n",
      "                  'genotype': 'TEST',\n",
      "                  'media': 'Mock',\n",
      "                  'plate_well_id': 'Plate_2_Well_A2'},\n",
      "                 {'Plate': 'Plate_2',\n",
      "                  'Well': 'A3',\n",
      "                  'condition_replicate': 3,\n",
      "                  'genotype': 'TEST',\n",
      "                  'media': 'TEST',\n",
      "                  'plate_well_id': 'Plate_2_Well_A3'},\n",
      "                 {'Plate': 'Plate_2',\n",
      "                  'Well': 'A4',\n",
      "                  'condition_replicate': 4,\n",
      "                  'genotype': 'Sp7498',\n",
      "                  'media': 'TEST',\n",
      "                  'plate_well_id': 'Plate_2_Well_A4'},\n",
      "                 {'Plate': 'Plate_2',\n",
      "                  'Well': 'A5',\n",
      "                  'condition_replicate': 1,\n",
      "                  'genotype': 'Lm5500',\n",
      "                  'media': 'Mock',\n",
      "                  'plate_well_id': 'Plate_2_Well_A5'},\n",
      "                 {'Plate': 'Plate_2',\n",
      "                  'Well': 'A6',\n",
      "                  'condition_replicate': 4,\n",
      "                  'genotype': 'Lm5500',\n",
      "                  'media': 'TEST',\n",
      "                  'plate_well_id': 'Plate_2_Well_A6'},\n",
      "                 {'Plate': 'Plate_2',\n",
      "                  'Well': 'B1',\n",
      "                  'condition_replicate': 4,\n",
      "                  'genotype': 'Lm8627',\n",
      "                  'media': 'Mock',\n",
      "                  'plate_well_id': 'Plate_2_Well_B1'},\n",
      "                 {'Plate': 'Plate_2',\n",
      "                  'Well': 'B2',\n",
      "                  'condition_replicate': 1,\n",
      "                  'genotype': 'Lm8627',\n",
      "                  'media': 'Mock',\n",
      "                  'plate_well_id': 'Plate_2_Well_B2'}]}\n"
     ]
    }
   ],
   "source": [
    "expt_setup_file_path = os.path.join(config_file_dir, (Experiment_name + '.json'))\n",
    "\n",
    "#Save experimental set up file\n",
    "# os.chdir(config_file_dir)\n",
    "with open(expt_setup_file_path, 'w') as f:\n",
    "    json.dump(expt_dict, f)\n",
    "\n",
    "if not os.path.exists(expt_setup_file_path):\n",
    "    os.mkdir(expt_setup_file_path) \n",
    "\n",
    "print(\"Experiment config file successfully created and saved at path below\")\n",
    "print(expt_setup_file_path)\n",
    "print()\n",
    "print(\"Contents of config file are as follows:\")\n",
    "pprint.pprint(expt_dict)\n"
   ]
  },
  {
   "cell_type": "code",
   "execution_count": null,
   "id": "983eaf6d",
   "metadata": {},
   "outputs": [],
   "source": []
  }
 ],
 "metadata": {
  "kernelspec": {
   "display_name": "Python 3 (ipykernel)",
   "language": "python",
   "name": "python3"
  },
  "language_info": {
   "codemirror_mode": {
    "name": "ipython",
    "version": 3
   },
   "file_extension": ".py",
   "mimetype": "text/x-python",
   "name": "python",
   "nbconvert_exporter": "python",
   "pygments_lexer": "ipython3",
   "version": "3.9.13"
  }
 },
 "nbformat": 4,
 "nbformat_minor": 5
}
