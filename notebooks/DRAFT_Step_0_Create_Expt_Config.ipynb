{
 "cells": [
  {
   "cell_type": "markdown",
   "id": "724954d3",
   "metadata": {},
   "source": [
    "# Define variables and create experiment config file\n",
    "Run all python code cells in this notebook, filling in your own choices where prompted"
   ]
  },
  {
   "cell_type": "markdown",
   "id": "76f1ff5a",
   "metadata": {},
   "source": [
    "### Import required libraries and define fixed variables"
   ]
  },
  {
   "cell_type": "markdown",
   "id": "4f1991ba",
   "metadata": {},
   "source": [
    "### Define your experimental variables\n",
    "Replace values in this cell to define your experiment"
   ]
  },
  {
   "cell_type": "code",
   "execution_count": null,
   "id": "8923bf09",
   "metadata": {},
   "outputs": [],
   "source": [
    "genotypes = [\"Sp7498\", \"Lm5500\", \"Lm8627\"] # Replace with names for unique duckweed genotypes\n",
    "media = [\"Mock\", \"25 mM Salt\", \"50 mM Salt\", \"75 mM Salt\",\"150 mM Salt\"] # Replace with names for unique media\n",
    "reps  = 4 # Replace with your desired number of replicates for each duckweed/media combination. \n"
   ]
  },
  {
   "cell_type": "code",
   "execution_count": null,
   "id": "9164b5ec",
   "metadata": {},
   "outputs": [],
   "source": []
  },
  {
   "cell_type": "markdown",
   "id": "d9e4ae68",
   "metadata": {},
   "source": [
    "### Define file names and directories"
   ]
  },
  {
   "cell_type": "code",
   "execution_count": null,
   "id": "db11bb47",
   "metadata": {},
   "outputs": [],
   "source": [
    "expt_setup_parent_dir = '/Users/Orlando/Documents/Github_clones/duckbot/notebooks/Demo/' # Default uses current working directory but you can replace with your own choice. \n",
    "# expt_setup_dir = \"TestDriveExpt_1_08032022\" # Name of the folder to hold experiment data and metadata including the setup file\n",
    "expt_setup_dir = \"Test_experiments\" \n",
    "# expt_setup_filename = \"TestDriveExpt_1_08032022.json\" #Name for the experiment setup file (Metadata)\n",
    "expt_setup_filename = \"Expt_082222.json\" #Name for the experiment setup file (Metadata)\n",
    "\n",
    "\n",
    "expt_setup_file_path = os.path.join(expt_setup_parent_dir, expt_setup_dir)\n",
    "print(expt_setup_file_path)\n",
    "\n",
    "if not os.path.exists(expt_setup_file_path):\n",
    "    os.mkdir(expt_setup_file_path) "
   ]
  },
  {
   "cell_type": "markdown",
   "id": "1c91ec87",
   "metadata": {},
   "source": [
    "### Create and save experiment setup config file"
   ]
  },
  {
   "cell_type": "code",
   "execution_count": null,
   "id": "a7bbe24f",
   "metadata": {},
   "outputs": [],
   "source": [
    "# Creates master list of sample info, shuffles and then assigns to plates and wells. \n",
    "master_expt_list = []\n",
    "\n",
    "for g in genotypes:\n",
    "    for m in media:\n",
    "        for x in range(reps):\n",
    "             master_expt_list.append({\"genotype\": g, \"media\": m, \"condition_replicate\": x + 1})\n",
    "\n",
    "\n",
    "random.shuffle(master_expt_list)\n",
    "master_expt_list = exp.assign_plates_and_wells(master_expt_list)\n",
    "expt_dict = {\"sample_info\" : master_expt_list}"
   ]
  }
 ],
 "metadata": {
  "kernelspec": {
   "display_name": "Python 3 (ipykernel)",
   "language": "python",
   "name": "python3"
  },
  "language_info": {
   "codemirror_mode": {
    "name": "ipython",
    "version": 3
   },
   "file_extension": ".py",
   "mimetype": "text/x-python",
   "name": "python",
   "nbconvert_exporter": "python",
   "pygments_lexer": "ipython3",
   "version": "3.9.13"
  }
 },
 "nbformat": 4,
 "nbformat_minor": 5
}
