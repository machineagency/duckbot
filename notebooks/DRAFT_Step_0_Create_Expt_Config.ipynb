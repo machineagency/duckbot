{
 "cells": [
  {
   "cell_type": "markdown",
   "id": "ef238c27",
   "metadata": {},
   "source": [
    "# Define variables and create experiment config file\n",
    "Run all python code cells in this notebook, filling in your own choices where prompted"
   ]
  },
  {
   "cell_type": "markdown",
   "id": "59a7f526",
   "metadata": {},
   "source": [
    "### Import required libraries and define fixed variables"
   ]
  },
  {
   "cell_type": "code",
   "execution_count": 1,
   "id": "1689331a",
   "metadata": {},
   "outputs": [
    {
     "name": "stdout",
     "output_type": "stream",
     "text": [
      "/home/pi/duckbot/ConfigFiles/ExptConfigs\n"
     ]
    }
   ],
   "source": [
    "import os\n",
    "import json\n",
    "import random\n",
    "import pprint as pprint\n",
    "import utils.PlatePositionUtils as pp\n",
    "import ipywidgets as widgets\n",
    "\n",
    "def search_up_dirs(target_dir, max_cycles):\n",
    "    n = 0\n",
    "    while n != max_cycles:\n",
    "        curr_folder = os.path.basename(os.path.normpath(os.getcwd()))\n",
    "        if curr_folder == target_dir:\n",
    "            break\n",
    "        os.chdir('..')\n",
    "        n = n + 1\n",
    "\n",
    "search_up_dirs('duckbot', 5) #Shift to duckbot\n",
    "os.chdir('ConfigFiles/ExptConfigs')\n",
    "config_file_dir = os.getcwd()\n",
    "print(config_file_dir)"
   ]
  },
  {
   "cell_type": "markdown",
   "id": "a173b7d0",
   "metadata": {},
   "source": [
    "##  1. ACTION REQUIRED: Define your experimental variables \n",
    "Replace values in this cell to define your experiment"
   ]
  },
  {
   "cell_type": "code",
   "execution_count": 2,
   "id": "c564c904",
   "metadata": {},
   "outputs": [],
   "source": [
    "Experiment_name = \"FrondTransferForRootImaging\" #Will be used as set up filename as well as experimental data prefix\n",
    "genotypes = [\"Sp7498\"] # Replace with names for unique duckweed genotypes\n",
    "media = [\"Mock\"] # Replace with names for unique media\n",
    "reps  = 24 # Replace with your desired number of replicates for each duckweed/media combination. "
   ]
  },
  {
   "cell_type": "markdown",
   "id": "de796356",
   "metadata": {},
   "source": [
    "## 2. Create and save experiment setup config file\n",
    "Simply run these cells, you don't need to edit anything. The final cell will print out the same thing that is saved as a JSON file in case you want to have a look. "
   ]
  },
  {
   "cell_type": "code",
   "execution_count": 3,
   "id": "b9589537",
   "metadata": {},
   "outputs": [],
   "source": [
    "# Creates master list of sample info, shuffles and then assigns to plates and wells. \n",
    "master_expt_list = []\n",
    "\n",
    "for g in genotypes:\n",
    "    for m in media:\n",
    "        for x in range(reps):\n",
    "             master_expt_list.append({\"genotype\": g, \"media\": m, \"condition_replicate\": x + 1})\n",
    "\n",
    "\n",
    "random.shuffle(master_expt_list)\n",
    "master_expt_list = pp.assign_plates_and_wells(master_expt_list)\n",
    "expt_dict = {\"sample_info\" : master_expt_list}"
   ]
  },
  {
   "cell_type": "code",
   "execution_count": 4,
   "id": "aba7b5d4",
   "metadata": {},
   "outputs": [
    {
     "ename": "NameError",
     "evalue": "name 'Experimental_data_directories' is not defined",
     "output_type": "error",
     "traceback": [
      "\u001b[0;31m---------------------------------------------------------------------------\u001b[0m",
      "\u001b[0;31mNameError\u001b[0m                                 Traceback (most recent call last)",
      "\u001b[0;32m/tmp/ipykernel_3383/652023973.py\u001b[0m in \u001b[0;36m<module>\u001b[0;34m\u001b[0m\n\u001b[1;32m      1\u001b[0m \u001b[0mexpt_dict\u001b[0m\u001b[0;34m[\u001b[0m\u001b[0;34m\"Experiment_name\"\u001b[0m\u001b[0;34m]\u001b[0m \u001b[0;34m=\u001b[0m \u001b[0mExperiment_name\u001b[0m\u001b[0;34m\u001b[0m\u001b[0;34m\u001b[0m\u001b[0m\n\u001b[0;32m----> 2\u001b[0;31m \u001b[0mexpt_dict\u001b[0m\u001b[0;34m[\u001b[0m\u001b[0;34m\"Experimental_data_directories\"\u001b[0m\u001b[0;34m]\u001b[0m \u001b[0;34m=\u001b[0m \u001b[0mExperimental_data_directories\u001b[0m\u001b[0;34m\u001b[0m\u001b[0;34m\u001b[0m\u001b[0m\n\u001b[0m",
      "\u001b[0;31mNameError\u001b[0m: name 'Experimental_data_directories' is not defined"
     ]
    }
   ],
   "source": [
    "expt_dict[\"Experiment_name\"] = Experiment_name\n",
    "expt_dict[\"Experimental_data_directories\"] = Experimental_data_directories"
   ]
  },
  {
   "cell_type": "code",
   "execution_count": 5,
   "id": "f6399d49",
   "metadata": {},
   "outputs": [
    {
     "name": "stdout",
     "output_type": "stream",
     "text": [
      "Experiment config file successfully created and saved at path below\n",
      "/home/pi/duckbot/ConfigFiles/ExptConfigs/FrondTransferForRootImaging.json\n",
      "\n",
      "Contents of config file are as follows:\n",
      "{'Experiment_name': 'FrondTransferForRootImaging',\n",
      " 'sample_info': [{'Plate': 'Plate_1',\n",
      "                  'Well': 'A1',\n",
      "                  'condition_replicate': 6,\n",
      "                  'genotype': 'Sp7498',\n",
      "                  'media': 'Mock',\n",
      "                  'plate_well_id': 'Plate_1_Well_A1'},\n",
      "                 {'Plate': 'Plate_1',\n",
      "                  'Well': 'A2',\n",
      "                  'condition_replicate': 16,\n",
      "                  'genotype': 'Sp7498',\n",
      "                  'media': 'Mock',\n",
      "                  'plate_well_id': 'Plate_1_Well_A2'},\n",
      "                 {'Plate': 'Plate_1',\n",
      "                  'Well': 'A3',\n",
      "                  'condition_replicate': 11,\n",
      "                  'genotype': 'Sp7498',\n",
      "                  'media': 'Mock',\n",
      "                  'plate_well_id': 'Plate_1_Well_A3'},\n",
      "                 {'Plate': 'Plate_1',\n",
      "                  'Well': 'A4',\n",
      "                  'condition_replicate': 13,\n",
      "                  'genotype': 'Sp7498',\n",
      "                  'media': 'Mock',\n",
      "                  'plate_well_id': 'Plate_1_Well_A4'},\n",
      "                 {'Plate': 'Plate_1',\n",
      "                  'Well': 'A5',\n",
      "                  'condition_replicate': 10,\n",
      "                  'genotype': 'Sp7498',\n",
      "                  'media': 'Mock',\n",
      "                  'plate_well_id': 'Plate_1_Well_A5'},\n",
      "                 {'Plate': 'Plate_1',\n",
      "                  'Well': 'A6',\n",
      "                  'condition_replicate': 1,\n",
      "                  'genotype': 'Sp7498',\n",
      "                  'media': 'Mock',\n",
      "                  'plate_well_id': 'Plate_1_Well_A6'},\n",
      "                 {'Plate': 'Plate_1',\n",
      "                  'Well': 'B1',\n",
      "                  'condition_replicate': 21,\n",
      "                  'genotype': 'Sp7498',\n",
      "                  'media': 'Mock',\n",
      "                  'plate_well_id': 'Plate_1_Well_B1'},\n",
      "                 {'Plate': 'Plate_1',\n",
      "                  'Well': 'B2',\n",
      "                  'condition_replicate': 14,\n",
      "                  'genotype': 'Sp7498',\n",
      "                  'media': 'Mock',\n",
      "                  'plate_well_id': 'Plate_1_Well_B2'},\n",
      "                 {'Plate': 'Plate_1',\n",
      "                  'Well': 'B3',\n",
      "                  'condition_replicate': 20,\n",
      "                  'genotype': 'Sp7498',\n",
      "                  'media': 'Mock',\n",
      "                  'plate_well_id': 'Plate_1_Well_B3'},\n",
      "                 {'Plate': 'Plate_1',\n",
      "                  'Well': 'B4',\n",
      "                  'condition_replicate': 18,\n",
      "                  'genotype': 'Sp7498',\n",
      "                  'media': 'Mock',\n",
      "                  'plate_well_id': 'Plate_1_Well_B4'},\n",
      "                 {'Plate': 'Plate_1',\n",
      "                  'Well': 'B5',\n",
      "                  'condition_replicate': 17,\n",
      "                  'genotype': 'Sp7498',\n",
      "                  'media': 'Mock',\n",
      "                  'plate_well_id': 'Plate_1_Well_B5'},\n",
      "                 {'Plate': 'Plate_1',\n",
      "                  'Well': 'B6',\n",
      "                  'condition_replicate': 3,\n",
      "                  'genotype': 'Sp7498',\n",
      "                  'media': 'Mock',\n",
      "                  'plate_well_id': 'Plate_1_Well_B6'},\n",
      "                 {'Plate': 'Plate_1',\n",
      "                  'Well': 'C1',\n",
      "                  'condition_replicate': 9,\n",
      "                  'genotype': 'Sp7498',\n",
      "                  'media': 'Mock',\n",
      "                  'plate_well_id': 'Plate_1_Well_C1'},\n",
      "                 {'Plate': 'Plate_1',\n",
      "                  'Well': 'C2',\n",
      "                  'condition_replicate': 23,\n",
      "                  'genotype': 'Sp7498',\n",
      "                  'media': 'Mock',\n",
      "                  'plate_well_id': 'Plate_1_Well_C2'},\n",
      "                 {'Plate': 'Plate_1',\n",
      "                  'Well': 'C3',\n",
      "                  'condition_replicate': 12,\n",
      "                  'genotype': 'Sp7498',\n",
      "                  'media': 'Mock',\n",
      "                  'plate_well_id': 'Plate_1_Well_C3'},\n",
      "                 {'Plate': 'Plate_1',\n",
      "                  'Well': 'C4',\n",
      "                  'condition_replicate': 8,\n",
      "                  'genotype': 'Sp7498',\n",
      "                  'media': 'Mock',\n",
      "                  'plate_well_id': 'Plate_1_Well_C4'},\n",
      "                 {'Plate': 'Plate_1',\n",
      "                  'Well': 'C5',\n",
      "                  'condition_replicate': 19,\n",
      "                  'genotype': 'Sp7498',\n",
      "                  'media': 'Mock',\n",
      "                  'plate_well_id': 'Plate_1_Well_C5'},\n",
      "                 {'Plate': 'Plate_1',\n",
      "                  'Well': 'C6',\n",
      "                  'condition_replicate': 5,\n",
      "                  'genotype': 'Sp7498',\n",
      "                  'media': 'Mock',\n",
      "                  'plate_well_id': 'Plate_1_Well_C6'},\n",
      "                 {'Plate': 'Plate_1',\n",
      "                  'Well': 'D1',\n",
      "                  'condition_replicate': 4,\n",
      "                  'genotype': 'Sp7498',\n",
      "                  'media': 'Mock',\n",
      "                  'plate_well_id': 'Plate_1_Well_D1'},\n",
      "                 {'Plate': 'Plate_1',\n",
      "                  'Well': 'D2',\n",
      "                  'condition_replicate': 22,\n",
      "                  'genotype': 'Sp7498',\n",
      "                  'media': 'Mock',\n",
      "                  'plate_well_id': 'Plate_1_Well_D2'},\n",
      "                 {'Plate': 'Plate_1',\n",
      "                  'Well': 'D3',\n",
      "                  'condition_replicate': 2,\n",
      "                  'genotype': 'Sp7498',\n",
      "                  'media': 'Mock',\n",
      "                  'plate_well_id': 'Plate_1_Well_D3'},\n",
      "                 {'Plate': 'Plate_1',\n",
      "                  'Well': 'D4',\n",
      "                  'condition_replicate': 15,\n",
      "                  'genotype': 'Sp7498',\n",
      "                  'media': 'Mock',\n",
      "                  'plate_well_id': 'Plate_1_Well_D4'},\n",
      "                 {'Plate': 'Plate_1',\n",
      "                  'Well': 'D5',\n",
      "                  'condition_replicate': 7,\n",
      "                  'genotype': 'Sp7498',\n",
      "                  'media': 'Mock',\n",
      "                  'plate_well_id': 'Plate_1_Well_D5'},\n",
      "                 {'Plate': 'Plate_1',\n",
      "                  'Well': 'D6',\n",
      "                  'condition_replicate': 24,\n",
      "                  'genotype': 'Sp7498',\n",
      "                  'media': 'Mock',\n",
      "                  'plate_well_id': 'Plate_1_Well_D6'}]}\n"
     ]
    }
   ],
   "source": [
    "expt_setup_file_path = os.path.join(config_file_dir, (Experiment_name + '.json'))\n",
    "\n",
    "#Save experimental set up file\n",
    "# os.chdir(config_file_dir)\n",
    "with open(expt_setup_file_path, 'w') as f:\n",
    "    json.dump(expt_dict, f)\n",
    "\n",
    "if not os.path.exists(expt_setup_file_path):\n",
    "    os.mkdir(expt_setup_file_path) \n",
    "\n",
    "print(\"Experiment config file successfully created and saved at path below\")\n",
    "print(expt_setup_file_path)\n",
    "print()\n",
    "print(\"Contents of config file are as follows:\")\n",
    "pprint.pprint(expt_dict)\n"
   ]
  },
  {
   "cell_type": "code",
   "execution_count": null,
   "id": "f143c4ec",
   "metadata": {},
   "outputs": [],
   "source": []
  },
  {
   "cell_type": "code",
   "execution_count": null,
   "id": "1f02e401",
   "metadata": {},
   "outputs": [],
   "source": []
  }
 ],
 "metadata": {
  "kernelspec": {
   "display_name": "Python 3 (ipykernel)",
   "language": "python",
   "name": "python3"
  },
  "language_info": {
   "codemirror_mode": {
    "name": "ipython",
    "version": 3
   },
   "file_extension": ".py",
   "mimetype": "text/x-python",
   "name": "python",
   "nbconvert_exporter": "python",
   "pygments_lexer": "ipython3",
   "version": "3.7.3"
  }
 },
 "nbformat": 4,
 "nbformat_minor": 5
}
