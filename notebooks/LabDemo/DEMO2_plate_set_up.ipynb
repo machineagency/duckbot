{
 "cells": [
  {
   "cell_type": "markdown",
   "id": "94241553",
   "metadata": {},
   "source": [
    "## Set up a duckweed genotypes x media growth assay"
   ]
  },
  {
   "cell_type": "markdown",
   "id": "cbe12e31",
   "metadata": {},
   "source": [
    "### Pre-requisites to use this script\n",
    "1. Precise plate and well positions for your machine defined in Plate_positions.py in the 'utils' subdirectory. \n",
    "2. All the parameters defined in the cell 'User paramters'. \n",
    "3. Sufficient 24-well plates, sterile media and duckweed plants available. \n",
    "4. Jubilee machine set up with Media-dispensing syringe tool (50 mL), Duckweed transfer syringe tool and lab automation bedplate. \n"
   ]
  },
  {
   "cell_type": "code",
   "execution_count": 1,
   "id": "d9261ed0",
   "metadata": {},
   "outputs": [],
   "source": [
    "#Importing python libraries downloaded from the internet\n",
    "import random\n",
    "import pandas as pd\n",
    "import os\n",
    "import json\n",
    "import time\n",
    "import math"
   ]
  },
  {
   "cell_type": "code",
   "execution_count": 2,
   "id": "a859b399",
   "metadata": {},
   "outputs": [],
   "source": [
    "#Importing python libraries from local files. \n",
    "import utils.DuckbotExptSetupUtils as exp\n",
    "from utils.MachineUtils import *\n",
    "from utils.CameraUtils import *\n",
    "import utils.PlatePositionUtils as pp "
   ]
  },
  {
   "cell_type": "code",
   "execution_count": 3,
   "id": "383ee4c9",
   "metadata": {},
   "outputs": [],
   "source": [
    "port = '/dev/ttyACM0'\n",
    "m = MachineCommunication(port)"
   ]
  },
  {
   "cell_type": "markdown",
   "id": "4e56cfe1",
   "metadata": {},
   "source": [
    "## 1. Define user parameters"
   ]
  },
  {
   "cell_type": "markdown",
   "id": "18a64ccc",
   "metadata": {},
   "source": [
    "### Labware config \n",
    "All should be in arbitrary Jubilee motor units. Find this manually on the machine. They shouldn't need to be updated until you start using a new reservoir. And if that's the case you could create a labware library and then define the media_reservoir variable as one of the objects in your library. "
   ]
  },
  {
   "cell_type": "code",
   "execution_count": 4,
   "id": "d99f7a1f",
   "metadata": {},
   "outputs": [],
   "source": [
    "#X and Y should get the machine to the center of the reservoir. \n",
    "media_reservoir = { 'x' : 75, 'y' : 241,}\n",
    "\n",
    "#Tool positions\n",
    "media_syringe = 2 #What jubilee tool position did you define this as?\n",
    "duckweed_syringe = 3\n",
    "\n",
    "#Volume calculations\n",
    "dispenses_per_syringe_fill = 20\n",
    "dispense_mL = 1.5 #In mL\n",
    "vol_conversion = 3.9 #One mL is 3.9 units. \n",
    "dispense_offset = dispense_mL * vol_conversion\n",
    "\n",
    "#Z-positions for different actions\n",
    "z_dict = {\"zero\": 0, #Note that zeros\n",
    "          \"aspirate\" : -46.5, #Measure this for yourself and your labware/toolheads.\n",
    "          \"dispense\" : -21.5\n",
    "         }"
   ]
  },
  {
   "cell_type": "markdown",
   "id": "1135c3ef",
   "metadata": {},
   "source": [
    "### Define experimental variables, and desired file names and save locations. "
   ]
  },
  {
   "cell_type": "code",
   "execution_count": 5,
   "id": "a916546d",
   "metadata": {},
   "outputs": [
    {
     "name": "stdout",
     "output_type": "stream",
     "text": [
      "/home/pi/duckbot/notebooks/LabDemo\n"
     ]
    }
   ],
   "source": [
    "\n",
    "#1. DEFINE EXPERIMENTAL VARIABLES\n",
    "genotypes = [\"Sp7498\"] # Replace with names for unique duckweed genotypes\n",
    "media = [\"Mock\", \"Salt\"] # Replace with names for unique media\n",
    "reps  = 12 # Replace with your desired number of replicates for each duckweed/media combination. \n",
    "\n",
    "#2. DEFINE FILE LOCATION AND NAME\n",
    "expt_setup_parent_dir = os.getcwd() # Default uses current working directory but you can replace with your own choice. \n",
    "expt_setup_dir = \"LabDemo\" # Name of the folder to hold experiment data and metadata including the setup file\n",
    "expt_setup_filename = \"LabDemo.json\" #Name for the experiment setup file (Metadata)\n",
    "\n",
    "expt_setup_file_path = os.path.join(expt_setup_parent_dir, expt_setup_dir)\n",
    "print(expt_setup_file_path)\n",
    "\n",
    "if not os.path.exists(expt_setup_file_path):\n",
    "    os.mkdir(expt_setup_file_path)     "
   ]
  },
  {
   "cell_type": "markdown",
   "id": "1ce24584",
   "metadata": {},
   "source": [
    "## 2. Create dataframe with experiment metadata"
   ]
  },
  {
   "cell_type": "code",
   "execution_count": 6,
   "id": "46b27146",
   "metadata": {},
   "outputs": [],
   "source": [
    "# Creates master list of sample info, shuffles and then assigns to plates and wells. \n",
    "master_expt_list = []\n",
    "\n",
    "for g in genotypes:\n",
    "    for m in media:\n",
    "        for x in range(reps):\n",
    "             master_expt_list.append({\"genotype\": g, \"media\": m, \"condition_replicate\": x + 1})\n",
    "\n",
    "\n",
    "random.shuffle(master_expt_list)\n",
    "master_expt_list = exp.assign_plates_and_wells(master_expt_list)\n",
    "expt_dict = {\"sample_info\" : master_expt_list}"
   ]
  },
  {
   "cell_type": "code",
   "execution_count": 7,
   "id": "84a9591b",
   "metadata": {},
   "outputs": [],
   "source": [
    "#Save experimental set up file\n",
    "os.chdir(expt_setup_file_path)\n",
    "with open(expt_setup_filename, 'w') as f:\n",
    "    json.dump(expt_dict, f)"
   ]
  },
  {
   "cell_type": "code",
   "execution_count": 8,
   "id": "5cce9399",
   "metadata": {},
   "outputs": [
    {
     "name": "stdout",
     "output_type": "stream",
     "text": [
      "   genotype media  condition_replicate    plate_well_id    Plate Well\n",
      "0    Sp7498  Mock                    7  Plate_1_Well_A1  Plate_1   A1\n",
      "1    Sp7498  Mock                    1  Plate_1_Well_A2  Plate_1   A2\n",
      "2    Sp7498  Mock                   10  Plate_1_Well_A3  Plate_1   A3\n",
      "3    Sp7498  Salt                    3  Plate_1_Well_A4  Plate_1   A4\n",
      "4    Sp7498  Mock                    6  Plate_1_Well_A5  Plate_1   A5\n",
      "5    Sp7498  Mock                    9  Plate_1_Well_A6  Plate_1   A6\n",
      "6    Sp7498  Salt                    4  Plate_1_Well_B1  Plate_1   B1\n",
      "7    Sp7498  Salt                   10  Plate_1_Well_B2  Plate_1   B2\n",
      "8    Sp7498  Mock                   12  Plate_1_Well_B3  Plate_1   B3\n",
      "9    Sp7498  Salt                    9  Plate_1_Well_B4  Plate_1   B4\n",
      "10   Sp7498  Salt                   12  Plate_1_Well_B5  Plate_1   B5\n",
      "11   Sp7498  Salt                    2  Plate_1_Well_B6  Plate_1   B6\n",
      "12   Sp7498  Mock                    3  Plate_1_Well_C1  Plate_1   C1\n",
      "13   Sp7498  Mock                    5  Plate_1_Well_C2  Plate_1   C2\n",
      "14   Sp7498  Mock                   11  Plate_1_Well_C3  Plate_1   C3\n",
      "15   Sp7498  Salt                   11  Plate_1_Well_C4  Plate_1   C4\n",
      "16   Sp7498  Mock                    8  Plate_1_Well_C5  Plate_1   C5\n",
      "17   Sp7498  Mock                    2  Plate_1_Well_C6  Plate_1   C6\n",
      "18   Sp7498  Salt                    6  Plate_1_Well_D1  Plate_1   D1\n",
      "19   Sp7498  Mock                    4  Plate_1_Well_D2  Plate_1   D2\n",
      "20   Sp7498  Salt                    8  Plate_1_Well_D3  Plate_1   D3\n",
      "21   Sp7498  Salt                    1  Plate_1_Well_D4  Plate_1   D4\n",
      "22   Sp7498  Salt                    5  Plate_1_Well_D5  Plate_1   D5\n",
      "23   Sp7498  Salt                    7  Plate_1_Well_D6  Plate_1   D6\n"
     ]
    }
   ],
   "source": [
    "#Import from file (in case user wants to make any manual edits to the JSON file after creating it)\n",
    "os.chdir(expt_setup_file_path)\n",
    "with open(expt_setup_filename) as datafile:\n",
    "    expt_data = json.load(datafile)\n",
    "\n",
    "# Turn samples list into a dataframe\n",
    "sample_data = expt_data[\"sample_info\"]\n",
    "df = pd.DataFrame(sample_data)\n",
    "print(df)"
   ]
  },
  {
   "cell_type": "markdown",
   "id": "61b71c98",
   "metadata": {},
   "source": [
    "## 3. Label 24-well plates and add to machine"
   ]
  },
  {
   "cell_type": "markdown",
   "id": "fe38bb67",
   "metadata": {},
   "source": [
    "#### Label Plates and add plates to machine"
   ]
  },
  {
   "cell_type": "code",
   "execution_count": 9,
   "id": "bc31ce67",
   "metadata": {},
   "outputs": [
    {
     "name": "stdout",
     "output_type": "stream",
     "text": [
      "1\n",
      "This experiment requires 1 24-well plate(s)\n",
      "----\n",
      "Label a plate with experiment ID or initials and 'plate 1'\n",
      "----\n",
      "Place the 24-well plate(s) in the jubilee\n",
      "Start at position 1 and fill empty plate slots in order\n"
     ]
    }
   ],
   "source": [
    "num_plates = df.Plate.nunique()\n",
    "print(num_plates)\n",
    "\n",
    "print(\"This experiment requires {} 24-well plate(s)\".format(num_plates))\n",
    "print(\"----\")\n",
    "lst = list(range(1,num_plates + 1))\n",
    "for n in lst:\n",
    "    print(\"Label a plate with experiment ID or initials and 'plate {}'\".format(n))\n",
    "print(\"----\")\n",
    "print (\"Place the 24-well plate(s) in the jubilee\".format(num_plates))\n",
    "print (\"Start at position 1 and fill empty plate slots in order\")"
   ]
  },
  {
   "cell_type": "markdown",
   "id": "3bd8f5e8",
   "metadata": {},
   "source": [
    "## 2. Dispense media\n",
    "When prompted insert containers of the relevant sterile media into the input slot on the Jubilee. "
   ]
  },
  {
   "cell_type": "code",
   "execution_count": 10,
   "id": "97e3d8a0",
   "metadata": {},
   "outputs": [
    {
     "name": "stdout",
     "output_type": "stream",
     "text": [
      "   genotype media  condition_replicate    plate_well_id    Plate Well      x  \\\n",
      "0    Sp7498  Mock                    7  Plate_1_Well_A1  Plate_1   A1   29.0   \n",
      "1    Sp7498  Mock                    1  Plate_1_Well_A2  Plate_1   A2   48.0   \n",
      "2    Sp7498  Mock                   10  Plate_1_Well_A3  Plate_1   A3   67.0   \n",
      "3    Sp7498  Salt                    3  Plate_1_Well_A4  Plate_1   A4   86.0   \n",
      "4    Sp7498  Mock                    6  Plate_1_Well_A5  Plate_1   A5  105.0   \n",
      "5    Sp7498  Mock                    9  Plate_1_Well_A6  Plate_1   A6  124.0   \n",
      "6    Sp7498  Salt                    4  Plate_1_Well_B1  Plate_1   B1   29.0   \n",
      "7    Sp7498  Salt                   10  Plate_1_Well_B2  Plate_1   B2   48.0   \n",
      "8    Sp7498  Mock                   12  Plate_1_Well_B3  Plate_1   B3   67.0   \n",
      "9    Sp7498  Salt                    9  Plate_1_Well_B4  Plate_1   B4   86.0   \n",
      "10   Sp7498  Salt                   12  Plate_1_Well_B5  Plate_1   B5  105.0   \n",
      "11   Sp7498  Salt                    2  Plate_1_Well_B6  Plate_1   B6  124.0   \n",
      "12   Sp7498  Mock                    3  Plate_1_Well_C1  Plate_1   C1   29.0   \n",
      "13   Sp7498  Mock                    5  Plate_1_Well_C2  Plate_1   C2   48.0   \n",
      "14   Sp7498  Mock                   11  Plate_1_Well_C3  Plate_1   C3   67.0   \n",
      "15   Sp7498  Salt                   11  Plate_1_Well_C4  Plate_1   C4   86.0   \n",
      "16   Sp7498  Mock                    8  Plate_1_Well_C5  Plate_1   C5  105.0   \n",
      "17   Sp7498  Mock                    2  Plate_1_Well_C6  Plate_1   C6  124.0   \n",
      "18   Sp7498  Salt                    6  Plate_1_Well_D1  Plate_1   D1   29.0   \n",
      "19   Sp7498  Mock                    4  Plate_1_Well_D2  Plate_1   D2   48.0   \n",
      "20   Sp7498  Salt                    8  Plate_1_Well_D3  Plate_1   D3   67.0   \n",
      "21   Sp7498  Salt                    1  Plate_1_Well_D4  Plate_1   D4   86.0   \n",
      "22   Sp7498  Salt                    5  Plate_1_Well_D5  Plate_1   D5  105.0   \n",
      "23   Sp7498  Salt                    7  Plate_1_Well_D6  Plate_1   D6  124.0   \n",
      "\n",
      "        y  \n",
      "0   175.0  \n",
      "1   175.0  \n",
      "2   175.0  \n",
      "3   175.0  \n",
      "4   175.0  \n",
      "5   175.0  \n",
      "6   156.0  \n",
      "7   156.0  \n",
      "8   156.0  \n",
      "9   156.0  \n",
      "10  156.0  \n",
      "11  156.0  \n",
      "12  137.0  \n",
      "13  137.0  \n",
      "14  137.0  \n",
      "15  137.0  \n",
      "16  137.0  \n",
      "17  137.0  \n",
      "18  118.0  \n",
      "19  118.0  \n",
      "20  118.0  \n",
      "21  118.0  \n",
      "22  118.0  \n",
      "23  118.0  \n"
     ]
    }
   ],
   "source": [
    "#Retrieve absolute positions of wells from a library and then add those coordinatest to the plate set up dataframe\n",
    "df = pp.add_well_coords_to_df_from_file(expt_setup_file_path, expt_setup_filename)\n",
    "print(df)"
   ]
  },
  {
   "cell_type": "code",
   "execution_count": 11,
   "id": "13862d22",
   "metadata": {},
   "outputs": [
    {
     "name": "stdout",
     "output_type": "stream",
     "text": [
      "[{'media': 'Mock', 'well-coords': [[29.0, 175.0], [48.0, 175.0], [67.0, 175.0], [105.0, 175.0], [124.0, 175.0], [67.0, 156.0], [29.0, 137.0], [48.0, 137.0], [67.0, 137.0], [105.0, 137.0], [124.0, 137.0], [48.0, 118.0]]}, {'media': 'Salt', 'well-coords': [[86.0, 175.0], [29.0, 156.0], [48.0, 156.0], [86.0, 156.0], [105.0, 156.0], [124.0, 156.0], [86.0, 137.0], [29.0, 118.0], [67.0, 118.0], [86.0, 118.0], [105.0, 118.0], [124.0, 118.0]]}]\n"
     ]
    }
   ],
   "source": [
    "#Reorganizes dataframe to create machine instructions sorted by media-type\n",
    "media_dicts = pp.pull_list_of_well_coord_dicts_by_dfcolumn(df, 'media')\n",
    "print(media_dicts)"
   ]
  },
  {
   "cell_type": "code",
   "execution_count": 12,
   "id": "eba8e49a",
   "metadata": {},
   "outputs": [],
   "source": [
    "#Pick up syringe toolhead\n",
    "port = '/dev/ttyACM0'\n",
    "m = MachineCommunication(port)\n",
    "m.toolChange(media_syringe)"
   ]
  },
  {
   "cell_type": "code",
   "execution_count": 13,
   "id": "c2f07170",
   "metadata": {},
   "outputs": [
    {
     "name": "stdout",
     "output_type": "stream",
     "text": [
      "Please ensure Mock is available in the machine before continuing.\n",
      "Change syringe and/or needle if desired\n",
      "Enter 'YES' to confirm that the correct media is in positionYES\n",
      "Move to Z = zero\n",
      "Move to reservoir position\n",
      "moved to height for aspiration\n",
      "G1    E81.90 F1000.00\n",
      "Moved to Z = zero\n",
      "Hovering over the first well to dispense into\n",
      "Prepare to dispense\n",
      "X = 48.0\n",
      "Y = 175.0\n",
      "G1    E-5.85 F1000.00\n",
      "Prepare to dispense\n",
      "X = 86.0\n",
      "Y = 175.0\n",
      "G1    E-5.85 F1000.00\n",
      "Prepare to dispense\n",
      "X = 105.0\n",
      "Y = 175.0\n",
      "G1    E-5.85 F1000.00\n",
      "Prepare to dispense\n",
      "X = 67.0\n",
      "Y = 156.0\n",
      "G1    E-5.85 F1000.00\n",
      "Prepare to dispense\n",
      "X = 86.0\n",
      "Y = 156.0\n",
      "G1    E-5.85 F1000.00\n",
      "Prepare to dispense\n",
      "X = 105.0\n",
      "Y = 156.0\n",
      "G1    E-5.85 F1000.00\n",
      "Prepare to dispense\n",
      "X = 124.0\n",
      "Y = 156.0\n",
      "G1    E-5.85 F1000.00\n",
      "Prepare to dispense\n",
      "X = 86.0\n",
      "Y = 137.0\n",
      "G1    E-5.85 F1000.00\n",
      "Prepare to dispense\n",
      "X = 124.0\n",
      "Y = 137.0\n",
      "G1    E-5.85 F1000.00\n",
      "Prepare to dispense\n",
      "X = 48.0\n",
      "Y = 118.0\n",
      "G1    E-5.85 F1000.00\n",
      "Prepare to dispense\n",
      "X = 67.0\n",
      "Y = 118.0\n",
      "G1    E-5.85 F1000.00\n",
      "Prepare to dispense\n",
      "X = 124.0\n",
      "Y = 118.0\n",
      "G1    E-5.85 F1000.00\n",
      "Move to Z = zero\n",
      "Move to reservoir position\n",
      "G1    E-11.70 F1000.00\n",
      "Empty excess media from syringe\n",
      "Please ensure Salt is available in the machine before continuing.\n",
      "Change syringe and/or needle if desired\n",
      "Enter 'YES' to confirm that the correct media is in positionYES\n",
      "Move to Z = zero\n",
      "Move to reservoir position\n",
      "moved to height for aspiration\n",
      "G1    E81.90 F1000.00\n",
      "Moved to Z = zero\n",
      "Hovering over the first well to dispense into\n",
      "Prepare to dispense\n",
      "X = 29.0\n",
      "Y = 175.0\n",
      "G1    E-5.85 F1000.00\n",
      "Prepare to dispense\n",
      "X = 67.0\n",
      "Y = 175.0\n",
      "G1    E-5.85 F1000.00\n",
      "Prepare to dispense\n",
      "X = 124.0\n",
      "Y = 175.0\n",
      "G1    E-5.85 F1000.00\n",
      "Prepare to dispense\n",
      "X = 29.0\n",
      "Y = 156.0\n",
      "G1    E-5.85 F1000.00\n",
      "Prepare to dispense\n",
      "X = 48.0\n",
      "Y = 156.0\n",
      "G1    E-5.85 F1000.00\n",
      "Prepare to dispense\n",
      "X = 29.0\n",
      "Y = 137.0\n",
      "G1    E-5.85 F1000.00\n",
      "Prepare to dispense\n",
      "X = 48.0\n",
      "Y = 137.0\n",
      "G1    E-5.85 F1000.00\n",
      "Prepare to dispense\n",
      "X = 67.0\n",
      "Y = 137.0\n",
      "G1    E-5.85 F1000.00\n",
      "Prepare to dispense\n",
      "X = 105.0\n",
      "Y = 137.0\n",
      "G1    E-5.85 F1000.00\n",
      "Prepare to dispense\n",
      "X = 29.0\n",
      "Y = 118.0\n",
      "G1    E-5.85 F1000.00\n",
      "Prepare to dispense\n",
      "X = 86.0\n",
      "Y = 118.0\n",
      "G1    E-5.85 F1000.00\n",
      "Prepare to dispense\n",
      "X = 105.0\n",
      "Y = 118.0\n",
      "G1    E-5.85 F1000.00\n",
      "Move to Z = zero\n",
      "Move to reservoir position\n",
      "G1    E-11.70 F1000.00\n",
      "Empty excess media from syringe\n"
     ]
    }
   ],
   "source": [
    "# Send machine instructions\n",
    "for media in media_dicts:\n",
    "    m.moveTo(x=0,y=0,z=0)\n",
    "    print(f\"Please ensure {media['media']} is available in the machine before continuing.\")\n",
    "    print(\"Change syringe and/or needle if desired\")\n",
    "    while True:\n",
    "        value = input(\"Enter 'YES' to confirm that the correct media is in position\")\n",
    "        if value != \"YES\":\n",
    "            print(\"Please confirm\")\n",
    "        else:\n",
    "            break\n",
    "    exp.dispense_to_wells(m, media[\"well-coords\"], dispense_offset, dispenses_per_syringe_fill, media_reservoir, z_dict)"
   ]
  },
  {
   "cell_type": "code",
   "execution_count": 12,
   "id": "2df7c70c",
   "metadata": {},
   "outputs": [
    {
     "ename": "AttributeError",
     "evalue": "'str' object has no attribute 'moveTo'",
     "output_type": "error",
     "traceback": [
      "\u001b[0;31m---------------------------------------------------------------------------\u001b[0m",
      "\u001b[0;31mAttributeError\u001b[0m                            Traceback (most recent call last)",
      "\u001b[0;32m/tmp/ipykernel_1868/1899239456.py\u001b[0m in \u001b[0;36m<module>\u001b[0;34m\u001b[0m\n\u001b[1;32m      1\u001b[0m \u001b[0;31m# pop the bed down for easy access to labware\u001b[0m\u001b[0;34m\u001b[0m\u001b[0;34m\u001b[0m\u001b[0;34m\u001b[0m\u001b[0m\n\u001b[0;32m----> 2\u001b[0;31m \u001b[0mm\u001b[0m\u001b[0;34m.\u001b[0m\u001b[0mmoveTo\u001b[0m\u001b[0;34m(\u001b[0m\u001b[0mz\u001b[0m\u001b[0;34m=\u001b[0m\u001b[0;36m80\u001b[0m\u001b[0;34m)\u001b[0m\u001b[0;34m\u001b[0m\u001b[0;34m\u001b[0m\u001b[0m\n\u001b[0m",
      "\u001b[0;31mAttributeError\u001b[0m: 'str' object has no attribute 'moveTo'"
     ]
    }
   ],
   "source": [
    "# pop the bed down for easy access to labware\n",
    "m.moveTo(z=80)"
   ]
  },
  {
   "cell_type": "markdown",
   "id": "999efd6b",
   "metadata": {},
   "source": [
    "## 5. Transfer duckweed\n",
    "Place a container filled with fronds of the relevant duckweed type and the machine will attempt to move individual fronds into the relevant wells. After each attempt at filling all wells a camera will take pictures of each well to confirm success and then unsuccessful wells will be reattempted"
   ]
  },
  {
   "cell_type": "code",
   "execution_count": 15,
   "id": "2c7f2648-3782-49f0-96ed-1a5fbabdb0f9",
   "metadata": {},
   "outputs": [],
   "source": [
    "port = '/dev/ttyACM0'\n",
    "m = MachineCommunication(port)\n",
    "m.toolChange(3)"
   ]
  },
  {
   "cell_type": "code",
   "execution_count": null,
   "id": "ed4fe70b-a675-4b50-a02a-c7dcdac49750",
   "metadata": {},
   "outputs": [],
   "source": [
    "m.moveTo(x=0,y=0)\n",
    "print(f\"Please ensure the duckweed reservoir and a 22 gauge syringe is available in the machine before continuing.\")\n",
    "while True:\n",
    "    value = input(\"Enter 'YES' to confirm that labware is in position\")\n",
    "    if value != \"YES\":\n",
    "        print(\"Please confirm\")\n",
    "    else:\n",
    "        break"
   ]
  },
  {
   "cell_type": "code",
   "execution_count": 18,
   "id": "d84fb453-3c96-4c55-a06a-b2555ae77f81",
   "metadata": {},
   "outputs": [],
   "source": [
    "# manually probe the z height of the duckweed reservoir surface\n",
    "# enter the z value here\n",
    "# port = '/dev/ttyACM0'\n",
    "# m = MachineCommunication(port)\n",
    "duckweed_reservoir = [77, 243, -18.8]\n",
    "m.moveTo(x=duckweed_reservoir[0], y=duckweed_reservoir[1])\n",
    "# center (x=77): -17.1\n",
    "# edge (x=109): -17.5"
   ]
  },
  {
   "cell_type": "code",
   "execution_count": 24,
   "id": "4f4619f8",
   "metadata": {},
   "outputs": [
    {
     "data": {
      "text/plain": [
       "1.4142135623730951"
      ]
     },
     "execution_count": 24,
     "metadata": {},
     "output_type": "execute_result"
    }
   ],
   "source": [
    "# accounting for the meniscus\n",
    "def dist(x1, y1, x2, y2):\n",
    "    return math.sqrt((x2-x1)**2 + (y2-y1)**2)\n",
    "\n",
    "# def meniscus_compensation(z_center, z_edge, radius):\n",
    "    \n"
   ]
  },
  {
   "cell_type": "code",
   "execution_count": 32,
   "id": "b088ba92-bf4a-4a7f-8729-7c246b5e2fa1",
   "metadata": {},
   "outputs": [],
   "source": [
    "# make sure z value is >0 again after probing water height\n",
    "m.moveTo(z=80) "
   ]
  },
  {
   "cell_type": "code",
   "execution_count": 33,
   "id": "6a8e928a-4a3e-4e6d-89cd-a23ea12542f1",
   "metadata": {},
   "outputs": [
    {
     "name": "stdout",
     "output_type": "stream",
     "text": [
      "G1   Z6.20  F6000.00\n"
     ]
    }
   ],
   "source": [
    "# grab the camera, move the relevant height & position to take pic of duckweed\n",
    "m.toolChange(1)\n",
    "m.moveTo(x=duckweed_reservoir[0], y=duckweed_reservoir[1])\n",
    "\n",
    "# move down more based on surface height\n",
    "syringe_zero = 22.9 # for blue syringe\n",
    "syringe_zero = 25 # for green syringe tip\n",
    "dh = syringe_zero + duckweed_reservoir[2]\n",
    "m.move(dz=dh)"
   ]
  },
  {
   "cell_type": "code",
   "execution_count": 21,
   "id": "dd74935e-0e33-4e95-b236-a65901352226",
   "metadata": {},
   "outputs": [
    {
     "name": "stdout",
     "output_type": "stream",
     "text": [
      "[[ -0.7296065   -0.35246752]\n",
      " [  0.38097134  -0.71682782]\n",
      " [ -0.32375357   0.6160794 ]\n",
      " [  1.60644767  83.44887212]\n",
      " [-82.50757965   1.39357274]\n",
      " [ 75.86369137 238.95022829]]\n",
      "[1200, 1200]\n"
     ]
    }
   ],
   "source": [
    "# load in the relevant calibration files\n",
    "\n",
    "# with open(\"/home/pi/autofocus-test/JubileeAutofocus/camera_cal_z_60_tape.json\") as f:\n",
    "with open(\"/home/pi/autofocus-test/JubileeAutofocus/camera_cal_z_80.json\") as f:\n",
    "    cal = json.load(f)\n",
    "matrix = np.array(cal['transform'])\n",
    "size = cal['resolution']\n",
    "print(matrix)\n",
    "print(size)\n",
    "\n",
    "m.transform = matrix\n",
    "m.img_size = size"
   ]
  },
  {
   "cell_type": "code",
   "execution_count": 22,
   "id": "7c416259-a36c-4265-b548-d70b040b2b7c",
   "metadata": {},
   "outputs": [],
   "source": [
    "#focus camera\n",
    "cap = cv2.VideoCapture(0) #Note that the index corresponding to your camera may not be zero but this is the most common default\n",
    "\n",
    "# draw a circle in the center of the frame\n",
    "center = None\n",
    "while center is None:\n",
    "    # the first frame grab is sometimes empty\n",
    "    ret, frame = cap.read()\n",
    "    h, w = frame.shape[0:2]\n",
    "    center = (int(w/2), int(h/2))\n",
    "\n",
    "while True:\n",
    "    ret, frame = cap.read()\n",
    "    target = cv2.circle(frame, center, 5, (0,255,0), -1)\n",
    "    cv2.imshow('Input', frame)\n",
    "    c = cv2.waitKey(1)\n",
    "    if c ==27: #27 is the built in code for ESC so press escape to close the window. \n",
    "        break \n",
    "        \n",
    "cap.release()\n",
    "cv2.destroyAllWindows()"
   ]
  },
  {
   "cell_type": "code",
   "execution_count": 34,
   "id": "448719cc-5741-428d-afb0-ac3a55705275",
   "metadata": {},
   "outputs": [
    {
     "name": "stdout",
     "output_type": "stream",
     "text": [
      "[(569.4276771133058, 450.7948129714597), (767.2657671669648, 521.7179018586205), (715.0066490395833, 333.2117971848511), (393.98635197138196, 549.7138579982892), (537.6989268216813, 549.7138579982892), (563.8284858853721, 822.2078310910647), (743.0026051792519, 710.2240065323898), (841.9216502060814, 622.5033439614278)]\n"
     ]
    },
    {
     "name": "stderr",
     "output_type": "stream",
     "text": [
      "Exception in Tkinter callback\n",
      "Traceback (most recent call last):\n",
      "  File \"/usr/lib/python3.7/tkinter/__init__.py\", line 1705, in __call__\n",
      "    return self.func(*args)\n",
      "  File \"/usr/lib/python3.7/tkinter/__init__.py\", line 749, in callit\n",
      "    func(*args)\n",
      "  File \"/home/pi/duckbot/.venv/lib/python3.7/site-packages/matplotlib/backends/_backend_tk.py\", line 476, in delayed_destroy\n",
      "    self.window.destroy()\n",
      "  File \"/usr/lib/python3.7/tkinter/__init__.py\", line 2061, in destroy\n",
      "    for c in list(self.children.values()): c.destroy()\n",
      "  File \"/usr/lib/python3.7/tkinter/__init__.py\", line 2308, in destroy\n",
      "    Misc.destroy(self)\n",
      "  File \"/usr/lib/python3.7/tkinter/__init__.py\", line 592, in destroy\n",
      "    self.tk.deletecommand(name)\n",
      "_tkinter.TclError: can't delete Tcl command\n"
     ]
    }
   ],
   "source": [
    "# manually pick fronds\n",
    "# alternatively, manually click a frond\n",
    "f = getFrame()\n",
    "# saveFrame(f, \"/home/pi/Downloads/petri-60.jpg\")\n",
    "pts = selectPoint(f, num_pts=8)\n"
   ]
  },
  {
   "cell_type": "code",
   "execution_count": 35,
   "id": "f8d9224a-b189-47ea-8b43-5b45ff643d13",
   "metadata": {},
   "outputs": [],
   "source": [
    "# convert px coord to real coord\n",
    "def px_to_real(x,y, absolute = False):\n",
    "        x = (x / m.img_size[0]) - 0.5\n",
    "        y = (y / m.img_size[1]) - 0.5\n",
    "        a = 1 if absolute else 0\n",
    "\n",
    "        return (m.transform.T @ np.array([x**2, y**2, x * y, x, y, a]))\n",
    "\n",
    "fronds = []\n",
    "for pt in pts:\n",
    "    frond_off = px_to_real(pt[0], pt[1])\n",
    "    frond = [duckweed_reservoir[0] - frond_off[0], duckweed_reservoir[1] - frond_off[1]]\n",
    "    fronds.append(frond)"
   ]
  },
  {
   "cell_type": "code",
   "execution_count": 36,
   "id": "4e68f4e2",
   "metadata": {},
   "outputs": [],
   "source": [
    "# test block to confirm camera-to-machine alignment\n",
    "idx = 0\n",
    "fx = fronds[idx][0]\n",
    "fy = fronds[idx][1]\n",
    "fx, fy\n",
    "\n",
    "m.moveTo(x=fx, y=fy)"
   ]
  },
  {
   "cell_type": "code",
   "execution_count": 27,
   "id": "daf1aabc",
   "metadata": {},
   "outputs": [],
   "source": [
    "f=getFrame()\n",
    "showFrame(f, grid=True)"
   ]
  },
  {
   "cell_type": "code",
   "execution_count": 37,
   "id": "741a80d0-c2f4-4eac-8b43-778187f99063",
   "metadata": {},
   "outputs": [
    {
     "name": "stdout",
     "output_type": "stream",
     "text": [
      "[[66.77773769560457, 245.30865436999318], [71.40330194790998, 231.47462748137985], [58.483638441626425, 235.36397358818505], [73.8414659892143, 257.391951623938], [73.6279149229661, 247.3917282189], [92.31240763909086, 245.2856794524138], [84.39784901635598, 232.9318003249451], [78.25412846194364, 226.1627075712137]]\n"
     ]
    }
   ],
   "source": [
    "# switch tools, account for offset\n",
    "m.toolChange(3)\n",
    "syringe_off = [-1.23, 5.06] # green\n",
    "# syringe_off = [0.2, 4.86] # new blue\n",
    "# syringe_off = [-0.68, 4.82] # old blue\n",
    "# 73.8, 227.9\n",
    "print(fronds)"
   ]
  },
  {
   "cell_type": "code",
   "execution_count": 31,
   "id": "df3132b6",
   "metadata": {},
   "outputs": [],
   "source": [
    "# testing camera to syringe tool alignment\n",
    "m.moveTo(m.moveTo(x=fx + syringe_off[0], y=fy + syringe_off[1]))"
   ]
  },
  {
   "cell_type": "code",
   "execution_count": 43,
   "id": "d5021f06-8a08-42a6-ab38-cdebb9b62fa8",
   "metadata": {},
   "outputs": [
    {
     "name": "stdout",
     "output_type": "stream",
     "text": [
      "Place container of duckweed type **Sp7498** into jubilee and ensure lid is open\n",
      "Type anything into the input field to confirm that the media is available.\n",
      "    After this point the Jubilee will begin dispensing\n",
      "y\n",
      "G1    E5.00 F1000.00\n",
      "G1   Z-0.50  F6000.00\n",
      "G1    E30.00 F1500.00\n",
      "G1   Z6.00  F500.00\n",
      "G1    E-30.00 F1400.00\n"
     ]
    },
    {
     "ename": "KeyboardInterrupt",
     "evalue": "",
     "output_type": "error",
     "traceback": [
      "\u001b[0;31m---------------------------------------------------------------------------\u001b[0m",
      "\u001b[0;31mKeyboardInterrupt\u001b[0m                         Traceback (most recent call last)",
      "\u001b[0;32m/tmp/ipykernel_1868/1926312268.py\u001b[0m in \u001b[0;36m<module>\u001b[0;34m\u001b[0m\n\u001b[1;32m     44\u001b[0m         \u001b[0mm\u001b[0m\u001b[0;34m.\u001b[0m\u001b[0mmoveTo\u001b[0m\u001b[0;34m(\u001b[0m\u001b[0mx\u001b[0m\u001b[0;34m=\u001b[0m\u001b[0mwell\u001b[0m\u001b[0;34m[\u001b[0m\u001b[0;34m'x'\u001b[0m\u001b[0;34m]\u001b[0m\u001b[0;34m,\u001b[0m \u001b[0my\u001b[0m\u001b[0;34m=\u001b[0m\u001b[0mwell\u001b[0m\u001b[0;34m[\u001b[0m\u001b[0;34m'y'\u001b[0m\u001b[0;34m]\u001b[0m\u001b[0;34m)\u001b[0m\u001b[0;34m\u001b[0m\u001b[0;34m\u001b[0m\u001b[0m\n\u001b[1;32m     45\u001b[0m         \u001b[0mm\u001b[0m\u001b[0;34m.\u001b[0m\u001b[0mdwell\u001b[0m\u001b[0;34m(\u001b[0m\u001b[0;36m1000\u001b[0m\u001b[0;34m)\u001b[0m\u001b[0;34m\u001b[0m\u001b[0;34m\u001b[0m\u001b[0m\n\u001b[0;32m---> 46\u001b[0;31m         \u001b[0mdispense\u001b[0m\u001b[0;34m(\u001b[0m\u001b[0;34m)\u001b[0m\u001b[0;34m\u001b[0m\u001b[0;34m\u001b[0m\u001b[0m\n\u001b[0m\u001b[1;32m     47\u001b[0m         \u001b[0mcount\u001b[0m \u001b[0;34m+=\u001b[0m \u001b[0;36m1\u001b[0m\u001b[0;34m\u001b[0m\u001b[0;34m\u001b[0m\u001b[0m\n\u001b[1;32m     48\u001b[0m         \u001b[0;32mif\u001b[0m \u001b[0mcount\u001b[0m \u001b[0;34m>\u001b[0m \u001b[0;36m7\u001b[0m\u001b[0;34m:\u001b[0m\u001b[0;34m\u001b[0m\u001b[0;34m\u001b[0m\u001b[0m\n",
      "\u001b[0;32m/tmp/ipykernel_1868/1926312268.py\u001b[0m in \u001b[0;36mdispense\u001b[0;34m()\u001b[0m\n\u001b[1;32m     23\u001b[0m \u001b[0;32mdef\u001b[0m \u001b[0mdispense\u001b[0m\u001b[0;34m(\u001b[0m\u001b[0;34m)\u001b[0m\u001b[0;34m:\u001b[0m\u001b[0;34m\u001b[0m\u001b[0;34m\u001b[0m\u001b[0m\n\u001b[1;32m     24\u001b[0m     \u001b[0mm\u001b[0m\u001b[0;34m.\u001b[0m\u001b[0mdwell\u001b[0m\u001b[0;34m(\u001b[0m\u001b[0;36m1000\u001b[0m\u001b[0;34m)\u001b[0m\u001b[0;34m\u001b[0m\u001b[0;34m\u001b[0m\u001b[0m\n\u001b[0;32m---> 25\u001b[0;31m     \u001b[0mm\u001b[0m\u001b[0;34m.\u001b[0m\u001b[0mmove\u001b[0m\u001b[0;34m(\u001b[0m\u001b[0mde\u001b[0m\u001b[0;34m=\u001b[0m\u001b[0;34m-\u001b[0m\u001b[0;36m30\u001b[0m\u001b[0;34m,\u001b[0m \u001b[0ms\u001b[0m\u001b[0;34m=\u001b[0m\u001b[0;36m1400\u001b[0m\u001b[0;34m)\u001b[0m \u001b[0;31m# dispense\u001b[0m\u001b[0;34m\u001b[0m\u001b[0;34m\u001b[0m\u001b[0m\n\u001b[0m\u001b[1;32m     26\u001b[0m \u001b[0;31m#     m.move(de=-40, s=1800)\u001b[0m\u001b[0;34m\u001b[0m\u001b[0;34m\u001b[0m\u001b[0;34m\u001b[0m\u001b[0m\n\u001b[1;32m     27\u001b[0m     \u001b[0mm\u001b[0m\u001b[0;34m.\u001b[0m\u001b[0mdwell\u001b[0m\u001b[0;34m(\u001b[0m\u001b[0;36m500\u001b[0m\u001b[0;34m)\u001b[0m\u001b[0;34m\u001b[0m\u001b[0;34m\u001b[0m\u001b[0m\n",
      "\u001b[0;32m~/duckbot/notebooks/utils/MachineUtils.py\u001b[0m in \u001b[0;36mmove\u001b[0;34m(self, dx, dy, dz, de, s)\u001b[0m\n\u001b[1;32m     94\u001b[0m         \u001b[0mprint\u001b[0m\u001b[0;34m(\u001b[0m\u001b[0mcmd\u001b[0m\u001b[0;34m)\u001b[0m\u001b[0;34m\u001b[0m\u001b[0;34m\u001b[0m\u001b[0m\n\u001b[1;32m     95\u001b[0m         \u001b[0mself\u001b[0m\u001b[0;34m.\u001b[0m\u001b[0msend\u001b[0m\u001b[0;34m(\u001b[0m\u001b[0mcmd\u001b[0m\u001b[0;34m)\u001b[0m\u001b[0;34m\u001b[0m\u001b[0;34m\u001b[0m\u001b[0m\n\u001b[0;32m---> 96\u001b[0;31m         \u001b[0mself\u001b[0m\u001b[0;34m.\u001b[0m\u001b[0msetAbsolute\u001b[0m\u001b[0;34m(\u001b[0m\u001b[0;34m)\u001b[0m \u001b[0;31m# restore absolute positioning\u001b[0m\u001b[0;34m\u001b[0m\u001b[0;34m\u001b[0m\u001b[0m\n\u001b[0m\u001b[1;32m     97\u001b[0m \u001b[0;34m\u001b[0m\u001b[0m\n\u001b[1;32m     98\u001b[0m     \u001b[0;32mdef\u001b[0m \u001b[0mdwell\u001b[0m\u001b[0;34m(\u001b[0m\u001b[0mself\u001b[0m\u001b[0;34m,\u001b[0m \u001b[0mt\u001b[0m\u001b[0;34m,\u001b[0m \u001b[0mmillis\u001b[0m\u001b[0;34m=\u001b[0m\u001b[0;32mTrue\u001b[0m\u001b[0;34m)\u001b[0m\u001b[0;34m:\u001b[0m\u001b[0;34m\u001b[0m\u001b[0;34m\u001b[0m\u001b[0m\n",
      "\u001b[0;32m~/duckbot/notebooks/utils/MachineUtils.py\u001b[0m in \u001b[0;36msetAbsolute\u001b[0;34m(self)\u001b[0m\n\u001b[1;32m    127\u001b[0m         \u001b[0;34m\"\"\"Set machine to use absolute positioning\"\"\"\u001b[0m\u001b[0;34m\u001b[0m\u001b[0;34m\u001b[0m\u001b[0m\n\u001b[1;32m    128\u001b[0m         \u001b[0mcmd\u001b[0m \u001b[0;34m=\u001b[0m \u001b[0;34m\"G90\"\u001b[0m\u001b[0;34m\u001b[0m\u001b[0;34m\u001b[0m\u001b[0m\n\u001b[0;32m--> 129\u001b[0;31m         \u001b[0mself\u001b[0m\u001b[0;34m.\u001b[0m\u001b[0msend\u001b[0m\u001b[0;34m(\u001b[0m\u001b[0mcmd\u001b[0m\u001b[0;34m)\u001b[0m\u001b[0;34m\u001b[0m\u001b[0;34m\u001b[0m\u001b[0m\n\u001b[0m\u001b[1;32m    130\u001b[0m \u001b[0;34m\u001b[0m\u001b[0m\n\u001b[1;32m    131\u001b[0m \u001b[0;34m\u001b[0m\u001b[0m\n",
      "\u001b[0;32m~/duckbot/notebooks/utils/MachineUtils.py\u001b[0m in \u001b[0;36msend\u001b[0;34m(self, cmd)\u001b[0m\n\u001b[1;32m     20\u001b[0m         \u001b[0mcmd\u001b[0m \u001b[0;34m+=\u001b[0m \u001b[0mself\u001b[0m\u001b[0;34m.\u001b[0m\u001b[0mlineEnding\u001b[0m\u001b[0;34m\u001b[0m\u001b[0;34m\u001b[0m\u001b[0m\n\u001b[1;32m     21\u001b[0m         \u001b[0mbcmd\u001b[0m \u001b[0;34m=\u001b[0m \u001b[0mcmd\u001b[0m\u001b[0;34m.\u001b[0m\u001b[0mencode\u001b[0m\u001b[0;34m(\u001b[0m\u001b[0;34m'UTF-8'\u001b[0m\u001b[0;34m)\u001b[0m\u001b[0;34m\u001b[0m\u001b[0;34m\u001b[0m\u001b[0m\n\u001b[0;32m---> 22\u001b[0;31m         \u001b[0mself\u001b[0m\u001b[0;34m.\u001b[0m\u001b[0mser\u001b[0m\u001b[0;34m.\u001b[0m\u001b[0mwrite\u001b[0m\u001b[0;34m(\u001b[0m\u001b[0mbcmd\u001b[0m\u001b[0;34m)\u001b[0m\u001b[0;34m\u001b[0m\u001b[0;34m\u001b[0m\u001b[0m\n\u001b[0m\u001b[1;32m     23\u001b[0m \u001b[0;34m\u001b[0m\u001b[0m\n\u001b[1;32m     24\u001b[0m \u001b[0;34m\u001b[0m\u001b[0m\n",
      "\u001b[0;32m~/duckbot/.venv/lib/python3.7/site-packages/serial/serialposix.py\u001b[0m in \u001b[0;36mwrite\u001b[0;34m(self, data)\u001b[0m\n\u001b[1;32m    638\u001b[0m                     \u001b[0;32massert\u001b[0m \u001b[0mtimeout\u001b[0m\u001b[0;34m.\u001b[0m\u001b[0mtime_left\u001b[0m\u001b[0;34m(\u001b[0m\u001b[0;34m)\u001b[0m \u001b[0;32mis\u001b[0m \u001b[0;32mNone\u001b[0m\u001b[0;34m\u001b[0m\u001b[0;34m\u001b[0m\u001b[0m\n\u001b[1;32m    639\u001b[0m                     \u001b[0;31m# wait for write operation\u001b[0m\u001b[0;34m\u001b[0m\u001b[0;34m\u001b[0m\u001b[0;34m\u001b[0m\u001b[0m\n\u001b[0;32m--> 640\u001b[0;31m                     \u001b[0mabort\u001b[0m\u001b[0;34m,\u001b[0m \u001b[0mready\u001b[0m\u001b[0;34m,\u001b[0m \u001b[0m_\u001b[0m \u001b[0;34m=\u001b[0m \u001b[0mselect\u001b[0m\u001b[0;34m.\u001b[0m\u001b[0mselect\u001b[0m\u001b[0;34m(\u001b[0m\u001b[0;34m[\u001b[0m\u001b[0mself\u001b[0m\u001b[0;34m.\u001b[0m\u001b[0mpipe_abort_write_r\u001b[0m\u001b[0;34m]\u001b[0m\u001b[0;34m,\u001b[0m \u001b[0;34m[\u001b[0m\u001b[0mself\u001b[0m\u001b[0;34m.\u001b[0m\u001b[0mfd\u001b[0m\u001b[0;34m]\u001b[0m\u001b[0;34m,\u001b[0m \u001b[0;34m[\u001b[0m\u001b[0;34m]\u001b[0m\u001b[0;34m,\u001b[0m \u001b[0;32mNone\u001b[0m\u001b[0;34m)\u001b[0m\u001b[0;34m\u001b[0m\u001b[0;34m\u001b[0m\u001b[0m\n\u001b[0m\u001b[1;32m    641\u001b[0m                     \u001b[0;32mif\u001b[0m \u001b[0mabort\u001b[0m\u001b[0;34m:\u001b[0m\u001b[0;34m\u001b[0m\u001b[0;34m\u001b[0m\u001b[0m\n\u001b[1;32m    642\u001b[0m                         \u001b[0mos\u001b[0m\u001b[0;34m.\u001b[0m\u001b[0mread\u001b[0m\u001b[0;34m(\u001b[0m\u001b[0mself\u001b[0m\u001b[0;34m.\u001b[0m\u001b[0mpipe_abort_write_r\u001b[0m\u001b[0;34m,\u001b[0m \u001b[0;36m1\u001b[0m\u001b[0;34m)\u001b[0m\u001b[0;34m\u001b[0m\u001b[0;34m\u001b[0m\u001b[0m\n",
      "\u001b[0;31mKeyboardInterrupt\u001b[0m: "
     ]
    }
   ],
   "source": [
    "# aspirate duckweed\n",
    "# first move to surface\n",
    "def aspirate():\n",
    "    m.move(de=5, s=1000) ; # 'prime' syringe\n",
    "    m.moveTo(z=duckweed_reservoir[2])\n",
    "    m.dwell(1000)\n",
    "    m.move(dz=-0.5) # press slightly\n",
    "    m.dwell(1000)\n",
    "    m.move(de=30, s=1500) # aspirate!\n",
    "    m.move(dz=6, s=500) # aspirate!\n",
    "#     m.move(dz=5, de=50, s=1000) # aspirate!\n",
    "\n",
    "def aspirate_2():\n",
    "    m.move(de=5, s=1000) ; # 'prime' syringe\n",
    "    m.moveTo(z=duckweed_reservoir[2] + 2)\n",
    "    m.dwell(1000)\n",
    "    m.move(dz=-3.5, de=5) # press slightly\n",
    "#     m.dwell(250)\n",
    "    m.move(de=30, s=1800) # aspirate! #1200 for lemna minor\n",
    "    m.move(dz=6, s=500, de=5) # aspirate!\n",
    "#     m.move(dz=5, de=50, s=1000) # aspirate!\n",
    "\n",
    "def dispense():\n",
    "    m.dwell(1000)\n",
    "    m.move(de=-30, s=1400) # dispense\n",
    "#     m.move(de=-40, s=1800)\n",
    "    m.dwell(500)\n",
    "\n",
    "grouped_df = df.groupby('genotype')\n",
    "for field_value, sample_df in grouped_df:\n",
    "    print(\"Place container of duckweed type **{0}** into jubilee and ensure lid is open\".format(field_value))\n",
    "    print(\"\"\"Type anything into the input field to confirm that the media is available.\n",
    "    After this point the Jubilee will begin dispensing\"\"\")\n",
    "    input() \n",
    "    count = 0\n",
    "    for index,s in sample_df.iterrows():\n",
    "        #move to plate and well\n",
    "        frond = fronds[count]\n",
    "        m.moveTo(m.moveTo(x=frond[0] + syringe_off[0], y=frond[1] + syringe_off[1]))\n",
    "#         aspirate()\n",
    "        aspirate()\n",
    "        m.moveTo(z=6.5)\n",
    "        well = pp.fetch_well_position(s[\"Plate\"][-1], str(s[\"Well\"]))\n",
    "        m.moveTo(x=well['x'], y=well['y'])\n",
    "        m.dwell(1000)\n",
    "        dispense()\n",
    "        count += 1\n",
    "        if count > 7:\n",
    "            break\n",
    "# for frond in fronds:\n",
    "#     m.moveTo(m.moveTo(x=frond[0] + syringe_off[0], y=frond[1] + syringe_off[1]))\n",
    "#     aspirate()\n",
    "#     m.dwell(3000)\n",
    "#     dispense()\n",
    "    "
   ]
  },
  {
   "cell_type": "markdown",
   "id": "859e0a0e",
   "metadata": {},
   "source": [
    "## Testing Inoculation Loop"
   ]
  },
  {
   "cell_type": "code",
   "execution_count": null,
   "id": "53927cf7",
   "metadata": {},
   "outputs": [],
   "source": [
    "m.toolChange(4)\n",
    "m.moveTo(x=duckweed_reservoir[0], y=duckweed_reservoir[1])"
   ]
  },
  {
   "cell_type": "code",
   "execution_count": null,
   "id": "74800e13",
   "metadata": {},
   "outputs": [],
   "source": [
    "# find dip height\n",
    "collect_height = -34.7\n",
    "move_height = -9.7\n",
    "transfer_height = -32.2"
   ]
  },
  {
   "cell_type": "code",
   "execution_count": null,
   "id": "8b2f17d6",
   "metadata": {},
   "outputs": [],
   "source": [
    "# Inoculation Loop Transfer Test\n",
    "\n",
    "\n",
    "grouped_df = df.groupby('genotype')\n",
    "for field_value, sample_df in grouped_df:\n",
    "    print(\"Place container of duckweed type **{0}** into jubilee and ensure lid is open\".format(field_value))\n",
    "    print(\"\"\"Type anything into the input field to confirm that the media is available.\n",
    "    After this point the Jubilee will begin dispensing\"\"\")\n",
    "    input() \n",
    "    count = 0\n",
    "    for index,s in sample_df.iterrows():\n",
    "        #move to plate and well\n",
    "        #move to plate and well\n",
    "        r = 10\n",
    "        rx = random.randint(-r, r)\n",
    "        ry = random.randint(-r, r)\n",
    "\n",
    "        # move in xy first\n",
    "        m.moveTo(x=duckweed_reservoir[0] + rx, y=duckweed_reservoir[1] + ry)\n",
    "\n",
    "        # aspirate duckweed\n",
    "        # first move to surface\n",
    "        m.moveTo(z=collect_height)\n",
    "        m.dwell(1000) # wait a bit\n",
    "        \n",
    "        m.moveTo(z=move_height)\n",
    "        well = pp.fetch_well_position(s[\"Plate\"][-1], str(s[\"Well\"]))\n",
    "        m.moveTo(x=well['x'], y=well['y'])\n",
    "#         m.dwell(3000)\n",
    "        m.moveTo(z=transfer_height)\n",
    "        m.dwell(250)\n",
    "        m.moveTo(z=move_height)"
   ]
  },
  {
   "cell_type": "code",
   "execution_count": null,
   "id": "1403a49c",
   "metadata": {},
   "outputs": [],
   "source": [
    "# testing RANDOM aspiration\n",
    "\n",
    "def aspirate():\n",
    "    m.moveTo(z=duckweed_reservoir[2])\n",
    "    m.dwell(1000)\n",
    "    m.move(dz=-0.5) # press slightly\n",
    "    m.dwell(1000)\n",
    "    m.move(dz=5, de=50, s=1000) # aspirate!\n",
    "\n",
    "def dispense():\n",
    "    m.dwell(1000)\n",
    "    m.move(de=-40, s=1800)\n",
    "    m.dwell(500)\n",
    "\n",
    "grouped_df = df.groupby('genotype')\n",
    "for field_value, sample_df in grouped_df:\n",
    "    print(\"Place container of duckweed type **{0}** into jubilee and ensure lid is open\".format(field_value))\n",
    "    print(\"\"\"Type anything into the input field to confirm that the media is available.\n",
    "    After this point the Jubilee will begin dispensing\"\"\")\n",
    "    input() \n",
    "    count = 0\n",
    "    for index,s in sample_df.iterrows():\n",
    "        #move to plate and well\n",
    "        r = 10\n",
    "        rx = random.randint(-r, r)\n",
    "        ry = random.randint(-r, r)\n",
    "\n",
    "        # move in xy first\n",
    "        m.moveTo(x=duckweed_reservoir[0] + rx, y=duckweed_reservoir[1] + ry)\n",
    "\n",
    "        # aspirate duckweed\n",
    "        # first move to surface\n",
    "        m.moveTo(z=duckweed_reservoir[2])\n",
    "        m.dwell(1000) # wait a bit\n",
    "        m.move(dz=-0.5) # press slightly\n",
    "        m.dwell(1000)\n",
    "        m.move(de=20, s=2000) # aspirate!\n",
    "        m.move(dz=5, s=500) # aspirate!\n",
    "\n",
    "        m.dwell(1000)\n",
    "        \n",
    "        m.moveTo(z=-1.3)\n",
    "        well = pp.fetch_well_position(s[\"Plate\"][-1], str(s[\"Well\"]))\n",
    "        m.moveTo(x=well['x'], y=well['y'])\n",
    "        m.dwell(1000)\n",
    "        m.move(de=-20, s=2000) # dispense\n",
    "        count += 1\n",
    "        # if count > 3:\n",
    "        #     break\n",
    "# for frond in fronds:\n",
    "#     m.moveTo(m.moveTo(x=frond[0] + syringe_off[0], y=frond[1] + syringe_off[1]))\n",
    "#     aspirate()\n",
    "#     m.dwell(3000)\n",
    "#     dispense()\n",
    "    "
   ]
  },
  {
   "cell_type": "code",
   "execution_count": null,
   "id": "ab7159af-f344-49be-86cb-cd363bc058e1",
   "metadata": {},
   "outputs": [],
   "source": [
    "# aspirate duckweed\n",
    "# M203 E2500 to increase max speed\n",
    "# M201 E2000 to increase max acc\n",
    "def aspirate_duckweed(reservoir):\n",
    "    # move to a random point to pick up duckweed\n",
    "    # assumes dense petri dish\n",
    "    r = 25\n",
    "    rx = r * random.random()\n",
    "    ry = r * random.random()\n",
    "\n",
    "    # move in xy first\n",
    "    m.moveTo(x=reservoir[0] + rx, y=reservoir[1] + ry)\n",
    "    m.move(de=10, s=1000) # prime the syringe. hopefully not necessary with 10cc.\n",
    "    # aspirate duckweed\n",
    "    # first move to surface\n",
    "    m.moveTo(z=reservoir[2])\n",
    "    m.dwell(3000)\n",
    "    m.move(dz=-0.75) # press slightly\n",
    "    m.dwell(3000)\n",
    "    m.move(dz=8, de=40, s=2000) # aspirate!\n",
    "    "
   ]
  },
  {
   "cell_type": "code",
   "execution_count": null,
   "id": "bb111561-9207-4b52-b33e-87870658b674",
   "metadata": {},
   "outputs": [],
   "source": [
    "# test aspirate\n",
    "aspirate_duckweed(duckweed_reservoir)\n",
    "m.dwell(5000)\n",
    "m.move(de=-20, s=1500)\n",
    "#m.move(dz=10, de=-25, s=2100) # aspirate!"
   ]
  },
  {
   "cell_type": "code",
   "execution_count": null,
   "id": "43f6b4a6-11cd-461e-8ae3-d086d32ee89f",
   "metadata": {},
   "outputs": [],
   "source": [
    "m.dwell(1000)\n",
    "m.move(dz=-0.5) # press slightly\n",
    "m.dwell(1000)\n",
    "m.move(dz=5, de=50, s=1500) # aspirate!"
   ]
  },
  {
   "cell_type": "code",
   "execution_count": null,
   "id": "1b1266de-7da7-4a14-9d42-e736d1e06f17",
   "metadata": {},
   "outputs": [],
   "source": [
    "m.move(de=-40, s=1800)"
   ]
  },
  {
   "cell_type": "code",
   "execution_count": null,
   "id": "3965bc08",
   "metadata": {},
   "outputs": [],
   "source": [
    "#Automated transfer\n",
    "grouped_df = df.groupby('genotype')\n",
    "for field_value, sample_df in grouped_df:\n",
    "    print(\"Place container of duckweed type **{0}** into jubilee and ensure lid is open\".format(field_value))\n",
    "    print(\"\"\"Type anything into the input field to confirm that the media is available.\n",
    "    After this point the Jubilee will begin dispensing\"\"\")\n",
    "    input() \n",
    "    count = 0\n",
    "    for index,s in sample_df.iterrows():\n",
    "        #move to plate and well\n",
    "        aspirate_duckweed(duckweed_reservoir)\n",
    "        m.moveTo(z=-42)\n",
    "        well = pp.fetch_well_position(s[\"Plate\"][-1], str(s[\"Well\"]))\n",
    "        m.moveTo(x=well['x'], y=well['y'])\n",
    "        m.move(de=-25, s=2000) # dispense duckweed \n",
    "        count += 1\n",
    "        if count > 3:\n",
    "            break\n",
    "        #print(\"Move to {0}, well {1}\".format(s[\"Plate\"], s[\"Well\"]))\n",
    "        #print(\"Dispensing media of type {0} into {1}, well {2}\".format(field_value,s[\"Plate\"], s[\"Well\"]))\n"
   ]
  },
  {
   "cell_type": "code",
   "execution_count": null,
   "id": "793e944d-1dc4-40c0-88e7-878d7d1ee4a1",
   "metadata": {},
   "outputs": [],
   "source": [
    "#Manual transfer\n",
    "\n",
    "grouped_df = df.groupby('genotype')\n",
    "for field_value, sample_df in grouped_df:\n",
    "    print(\"Place container of duckweed type **{0}** into jubilee and ensure lid is open\".format(field_value))\n",
    "    for index,s in sample_df.iterrows():\n",
    "        plate = s[\"Plate\"]\n",
    "        well = s[\"Well\"]\n",
    "        print(f\"Transfer {field_value} to plate {plate}, well {well}\")\n",
    "    input()\n",
    "        #print(\"Dispensing media of type {0} into {1}, well {2}\".format(field_value,s[\"Plate\"], s[\"Well\"]))\n"
   ]
  },
  {
   "cell_type": "code",
   "execution_count": null,
   "id": "9364eb08",
   "metadata": {},
   "outputs": [],
   "source": [
    "m.toolChange(3)"
   ]
  },
  {
   "cell_type": "code",
   "execution_count": null,
   "id": "a74191be",
   "metadata": {},
   "outputs": [],
   "source": [
    "# testing various toolpaths"
   ]
  },
  {
   "cell_type": "code",
   "execution_count": null,
   "id": "f6b9ec7d-9175-42c0-afe0-f0fd2da5605c",
   "metadata": {},
   "outputs": [],
   "source": [
    "m.move(de=20, s=1000) # aspirate!"
   ]
  },
  {
   "cell_type": "code",
   "execution_count": null,
   "id": "ff0ce96a",
   "metadata": {},
   "outputs": [],
   "source": [
    "m.move(de=-20, s=1000) # dispense!"
   ]
  },
  {
   "cell_type": "code",
   "execution_count": null,
   "id": "bdeb7f75",
   "metadata": {},
   "outputs": [],
   "source": [
    "# testing showing images with image plates\n",
    "\n",
    "#Directory that hosts experiment set up file\n",
    "expt_setup_dir = '/home/pi/duckbot/notebooks/LabDemo/'\n",
    "\n",
    "#Experimental set up file name, including .json\n",
    "expt_setup_filename = 'LabDemo.json'\n",
    "\n",
    "#Host directory that you want to host the folder with your image files. End with forward slash\n",
    "data_host_dir = '/home/pi/Downloads/'\n",
    "\n",
    "#Name you want to use for the folder with your image files\n",
    "data_dir = 'test'\n",
    "expt_name = 'test' #Will be used as prefix for file names\n",
    "\n",
    "#Where data will be saved\n",
    "output_data_dir = data_host_dir + data_dir  \n",
    "\n",
    "isExist = os.path.exists(output_data_dir)\n",
    "if not isExist:\n",
    "  # Create a new directory because it does not exist \n",
    "    os.makedirs(output_data_dir)\n",
    "    print(\"The new directory is created!\")\n",
    "    \n",
    "print(\"Image files will be saved to:\")\n",
    "print(output_data_dir)\n"
   ]
  },
  {
   "cell_type": "code",
   "execution_count": null,
   "id": "3e7c4de5",
   "metadata": {},
   "outputs": [],
   "source": [
    "#Drop bed down and add plates\n",
    "import utils.ImageCaptureUtils as im\n",
    "print(expt_setup_dir)\n",
    "print(expt_setup_filename)\n",
    "plates_to_image = im.pull_plates_to_image(expt_setup_dir, expt_setup_filename)\n",
    "\n",
    "m.moveTo(z=100)\n",
    "\n",
    "print(f'Load the following experimental plates into the appropriate positions on the bed: {plates_to_image}')\n",
    "print(\"Add plates to the bed. Hit any button to confirm and proceed\")"
   ]
  },
  {
   "cell_type": "code",
   "execution_count": null,
   "id": "cc9c9431",
   "metadata": {},
   "outputs": [],
   "source": [
    "#Move camera over first well to be imaged\n",
    "plates_to_image = im.pull_plates_to_image(expt_setup_dir, expt_setup_filename)\n",
    "im.move_to_first_well(m, plates_to_image)"
   ]
  },
  {
   "cell_type": "code",
   "execution_count": null,
   "id": "50bc7b21",
   "metadata": {},
   "outputs": [],
   "source": []
  }
 ],
 "metadata": {
  "kernelspec": {
   "display_name": "Python 3 (ipykernel)",
   "language": "python",
   "name": "python3"
  },
  "language_info": {
   "codemirror_mode": {
    "name": "ipython",
    "version": 3
   },
   "file_extension": ".py",
   "mimetype": "text/x-python",
   "name": "python",
   "nbconvert_exporter": "python",
   "pygments_lexer": "ipython3",
   "version": "3.7.3"
  }
 },
 "nbformat": 4,
 "nbformat_minor": 5
}
