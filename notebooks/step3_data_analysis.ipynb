{
 "cells": [
  {
   "cell_type": "markdown",
   "id": "e994d63c",
   "metadata": {},
   "source": [
    "## Analyze image data from a duckweed genotypes x media growth assay"
   ]
  },
  {
   "cell_type": "code",
   "execution_count": 1,
   "id": "24a40760",
   "metadata": {},
   "outputs": [],
   "source": [
    "import pandas as pd\n",
    "import os\n",
    "import json\n",
    "from pathlib import Path\n",
    "import utils.GrowthAssayHelpers as helpers\n",
    "import ipywidgets as widgets\n",
    "from pprint import pprint"
   ]
  },
  {
   "cell_type": "markdown",
   "id": "c8ee0596",
   "metadata": {},
   "source": [
    "## 1. Manually edit startdate of experiment"
   ]
  },
  {
   "cell_type": "code",
   "execution_count": null,
   "id": "1798f28f",
   "metadata": {},
   "outputs": [],
   "source": [
    "# What was day 0 for this experiment in format (yyyy-mm-dd)\n",
    "startdate = \"2022-08-22\""
   ]
  },
  {
   "cell_type": "markdown",
   "id": "6f5cf925",
   "metadata": {},
   "source": [
    "## 2. Select config file and define data folder\n",
    "Select the config file that matches the experiment you are collecting data for. Run all the other cells, checking that the printouts match expectations."
   ]
  },
  {
   "cell_type": "code",
   "execution_count": null,
   "id": "2ed39270",
   "metadata": {},
   "outputs": [],
   "source": [
    "root_dir = Path(os.path.abspath('')).resolve()\n",
    "config_file_dir = os.path.join(root_dir, \"experiments\")\n",
    "\n",
    "config_opts = os.listdir(config_file_dir)\n",
    "expt_choice = widgets.Dropdown(options = config_opts)\n",
    "display(expt_choice)"
   ]
  },
  {
   "cell_type": "code",
   "execution_count": null,
   "id": "15e5bbe8",
   "metadata": {},
   "outputs": [],
   "source": [
    "print(\"You selected:\")\n",
    "print(expt_choice.value)\n",
    "print(\"If this is not correct re-select before continuing\")"
   ]
  },
  {
   "cell_type": "code",
   "execution_count": null,
   "id": "f872e125",
   "metadata": {},
   "outputs": [],
   "source": [
    "experimental_config_file = os.path.join(config_file_dir, expt_choice.value, f'{expt_choice.value}.json')\n",
    "\n",
    "with open(experimental_config_file,'r') as data_file:\n",
    "    expt_data = json.load(data_file)\n",
    "\n",
    "image_dir = os.path.join(config_file_dir, expt_choice.value, 'images')\n",
    "\n",
    "#Processed image directory. Will save outputs of image processing workflow in case you want to visually inspect\n",
    "\n",
    "processed_image_dir = os.path.join(image_dir, \"processed\")\n",
    "if not os.path.exists(processed_image_dir):\n",
    "    os.mkdir(processed_img_dir)   "
   ]
  },
  {
   "cell_type": "code",
   "execution_count": null,
   "id": "35297943",
   "metadata": {},
   "outputs": [],
   "source": [
    "print(f\"I'll be pulling image data from: {image_dir} and saving processed images to: {processed_image_dir}\")"
   ]
  },
  {
   "cell_type": "markdown",
   "id": "b17ef073",
   "metadata": {},
   "source": [
    "## 3. Building a dataframe with percentage duckweed coverage in each image\n",
    "Run through cells"
   ]
  },
  {
   "cell_type": "code",
   "execution_count": null,
   "id": "e584ec7e",
   "metadata": {},
   "outputs": [],
   "source": [
    "# Populate and then rearrange a dataframe for data analysis\n",
    "plate_setup = expt_data[\"sample_info\"]\n",
    "data_df = helpers.make_df_with_images(image_dir, plate_setup)\n",
    "data_df"
   ]
  },
  {
   "cell_type": "code",
   "execution_count": null,
   "id": "9eb58aa2",
   "metadata": {},
   "outputs": [],
   "source": [
    "#Plant CV pixel counts\n",
    "pixel_df = helpers.analyze_images(image_dir, processed_image_dir, startdate)\n",
    "pixel_df"
   ]
  },
  {
   "cell_type": "markdown",
   "id": "7b885313",
   "metadata": {},
   "source": [
    "## 4. Produce figures"
   ]
  },
  {
   "cell_type": "markdown",
   "id": "667a3e1f",
   "metadata": {},
   "source": [
    "#### Data display option - Growth curves\n",
    "Connects datapoints averaged across replicates to produce a line of growth against time. "
   ]
  },
  {
   "cell_type": "code",
   "execution_count": null,
   "id": "1e7099a6",
   "metadata": {},
   "outputs": [],
   "source": [
    "analysis_df = helpers.generate_analysis_df(pixel_df, data_df)"
   ]
  },
  {
   "cell_type": "code",
   "execution_count": null,
   "id": "e9dceb3d",
   "metadata": {},
   "outputs": [],
   "source": [
    "%matplotlib inline\n",
    "helpers.generate_growth_curves(analysis_df)"
   ]
  }
 ],
 "metadata": {
  "kernelspec": {
   "display_name": "duckbot",
   "language": "python",
   "name": "duckbot"
  },
  "language_info": {
   "codemirror_mode": {
    "name": "ipython",
    "version": 3
   },
   "file_extension": ".py",
   "mimetype": "text/x-python",
   "name": "python",
   "nbconvert_exporter": "python",
   "pygments_lexer": "ipython3",
   "version": "3.8.9"
  }
 },
 "nbformat": 4,
 "nbformat_minor": 5
}
