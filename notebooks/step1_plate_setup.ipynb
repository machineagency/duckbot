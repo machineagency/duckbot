{
 "cells": [
  {
   "cell_type": "markdown",
   "id": "94241553",
   "metadata": {},
   "source": [
    "# Set up plates for a duckweed genotypes x media growth assay\n",
    "Note that you'll need to be connected to a Jubilee machine to run these cells"
   ]
  },
  {
   "cell_type": "markdown",
   "id": "5bcbfc62",
   "metadata": {},
   "source": [
    "## 0. Import packages and libraries"
   ]
  },
  {
   "cell_type": "code",
   "execution_count": 43,
   "id": "609da5e0",
   "metadata": {
    "tags": []
   },
   "outputs": [
    {
     "name": "stdout",
     "output_type": "stream",
     "text": [
      "The autoreload extension is already loaded. To reload it, use:\n",
      "  %reload_ext autoreload\n"
     ]
    }
   ],
   "source": [
    "import os\n",
    "from pathlib import Path\n",
    "import json\n",
    "import time\n",
    "import ipywidgets as widgets\n",
    "import pandas as pd\n",
    "\n",
    "from science_jubilee.Machine import Machine\n",
    "from science_jubilee.decks.Deck import Deck\n",
    "from science_jubilee.tools.Syringe import Syringe\n",
    "from science_jubilee.tools.Loop import Loop\n",
    "from science_jubilee.tools.Camera import Camera\n",
    "# import utils.DuckbotExptSetupUtils as exp\n",
    "\n",
    "%load_ext autoreload\n",
    "%autoreload 2"
   ]
  },
  {
   "cell_type": "code",
   "execution_count": 2,
   "id": "b8cc0c3b-4b78-4d69-980d-94f1231692a2",
   "metadata": {
    "tags": []
   },
   "outputs": [],
   "source": [
    "# Initialize your connection to the machine\n",
    "m = Machine(address=\"jubilee.local\")\n",
    "deck = m.load_deck(\"lab_automation_deck_blair\")\n",
    "\n",
    "loop = Loop(0, \"Loop\")\n",
    "camera = Camera(3, \"Camera\")\n",
    "syringe = Syringe(4, \"Syringe\", \"10cc_syringe\")\n",
    "t = Camera(0, \"test\")\n",
    "\n",
    "m.load_tool(loop)\n",
    "m.load_tool(camera)\n",
    "m.load_tool(syringe)"
   ]
  },
  {
   "cell_type": "markdown",
   "id": "4e56cfe1",
   "metadata": {},
   "source": [
    "## 1. Select config files"
   ]
  },
  {
   "cell_type": "markdown",
   "id": "f9f7daa3",
   "metadata": {},
   "source": [
    "### Select experimental config file"
   ]
  },
  {
   "cell_type": "code",
   "execution_count": null,
   "id": "dd4ba439",
   "metadata": {
    "tags": []
   },
   "outputs": [],
   "source": [
    "root_dir = Path(os.path.abspath('')).resolve().parent\n",
    "config_file_dir = os.path.join(root_dir, \"experiments\")\n",
    "\n",
    "config_opts = os.listdir(config_file_dir)\n",
    "expt_choice = widgets.Dropdown(options = config_opts)\n",
    "display(expt_choice)"
   ]
  },
  {
   "cell_type": "code",
   "execution_count": null,
   "id": "89637668",
   "metadata": {
    "tags": []
   },
   "outputs": [],
   "source": [
    "print(f\"You selected: *{expt_choice.value}*\")\n",
    "print(\"If this is not correct re-select before continuing\")"
   ]
  },
  {
   "cell_type": "markdown",
   "id": "97225b7a",
   "metadata": {},
   "source": [
    "### Visualize and confirm plate set up\n",
    "\n",
    "#### Run this cell to print a visualization of your experimental design. If this isn't as expected go back and re-run the config file selection cell or go back and directly edit your experimental config file and start again"
   ]
  },
  {
   "cell_type": "code",
   "execution_count": null,
   "id": "0428b8ab",
   "metadata": {},
   "outputs": [],
   "source": [
    "%matplotlib inline\n",
    "from utils.GrowthAssayHelpers import visualize_plate_setup\n",
    "\n",
    "experimental_config_file = os.path.join(config_file_dir, expt_choice.value, f'{expt_choice.value}.json')\n",
    "visualize_plate_setup(experimental_config_file)"
   ]
  },
  {
   "cell_type": "markdown",
   "id": "61b71c98",
   "metadata": {},
   "source": [
    "## 2. Label 24-well plates and add to machine\n",
    "Follow the instructions that are printed when you run the cells"
   ]
  },
  {
   "cell_type": "markdown",
   "id": "fe38bb67",
   "metadata": {},
   "source": [
    "#### Label Plates and add plates to machine"
   ]
  },
  {
   "cell_type": "code",
   "execution_count": null,
   "id": "bc31ce67",
   "metadata": {},
   "outputs": [],
   "source": [
    "with open(experimental_config_file, 'r') as f:\n",
    "    experiment_data = json.load(f)\n",
    "plate_info = experiment_data['sample_info']\n",
    "df = pd.DataFrame(plate_info)\n",
    "num_plates = df.plate.nunique()\n",
    "\n",
    "print(\"This experiment requires {} 24-well plate(s)\".format(num_plates))\n",
    "print(\"----\")\n",
    "lst = list(range(1,num_plates + 1))\n",
    "for n in lst:\n",
    "    print(\"Label a plate with experiment ID or initials and 'plate {}'\".format(n))\n",
    "print(\"----\")\n",
    "print (\"Place the 24-well plate(s) in the jubilee\".format(num_plates))\n",
    "print (\"Start at position 1 and fill empty plate slots in order\")"
   ]
  },
  {
   "cell_type": "code",
   "execution_count": 8,
   "id": "12cee34d-801a-49ad-9722-289f7c1bfcfd",
   "metadata": {
    "tags": []
   },
   "outputs": [],
   "source": [
    "# Define the labware you will be using for this experiment.\n",
    "# Add the media reservoir; I'll swap out petri dishes to slot 0\n",
    "reservoir = deck.load_labware(\"generic_petri_dish_100ml\", 0)\n",
    "\n",
    "# We'll use three 24-well plates.\n",
    "plate1 = deck.load_labware(\"greiner_24_wellplate_3300ul\", 1)\n",
    "plate2 = deck.load_labware(\"greiner_24_wellplate_3300ul\", 2)\n",
    "plate3 = deck.load_labware(\"greiner_24_wellplate_3300ul\", 3)"
   ]
  },
  {
   "cell_type": "markdown",
   "id": "3bd8f5e8",
   "metadata": {},
   "source": [
    "## 3. Dispense media\n",
    "Run cells, making sure to follow the instructions that print when your run the cells"
   ]
  },
  {
   "cell_type": "code",
   "execution_count": 17,
   "id": "af3f5901-9c5d-4a6e-815a-1bcf75029639",
   "metadata": {},
   "outputs": [],
   "source": [
    "# Pickup syringe\n",
    "m.pickup_tool(syringe)"
   ]
  },
  {
   "cell_type": "code",
   "execution_count": 74,
   "id": "c8e2ccd2",
   "metadata": {},
   "outputs": [],
   "source": [
    "source= [plate1[\"A1\"]]#, plate1[\"A2\"], plate1[\"A3\"], plate1[\"A4\"]]\n",
    "destination=[ plate2[\"A1\"], plate2[\"A2\"] ]\n",
    "syringe.transfer(vol = 1, source=source, destination=destination)"
   ]
  },
  {
   "cell_type": "code",
   "execution_count": 58,
   "id": "2d0b080c",
   "metadata": {},
   "outputs": [],
   "source": []
  },
  {
   "cell_type": "code",
   "execution_count": 60,
   "id": "0ff27eab",
   "metadata": {},
   "outputs": [
    {
     "ename": "TypeError",
     "evalue": "'Well' object is not iterable",
     "output_type": "error",
     "traceback": [
      "\u001b[0;31m---------------------------------------------------------------------------\u001b[0m",
      "\u001b[0;31mTypeError\u001b[0m                                 Traceback (most recent call last)",
      "\u001b[0;32m/tmp/ipykernel_2418/2643115517.py\u001b[0m in \u001b[0;36m<module>\u001b[0;34m\u001b[0m\n\u001b[0;32m----> 1\u001b[0;31m \u001b[0mlist\u001b[0m\u001b[0;34m(\u001b[0m\u001b[0mw1\u001b[0m\u001b[0;34m)\u001b[0m\u001b[0;34m\u001b[0m\u001b[0;34m\u001b[0m\u001b[0m\n\u001b[0m",
      "\u001b[0;31mTypeError\u001b[0m: 'Well' object is not iterable"
     ]
    }
   ],
   "source": []
  },
  {
   "cell_type": "code",
   "execution_count": 54,
   "id": "3fdf756f",
   "metadata": {},
   "outputs": [
    {
     "data": {
      "text/plain": [
       "[Well(name='A1', depth=16.5, totalLiquidVolume=3300, shape='circular', diameter=16.28, x=173.47000000000003, y=75.60999999999999, z=2.5, offset=[158.34000000000003, 3.6199999999999903]),\n",
       " Well(name='A1', depth=16.5, totalLiquidVolume=3300, shape='circular', diameter=16.28, x=173.47000000000003, y=75.60999999999999, z=2.5, offset=[158.34000000000003, 3.6199999999999903]),\n",
       " Well(name='A1', depth=16.5, totalLiquidVolume=3300, shape='circular', diameter=16.28, x=173.47000000000003, y=75.60999999999999, z=2.5, offset=[158.34000000000003, 3.6199999999999903]),\n",
       " Well(name='A2', depth=16.5, totalLiquidVolume=3300, shape='circular', diameter=16.28, x=192.97000000000003, y=75.60999999999999, z=2.5, offset=[158.34000000000003, 3.6199999999999903]),\n",
       " Well(name='A2', depth=16.5, totalLiquidVolume=3300, shape='circular', diameter=16.28, x=192.97000000000003, y=75.60999999999999, z=2.5, offset=[158.34000000000003, 3.6199999999999903]),\n",
       " Well(name='A2', depth=16.5, totalLiquidVolume=3300, shape='circular', diameter=16.28, x=192.97000000000003, y=75.60999999999999, z=2.5, offset=[158.34000000000003, 3.6199999999999903])]"
      ]
     },
     "execution_count": 54,
     "metadata": {},
     "output_type": "execute_result"
    }
   ],
   "source": []
  },
  {
   "cell_type": "code",
   "execution_count": null,
   "id": "97e3d8a0",
   "metadata": {},
   "outputs": [],
   "source": [
    "#Retrieve absolute positions of wells from a library and then add those coordinatest to the plate set up dataframe\n",
    "df_with_well_coords = pp.add_well_coords_to_df_from_sample_data_dict(sample_data_dict)\n",
    "    \n",
    "#Reorganizes dataframe to create machine instructions sorted by media-type\n",
    "media_dicts = pp.pull_list_of_well_coord_dicts_by_dfcolumn(df_with_well_coords, 'media')"
   ]
  },
  {
   "cell_type": "code",
   "execution_count": null,
   "id": "eba8e49a",
   "metadata": {},
   "outputs": [],
   "source": [
    "#Pick up syringe toolhead\n",
    "media_syringe = tool_positions['media_syringe']\n",
    "m.toolChange(media_syringe)"
   ]
  },
  {
   "cell_type": "code",
   "execution_count": null,
   "id": "c2f07170",
   "metadata": {},
   "outputs": [],
   "source": [
    "# Send machine instructions\n",
    "for media in media_dicts:\n",
    "    m.moveTo(x=0,y=0,z=25)\n",
    "    print(f\"Please ensure {media['media']} is available in the machine before continuing.\")\n",
    "    print(\"Change syringe and/or needle if desired\")\n",
    "    while True:\n",
    "        value = input(\"Enter 'YES' to confirm that the correct media is in position\")\n",
    "        if value != \"YES\":\n",
    "            print(\"Please confirm\")\n",
    "        else:\n",
    "            break\n",
    "    exp.dispense_to_wells(m, media[\"well-coords\"], dispense_offset, dispenses_per_syringe_fill, media_reservoir, media_dispensing_z_dict)"
   ]
  },
  {
   "cell_type": "markdown",
   "id": "999efd6b",
   "metadata": {},
   "source": [
    "## 4. Transfer duckweed\n",
    "\n",
    "### Transfer option 1: Automated transfer with inoculation loop"
   ]
  },
  {
   "cell_type": "code",
   "execution_count": null,
   "id": "d84fb453-3c96-4c55-a06a-b2555ae77f81",
   "metadata": {},
   "outputs": [],
   "source": [
    "#pop the bed down to avoid any collisions on tool change\n",
    "m.moveTo(z=50)"
   ]
  },
  {
   "cell_type": "code",
   "execution_count": null,
   "id": "34ebb1af",
   "metadata": {},
   "outputs": [],
   "source": [
    "# pick up the innoculation loop\n",
    "inoculation_loop = tool_positions['inoculation_loop']\n",
    "m.toolChange(inoculation_loop)\n",
    "m.moveTo(x=duckweed_reservoir_loc[0], y=duckweed_reservoir_loc[1])"
   ]
  },
  {
   "cell_type": "code",
   "execution_count": null,
   "id": "37281cba",
   "metadata": {},
   "outputs": [],
   "source": [
    "# pop the bed down to avoid collisions after probing \n",
    "m.moveTo(z=50)"
   ]
  },
  {
   "cell_type": "markdown",
   "id": "f067cfc2",
   "metadata": {},
   "source": [
    "### Change the next cell for right angle vs standard inoculation loop!"
   ]
  },
  {
   "cell_type": "code",
   "execution_count": null,
   "id": "ad15db6d",
   "metadata": {},
   "outputs": [],
   "source": [
    "# Inoculation Loop Transfer\n",
    "# The machine will move after running this cell\n",
    "exp.inoculation_loop_transfer(m, df, duckweed_reservoir_loc, inoculation_loop_z_dict)"
   ]
  },
  {
   "cell_type": "code",
   "execution_count": null,
   "id": "ab7159af-f344-49be-86cb-cd363bc058e1",
   "metadata": {},
   "outputs": [],
   "source": [
    "# pop bed down to access labware\n",
    "m.moveTo(z=100)"
   ]
  },
  {
   "cell_type": "markdown",
   "id": "83140a54",
   "metadata": {},
   "source": [
    "### Consecutive Tranfser Passes\n",
    "These cells will find any wells missing duckweed, and then prompt you to swap in the appropriate duckweed reservoir for transfer. Re-run the cells as many times as you like until you are satisfied with the results"
   ]
  },
  {
   "cell_type": "code",
   "execution_count": null,
   "id": "310e5d7c",
   "metadata": {},
   "outputs": [],
   "source": [
    "m.toolChange(3)\n",
    "exp.check_wells(m, df_with_well_coords)"
   ]
  },
  {
   "cell_type": "code",
   "execution_count": null,
   "id": "d5e28800",
   "metadata": {},
   "outputs": [],
   "source": [
    "# debug cells\n",
    "f = getFrame()\n",
    "showFrame(f)"
   ]
  },
  {
   "cell_type": "code",
   "execution_count": null,
   "id": "770196b0",
   "metadata": {},
   "outputs": [],
   "source": [
    "f = getFrame()\n",
    "frame, wellData = getSingleWell(f, minR=350, maxR=500)\n",
    "showFrame(frame)\n",
    "# crop, crop_data = exp.well_check_circle_crop(f)\n",
    "# showFrame(crop)\n"
   ]
  },
  {
   "cell_type": "code",
   "execution_count": null,
   "id": "cc382219",
   "metadata": {},
   "outputs": [],
   "source": [
    "frond_check = exp.identify_fronds(crop)\n",
    "print(frond_check)"
   ]
  },
  {
   "cell_type": "markdown",
   "id": "ac35ad26",
   "metadata": {},
   "source": [
    "### change next cell based on right angle or standard inoculation loop!"
   ]
  },
  {
   "cell_type": "code",
   "execution_count": null,
   "id": "3556413f",
   "metadata": {},
   "outputs": [],
   "source": [
    "exp.fill_empty_wells(m, df_with_well_coords, duckweed_reservoir_loc, inoculation_loop_z_dict)"
   ]
  },
  {
   "cell_type": "markdown",
   "id": "6386c0ec",
   "metadata": {},
   "source": [
    "### Transfer option 2: Manual transfer\n",
    "Run this cell to generate written instructions of what duckweed genotypes should be in which wells. "
   ]
  },
  {
   "cell_type": "code",
   "execution_count": null,
   "id": "793e944d-1dc4-40c0-88e7-878d7d1ee4a1",
   "metadata": {},
   "outputs": [],
   "source": [
    "#Manual transfer\n",
    "\n",
    "grouped_df = df.groupby('genotype')\n",
    "for field_value, sample_df in grouped_df:\n",
    "    print(\"Place container of duckweed type **{0}** into jubilee and ensure lid is open\".format(field_value))\n",
    "    for index,s in sample_df.iterrows():\n",
    "        plate = s[\"Plate\"]\n",
    "        well = s[\"Well\"]\n",
    "        print(f\"Transfer {field_value} to plate {plate}, well {well}\")\n",
    "    input()"
   ]
  },
  {
   "cell_type": "markdown",
   "id": "01f579cf",
   "metadata": {},
   "source": [
    "#### Record any extra notes you'd like to add\n",
    "Write down any notes about today's set up that you would like to be recorded in the set up file "
   ]
  },
  {
   "cell_type": "code",
   "execution_count": null,
   "id": "c81bef8e",
   "metadata": {},
   "outputs": [],
   "source": [
    "notes = input()\n",
    "exp.add_input_to_json(notes, \"Set_up_notes\", expt_setup_filepath)"
   ]
  }
 ],
 "metadata": {
  "kernelspec": {
   "display_name": "updating-for-sj-duckbot",
   "language": "python",
   "name": "updating-for-sj-duckbot"
  },
  "language_info": {
   "codemirror_mode": {
    "name": "ipython",
    "version": 3
   },
   "file_extension": ".py",
   "mimetype": "text/x-python",
   "name": "python",
   "nbconvert_exporter": "python",
   "pygments_lexer": "ipython3",
   "version": "3.7.3"
  }
 },
 "nbformat": 4,
 "nbformat_minor": 5
}
