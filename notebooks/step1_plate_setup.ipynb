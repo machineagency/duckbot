{
 "cells": [
  {
   "cell_type": "markdown",
   "id": "94241553",
   "metadata": {},
   "source": [
    "# Set up plates for a duckweed genotypes x media growth assay\n",
    "Note that you'll need to be connected to a Jubilee machine to run these cells"
   ]
  },
  {
   "cell_type": "markdown",
   "id": "5bcbfc62",
   "metadata": {},
   "source": [
    "## 0. Import packages and libraries"
   ]
  },
  {
   "cell_type": "code",
   "execution_count": null,
   "id": "609da5e0",
   "metadata": {
    "tags": []
   },
   "outputs": [],
   "source": [
    "import os\n",
    "from pathlib import Path\n",
    "import json\n",
    "import time\n",
    "import ipywidgets as widgets\n",
    "import pandas as pd\n",
    "\n",
    "from science_jubilee.Machine import Machine\n",
    "from science_jubilee.decks.Deck import Deck\n",
    "from science_jubilee.tools.Syringe import Syringe\n",
    "from science_jubilee.tools.Loop import Loop\n",
    "from science_jubilee.tools.Camera import Camera\n",
    "# import utils.DuckbotExptSetupUtils as exp\n",
    "\n",
    "%load_ext autoreload\n",
    "%autoreload 2"
   ]
  },
  {
   "cell_type": "code",
   "execution_count": null,
   "id": "b8cc0c3b-4b78-4d69-980d-94f1231692a2",
   "metadata": {
    "tags": []
   },
   "outputs": [],
   "source": [
    "# Initialize your connection to the machine\n",
    "m = Machine()\n",
    "deck = m.load_deck(\"lab_automation_deck_MA\")\n",
    "\n",
    "loop = Loop(0, \"Loop\")\n",
    "camera = Camera(3, \"Camera\")\n",
    "syringe = Syringe(4, \"Syringe\", \"10cc_syringe\")\n",
    "\n",
    "m.load_tool(loop)\n",
    "m.load_tool(camera)\n",
    "m.load_tool(syringe)"
   ]
  },
  {
   "cell_type": "markdown",
   "id": "4e56cfe1",
   "metadata": {},
   "source": [
    "## 1. Select config files"
   ]
  },
  {
   "cell_type": "markdown",
   "id": "f9f7daa3",
   "metadata": {},
   "source": [
    "### Select experimental config file"
   ]
  },
  {
   "cell_type": "code",
   "execution_count": null,
   "id": "dd4ba439",
   "metadata": {
    "tags": []
   },
   "outputs": [],
   "source": [
    "root_dir = Path(os.path.abspath('')).resolve().parent\n",
    "config_file_dir = os.path.join(root_dir, \"experiments\")\n",
    "\n",
    "config_opts = os.listdir(config_file_dir)\n",
    "expt_choice = widgets.Dropdown(options = config_opts)\n",
    "display(expt_choice)"
   ]
  },
  {
   "cell_type": "code",
   "execution_count": null,
   "id": "89637668",
   "metadata": {
    "tags": []
   },
   "outputs": [],
   "source": [
    "print(f\"You selected: *{expt_choice.value}*\")\n",
    "print(\"If this is not correct re-select before continuing\")"
   ]
  },
  {
   "cell_type": "markdown",
   "id": "97225b7a",
   "metadata": {},
   "source": [
    "### Visualize and confirm plate set up\n",
    "\n",
    "#### Run this cell to print a visualization of your experimental design. If this isn't as expected go back and re-run the config file selection cell or go back and directly edit your experimental config file and start again"
   ]
  },
  {
   "cell_type": "code",
   "execution_count": null,
   "id": "0428b8ab",
   "metadata": {
    "tags": []
   },
   "outputs": [],
   "source": [
    "%matplotlib inline\n",
    "from utils.GrowthAssayHelpers import visualize_plate_setup\n",
    "\n",
    "experimental_config_file = os.path.join(config_file_dir, expt_choice.value, f'{expt_choice.value}.json')\n",
    "visualize_plate_setup(experimental_config_file)"
   ]
  },
  {
   "cell_type": "markdown",
   "id": "61b71c98",
   "metadata": {},
   "source": [
    "## 2. Label 24-well plates and add to machine\n",
    "Follow the instructions that are printed when you run the cells"
   ]
  },
  {
   "cell_type": "markdown",
   "id": "fe38bb67",
   "metadata": {},
   "source": [
    "#### Label Plates and add plates to machine"
   ]
  },
  {
   "cell_type": "code",
   "execution_count": null,
   "id": "bc31ce67",
   "metadata": {},
   "outputs": [],
   "source": [
    "with open(experimental_config_file, 'r') as f:\n",
    "    experiment_data = json.load(f)\n",
    "plate_info = experiment_data['sample_info']\n",
    "df = pd.DataFrame(plate_info)\n",
    "num_plates = df.plate.nunique()\n",
    "\n",
    "print(\"This experiment requires {} 24-well plate(s)\".format(num_plates))\n",
    "print(\"----\")\n",
    "lst = list(range(1,num_plates + 1))\n",
    "for n in lst:\n",
    "    print(\"Label a plate with experiment ID or initials and 'plate {}'\".format(n))\n",
    "print(\"----\")\n",
    "print (\"Place the 24-well plate(s) in the jubilee\".format(num_plates))\n",
    "print (\"Start at position 1 and fill empty plate slots in order\")"
   ]
  },
  {
   "cell_type": "code",
   "execution_count": null,
   "id": "12cee34d-801a-49ad-9722-289f7c1bfcfd",
   "metadata": {
    "tags": []
   },
   "outputs": [],
   "source": [
    "# Define the labware you will be using for this experiment.\n",
    "# Slot positions should match the location you inserted each labware in the previous cell.\n",
    "# Add the media reservoir; I'll swap out petri dishes to slot 0\n",
    "reservoir = deck.load_labware(\"generic_petri_dish_100ml\", 0)\n",
    "\n",
    "# We'll use three 24-well plates.\n",
    "plate1 = deck.load_labware(\"greiner_24_wellplate_3300ul\", 1)\n",
    "plate2 = deck.load_labware(\"greiner_24_wellplate_3300ul\", 2)\n",
    "plate3 = deck.load_labware(\"greiner_24_wellplate_3300ul\", 3)"
   ]
  },
  {
   "cell_type": "markdown",
   "id": "3bd8f5e8",
   "metadata": {},
   "source": [
    "## 3. Dispense media\n",
    "Run cells, making sure to follow the instructions that print when your run the cells"
   ]
  },
  {
   "cell_type": "code",
   "execution_count": null,
   "id": "af3f5901-9c5d-4a6e-815a-1bcf75029639",
   "metadata": {},
   "outputs": [],
   "source": [
    "# Pickup syringe\n",
    "m.pickup_tool(syringe)"
   ]
  },
  {
   "cell_type": "code",
   "execution_count": null,
   "id": "b28238d0",
   "metadata": {},
   "outputs": [],
   "source": [
    "from utils.GrowthAssayHelpers import dispense_media_to_wells\n",
    "\n",
    "dispense_media_to_wells(m, syringe, df)"
   ]
  },
  {
   "cell_type": "markdown",
   "id": "999efd6b",
   "metadata": {},
   "source": [
    "## 4. Transfer duckweed\n",
    "\n",
    "### Transfer option 1: Automated transfer with inoculation loop"
   ]
  },
  {
   "cell_type": "code",
   "execution_count": null,
   "id": "d84fb453-3c96-4c55-a06a-b2555ae77f81",
   "metadata": {},
   "outputs": [],
   "source": [
    "#pop the bed down to avoid any collisions on tool change\n",
    "m.move_to(z=50)"
   ]
  },
  {
   "cell_type": "code",
   "execution_count": null,
   "id": "34ebb1af",
   "metadata": {},
   "outputs": [],
   "source": [
    "# pick up the innoculation loop\n",
    "m.pickup_tool(loop)"
   ]
  },
  {
   "cell_type": "code",
   "execution_count": null,
   "id": "ad15db6d",
   "metadata": {},
   "outputs": [],
   "source": [
    "# Inoculation Loop Transfer\n",
    "# The machine will move after running this cell\n",
    "from utils.GrowthAssayHelpers import inoculation_loop_transfer\n",
    "\n",
    "inoculation_loop_transfer(m, loop, df)"
   ]
  },
  {
   "cell_type": "code",
   "execution_count": null,
   "id": "ab7159af-f344-49be-86cb-cd363bc058e1",
   "metadata": {},
   "outputs": [],
   "source": [
    "# pop bed down to access labware\n",
    "m.move_to(z=100)"
   ]
  },
  {
   "cell_type": "markdown",
   "id": "83140a54",
   "metadata": {},
   "source": [
    "### Consecutive Tranfser Passes\n",
    "These cells will find any wells missing duckweed, and then prompt you to swap in the appropriate duckweed reservoir for transfer. Re-run the cells as many times as you like until you are satisfied with the results"
   ]
  },
  {
   "cell_type": "code",
   "execution_count": null,
   "id": "310e5d7c",
   "metadata": {},
   "outputs": [],
   "source": [
    "m.pickup_tool(camera)"
   ]
  },
  {
   "cell_type": "code",
   "execution_count": null,
   "id": "d5e28800",
   "metadata": {},
   "outputs": [],
   "source": [
    "%matplotlib inline\n",
    "from utils.GrowthAssayHelpers import check_wells\n",
    "\n",
    "check_wells(m, camera, df)"
   ]
  },
  {
   "cell_type": "code",
   "execution_count": null,
   "id": "3556413f",
   "metadata": {},
   "outputs": [],
   "source": [
    "from utils.GrowthAssayHelpers import fill_empty_wells\n",
    "\n",
    "m.pickup_tool(loop)\n",
    "\n",
    "fill_empty_wells(m, loop, df)"
   ]
  },
  {
   "cell_type": "markdown",
   "id": "6386c0ec",
   "metadata": {},
   "source": [
    "### Transfer option 2: Manual transfer\n",
    "Run this cell to generate written instructions of what duckweed genotypes should be in which wells. "
   ]
  },
  {
   "cell_type": "code",
   "execution_count": null,
   "id": "793e944d-1dc4-40c0-88e7-878d7d1ee4a1",
   "metadata": {},
   "outputs": [],
   "source": [
    "#Manual transfer\n",
    "\n",
    "grouped_df = df.groupby('genotype')\n",
    "for field_value, sample_df in grouped_df:\n",
    "    print(\"Place container of duckweed type **{0}** into jubilee and ensure lid is open\".format(field_value))\n",
    "    for index,s in sample_df.iterrows():\n",
    "        plate = s[\"plate\"]\n",
    "        well = s[\"well\"]\n",
    "        print(f\"Transfer {field_value} to plate {plate}, well {well}\")\n",
    "    input()"
   ]
  }
 ],
 "metadata": {
  "kernelspec": {
   "display_name": "plos-revision-submission",
   "language": "python",
   "name": "plos-revision-submission"
  },
  "language_info": {
   "codemirror_mode": {
    "name": "ipython",
    "version": 3
   },
   "file_extension": ".py",
   "mimetype": "text/x-python",
   "name": "python",
   "nbconvert_exporter": "python",
   "pygments_lexer": "ipython3",
   "version": "3.7.3"
  }
 },
 "nbformat": 4,
 "nbformat_minor": 5
}
