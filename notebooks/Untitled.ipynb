{
 "cells": [
  {
   "cell_type": "code",
   "execution_count": 1,
   "id": "120f4b9b-d580-493b-a9ce-acbc65769d42",
   "metadata": {},
   "outputs": [],
   "source": [
    "#Importing python libraries from local files. \n",
    "from utils.CameraUtils import *\n",
    "from utils.MachineUtils import *"
   ]
  },
  {
   "cell_type": "code",
   "execution_count": 2,
   "id": "30b15ac4-7753-4082-8b47-df32cab9b169",
   "metadata": {},
   "outputs": [],
   "source": [
    "#Establish machine communication \n",
    "port = '/dev/ttyACM0' #Check options using  - print([port.name for port in serial.tools.list_ports.comports()])\n",
    "m = MachineCommunication(port)"
   ]
  },
  {
   "cell_type": "code",
   "execution_count": 6,
   "id": "2d2fc64d-bfe0-4de8-992e-e83368b1cf2f",
   "metadata": {},
   "outputs": [],
   "source": [
    "#Open a live video window\n",
    "# find the z height at which we can see a whole petri dish\n",
    "# at z=110 with camera tool equipped, whole first plate is visible \n",
    "cap = cv2.VideoCapture(0) #Note that the index corresponding to your camera may not be zero but this is the most common default\n",
    "\n",
    "while True:\n",
    "    ret, frame = cap.read()\n",
    "    cv2.imshow('Input', frame)\n",
    "    c = cv2.waitKey(1)\n",
    "    if c ==27: #27 is the built in code for ESC so press escape to close the window. \n",
    "        break \n",
    "        \n",
    "cap.release()\n",
    "cv2.destroyAllWindows()"
   ]
  },
  {
   "cell_type": "code",
   "execution_count": 7,
   "id": "f570097a-c19f-4565-9e3f-dfe1d170413a",
   "metadata": {},
   "outputs": [
    {
     "name": "stdout",
     "output_type": "stream",
     "text": [
      "... camera connection established\n",
      "lets read in yml\n",
      "got yml, lets undistort\n"
     ]
    }
   ],
   "source": [
    "f = getFrame()"
   ]
  },
  {
   "cell_type": "code",
   "execution_count": 8,
   "id": "daee5267-d3d7-4ee5-b2de-799d74eead45",
   "metadata": {},
   "outputs": [],
   "source": [
    "showFrame(f, grid=True)"
   ]
  },
  {
   "cell_type": "code",
   "execution_count": null,
   "id": "117fc451-73ef-4e71-b18f-be25f2c00347",
   "metadata": {},
   "outputs": [],
   "source": []
  }
 ],
 "metadata": {
  "kernelspec": {
   "display_name": ".venv",
   "language": "python",
   "name": ".venv"
  },
  "language_info": {
   "codemirror_mode": {
    "name": "ipython",
    "version": 3
   },
   "file_extension": ".py",
   "mimetype": "text/x-python",
   "name": "python",
   "nbconvert_exporter": "python",
   "pygments_lexer": "ipython3",
   "version": "3.7.3"
  }
 },
 "nbformat": 4,
 "nbformat_minor": 5
}
