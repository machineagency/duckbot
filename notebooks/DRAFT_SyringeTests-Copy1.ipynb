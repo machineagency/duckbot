{
 "cells": [
  {
   "cell_type": "markdown",
   "id": "1a384faf-ea06-4e9d-b634-52efb876e6c7",
   "metadata": {},
   "source": [
    "# Testing 50cc syringe\n",
    "WARNING: This is a living test document. Do not run these cells on the machine without checking locations & heights of labware. "
   ]
  },
  {
   "cell_type": "code",
   "execution_count": 1,
   "id": "4f40811f-1f5e-418c-8ff4-2991cfa5595d",
   "metadata": {},
   "outputs": [],
   "source": [
    "# import required modules\n",
    "from utils.MachineUtils import *\n",
    "from utils.CameraUtils import *"
   ]
  },
  {
   "cell_type": "code",
   "execution_count": 2,
   "id": "21710fd6-4ffd-4a2a-9f94-f808862f5e0b",
   "metadata": {},
   "outputs": [
    {
     "name": "stdout",
     "output_type": "stream",
     "text": [
      "['ttyACM0', 'ttyAMA0']\n"
     ]
    }
   ],
   "source": [
    "# Setup your machine connection\n",
    "# List available ports in thie cell\n",
    "\n",
    "ports = serial.tools.list_ports.comports()\n",
    "print([port.name for port in ports]) "
   ]
  },
  {
   "cell_type": "code",
   "execution_count": 3,
   "id": "e9c7043e-2dd4-4f47-bca5-d17fc73ab8c9",
   "metadata": {},
   "outputs": [],
   "source": [
    "# Choose the correct port from above and establish connection with machine\n",
    "port = '/dev/ttyACM0'\n",
    "m = MachineCommunication(port)"
   ]
  },
  {
   "cell_type": "code",
   "execution_count": null,
   "id": "d1501db8-b611-4d34-a7ef-56afab454340",
   "metadata": {},
   "outputs": [],
   "source": [
    "m.toolChange(2)"
   ]
  },
  {
   "cell_type": "code",
   "execution_count": null,
   "id": "29f6abd2-46d9-4bd7-91c0-1292d3516bfa",
   "metadata": {},
   "outputs": [],
   "source": [
    "m.setExtruderRelative()"
   ]
  },
  {
   "cell_type": "code",
   "execution_count": 4,
   "id": "d7fa6283-ccce-407e-962c-7e3cf2cd3de0",
   "metadata": {},
   "outputs": [],
   "source": [
    "# negative dispenses-- look at config file for extruder\n",
    "m.move(de=-1)"
   ]
  },
  {
   "cell_type": "code",
   "execution_count": 11,
   "id": "26d1ee92-4174-4e8b-ab2a-a04327475287",
   "metadata": {},
   "outputs": [],
   "source": [
    "## Set up the location to suck up media\n",
    "media_location = [154, 195, -25]"
   ]
  },
  {
   "cell_type": "code",
   "execution_count": 37,
   "id": "8f213ab4-999c-48a9-9d06-449401a039e5",
   "metadata": {},
   "outputs": [],
   "source": [
    "# set up the location of the top left well.\n",
    "# well plate oriented for 4 across, 6 down\n",
    "well_location = [167, 109, -20]"
   ]
  },
  {
   "cell_type": "code",
   "execution_count": 42,
   "id": "472f39b4-3336-4625-96a6-f16f4fa67686",
   "metadata": {},
   "outputs": [
    {
     "name": "stdout",
     "output_type": "stream",
     "text": [
      "[167, 109]\n",
      "[167, 91]\n",
      "[167, 73]\n",
      "[167, 55]\n",
      "[149, 109]\n",
      "[149, 91]\n",
      "[149, 73]\n",
      "[149, 55]\n"
     ]
    }
   ],
   "source": [
    "wells = []\n",
    "spacing = 18 # 18 mm spacing on a 24 well plate\n",
    "for x in range(2):\n",
    "    for y in range(4):\n",
    "        wells.append([well_location[0] - x*spacing, well_location[1] - y*spacing])\n",
    "\n",
    "for well in wells:\n",
    "    print(well)\n",
    "        \n"
   ]
  },
  {
   "cell_type": "code",
   "execution_count": 16,
   "id": "9fe94684-d529-4c6f-ac62-f0dd03176b09",
   "metadata": {},
   "outputs": [],
   "source": [
    "def ml_to_mm(ml):\n",
    "    \"\"\" convert a desired media amount in mL to relevant extrusion amount \"\"\"\n",
    "    k = 7.8/2 #scale factor found via calibration\n",
    "    \n",
    "    return ml*k\n",
    "    "
   ]
  },
  {
   "cell_type": "code",
   "execution_count": 45,
   "id": "ba4e43b9-6126-4d29-95c7-079cd8c36960",
   "metadata": {},
   "outputs": [],
   "source": [
    "# make sure the bed plate is dropped well down to start to avoid collision\n",
    "m.moveTo(z=100)"
   ]
  },
  {
   "cell_type": "code",
   "execution_count": 47,
   "id": "5577dba2-0643-4dde-b86c-31f48ef3b40f",
   "metadata": {},
   "outputs": [],
   "source": [
    "# move to pick-up media\n",
    "# first move xy\n",
    "m.moveTo(x=media_location[0], y=media_location[1])\n",
    "\n",
    "# then move z\n",
    "m.moveTo(z=media_location[2])\n",
    "\n",
    "# get 20mL of media\n",
    "e = ml_to_mm(20)\n",
    "m.move(de=e, s=300)\n",
    "\n",
    "# move bed plate down\n",
    "m.moveTo(z=50)\n",
    "\n",
    "# go to the first well plate\n",
    "# first move xy\n",
    "m.moveTo(x=well_location[0], y=well_location[1])\n",
    "\n",
    "# then move z\n",
    "m.moveTo(z=well_location[2])\n",
    "\n",
    "# dispense 2 mL in each well\n",
    "# eventually this will use plate_positions.py\n",
    "e = ml_to_mm(2) # calculate extrusion amount\n",
    "\n",
    "for well in wells:\n",
    "    m.moveTo(x=well[0], y=well[1])\n",
    "    m.move(de=-e)\n"
   ]
  },
  {
   "cell_type": "code",
   "execution_count": null,
   "id": "dcfa3c15-7b7e-4b17-b869-82dbc943c6c6",
   "metadata": {},
   "outputs": [],
   "source": []
  },
  {
   "cell_type": "code",
   "execution_count": 44,
   "id": "95f1cf38-36f4-4b6c-845a-b019b59a9721",
   "metadata": {},
   "outputs": [],
   "source": [
    "# dispense 2 mL in each well\n",
    "# eventually this will use plate_positions.py\n",
    "e = ml_to_mm(2) # calculate extrusion amount\n",
    "\n",
    "for well in wells:\n",
    "    m.moveTo(x=well[0], y=well[1])\n",
    "    m.move(de=-e)\n",
    "        "
   ]
  },
  {
   "cell_type": "code",
   "execution_count": 43,
   "id": "f3b0d1e1-625d-4a1b-a20e-4c229d4cfd11",
   "metadata": {},
   "outputs": [],
   "source": [
    "m.moveTo(x=well_location[0], y = well_location[1])"
   ]
  },
  {
   "cell_type": "code",
   "execution_count": 48,
   "id": "05b70b46-53ca-4d1d-a6f0-8eb535577179",
   "metadata": {},
   "outputs": [],
   "source": [
    "m.moveTo(x=media_location[0], y = media_location[1])"
   ]
  },
  {
   "cell_type": "code",
   "execution_count": null,
   "id": "67a1c139-2065-49e0-bbb3-4df4214badb2",
   "metadata": {},
   "outputs": [],
   "source": [
    "# # move to pick-up media\n",
    "# # first move xy\n",
    "# m.moveTo(x=media_location[0], y=media_location[1])\n",
    "\n",
    "# # then move z\n",
    "# m.moveTo(z=media_location[2])\n",
    "\n",
    "# # pick up media\n",
    "# m.move(de=10)\n",
    "\n",
    "# # pop z axis down to avoid collisions!\n",
    "# m.move(dz=50)\n",
    "\n",
    "# # move to dispense location xy pos\n",
    "# m.moveTo(x=well_location[0], y=well_location[1])\n",
    "\n",
    "# # then move z\n",
    "# m.moveTo(z=well_location[2])\n",
    "\n",
    "# # dispense the media!\n",
    "# m.move(de=-10)"
   ]
  },
  {
   "cell_type": "code",
   "execution_count": null,
   "id": "49828705-4cf5-4956-9940-521f5994ad3c",
   "metadata": {},
   "outputs": [],
   "source": [
    "# # pick up media\n",
    "# m.move(de=8)"
   ]
  },
  {
   "cell_type": "code",
   "execution_count": null,
   "id": "f3d70388-5dca-4a66-93ad-586ccefe99f2",
   "metadata": {},
   "outputs": [],
   "source": [
    "# # pop z axis down to avoid collisions!\n",
    "# m.move(dz=50)"
   ]
  },
  {
   "cell_type": "code",
   "execution_count": null,
   "id": "9dd5be86-8d47-40a1-b0db-57eeb9625795",
   "metadata": {},
   "outputs": [],
   "source": [
    "# # move to dispense location xy pos\n",
    "# m.moveTo(x=well_location[0], y=well_location[1])"
   ]
  },
  {
   "cell_type": "code",
   "execution_count": null,
   "id": "b4ae3dc8-7d5d-4e7e-883d-b3773cc73515",
   "metadata": {},
   "outputs": [],
   "source": [
    "# # then move z\n",
    "# m.moveTo(z=well_location[2])"
   ]
  },
  {
   "cell_type": "code",
   "execution_count": null,
   "id": "61f32792-9fa8-423f-8ec0-72f0089cd889",
   "metadata": {},
   "outputs": [],
   "source": [
    "# # dispense the media!\n",
    "# m.move(de=-10)"
   ]
  },
  {
   "cell_type": "code",
   "execution_count": 49,
   "id": "b5bda70e-b446-4759-b971-b7b19b8fbea8",
   "metadata": {},
   "outputs": [],
   "source": [
    "m.toolChange(-1)"
   ]
  },
  {
   "cell_type": "code",
   "execution_count": null,
   "id": "c003ca95-2641-4e16-bf76-1b192d079250",
   "metadata": {},
   "outputs": [],
   "source": []
  },
  {
   "cell_type": "code",
   "execution_count": null,
   "id": "6a014e7f-16f6-4ebd-b11f-12d0c42eb494",
   "metadata": {},
   "outputs": [],
   "source": []
  },
  {
   "cell_type": "code",
   "execution_count": null,
   "id": "da739d9e-8b90-4493-82ee-d9aeb3e48ddd",
   "metadata": {},
   "outputs": [],
   "source": []
  }
 ],
 "metadata": {
  "kernelspec": {
   "display_name": ".venv",
   "language": "python",
   "name": ".venv"
  },
  "language_info": {
   "codemirror_mode": {
    "name": "ipython",
    "version": 3
   },
   "file_extension": ".py",
   "mimetype": "text/x-python",
   "name": "python",
   "nbconvert_exporter": "python",
   "pygments_lexer": "ipython3",
   "version": "3.7.3"
  }
 },
 "nbformat": 4,
 "nbformat_minor": 5
}
