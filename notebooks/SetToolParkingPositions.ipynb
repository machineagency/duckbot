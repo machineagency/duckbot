{
 "cells": [
  {
   "cell_type": "markdown",
   "id": "81407bb0-9dd1-4ec2-a2a8-b636303c9cba",
   "metadata": {},
   "source": [
    "# Setting Jubilee Tool Parking Positions\n",
    "This notebook scaffolds the steps outlined [here](https://www.jubilee3d.com/index.php?title=Setting_Tool_Parking_Positions) to set tool parking positions from the Jubilee wiki. "
   ]
  },
  {
   "cell_type": "code",
   "execution_count": 1,
   "id": "2df538aa-4243-4c64-9034-a4fa6eead883",
   "metadata": {},
   "outputs": [],
   "source": [
    "# import required modules\n",
    "from utils.MachineUtils import *"
   ]
  },
  {
   "cell_type": "code",
   "execution_count": 2,
   "id": "bb3530e4-92f3-4d84-a029-5b0ae950ac12",
   "metadata": {},
   "outputs": [
    {
     "name": "stdout",
     "output_type": "stream",
     "text": [
      "['ttyACM0', 'ttyAMA0']\n"
     ]
    }
   ],
   "source": [
    "# Setup your machine connection\n",
    "# List available ports in thie cell\n",
    "\n",
    "ports = serial.tools.list_ports.comports()\n",
    "print([port.name for port in ports]) "
   ]
  },
  {
   "cell_type": "code",
   "execution_count": 3,
   "id": "2713979f-ae63-400b-90dc-2b9c441b2341",
   "metadata": {},
   "outputs": [],
   "source": [
    "# Choose the correct port from above and establish connection with machine\n",
    "port = '/dev/ttyACM0'\n",
    "m = MachineCommunication(port)"
   ]
  },
  {
   "cell_type": "code",
   "execution_count": 6,
   "id": "2c062d56-ed98-43fc-be9e-873d1746ffb8",
   "metadata": {},
   "outputs": [],
   "source": [
    "m.homeU()"
   ]
  },
  {
   "cell_type": "code",
   "execution_count": 7,
   "id": "fc9ba8ea-b119-4c79-bd3e-ff6b5594934f",
   "metadata": {},
   "outputs": [],
   "source": [
    "m.homeY()"
   ]
  },
  {
   "cell_type": "code",
   "execution_count": 8,
   "id": "e7343711-97c4-4136-bb06-cbf47f80e78f",
   "metadata": {},
   "outputs": [],
   "source": [
    "m.homeX()"
   ]
  },
  {
   "cell_type": "code",
   "execution_count": 9,
   "id": "5d98ac7f-e156-42c4-956e-d81d5bf6685b",
   "metadata": {},
   "outputs": [],
   "source": [
    "m.homeZ()"
   ]
  },
  {
   "cell_type": "code",
   "execution_count": null,
   "id": "668cd1b9-3871-445c-a402-c65726da33d1",
   "metadata": {},
   "outputs": [],
   "source": []
  }
 ],
 "metadata": {
  "kernelspec": {
   "display_name": ".venv",
   "language": "python",
   "name": ".venv"
  },
  "language_info": {
   "codemirror_mode": {
    "name": "ipython",
    "version": 3
   },
   "file_extension": ".py",
   "mimetype": "text/x-python",
   "name": "python",
   "nbconvert_exporter": "python",
   "pygments_lexer": "ipython3",
   "version": "3.7.3"
  }
 },
 "nbformat": 4,
 "nbformat_minor": 5
}
