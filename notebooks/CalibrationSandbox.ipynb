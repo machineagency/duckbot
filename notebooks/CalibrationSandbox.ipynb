{
 "cells": [
  {
   "cell_type": "code",
   "execution_count": 1,
   "id": "120f4b9b-d580-493b-a9ce-acbc65769d42",
   "metadata": {},
   "outputs": [],
   "source": [
    "#Importing python libraries from local files. \n",
    "from utils.CameraUtils import *\n",
    "from utils.MachineUtils import *\n",
    "import json"
   ]
  },
  {
   "cell_type": "code",
   "execution_count": 2,
   "id": "30b15ac4-7753-4082-8b47-df32cab9b169",
   "metadata": {},
   "outputs": [],
   "source": [
    "#Establish machine communication \n",
    "port = '/dev/ttyACM0' #Check options using  - print([port.name for port in serial.tools.list_ports.comports()])\n",
    "m = MachineCommunication(port)"
   ]
  },
  {
   "cell_type": "code",
   "execution_count": 22,
   "id": "2d2fc64d-bfe0-4de8-992e-e83368b1cf2f",
   "metadata": {},
   "outputs": [
    {
     "name": "stdout",
     "output_type": "stream",
     "text": [
      "(320, 240)\n"
     ]
    }
   ],
   "source": [
    "#Open a live video window\n",
    "# find the z height at which we can see a whole petri dish\n",
    "# at z=110 with camera tool equipped, whole first plate is visible \n",
    "%matplotlib inline\n",
    "cap = cv2.VideoCapture(0) #Note that the index corresponding to your camera may not be zero but this is the most common default\n",
    "\n",
    "# draw a circle in the center of the frame\n",
    "center = None\n",
    "while center is None:\n",
    "    # the first frame grab is sometimes empty\n",
    "    ret, frame = cap.read()\n",
    "    h, w = frame.shape[0:2]\n",
    "    center = (int(w/2), int(h/2))\n",
    "    print(center)\n",
    "\n",
    "while True:\n",
    "    ret, frame = cap.read()\n",
    "    target = cv2.circle(frame, center, 5, (0,255,0), -1)\n",
    "    cv2.imshow('Input', frame)\n",
    "    c = cv2.waitKey(1)\n",
    "    if c ==27: #27 is the built in code for ESC so press escape to close the window. \n",
    "        break \n",
    "        \n",
    "cap.release()\n",
    "cv2.destroyAllWindows()"
   ]
  },
  {
   "cell_type": "code",
   "execution_count": null,
   "id": "f570097a-c19f-4565-9e3f-dfe1d170413a",
   "metadata": {},
   "outputs": [],
   "source": [
    "f = getFrame()"
   ]
  },
  {
   "cell_type": "code",
   "execution_count": 14,
   "id": "daee5267-d3d7-4ee5-b2de-799d74eead45",
   "metadata": {},
   "outputs": [],
   "source": [
    "showFrame(getFrame(), grid=True)"
   ]
  },
  {
   "cell_type": "code",
   "execution_count": 5,
   "id": "117fc451-73ef-4e71-b18f-be25f2c00347",
   "metadata": {},
   "outputs": [
    {
     "name": "stdout",
     "output_type": "stream",
     "text": [
      "[[ 2.83177792e-01 -1.52038853e+00]\n",
      " [ 2.96527139e+00 -3.34144830e+00]\n",
      " [-4.89224219e-01  2.59932583e-01]\n",
      " [ 5.55483812e-01  7.52317823e+01]\n",
      " [-7.49778260e+01 -4.26956240e-02]\n",
      " [ 8.02453667e+01  2.39263142e+02]]\n",
      "[1200, 1200]\n"
     ]
    }
   ],
   "source": [
    "# read in the calibration file\n",
    "with open(\"/home/pi/autofocus-test/JubileeAutofocus/camera_cal_z_60_tape.json\") as f:\n",
    "    cal = json.load(f)\n",
    "matrix = np.array(cal['transform'])\n",
    "size = cal['resolution']\n",
    "print(matrix)\n",
    "print(size)"
   ]
  },
  {
   "cell_type": "code",
   "execution_count": 6,
   "id": "c9f0d712-8788-4983-8a84-4b38f283d328",
   "metadata": {},
   "outputs": [],
   "source": [
    "m.transform = matrix\n",
    "m.img_size = size"
   ]
  },
  {
   "cell_type": "code",
   "execution_count": 7,
   "id": "ee491137-9496-4c0b-9321-1f48be4e51f9",
   "metadata": {},
   "outputs": [],
   "source": [
    "m.moveTo(z=60)"
   ]
  },
  {
   "cell_type": "code",
   "execution_count": null,
   "id": "12642dc7-dd5f-4b4e-8bd5-4e150574e126",
   "metadata": {},
   "outputs": [],
   "source": [
    "m.moveTo(x=90, y=230)"
   ]
  },
  {
   "cell_type": "code",
   "execution_count": 15,
   "id": "4db4d2a4-7341-425b-8d60-e76ea5de05a4",
   "metadata": {},
   "outputs": [],
   "source": [
    "def px_to_real(x,y, absolute = False):\n",
    "        x = (x / m.img_size[0]) - 0.5\n",
    "        y = (y / m.img_size[1]) - 0.5\n",
    "        a = 1 if absolute else 0\n",
    "\n",
    "        return (m.transform.T @ np.array([x**2, y**2, x * y, x, y, a]))"
   ]
  },
  {
   "cell_type": "code",
   "execution_count": null,
   "id": "8ff935db-437c-4678-b883-2924a4293ece",
   "metadata": {},
   "outputs": [],
   "source": [
    "showFrame(getFrame(), grid=True)"
   ]
  },
  {
   "cell_type": "code",
   "execution_count": 16,
   "id": "68fa1d10-a382-4385-a632-fe10c4c02b25",
   "metadata": {},
   "outputs": [
    {
     "name": "stdout",
     "output_type": "stream",
     "text": [
      "[-18.54020549   2.97785191]\n"
     ]
    }
   ],
   "source": [
    "#px_to_real(749, 209, absolute=True)\n",
    "off = px_to_real(651, 900)\n",
    "print(off)"
   ]
  },
  {
   "cell_type": "code",
   "execution_count": 12,
   "id": "f3892cda-fefc-4bee-aa49-c5ec89eafc26",
   "metadata": {},
   "outputs": [],
   "source": [
    "o = [90, 250]"
   ]
  },
  {
   "cell_type": "code",
   "execution_count": 13,
   "id": "a621c8b7-2753-4ac6-89c1-5fc57f410c87",
   "metadata": {},
   "outputs": [],
   "source": [
    "m.moveTo(x=o[0], y=o[1])"
   ]
  },
  {
   "cell_type": "code",
   "execution_count": 17,
   "id": "58e8d977-159d-4db8-82e8-2f509d840d54",
   "metadata": {},
   "outputs": [
    {
     "name": "stdout",
     "output_type": "stream",
     "text": [
      "[-18.54058634   2.91521124]\n"
     ]
    }
   ],
   "source": [
    "off = px_to_real(650, 900)\n",
    "print(off)"
   ]
  },
  {
   "cell_type": "code",
   "execution_count": 18,
   "id": "6e88a08e-438d-4afc-85d6-9f9b5168bfaf",
   "metadata": {},
   "outputs": [
    {
     "name": "stdout",
     "output_type": "stream",
     "text": [
      "[108.54058633664744, 247.08478875929072]\n"
     ]
    }
   ],
   "source": [
    "p = [o[0] - off[0], o[1] - off[1]]\n",
    "print(p)"
   ]
  },
  {
   "cell_type": "code",
   "execution_count": 19,
   "id": "53a1a95a-ad61-47ea-9617-986f0b152f44",
   "metadata": {},
   "outputs": [],
   "source": [
    "m.moveTo(x=p[0], y=p[1])"
   ]
  },
  {
   "cell_type": "code",
   "execution_count": 32,
   "id": "680ca049-b930-485b-8708-1fb38cb934c5",
   "metadata": {},
   "outputs": [],
   "source": [
    "# switch tools and see if it's aligned\n",
    "m.toolChange(2)"
   ]
  },
  {
   "cell_type": "code",
   "execution_count": null,
   "id": "677b5e8c-824c-43f8-9251-c588d8146333",
   "metadata": {},
   "outputs": [],
   "source": [
    "syringe_off = [-7.9, 5.8]"
   ]
  },
  {
   "cell_type": "code",
   "execution_count": null,
   "id": "b29f56eb-3c76-4153-a875-b703a7e137eb",
   "metadata": {},
   "outputs": [],
   "source": [
    "m.moveTo(m.moveTo(x=p[0] + syringe_off[0], y=p[1] + syringe_off[1]))"
   ]
  },
  {
   "cell_type": "code",
   "execution_count": 20,
   "id": "628a29de-4e4b-4355-b14b-b9baa94dcfda",
   "metadata": {},
   "outputs": [],
   "source": [
    "showFrame(getFrame(), grid=True)"
   ]
  },
  {
   "cell_type": "code",
   "execution_count": null,
   "id": "5d8a18e1-bf21-4bb7-893e-06cf167e26e2",
   "metadata": {},
   "outputs": [],
   "source": [
    "showFrame(getFrameCamera(1), grid=True)"
   ]
  },
  {
   "cell_type": "code",
   "execution_count": 42,
   "id": "008b57e0-2c00-4d8f-8852-54d25359a4b0",
   "metadata": {},
   "outputs": [
    {
     "name": "stdout",
     "output_type": "stream",
     "text": [
      "I used a gain of 1.3000000000000003\n",
      "the radius is: 283\n",
      "the center is: (603,600)\n",
      "I found 1 wells\n"
     ]
    }
   ],
   "source": [
    "circle, data = getSingleWell(getFrame(), minR = 270, maxR=290)"
   ]
  },
  {
   "cell_type": "code",
   "execution_count": 43,
   "id": "026a2eeb-22b2-4c4b-81f6-892740ba59cc",
   "metadata": {},
   "outputs": [],
   "source": [
    "showFrame(circle)"
   ]
  },
  {
   "cell_type": "code",
   "execution_count": null,
   "id": "8c1da0bf-3ea9-4da1-a725-89acb41b5192",
   "metadata": {},
   "outputs": [],
   "source": []
  }
 ],
 "metadata": {
  "kernelspec": {
   "display_name": ".venv",
   "language": "python",
   "name": ".venv"
  },
  "language_info": {
   "codemirror_mode": {
    "name": "ipython",
    "version": 3
   },
   "file_extension": ".py",
   "mimetype": "text/x-python",
   "name": "python",
   "nbconvert_exporter": "python",
   "pygments_lexer": "ipython3",
   "version": "3.7.3"
  }
 },
 "nbformat": 4,
 "nbformat_minor": 5
}
