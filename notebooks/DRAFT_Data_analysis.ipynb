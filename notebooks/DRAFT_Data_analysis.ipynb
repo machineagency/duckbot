{
 "cells": [
  {
   "cell_type": "markdown",
   "id": "07750979",
   "metadata": {},
   "source": [
    "### How to use this notebook\n",
    " - Enter the details requested in part 1\n",
    " - In part 2 each cell will execute a different analysis. Feel free to use and modify based on your own needs.\n",
    " \n",
    " ##### Assumptions made by this notebook\n",
    "  - Experimental data are a timeseries of images of duckweed growing in 24 plat wells. Image files are stored in the same directory according to the format \"exptname_plate_wellID_yyyymmdd.jpg.\n",
    "  - Experiment metadata are stored in a .json file, with information on which samples and media are in which wells. "
   ]
  },
  {
   "cell_type": "code",
   "execution_count": 2,
   "id": "24a40760",
   "metadata": {},
   "outputs": [],
   "source": [
    "import random\n",
    "import pandas as pd\n",
    "import DuckbotExptSetupUtils as exp\n",
    "import os\n",
    "import json\n",
    "import datetime\n",
    "import pathlib\n",
    "import re\n",
    "import numpy as np\n",
    "import cv2\n",
    "from PIL import Image, ExifTags\n",
    "# from plantcv import plantcv as pcv\n",
    "import matplotlib"
   ]
  },
  {
   "cell_type": "code",
   "execution_count": 3,
   "id": "573f1c9b",
   "metadata": {},
   "outputs": [],
   "source": [
    "\n",
    "def file_to_datetime(filename):\n",
    "    no_file_ending = filename.split(\".\")\n",
    "    split_name = no_file_ending[0].split(\"_\")\n",
    "    date = split_name[3].split(\"-\")\n",
    "    year = int(date[0])\n",
    "    month = int(date[1])\n",
    "    day = int(date[2])\n",
    "    return year, month, day\n",
    "\n",
    "def calculate_dpi(y, m, d):\n",
    "    split_start_date = startdate.split(\"-\")\n",
    "    y0 = int(split_start_date[0])\n",
    "    m0 = int(split_start_date[1])\n",
    "    d0 = int(split_start_date[2])\n",
    "    start = datetime.datetime(y0, m0, d0)\n",
    "    end = datetime.datetime(y, m, d)\n",
    "    diff = (end-start).days\n",
    "    return(diff)\n",
    "\n",
    "def find_plate_well_id(str):\n",
    "    well_id = re.search('well(.+?)_', str).group(1)\n",
    "    plate_id = re.search('plate(.+?)_well', str).group(1)\n",
    "    return(f'Plate_{plate_id}_Well_{well_id}')\n",
    "\n",
    "def add_data_acrossdfs(input_value, shared_column_name, search_df, desired_column):\n",
    "    df_subset = search_df[search_df[shared_column_name] == input_value][desired_column] #Find the desired column from the matching part of the search_df\n",
    "    df_as_list = list(df_subset) #Convert to list to wipe clean the index carried over from search dataframe. \n",
    "    desired_value = df_as_list[0] #Specify that we want what should be a single value, rather than a whole list with one entry\n",
    "    return desired_value\n",
    "\n",
    "  \n",
    "\n"
   ]
  },
  {
   "cell_type": "markdown",
   "id": "6f5cf925",
   "metadata": {},
   "source": [
    "### Part 1 - Define filenames and paths"
   ]
  },
  {
   "cell_type": "code",
   "execution_count": 4,
   "id": "31ac5d9e",
   "metadata": {},
   "outputs": [
    {
     "name": "stdout",
     "output_type": "stream",
     "text": [
      "/Users/Orlando/Documents/Github_clones/duckbot/notebooks\n"
     ]
    }
   ],
   "source": [
    "print(os.getcwd())"
   ]
  },
  {
   "cell_type": "code",
   "execution_count": 7,
   "id": "ebfc5dcf",
   "metadata": {},
   "outputs": [],
   "source": [
    "#Where is the Json file with the experiment metadata and what is it called?\n",
    "metadata_dir =  '/Users/Orlando/Documents/Github_clones/duckbot/test_data/TestExptDir/'\n",
    "# \"/home/delangeo/duckbot_git_clone/duckbot/test_data/TestExptDir/\" \n",
    "metadata_filename = 'TestFile.json'\n",
    "metadata_path = metadata_dir + metadata_filename\n",
    "\n",
    "#Where are the image files that you want to analyze and what is the experiment ID (should be first part of each image filename)\n",
    "img_data_dir =  \"/Users/Orlando/Documents/Github_clones/duckbot/test_data/odl_dataanalaysistest1\"\n",
    "# \"/home/delangeo/duckbot_git_clone/duckbot/test_data/odl_dataanalaysistest1\"\n",
    "expt_prefix = \"TestData\"\n",
    "\n",
    "#Where do you want the figures produced by this script to end up?\n",
    "output_figure_dir = '/Users/Orlando/Documents/Github_clones/duckbot/test_data/'\n",
    "# \"/home/delangeo/duckbot_git_clone/duckbot/test_data/\"\n",
    "\n",
    "#What was day 0 for this experiment in format (yyyy-mm-dd)\n",
    "startdate = \"2022-07-01\""
   ]
  },
  {
   "cell_type": "markdown",
   "id": "b17ef073",
   "metadata": {},
   "source": [
    "### Part 2 - Building a dataframe with percentage duckweed coverage in each image"
   ]
  },
  {
   "cell_type": "code",
   "execution_count": 9,
   "id": "3d9a2768",
   "metadata": {},
   "outputs": [
    {
     "name": "stdout",
     "output_type": "stream",
     "text": [
      "                             filename    plate_well_id        date\n",
      "0   TestData_plate1_wellA1_2022-07-05  Plate_1_Well_A1  2022-07-05\n",
      "1   TestData_plate1_wellA1_2022-07-03  Plate_1_Well_A1  2022-07-03\n",
      "2   TestData_plate1_wellA1_2022-07-01  Plate_1_Well_A1  2022-07-01\n",
      "3   TestData_plate1_wellA4_2022-07-03  Plate_1_Well_A4  2022-07-03\n",
      "4   TestData_plate1_wellA2_2022-07-05  Plate_1_Well_A2  2022-07-05\n",
      "5   TestData_plate1_wellA3_2022-07-01  Plate_1_Well_A3  2022-07-01\n",
      "6   TestData_plate1_wellA3_2022-07-03  Plate_1_Well_A3  2022-07-03\n",
      "7   TestData_plate1_wellA4_2022-07-01  Plate_1_Well_A4  2022-07-01\n",
      "8   TestData_plate1_wellA4_2022-07-05  Plate_1_Well_A4  2022-07-05\n",
      "9   TestData_plate1_wellA2_2022-07-03  Plate_1_Well_A2  2022-07-03\n",
      "10  TestData_plate1_wellA3_2022-07-05  Plate_1_Well_A3  2022-07-05\n",
      "11  TestData_plate1_wellA2_2022-07-01  Plate_1_Well_A2  2022-07-01\n"
     ]
    }
   ],
   "source": [
    "\n",
    "p = pathlib.Path(img_data_dir)   # current directory, insert your directory here\n",
    "data_filenames = [x.stem for x in p.glob('*.jpg')]\n",
    "\n",
    "data_df = pd.DataFrame({\"filename\": data_filenames})\n",
    "data_df['plate_well_id'] = data_df.apply(lambda row: find_plate_well_id(row.filename), axis=1)\n",
    "data_df['date'] = data_df.apply(lambda row: row.filename[-10:], axis=1)\n",
    "print(data_df)\n"
   ]
  },
  {
   "cell_type": "code",
   "execution_count": 10,
   "id": "63a0acc8",
   "metadata": {},
   "outputs": [],
   "source": [
    "#Processing images\n",
    "with open(metadata_path) as metadata:\n",
    "    expt_data = json.load(metadata)\n",
    "\n",
    "plate_set_up = expt_data[\"sample_info\"]\n",
    "md_df = pd.DataFrame(plate_set_up)"
   ]
  },
  {
   "cell_type": "code",
   "execution_count": 11,
   "id": "b49065cd",
   "metadata": {},
   "outputs": [
    {
     "name": "stdout",
     "output_type": "stream",
     "text": [
      "                            filename    plate_well_id        date media  \\\n",
      "0  TestData_plate1_wellA1_2022-07-05  Plate_1_Well_A1  2022-07-05  Mock   \n",
      "1  TestData_plate1_wellA1_2022-07-03  Plate_1_Well_A1  2022-07-03  Mock   \n",
      "2  TestData_plate1_wellA1_2022-07-01  Plate_1_Well_A1  2022-07-01  Mock   \n",
      "3  TestData_plate1_wellA4_2022-07-03  Plate_1_Well_A4  2022-07-03  Mock   \n",
      "4  TestData_plate1_wellA2_2022-07-05  Plate_1_Well_A2  2022-07-05  Salt   \n",
      "\n",
      "  genotype  replicate  \n",
      "0   Sp7498          1  \n",
      "1   Sp7498          1  \n",
      "2   Sp7498          1  \n",
      "3   Sp7498          2  \n",
      "4   Sp7498          2  \n"
     ]
    }
   ],
   "source": [
    "data_df['media'] = data_df.apply(lambda row: add_data_acrossdfs(row.plate_well_id, 'plate_well_id', md_df, 'media'), axis=1)\n",
    "data_df['genotype'] = data_df.apply(lambda row: add_data_acrossdfs(row.plate_well_id, 'plate_well_id', md_df, 'genotype'), axis=1)\n",
    "data_df['replicate'] = data_df.apply(lambda row: add_data_acrossdfs(row.plate_well_id, 'plate_well_id', md_df, 'condition_replicate'), axis=1)\n",
    "\n",
    "print(data_df.head())                \n"
   ]
  },
  {
   "cell_type": "code",
   "execution_count": 35,
   "id": "28ff167c",
   "metadata": {},
   "outputs": [],
   "source": [
    "#Remove non-green pixels from images\n",
    "filtered_img_dir = img_data_dir + \"/green_filtered\"\n",
    "if not os.path.exists(filtered_img_dir):\n",
    "    os.mkdir(filtered_img_dir)\n",
    "\n",
    "amount_green = []\n",
    "\n",
    "for file in os.listdir(img_data_dir):\n",
    "    if \".jpg\" in file:\n",
    "        y, m, d = file_to_datetime(file)\n",
    "        days_post_initiation = calculate_dpi(y, m, d)\n",
    "        im = cv2.imread(os.path.join(img_data_dir, file))\n",
    "        dpi= days_post_initiation\n",
    "        green_pixels = 0   \n",
    "        for i in range(im.shape[0]): #im.shape[0] is the y-axis\n",
    "            for j in range(im.shape[1]): #im.shape[1] is the x returns X and Y axes of the image\n",
    "                if im[i, j][0] > 0.9*im[i, j][1]:  #If more blue than green in pixel than set to black.         \n",
    "                    im[i, j] = [0, 0, 0]\n",
    "                if np.array([x < 90 for x in im[i, j]]).all():\n",
    "                    im[i, j] = [0, 0, 0]\n",
    "                else:\n",
    "                    green_pixels += 1\n",
    "        amount_green.append({\"filename\": file, \"dpi\": dpi, \"green_pixels\": float(green_pixels)})\n",
    "        im_onlygreen = cv2.cvtColor(im, cv2.COLOR_BGR2RGB)\n",
    "        img = Image.fromarray(im)\n",
    "        img.save(filtered_img_dir + \"/\" + \"GREEN\" + file)\n",
    "\n",
    "#Some notes to make sense of the above code\n",
    "#im[i,j] refers to all pixels in the image, each having an x (j) and y(i) coordinate. \n",
    "#if np.array([x < 90 for x in im[i, j]]).all() is looking for any pixels with saturation values under 90 in any channel\n",
    "#Each pixel has a blue [0], green [1] and red [2] value. "
   ]
  },
  {
   "cell_type": "code",
   "execution_count": 34,
   "id": "d1589968",
   "metadata": {},
   "outputs": [],
   "source": [
    "# def add_data(input_value, shared_column_name, search_df, desired_column):\n",
    "#     df_subset = search_df[input_value in search_df[shared_column_name]][desired_column] #Find the desired column from the matching part of the search_df\n",
    "#     df_as_list = list(df_subset) #Convert to list to wipe clean the index carried over from search dataframe. \n",
    "#     desired_value = df_as_list[0] #Specify that we want what should be a single value, rather than a whole list with one entry\n",
    "#     return desired_value"
   ]
  },
  {
   "cell_type": "code",
   "execution_count": 36,
   "id": "5b72ec2c",
   "metadata": {},
   "outputs": [
    {
     "name": "stdout",
     "output_type": "stream",
     "text": [
      "                             filename    plate_well_id        date media  \\\n",
      "0   TestData_plate1_wellA1_2022-07-05  Plate_1_Well_A1  2022-07-05  Mock   \n",
      "1   TestData_plate1_wellA1_2022-07-03  Plate_1_Well_A1  2022-07-03  Mock   \n",
      "2   TestData_plate1_wellA1_2022-07-01  Plate_1_Well_A1  2022-07-01  Mock   \n",
      "3   TestData_plate1_wellA4_2022-07-03  Plate_1_Well_A4  2022-07-03  Mock   \n",
      "4   TestData_plate1_wellA2_2022-07-05  Plate_1_Well_A2  2022-07-05  Salt   \n",
      "5   TestData_plate1_wellA3_2022-07-01  Plate_1_Well_A3  2022-07-01  Salt   \n",
      "6   TestData_plate1_wellA3_2022-07-03  Plate_1_Well_A3  2022-07-03  Salt   \n",
      "7   TestData_plate1_wellA4_2022-07-01  Plate_1_Well_A4  2022-07-01  Mock   \n",
      "8   TestData_plate1_wellA4_2022-07-05  Plate_1_Well_A4  2022-07-05  Mock   \n",
      "9   TestData_plate1_wellA2_2022-07-03  Plate_1_Well_A2  2022-07-03  Salt   \n",
      "10  TestData_plate1_wellA3_2022-07-05  Plate_1_Well_A3  2022-07-05  Salt   \n",
      "11  TestData_plate1_wellA2_2022-07-01  Plate_1_Well_A2  2022-07-01  Salt   \n",
      "\n",
      "   genotype  replicate  dpi  green_pixels  \n",
      "0    Sp7498          1    4       12320.0  \n",
      "1    Sp7498          1    2       10210.0  \n",
      "2    Sp7498          1    0       13053.0  \n",
      "3    Sp7498          2    2       10054.0  \n",
      "4    Sp7498          2    4        7552.0  \n",
      "5    Sp7498          1    0        7713.0  \n",
      "6    Sp7498          1    2        8987.0  \n",
      "7    Sp7498          2    0       15720.0  \n",
      "8    Sp7498          2    4        4667.0  \n",
      "9    Sp7498          2    2        3311.0  \n",
      "10   Sp7498          1    4        7006.0  \n",
      "11   Sp7498          2    0        8273.0  \n"
     ]
    }
   ],
   "source": [
    "pixel_df = pd.DataFrame(amount_green)\n",
    "# print(pixel_df)\n",
    "pixel_df['filename_no_ext'] = pixel_df.apply(lambda row: row.filename[0:-4], axis=1)\n",
    "\n",
    "data_df['dpi'] = data_df.apply(lambda row: add_data_acrossdfs(row.filename, 'filename_no_ext', pixel_df, 'dpi'), axis = 1)\n",
    "data_df['green_pixels'] = data_df.apply(lambda row: add_data_acrossdfs(row.filename, 'filename_no_ext', pixel_df, 'green_pixels'), axis = 1)\n",
    "\n",
    "print(data_df)\n",
    "\n"
   ]
  },
  {
   "cell_type": "code",
   "execution_count": 48,
   "id": "e9664740",
   "metadata": {},
   "outputs": [
    {
     "name": "stdout",
     "output_type": "stream",
     "text": [
      "  genotype media  dpi        green_pixels  median_green_pixels  \\\n",
      "0   Sp7498  Mock    0  [13053.0, 15720.0]              14386.5   \n",
      "1   Sp7498  Mock    2  [10210.0, 10054.0]              10132.0   \n",
      "2   Sp7498  Mock    4   [12320.0, 4667.0]               8493.5   \n",
      "3   Sp7498  Salt    0    [7713.0, 8273.0]               7993.0   \n",
      "4   Sp7498  Salt    2    [8987.0, 3311.0]               6149.0   \n",
      "5   Sp7498  Salt    4    [7552.0, 7006.0]               7279.0   \n",
      "\n",
      "   stdev_green_pixels  \n",
      "0              1333.5  \n",
      "1                78.0  \n",
      "2              3826.5  \n",
      "3               280.0  \n",
      "4              2838.0  \n",
      "5               273.0  \n"
     ]
    }
   ],
   "source": [
    "# Create dataframe with means and standard deviations\n",
    "\n",
    "#Create new dictionaries\n",
    "analysis_dict = {'genotype': [], 'media' : [], 'dpi' : [], 'green_pixels': []}\n",
    "\n",
    "\n",
    "genotype_df = data_df.groupby(['genotype']) #Returns a list of tuples with [0] being the group key and [1] the dataframe\n",
    "for g in genotype_df:\n",
    "#     analysis_df['genotype'].extend([g[0]] * len(g[1].index))\n",
    "    media_df = g[1].groupby(['media'])\n",
    "    for m in media_df:\n",
    "#         analysis_df['media'].extend([m[0]] * len(m[1].index))\n",
    "        dpi_df = m[1].groupby(['dpi'])\n",
    "        for d in dpi_df:\n",
    "#             print(d)\n",
    "            analysis_dict['genotype'].append(list(d[1]['genotype'])[0])\n",
    "            analysis_dict['media'].append(list(d[1]['media'])[0])\n",
    "            analysis_dict['dpi'].append(d[0])\n",
    "            analysis_dict['green_pixels'].append(list(d[1]['green_pixels']))\n",
    "\n",
    "# print(g)\n",
    "analysis_df = pd.DataFrame(analysis_dict)\n",
    "\n",
    "analysis_df['median_green_pixels'] = analysis_df.apply(lambda row: np.median(row.green_pixels), axis = 1)\n",
    "analysis_df['stdev_green_pixels'] = analysis_df.apply(lambda row: np.std(row.green_pixels), axis = 1)\n",
    "# analysis_df['median_green_pixels'] = analysis_df['green_pixels'].median()\n",
    "# analysis_df['stdev_green_pixels'] = analysis_df['green_pixels'].stdev()\n",
    "\n",
    "print(analysis_df)\n",
    "# print(genotype_df[1])\n",
    "\n",
    "#Iterate through rows to populate new dataframe. \n"
   ]
  },
  {
   "cell_type": "markdown",
   "id": "7b885313",
   "metadata": {},
   "source": [
    "### Part 3 - Produce figures"
   ]
  },
  {
   "cell_type": "markdown",
   "id": "cbf72de9",
   "metadata": {},
   "source": [
    "#### Data display option - Growth curves\n",
    "Connects datapoints averaged across replicates to produce a line of growth against time. "
   ]
  },
  {
   "cell_type": "code",
   "execution_count": 57,
   "id": "c32d422d",
   "metadata": {},
   "outputs": [
    {
     "name": "stdout",
     "output_type": "stream",
     "text": [
      "  genotype media  dpi        green_pixels  median_green_pixels  \\\n",
      "0   Sp7498  Mock    0  [13053.0, 15720.0]              14386.5   \n",
      "1   Sp7498  Mock    2  [10210.0, 10054.0]              10132.0   \n",
      "2   Sp7498  Mock    4   [12320.0, 4667.0]               8493.5   \n",
      "3   Sp7498  Salt    0    [7713.0, 8273.0]               7993.0   \n",
      "4   Sp7498  Salt    2    [8987.0, 3311.0]               6149.0   \n",
      "5   Sp7498  Salt    4    [7552.0, 7006.0]               7279.0   \n",
      "\n",
      "   stdev_green_pixels  \n",
      "0              1333.5  \n",
      "1                78.0  \n",
      "2              3826.5  \n",
      "3               280.0  \n",
      "4              2838.0  \n",
      "5               273.0  \n",
      "  genotype media  dpi        green_pixels  median_green_pixels  \\\n",
      "0   Sp7498  Mock    0  [13053.0, 15720.0]              14386.5   \n",
      "1   Sp7498  Mock    2  [10210.0, 10054.0]              10132.0   \n",
      "2   Sp7498  Mock    4   [12320.0, 4667.0]               8493.5   \n",
      "\n",
      "   stdev_green_pixels  \n",
      "0              1333.5  \n",
      "1                78.0  \n",
      "2              3826.5  \n",
      "  genotype media  dpi      green_pixels  median_green_pixels  \\\n",
      "3   Sp7498  Salt    0  [7713.0, 8273.0]               7993.0   \n",
      "4   Sp7498  Salt    2  [8987.0, 3311.0]               6149.0   \n",
      "5   Sp7498  Salt    4  [7552.0, 7006.0]               7279.0   \n",
      "\n",
      "   stdev_green_pixels  \n",
      "3               280.0  \n",
      "4              2838.0  \n",
      "5               273.0  \n"
     ]
    },
    {
     "name": "stderr",
     "output_type": "stream",
     "text": [
      "/Users/Orlando/virtualenvs/duckbot/duckbot_jupyter/lib/python3.7/site-packages/ipykernel_launcher.py:21: UserWarning: Matplotlib is currently using module://matplotlib_inline.backend_inline, which is a non-GUI backend, so cannot show the figure.\n"
     ]
    },
    {
     "data": {
      "image/png": "[encoded data removed]",
      "text/plain": [
       "<Figure size 2880x1440 with 1 Axes>"
      ]
     },
     "metadata": {
      "needs_background": "light"
     },
     "output_type": "display_data"
    }
   ],
   "source": [
    "#8. Create and save figure\n",
    "\n",
    "import matplotlib.pyplot as plt\n",
    "genotype = np.unique(analysis_df[\"genotype\"])\n",
    "media = np.unique(analysis_df[\"media\"])\n",
    "\n",
    "fig, ax = plt.subplots(figsize=(40, 20))\n",
    "for g in genotype:\n",
    "    g_df = analysis_df[analysis_df[\"genotype\"] == g]\n",
    "    print(g_df)\n",
    "    for m in media:\n",
    "        m_df = g_df[g_df[\"media\"] == m]\n",
    "        print(m_df)\n",
    "        ax.errorbar(m_df['dpi'], m_df[\"median_green_pixels\"],yerr=m_df[\"stdev_green_pixels\"], label=g+\"-\"+m, linewidth=12)\n",
    "\n",
    "ax.legend(loc='upper right',fontsize='xx-large')\n",
    "fig.suptitle(\"Example Growth curves\", size = 25,wrap = False)\n",
    "ax.set_xlabel(\"Days post Initiation\", size = 15)\n",
    "ax.set_ylabel(\"Frond area (pixels)\", size = 15)\n",
    "\n",
    "fig.show()\n",
    "# ax.set_xscale('log')\n",
    "# os.chdir(data_host_dir)\n",
    "# fig.savefig(fig_filename)\n"
   ]
  },
  {
   "cell_type": "code",
   "execution_count": 2,
   "id": "a3476d4c",
   "metadata": {},
   "outputs": [],
   "source": [
    "\n",
    "\n",
    "\n",
    "\n",
    "\n",
    "\n",
    "from cycler import cycler\n",
    "# import cycler\n",
    "import matplotlib as mpl\n",
    "\n",
    "colors = [\"#345eeb\", \"#1bd12d\", \"#e38d0b\", \"#eb0cd4\", \"#000000\"]\n",
    "mpl.rcParams['axes.prop_cycle'] = cycler.cycler('color', colors)\n",
    "fig, ax = plt.subplots()\n",
    "for conc in list(cond_dict.keys()):\n",
    "    x = np.array(list(cond_dict[conc].keys()))\n",
    "    y = np.array(list(cond_dict[conc].values()))\n",
    "    plt.yscale('log')\n",
    "    err = list(err_dict[cond])\n",
    "    ax.errorbar(x, y, err, label = conc)\n",
    "  \n",
    "plt.legend(title=\"NaCl Conc. (mM)\")\n",
    "plt.ylabel(\"Log Average Area of Green Fronds ({}\\u00b2)\".format(\"mm\"))\n",
    "plt.xlabel(\"Days\")\n",
    "plt.savefig(\"Area_vs_Concentration_fig_4b.jpg\")\n",
    "plt.show()"
   ]
  },
  {
   "cell_type": "markdown",
   "id": "51dc3596",
   "metadata": {},
   "source": [
    "### Data display option - Dose Response curve\n",
    "Note that this analylsis only makes sense if your experiment involved a series of media conditions along a quantitative axis (i.e. concentration of a particular additive). "
   ]
  },
  {
   "cell_type": "code",
   "execution_count": null,
   "id": "3dfaa1e4",
   "metadata": {},
   "outputs": [],
   "source": [
    "xdata = list(cond_dict.keys())\n",
    "ydata = [cond_dict[cond][4]/cond_dict[cond][0] for cond in xdata]\n",
    "\n",
    "def residual(params, x, y):\n",
    "    def f(x):\n",
    "        return (params['L']/(1.0 + math.e**(-1*params['k']*(x-params['x0']))))\n",
    "    yval = f(x)\n",
    "    errs = [abs((a-b)) for a, b in zip(y, yval)]\n",
    "    return errs\n",
    "\n",
    "#depending on the data, need to go thru and refine the starting conditions\n",
    "p = Parameters()\n",
    "p.add('L', value=max(ydata))\n",
    "p.add('k', value=.01)\n",
    "p.add('x0', value=xdata[-1]/2)\n",
    "\n",
    "\n",
    "result = minimize(residual,p,args=(xdata,ydata))\n",
    "result.params.pretty_print()\n",
    "\n",
    "\n",
    "xvals = np.linspace(0,max(xdata),420)\n",
    "plt.plot(xvals,(result.params['L'] /(1.0 + math.e**(-1*result.params['k']*(xvals-result.params['x0'])))), c = 'black')\n",
    "\n",
    "plt.text(230, 1.95, \"L = %.2f\\nk = %.2f\\nx0 = %.2f\" % (result.params['L'], result.params['k'], result.params['x0']))\n",
    "plt.xlabel(\"NaCl Concentration (mM)\")\n",
    "plt.ylabel(\"Normalized Growth Over 10 Days\")\n",
    "plt.scatter(xdata,ydata, c = 'black')\n",
    "plt.savefig(\"dose_response_4c.jpg\")\n"
   ]
  },
  {
   "cell_type": "markdown",
   "id": "831c10f1",
   "metadata": {},
   "source": [
    "#### Part 2\n"
   ]
  },
  {
   "cell_type": "code",
   "execution_count": null,
   "id": "4d3860ea",
   "metadata": {},
   "outputs": [],
   "source": [
    "#"
   ]
  }
 ],
 "metadata": {
  "kernelspec": {
   "display_name": "Python 3 (ipykernel)",
   "language": "python",
   "name": "python3"
  },
  "language_info": {
   "codemirror_mode": {
    "name": "ipython",
    "version": 3
   },
   "file_extension": ".py",
   "mimetype": "text/x-python",
   "name": "python",
   "nbconvert_exporter": "python",
   "pygments_lexer": "ipython3",
   "version": "3.7.0"
  }
 },
 "nbformat": 4,
 "nbformat_minor": 5
}
