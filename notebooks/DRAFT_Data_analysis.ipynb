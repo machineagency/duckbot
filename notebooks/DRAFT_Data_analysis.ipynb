{
 "cells": [
  {
   "cell_type": "markdown",
   "id": "07750979",
   "metadata": {},
   "source": [
    "### How to use this notebook\n",
    " - Enter the details requested in part 1\n",
    " - In part 2 each cell will execute a different analysis. Feel free to use and modify based on your own needs.\n",
    " \n",
    " ##### Assumptions made by this notebook\n",
    "  - Experimental data are a timeseries of images of duckweed growing in 24 plat wells. Image files are stored in the same directory according to the format \"exptname_plate_wellID_yyyymmdd.jpg.\n",
    "  - Experiment metadata are stored in a .json file, with information on which samples and media are in which wells. "
   ]
  },
  {
   "cell_type": "markdown",
   "id": "6f5cf925",
   "metadata": {},
   "source": [
    "#### Part 1"
   ]
  },
  {
   "cell_type": "code",
   "execution_count": null,
   "id": "ebfc5dcf",
   "metadata": {},
   "outputs": [],
   "source": [
    "#Define data folder\n",
    "#Define metadata file location and name"
   ]
  },
  {
   "cell_type": "code",
   "execution_count": null,
   "id": "63a0acc8",
   "metadata": {},
   "outputs": [],
   "source": [
    "#Processing images"
   ]
  },
  {
   "cell_type": "code",
   "execution_count": 2,
   "id": "a3476d4c",
   "metadata": {},
   "outputs": [],
   "source": [
    "#Building a master dataframe"
   ]
  },
  {
   "cell_type": "markdown",
   "id": "831c10f1",
   "metadata": {},
   "source": [
    "#### Part 2\n"
   ]
  },
  {
   "cell_type": "code",
   "execution_count": null,
   "id": "4d3860ea",
   "metadata": {},
   "outputs": [],
   "source": [
    "#"
   ]
  }
 ],
 "metadata": {
  "kernelspec": {
   "display_name": "Python 3 (ipykernel)",
   "language": "python",
   "name": "python3"
  },
  "language_info": {
   "codemirror_mode": {
    "name": "ipython",
    "version": 3
   },
   "file_extension": ".py",
   "mimetype": "text/x-python",
   "name": "python",
   "nbconvert_exporter": "python",
   "pygments_lexer": "ipython3",
   "version": "3.7.0"
  }
 },
 "nbformat": 4,
 "nbformat_minor": 5
}
