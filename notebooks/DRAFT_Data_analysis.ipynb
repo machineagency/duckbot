{
 "cells": [
  {
   "cell_type": "code",
   "execution_count": 1,
   "id": "24a40760",
   "metadata": {},
   "outputs": [],
   "source": [
    "import random\n",
    "import pandas as pd\n",
    "import DuckbotExptSetupUtils as exp\n",
    "import os\n",
    "import json"
   ]
  },
  {
   "cell_type": "markdown",
   "id": "07750979",
   "metadata": {},
   "source": [
    "### How to use this notebook\n",
    " - Enter the details requested in part 1\n",
    " - In part 2 each cell will execute a different analysis. Feel free to use and modify based on your own needs.\n",
    " \n",
    " ##### Assumptions made by this notebook\n",
    "  - Experimental data are a timeseries of images of duckweed growing in 24 plat wells. Image files are stored in the same directory according to the format \"exptname_plate_wellID_yyyymmdd.jpg.\n",
    "  - Experiment metadata are stored in a .json file, with information on which samples and media are in which wells. "
   ]
  },
  {
   "cell_type": "markdown",
   "id": "6f5cf925",
   "metadata": {},
   "source": [
    "### Part 1 - Define filenames and paths"
   ]
  },
  {
   "cell_type": "code",
   "execution_count": 4,
   "id": "ebfc5dcf",
   "metadata": {},
   "outputs": [],
   "source": [
    "#Where is the Json file with the experiment metadata and what is it called?\n",
    "metadata_dir = '/Users/Orlando/Documents/Github_clones/duckbot/test_data/TestExptDir/'\n",
    "metadata_filename = 'TestFile.json'\n",
    "metadata_path = metadata_dir + metadata_filename\n",
    "\n",
    "#Where are the image files that you want to analyze and what is the experiment ID (should be first part of each image filename)\n",
    "img_data_dir = \"/Users/Orlando/Documents/Github_clones/duckbot/test_data/odl_dataanalaysistest1\"\n",
    "expt_prefix = \"TestData\"\n",
    "\n",
    "#Where do you want the figures produced by this script to end up?\n",
    "output_figure_dir = '/Users/Orlando/Documents/Github_clones/duckbot/test_data/'"
   ]
  },
  {
   "cell_type": "markdown",
   "id": "b17ef073",
   "metadata": {},
   "source": [
    "### Part 2 - Building a dataframe with percentage duckweed coverage in each image"
   ]
  },
  {
   "cell_type": "code",
   "execution_count": 83,
   "id": "3d9a2768",
   "metadata": {},
   "outputs": [
    {
     "name": "stdout",
     "output_type": "stream",
     "text": [
      "                             filename\n",
      "0   TestData_plate1_wellA1_2022-07-05\n",
      "1   TestData_plate1_wellA1_2022-07-03\n",
      "2   TestData_plate1_wellA1_2022-07-01\n",
      "3   TestData_plate1_wellA4_2022-07-03\n",
      "4   TestData_plate1_wellA2_2022-07-05\n",
      "5   TestData_plate1_wellA3_2022-07-01\n",
      "6   TestData_plate1_wellA3_2022-07-03\n",
      "7   TestData_plate1_wellA4_2022-07-01\n",
      "8   TestData_plate1_wellA4_2022-07-05\n",
      "9   TestData_plate1_wellA2_2022-07-03\n",
      "10  TestData_plate1_wellA3_2022-07-05\n",
      "11  TestData_plate1_wellA2_2022-07-01\n",
      "                             filename    plate_well_id        date\n",
      "0   TestData_plate1_wellA1_2022-07-05  Plate_1_Well_A1  2022-07-05\n",
      "1   TestData_plate1_wellA1_2022-07-03  Plate_1_Well_A1  2022-07-03\n",
      "2   TestData_plate1_wellA1_2022-07-01  Plate_1_Well_A1  2022-07-01\n",
      "3   TestData_plate1_wellA4_2022-07-03  Plate_1_Well_A4  2022-07-03\n",
      "4   TestData_plate1_wellA2_2022-07-05  Plate_1_Well_A2  2022-07-05\n",
      "5   TestData_plate1_wellA3_2022-07-01  Plate_1_Well_A3  2022-07-01\n",
      "6   TestData_plate1_wellA3_2022-07-03  Plate_1_Well_A3  2022-07-03\n",
      "7   TestData_plate1_wellA4_2022-07-01  Plate_1_Well_A4  2022-07-01\n",
      "8   TestData_plate1_wellA4_2022-07-05  Plate_1_Well_A4  2022-07-05\n",
      "9   TestData_plate1_wellA2_2022-07-03  Plate_1_Well_A2  2022-07-03\n",
      "10  TestData_plate1_wellA3_2022-07-05  Plate_1_Well_A3  2022-07-05\n",
      "11  TestData_plate1_wellA2_2022-07-01  Plate_1_Well_A2  2022-07-01\n"
     ]
    }
   ],
   "source": [
    "import pathlib\n",
    "import re\n",
    "\n",
    "p = pathlib.Path(img_data_dir)   # current directory, insert your directory here\n",
    "data_filenames = [x.stem for x in p.glob('*.jpg')]\n",
    "\n",
    "# for d in data_filenames:\n",
    "#     plate = re.search('plate(.+?)_well', d).group(1)\n",
    "#     print(plate)\n",
    "\n",
    "data_df = pd.DataFrame({\"filename\": data_filenames})\n",
    "print(data_df)\n",
    "\n",
    "def find_plate_well_id(str):\n",
    "    well_id = re.search('well(.+?)_', str).group(1)\n",
    "    plate_id = re.search('plate(.+?)_well', str).group(1)\n",
    "    return(f'Plate_{plate_id}_Well_{well_id}')\n",
    "\n",
    "\n",
    "data_df['plate_well_id'] = data_df.apply(lambda row: find_plate_well_id(row.filename), axis=1)\n",
    "# data_df['well_id'] = data_df.apply(lambda row: find_well_id(row.filename), axis=1)\n",
    "data_df['date'] = data_df.apply(lambda row: row.filename[-10:], axis=1)\n",
    "# data_df['plate_well_id'] = f'Plate_{data_df['plate_id']}_Well{data_df['well_id']}'\n",
    "# data_df['plate_well_id'] = data_df.apply(lambda row: f'Plate_{row.plate_id}_Well{row.well_id}')\n",
    "\n",
    "# data_df'df.apply (lambda row: find_plate_id(row), axis=1)    \n",
    "print(data_df)"
   ]
  },
  {
   "cell_type": "code",
   "execution_count": 30,
   "id": "63a0acc8",
   "metadata": {},
   "outputs": [
    {
     "name": "stdout",
     "output_type": "stream",
     "text": [
      "  genotype media  condition_replicate    plate_well_id    Plate Well\n",
      "0   Sp7498  Mock                    1  Plate_1_Well_A1  Plate_1   A1\n",
      "1   Sp7498  Salt                    2  Plate_1_Well_A2  Plate_1   A2\n",
      "2   Sp7498  Salt                    1  Plate_1_Well_A3  Plate_1   A3\n",
      "3   Sp7498  Mock                    2  Plate_1_Well_A4  Plate_1   A4\n"
     ]
    }
   ],
   "source": [
    "#Processing images\n",
    "with open(metadata_path) as metadata:\n",
    "    expt_data = json.load(metadata)\n",
    "\n",
    "plate_set_up = expt_data[\"sample_info\"]\n",
    "md_df = pd.DataFrame(plate_set_up)\n",
    "print (md_df[0:])"
   ]
  },
  {
   "cell_type": "code",
   "execution_count": 87,
   "id": "b49065cd",
   "metadata": {},
   "outputs": [
    {
     "name": "stdout",
     "output_type": "stream",
     "text": [
      "                            filename    plate_well_id        date media  \\\n",
      "0  TestData_plate1_wellA1_2022-07-05  Plate_1_Well_A1  2022-07-05  Mock   \n",
      "1  TestData_plate1_wellA1_2022-07-03  Plate_1_Well_A1  2022-07-03  Mock   \n",
      "2  TestData_plate1_wellA1_2022-07-01  Plate_1_Well_A1  2022-07-01  Mock   \n",
      "3  TestData_plate1_wellA4_2022-07-03  Plate_1_Well_A4  2022-07-03  Mock   \n",
      "4  TestData_plate1_wellA2_2022-07-05  Plate_1_Well_A2  2022-07-05  Salt   \n",
      "\n",
      "  genotype  replicate  \n",
      "0   Sp7498          1  \n",
      "1   Sp7498          1  \n",
      "2   Sp7498          1  \n",
      "3   Sp7498          2  \n",
      "4   Sp7498          2  \n"
     ]
    }
   ],
   "source": [
    "def find_metadata(input_value, shared_column_name, search_df, desired_column):\n",
    "    df_subset = search_df[search_df[shared_column_name] == input_value][desired_column] #Find the desired column from the matching part of the search_df\n",
    "    df_as_list = list(df_subset) #Convert to list to wipe clean the index carried over from search dataframe. \n",
    "    desired_value = df_as_list[0] #Specify that we want what should be a single value, rather than a whole list with one entry\n",
    "    return desired_value\n",
    "\n",
    "data_df['media'] = data_df.apply(lambda row: find_metadata(row.plate_well_id, 'plate_well_id', md_df, 'media'), axis=1)\n",
    "data_df['genotype'] = data_df.apply(lambda row: find_metadata(row.plate_well_id, 'plate_well_id', md_df, 'genotype'), axis=1)\n",
    "data_df['replicate'] = data_df.apply(lambda row: find_metadata(row.plate_well_id, 'plate_well_id', md_df, 'condition_replicate'), axis=1)\n",
    "\n",
    "print(data_df.head())                \n"
   ]
  },
  {
   "cell_type": "markdown",
   "id": "7b885313",
   "metadata": {},
   "source": [
    "### Part 3 - Produce figures"
   ]
  },
  {
   "cell_type": "code",
   "execution_count": 2,
   "id": "a3476d4c",
   "metadata": {},
   "outputs": [],
   "source": [
    "#Building a master dataframe"
   ]
  },
  {
   "cell_type": "markdown",
   "id": "831c10f1",
   "metadata": {},
   "source": [
    "#### Part 2\n"
   ]
  },
  {
   "cell_type": "code",
   "execution_count": null,
   "id": "4d3860ea",
   "metadata": {},
   "outputs": [],
   "source": [
    "#"
   ]
  }
 ],
 "metadata": {
  "kernelspec": {
   "display_name": "Python 3 (ipykernel)",
   "language": "python",
   "name": "python3"
  },
  "language_info": {
   "codemirror_mode": {
    "name": "ipython",
    "version": 3
   },
   "file_extension": ".py",
   "mimetype": "text/x-python",
   "name": "python",
   "nbconvert_exporter": "python",
   "pygments_lexer": "ipython3",
   "version": "3.7.0"
  }
 },
 "nbformat": 4,
 "nbformat_minor": 5
}
