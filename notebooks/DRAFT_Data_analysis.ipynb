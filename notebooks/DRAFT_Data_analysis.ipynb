{
 "cells": [
  {
   "cell_type": "markdown",
   "id": "07750979",
   "metadata": {},
   "source": [
    "### How to use this notebook\n",
    " - Enter the details requested in part 1\n",
    " - In part 2 each cell will execute a different analysis. Feel free to use and modify based on your own needs.\n",
    " \n",
    " ##### Assumptions made by this notebook\n",
    "  - Experimental data are a timeseries of images of duckweed growing in 24 plat wells. Image files are stored in the same directory according to the format \"exptname_plate_wellID_yyyymmdd.jpg.\n",
    "  - Experiment metadata are stored in a .json file, with information on which samples and media are in which wells. "
   ]
  },
  {
   "cell_type": "code",
   "execution_count": 1,
   "id": "24a40760",
   "metadata": {},
   "outputs": [],
   "source": [
    "import random\n",
    "import pandas as pd\n",
    "import DuckbotExptSetupUtils as exp\n",
    "import os\n",
    "import json\n",
    "import datetime\n",
    "import pathlib\n",
    "import re\n",
    "import numpy as np\n",
    "import cv2\n",
    "from PIL import Image, ExifTags\n",
    "# from plantcv import plantcv as pcv\n",
    "import matplotlib"
   ]
  },
  {
   "cell_type": "code",
   "execution_count": null,
   "id": "573f1c9b",
   "metadata": {},
   "outputs": [],
   "source": [
    "\n",
    "def file_to_datetime(filename):\n",
    "    no_file_ending = filename.split(\".\")\n",
    "    split_name = no_file_ending[0].split(\"_\")\n",
    "    date = split_name[3].split(\"-\")\n",
    "    year = int(date[0])\n",
    "    month = int(date[1])\n",
    "    day = int(date[2])\n",
    "    return year, month, day\n",
    "\n",
    "def calculate_dpi(y, m, d):\n",
    "    split_start_date = startdate.split(\"-\")\n",
    "    y0 = int(split_start_date[0])\n",
    "    m0 = int(split_start_date[1])\n",
    "    d0 = int(split_start_date[2])\n",
    "    start = datetime.datetime(y0, m0, d0)\n",
    "    end = datetime.datetime(y, m, d)\n",
    "    diff = (end-start).days\n",
    "    return(diff)\n",
    "\n",
    "def find_plate_well_id(str):\n",
    "    well_id = re.search('well(.+?)_', str).group(1)\n",
    "    plate_id = re.search('plate(.+?)_well', str).group(1)\n",
    "    return(f'Plate_{plate_id}_Well_{well_id}')\n",
    "\n",
    "def find_metadata(input_value, shared_column_name, search_df, desired_column):\n",
    "    df_subset = search_df[search_df[shared_column_name] == input_value][desired_column] #Find the desired column from the matching part of the search_df\n",
    "    df_as_list = list(df_subset) #Convert to list to wipe clean the index carried over from search dataframe. \n",
    "    desired_value = df_as_list[0] #Specify that we want what should be a single value, rather than a whole list with one entry\n",
    "    return desired_value\n"
   ]
  },
  {
   "cell_type": "markdown",
   "id": "6f5cf925",
   "metadata": {},
   "source": [
    "### Part 1 - Define filenames and paths"
   ]
  },
  {
   "cell_type": "code",
   "execution_count": 2,
   "id": "ebfc5dcf",
   "metadata": {},
   "outputs": [],
   "source": [
    "#Where is the Json file with the experiment metadata and what is it called?\n",
    "metadata_dir = '/Users/Orlando/Documents/Github_clones/duckbot/test_data/TestExptDir/'\n",
    "metadata_filename = 'TestFile.json'\n",
    "metadata_path = metadata_dir + metadata_filename\n",
    "\n",
    "#Where are the image files that you want to analyze and what is the experiment ID (should be first part of each image filename)\n",
    "img_data_dir = \"/Users/Orlando/Documents/Github_clones/duckbot/test_data/odl_dataanalaysistest1\"\n",
    "expt_prefix = \"TestData\"\n",
    "\n",
    "#Where do you want the figures produced by this script to end up?\n",
    "output_figure_dir = '/Users/Orlando/Documents/Github_clones/duckbot/test_data/'\n",
    "\n",
    "#What was day 0 for this experiment in format (yyyy-mm-dd)\n",
    "startdate = \"2022-07-01\""
   ]
  },
  {
   "cell_type": "markdown",
   "id": "b17ef073",
   "metadata": {},
   "source": [
    "### Part 2 - Building a dataframe with percentage duckweed coverage in each image"
   ]
  },
  {
   "cell_type": "code",
   "execution_count": 25,
   "id": "3d9a2768",
   "metadata": {},
   "outputs": [
    {
     "ename": "TypeError",
     "evalue": "'PosixPath' object is not iterable",
     "output_type": "error",
     "traceback": [
      "\u001b[0;31m---------------------------------------------------------------------------\u001b[0m",
      "\u001b[0;31mTypeError\u001b[0m                                 Traceback (most recent call last)",
      "\u001b[0;32m/var/folders/nc/pbz0zfmn5tq28c62lh3svf880000gn/T/ipykernel_14174/2725788876.py\u001b[0m in \u001b[0;36m<module>\u001b[0;34m\u001b[0m\n\u001b[1;32m      1\u001b[0m \u001b[0mp\u001b[0m \u001b[0;34m=\u001b[0m \u001b[0mpathlib\u001b[0m\u001b[0;34m.\u001b[0m\u001b[0mPath\u001b[0m\u001b[0;34m(\u001b[0m\u001b[0mimg_data_dir\u001b[0m\u001b[0;34m)\u001b[0m   \u001b[0;31m# current directory, insert your directory here\u001b[0m\u001b[0;34m\u001b[0m\u001b[0m\n\u001b[0;32m----> 2\u001b[0;31m \u001b[0mdata_filenames\u001b[0m \u001b[0;34m=\u001b[0m \u001b[0;34m[\u001b[0m\u001b[0mx\u001b[0m \u001b[0;32mfor\u001b[0m \u001b[0mx\u001b[0m \u001b[0;32min\u001b[0m \u001b[0mp\u001b[0m\u001b[0;34m]\u001b[0m\u001b[0;34m\u001b[0m\u001b[0m\n\u001b[0m\u001b[1;32m      3\u001b[0m \u001b[0;34m\u001b[0m\u001b[0m\n\u001b[1;32m      4\u001b[0m \u001b[0mdata_df\u001b[0m \u001b[0;34m=\u001b[0m \u001b[0mpd\u001b[0m\u001b[0;34m.\u001b[0m\u001b[0mDataFrame\u001b[0m\u001b[0;34m(\u001b[0m\u001b[0;34m{\u001b[0m\u001b[0;34m\"filename\"\u001b[0m\u001b[0;34m:\u001b[0m \u001b[0mdata_filenames\u001b[0m\u001b[0;34m}\u001b[0m\u001b[0;34m)\u001b[0m\u001b[0;34m\u001b[0m\u001b[0m\n\u001b[1;32m      5\u001b[0m \u001b[0mdata_df\u001b[0m\u001b[0;34m[\u001b[0m\u001b[0;34m'plate_well_id'\u001b[0m\u001b[0;34m]\u001b[0m \u001b[0;34m=\u001b[0m \u001b[0mdata_df\u001b[0m\u001b[0;34m.\u001b[0m\u001b[0mapply\u001b[0m\u001b[0;34m(\u001b[0m\u001b[0;32mlambda\u001b[0m \u001b[0mrow\u001b[0m\u001b[0;34m:\u001b[0m \u001b[0mfind_plate_well_id\u001b[0m\u001b[0;34m(\u001b[0m\u001b[0mrow\u001b[0m\u001b[0;34m.\u001b[0m\u001b[0mfilename\u001b[0m\u001b[0;34m)\u001b[0m\u001b[0;34m,\u001b[0m \u001b[0maxis\u001b[0m\u001b[0;34m=\u001b[0m\u001b[0;36m1\u001b[0m\u001b[0;34m)\u001b[0m\u001b[0;34m\u001b[0m\u001b[0m\n",
      "\u001b[0;31mTypeError\u001b[0m: 'PosixPath' object is not iterable"
     ]
    }
   ],
   "source": [
    "\n",
    "p = pathlib.Path(img_data_dir)   # current directory, insert your directory here\n",
    "data_filenames = [x for x in p.glob('*.jpg')]\n",
    "\n",
    "data_df = pd.DataFrame({\"filename\": data_filenames})\n",
    "data_df['plate_well_id'] = data_df.apply(lambda row: find_plate_well_id(row.filename), axis=1)\n",
    "data_df['date'] = data_df.apply(lambda row: row.filename[-10:], axis=1)"
   ]
  },
  {
   "cell_type": "code",
   "execution_count": 4,
   "id": "63a0acc8",
   "metadata": {},
   "outputs": [
    {
     "name": "stdout",
     "output_type": "stream",
     "text": [
      "  genotype media  condition_replicate    plate_well_id    Plate Well\n",
      "0   Sp7498  Mock                    1  Plate_1_Well_A1  Plate_1   A1\n",
      "1   Sp7498  Salt                    2  Plate_1_Well_A2  Plate_1   A2\n",
      "2   Sp7498  Salt                    1  Plate_1_Well_A3  Plate_1   A3\n",
      "3   Sp7498  Mock                    2  Plate_1_Well_A4  Plate_1   A4\n"
     ]
    }
   ],
   "source": [
    "#Processing images\n",
    "with open(metadata_path) as metadata:\n",
    "    expt_data = json.load(metadata)\n",
    "\n",
    "plate_set_up = expt_data[\"sample_info\"]\n",
    "md_df = pd.DataFrame(plate_set_up)"
   ]
  },
  {
   "cell_type": "code",
   "execution_count": 5,
   "id": "b49065cd",
   "metadata": {},
   "outputs": [
    {
     "name": "stdout",
     "output_type": "stream",
     "text": [
      "                            filename    plate_well_id        date media  \\\n",
      "0  TestData_plate1_wellA1_2022-07-05  Plate_1_Well_A1  2022-07-05  Mock   \n",
      "1  TestData_plate1_wellA1_2022-07-03  Plate_1_Well_A1  2022-07-03  Mock   \n",
      "2  TestData_plate1_wellA1_2022-07-01  Plate_1_Well_A1  2022-07-01  Mock   \n",
      "3  TestData_plate1_wellA4_2022-07-03  Plate_1_Well_A4  2022-07-03  Mock   \n",
      "4  TestData_plate1_wellA2_2022-07-05  Plate_1_Well_A2  2022-07-05  Salt   \n",
      "\n",
      "  genotype  replicate  \n",
      "0   Sp7498          1  \n",
      "1   Sp7498          1  \n",
      "2   Sp7498          1  \n",
      "3   Sp7498          2  \n",
      "4   Sp7498          2  \n"
     ]
    }
   ],
   "source": [
    "data_df['media'] = data_df.apply(lambda row: find_metadata(row.plate_well_id, 'plate_well_id', md_df, 'media'), axis=1)\n",
    "data_df['genotype'] = data_df.apply(lambda row: find_metadata(row.plate_well_id, 'plate_well_id', md_df, 'genotype'), axis=1)\n",
    "data_df['replicate'] = data_df.apply(lambda row: find_metadata(row.plate_well_id, 'plate_well_id', md_df, 'condition_replicate'), axis=1)\n",
    "\n",
    "print(data_df.head())                \n"
   ]
  },
  {
   "cell_type": "code",
   "execution_count": 19,
   "id": "28ff167c",
   "metadata": {},
   "outputs": [],
   "source": [
    "#Remove non-green pixels from images\n",
    "filtered_img_dir = img_data_dir + \"/green_filtered\"\n",
    "if not os.path.exists(filtered_img_dir):\n",
    "    os.mkdir(filtered_img_dir)\n",
    "\n",
    "amount_green = []\n",
    "\n",
    "for file in os.listdir(img_data_dir):\n",
    "    if \".jpg\" in file:\n",
    "        y, m, d = file_to_datetime(file)\n",
    "        days_post_initiation = calculate_dpi(y, m, d)\n",
    "        im = cv2.imread(os.path.join(img_data_dir, file))\n",
    "        dpi= days_post_initiation\n",
    "        green_pixels = 0   \n",
    "        for i in range(im.shape[0]): #im.shape[0] is the y-axis\n",
    "            for j in range(im.shape[1]): #im.shape[1] is the x returns X and Y axes of the image\n",
    "                if im[i, j][0] > 0.9*im[i, j][1]:  #If more blue than green in pixel than set to black.         \n",
    "                    im[i, j] = [0, 0, 0]\n",
    "                if np.array([x < 90 for x in im[i, j]]).all():\n",
    "                    im[i, j] = [0, 0, 0]\n",
    "                else:\n",
    "                    green_pixels += 1\n",
    "        amount_green.append({\"filename\": file, \"dpi\": dpi, \"green_pixels\": green_pixels})\n",
    "        im_onlygreen = cv2.cvtColor(im, cv2.COLOR_BGR2RGB)\n",
    "        img = Image.fromarray(im)\n",
    "        img.save(filtered_img_dir + \"/\" + \"GREEN\" + file)\n",
    "\n",
    "#Some notes to make sense of the above code\n",
    "#im[i,j] refers to all pixels in the image, each having an x (j) and y(i) coordinate. \n",
    "#if np.array([x < 90 for x in im[i, j]]).all() is looking for any pixels with saturation values under 90 in any channel\n",
    "#Each pixel has a blue [0], green [1] and red [2] value. "
   ]
  },
  {
   "cell_type": "code",
   "execution_count": 23,
   "id": "5b72ec2c",
   "metadata": {},
   "outputs": [
    {
     "name": "stdout",
     "output_type": "stream",
     "text": [
      "                                 filename  dpi  green_pixels\n",
      "0   TestData_plate1_wellA1_2022-07-05.jpg    4         12320\n",
      "1   TestData_plate1_wellA1_2022-07-03.jpg    2         10210\n",
      "2   TestData_plate1_wellA1_2022-07-01.jpg    0         13053\n",
      "3   TestData_plate1_wellA4_2022-07-03.jpg    2         10054\n",
      "4   TestData_plate1_wellA2_2022-07-05.jpg    4          7552\n",
      "5   TestData_plate1_wellA3_2022-07-01.jpg    0          7713\n",
      "6   TestData_plate1_wellA3_2022-07-03.jpg    2          8987\n",
      "7   TestData_plate1_wellA4_2022-07-01.jpg    0         15720\n",
      "8   TestData_plate1_wellA4_2022-07-05.jpg    4          4667\n",
      "9   TestData_plate1_wellA2_2022-07-03.jpg    2          3311\n",
      "10  TestData_plate1_wellA3_2022-07-05.jpg    4          7006\n",
      "11  TestData_plate1_wellA2_2022-07-01.jpg    0          8273\n",
      "                             filename    plate_well_id        date media  \\\n",
      "0   TestData_plate1_wellA1_2022-07-05  Plate_1_Well_A1  2022-07-05  Mock   \n",
      "1   TestData_plate1_wellA1_2022-07-03  Plate_1_Well_A1  2022-07-03  Mock   \n",
      "2   TestData_plate1_wellA1_2022-07-01  Plate_1_Well_A1  2022-07-01  Mock   \n",
      "3   TestData_plate1_wellA4_2022-07-03  Plate_1_Well_A4  2022-07-03  Mock   \n",
      "4   TestData_plate1_wellA2_2022-07-05  Plate_1_Well_A2  2022-07-05  Salt   \n",
      "5   TestData_plate1_wellA3_2022-07-01  Plate_1_Well_A3  2022-07-01  Salt   \n",
      "6   TestData_plate1_wellA3_2022-07-03  Plate_1_Well_A3  2022-07-03  Salt   \n",
      "7   TestData_plate1_wellA4_2022-07-01  Plate_1_Well_A4  2022-07-01  Mock   \n",
      "8   TestData_plate1_wellA4_2022-07-05  Plate_1_Well_A4  2022-07-05  Mock   \n",
      "9   TestData_plate1_wellA2_2022-07-03  Plate_1_Well_A2  2022-07-03  Salt   \n",
      "10  TestData_plate1_wellA3_2022-07-05  Plate_1_Well_A3  2022-07-05  Salt   \n",
      "11  TestData_plate1_wellA2_2022-07-01  Plate_1_Well_A2  2022-07-01  Salt   \n",
      "\n",
      "   genotype  replicate  \n",
      "0    Sp7498          1  \n",
      "1    Sp7498          1  \n",
      "2    Sp7498          1  \n",
      "3    Sp7498          2  \n",
      "4    Sp7498          2  \n",
      "5    Sp7498          1  \n",
      "6    Sp7498          1  \n",
      "7    Sp7498          2  \n",
      "8    Sp7498          2  \n",
      "9    Sp7498          2  \n",
      "10   Sp7498          1  \n",
      "11   Sp7498          2  \n"
     ]
    }
   ],
   "source": [
    "pixel_pd = pd.DataFrame(amount_green)\n",
    "print(pixel_pd)\n",
    "data_df['dpi'] = data_df.apply(lambda row: find_metadata(row.filename, 'filename', pixel_pd, 'dpi'), axis=1)\n",
    "# data_df['green_pixels'] = data_df.apply(lambda row: find_metadata(row.filename, 'filename', pixel_pd, 'green_pixels'), axis=1)\n",
    "print(data_df)\n",
    "\n",
    "##### FIX THIS (There's a discrepency around .jpg)"
   ]
  },
  {
   "cell_type": "markdown",
   "id": "7b885313",
   "metadata": {},
   "source": [
    "### Part 3 - Produce figures"
   ]
  },
  {
   "cell_type": "code",
   "execution_count": 2,
   "id": "a3476d4c",
   "metadata": {},
   "outputs": [],
   "source": [
    "#Building a master dataframe"
   ]
  },
  {
   "cell_type": "markdown",
   "id": "831c10f1",
   "metadata": {},
   "source": [
    "#### Part 2\n"
   ]
  },
  {
   "cell_type": "code",
   "execution_count": null,
   "id": "4d3860ea",
   "metadata": {},
   "outputs": [],
   "source": [
    "#"
   ]
  }
 ],
 "metadata": {
  "kernelspec": {
   "display_name": "Python 3 (ipykernel)",
   "language": "python",
   "name": "python3"
  },
  "language_info": {
   "codemirror_mode": {
    "name": "ipython",
    "version": 3
   },
   "file_extension": ".py",
   "mimetype": "text/x-python",
   "name": "python",
   "nbconvert_exporter": "python",
   "pygments_lexer": "ipython3",
   "version": "3.7.0"
  }
 },
 "nbformat": 4,
 "nbformat_minor": 5
}
