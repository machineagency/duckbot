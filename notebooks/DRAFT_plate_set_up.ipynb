{
 "cells": [
  {
   "cell_type": "markdown",
   "id": "94241553",
   "metadata": {},
   "source": [
    "## Set up a duckweed genotypes x media growth assay"
   ]
  },
  {
   "cell_type": "markdown",
   "id": "cbe12e31",
   "metadata": {},
   "source": [
    "### Pre-requisites to use this script\n",
    "1. Precise plate and well positions for your machine defined in Plate_positions.py in the 'utils' subdirectory. \n",
    "2. All the parameters defined in the cell 'User paramters'. \n",
    "3. Sufficient 24-well plates, sterile media and duckweed plants available. \n",
    "4. Jubilee machine set up with Media-dispensing syringe tool (50 mL), Duckweed transfer syringe tool and lab automation bedplate. \n"
   ]
  },
  {
   "cell_type": "code",
   "execution_count": 1,
   "id": "d9261ed0",
   "metadata": {},
   "outputs": [],
   "source": [
    "#Importing python libraries downloaded from the internet\n",
    "import random\n",
    "import pandas as pd\n",
    "import os\n",
    "import json\n",
    "import time"
   ]
  },
  {
   "cell_type": "code",
   "execution_count": 2,
   "id": "a859b399",
   "metadata": {},
   "outputs": [],
   "source": [
    "#Importing python libraries from local files. \n",
    "import utils.DuckbotExptSetupUtils as exp\n",
    "import utils.MachineUtils\n",
    "from utils.MachineUtils import *\n",
    "import utils.PlatePositionUtils as pp "
   ]
  },
  {
   "cell_type": "code",
   "execution_count": 14,
   "id": "383ee4c9",
   "metadata": {},
   "outputs": [],
   "source": [
    "#Establish machine communication \n",
    "port = '/dev/ttyACM0' #Check options using  - print([port.name for port in serial.tools.list_ports.comports()])\n",
    "m = MachineCommunication(port)"
   ]
  },
  {
   "cell_type": "markdown",
   "id": "4e56cfe1",
   "metadata": {},
   "source": [
    "## 1. Define user parameters"
   ]
  },
  {
   "cell_type": "markdown",
   "id": "18a64ccc",
   "metadata": {},
   "source": [
    "### Labware config \n",
    "All should be in arbitrary Jubilee motor units. Find this manually on the machine. They shouldn't need to be updated until you start using a new reservoir. And if that's the case you could create a labware library and then define the media_reservoir variable as one of the objects in your library. "
   ]
  },
  {
   "cell_type": "code",
   "execution_count": 4,
   "id": "d99f7a1f",
   "metadata": {},
   "outputs": [],
   "source": [
    "#X and Y should get the machine to the center of the reservoir. \n",
    "media_reservoir = { 'x' : 75, 'y' : 241,}\n",
    "\n",
    "#Tool positions\n",
    "media_syringe = 2 #What jubilee tool position did you define this as?\n",
    "duckweed_syringe = 3\n",
    "\n",
    "#Volume calculations\n",
    "dispenses_per_syringe_fill = 20\n",
    "dispense_mL = 1.5 #In mL\n",
    "vol_conversion = 3.9 #One mL is 3.9 units. \n",
    "dispense_offset = dispense_mL * vol_conversion\n",
    "\n",
    "#Z-positions for different actions\n",
    "z_dict = {\"zero\": 0, #Note that zeros\n",
    "          \"aspirate\" : -53, #Measure this for yourself and your labware/toolheads.\n",
    "          \"dispense\" : -34\n",
    "         }"
   ]
  },
  {
   "cell_type": "markdown",
   "id": "1135c3ef",
   "metadata": {},
   "source": [
    "### Define experimental variables, and desired file names and save locations. "
   ]
  },
  {
   "cell_type": "code",
   "execution_count": 3,
   "id": "a916546d",
   "metadata": {},
   "outputs": [
    {
     "name": "stdout",
     "output_type": "stream",
     "text": [
      "/Users/Orlando/Documents/Github_clones/duckbot/notebooks/TestDriveExpt_1_08032022\n"
     ]
    }
   ],
   "source": [
    "\n",
    "#1. DEFINE EXPERIMENTAL VARIABLES\n",
    "genotypes = [\"Sp7498\", \"Lm5500\", \"Lm8627\"] # Replace with names for unique duckweed genotypes\n",
    "media = [\"Mock\", \"50 mM Salt\", \"150 mM Salt\"] # Replace with names for unique media\n",
    "reps  = 4 # Replace with your desired number of replicates for each duckweed/media combination. \n",
    "\n",
    "#2. DEFINE FILE LOCATION AND NAME\n",
    "expt_setup_parent_dir = os.getcwd() # Default uses current working directory but you can replace with your own choice. \n",
    "expt_setup_dir = \"TestDriveExpt_1_08032022\" # Name of the folder to hold experiment data and metadata including the setup file\n",
    "expt_setup_filename = \"TestDriveExpt_1_08032022.json\" #Name for the experiment setup file (Metadata)\n",
    "\n",
    "expt_setup_file_path = os.path.join(expt_setup_parent_dir, expt_setup_dir)\n",
    "print(expt_setup_file_path)\n",
    "\n",
    "if not os.path.exists(expt_setup_file_path):\n",
    "    os.mkdir(expt_setup_file_path)     "
   ]
  },
  {
   "cell_type": "markdown",
   "id": "1ce24584",
   "metadata": {},
   "source": [
    "## 2. Create dataframe with experiment metadata"
   ]
  },
  {
   "cell_type": "code",
   "execution_count": 6,
   "id": "46b27146",
   "metadata": {},
   "outputs": [],
   "source": [
    "# Creates master list of sample info, shuffles and then assigns to plates and wells. \n",
    "master_expt_list = []\n",
    "\n",
    "for g in genotypes:\n",
    "    for m in media:\n",
    "        for x in range(reps):\n",
    "             master_expt_list.append({\"genotype\": g, \"media\": m, \"condition_replicate\": x + 1})\n",
    "\n",
    "\n",
    "random.shuffle(master_expt_list)\n",
    "master_expt_list = exp.assign_plates_and_wells(master_expt_list)\n",
    "expt_dict = {\"sample_info\" : master_expt_list}"
   ]
  },
  {
   "cell_type": "code",
   "execution_count": 7,
   "id": "84a9591b",
   "metadata": {},
   "outputs": [],
   "source": [
    "#Save experimental set up file\n",
    "os.chdir(expt_setup_file_path)\n",
    "with open(expt_setup_filename, 'w') as f:\n",
    "    json.dump(expt_dict, f)"
   ]
  },
  {
   "cell_type": "code",
   "execution_count": 9,
   "id": "5cce9399",
   "metadata": {},
   "outputs": [],
   "source": [
    "#Import from file (in case user wants to make any manual edits to the JSON file after creating it)\n",
    "\n",
    "# with open(expt_setup_file_name) as datafile:\n",
    "#     expt_data = json.load(datafile)\n",
    "\n",
    "# # Turn samples list into a dataframe\n",
    "# sample_data = expt_data[\"sample_info\"]\n",
    "# df = pd.DataFrame(sample_data)"
   ]
  },
  {
   "cell_type": "markdown",
   "id": "61b71c98",
   "metadata": {},
   "source": [
    "## 3. Label 24-well plates and add to machine"
   ]
  },
  {
   "cell_type": "markdown",
   "id": "fe38bb67",
   "metadata": {},
   "source": [
    "#### Label Plates and add plates to machine"
   ]
  },
  {
   "cell_type": "code",
   "execution_count": 10,
   "id": "bc31ce67",
   "metadata": {},
   "outputs": [
    {
     "name": "stdout",
     "output_type": "stream",
     "text": [
      "2\n",
      "This experiment requires 2 24-well plate(s)\n",
      "----\n",
      "Label a plate with experiment ID or initials and 'plate 1'\n",
      "Label a plate with experiment ID or initials and 'plate 2'\n",
      "----\n",
      "Place the 24-well plate(s) in the jubilee\n",
      "Start at position 1 and fill empty plate slots in order\n"
     ]
    }
   ],
   "source": [
    "num_plates = df.Plate.nunique()\n",
    "print(num_plates)\n",
    "\n",
    "print(\"This experiment requires {} 24-well plate(s)\".format(num_plates))\n",
    "print(\"----\")\n",
    "lst = list(range(1,num_plates + 1))\n",
    "for n in lst:\n",
    "    print(\"Label a plate with experiment ID or initials and 'plate {}'\".format(n))\n",
    "print(\"----\")\n",
    "print (\"Place the 24-well plate(s) in the jubilee\".format(num_plates))\n",
    "print (\"Start at position 1 and fill empty plate slots in order\")"
   ]
  },
  {
   "cell_type": "markdown",
   "id": "3bd8f5e8",
   "metadata": {},
   "source": [
    "## 2. Dispense media\n",
    "When prompted insert containers of the relevant sterile media into the input slot on the Jubilee. "
   ]
  },
  {
   "cell_type": "code",
   "execution_count": 4,
   "id": "97e3d8a0",
   "metadata": {},
   "outputs": [
    {
     "name": "stdout",
     "output_type": "stream",
     "text": [
      "   genotype        media  condition_replicate    plate_well_id    Plate Well  \\\n",
      "0    Lm8627   50 mM Salt                    4  Plate_1_Well_A1  Plate_1   A1   \n",
      "1    Lm5500  150 mM Salt                    4  Plate_1_Well_A2  Plate_1   A2   \n",
      "2    Lm5500   50 mM Salt                    1  Plate_1_Well_A3  Plate_1   A3   \n",
      "3    Lm5500         Mock                    3  Plate_1_Well_A4  Plate_1   A4   \n",
      "4    Lm8627         Mock                    2  Plate_1_Well_A5  Plate_1   A5   \n",
      "5    Lm8627  150 mM Salt                    1  Plate_1_Well_A6  Plate_1   A6   \n",
      "6    Lm8627  150 mM Salt                    4  Plate_1_Well_B1  Plate_1   B1   \n",
      "7    Sp7498   50 mM Salt                    4  Plate_1_Well_B2  Plate_1   B2   \n",
      "8    Sp7498         Mock                    3  Plate_1_Well_B3  Plate_1   B3   \n",
      "9    Lm5500  150 mM Salt                    1  Plate_1_Well_B4  Plate_1   B4   \n",
      "10   Lm5500         Mock                    1  Plate_1_Well_B5  Plate_1   B5   \n",
      "11   Lm5500   50 mM Salt                    2  Plate_1_Well_B6  Plate_1   B6   \n",
      "12   Sp7498         Mock                    1  Plate_1_Well_C1  Plate_1   C1   \n",
      "13   Lm5500  150 mM Salt                    2  Plate_1_Well_C2  Plate_1   C2   \n",
      "14   Lm5500         Mock                    4  Plate_1_Well_C3  Plate_1   C3   \n",
      "15   Lm5500         Mock                    2  Plate_1_Well_C4  Plate_1   C4   \n",
      "16   Sp7498  150 mM Salt                    1  Plate_1_Well_C5  Plate_1   C5   \n",
      "17   Lm8627   50 mM Salt                    3  Plate_1_Well_C6  Plate_1   C6   \n",
      "18   Lm8627   50 mM Salt                    1  Plate_1_Well_D1  Plate_1   D1   \n",
      "19   Sp7498  150 mM Salt                    3  Plate_1_Well_D2  Plate_1   D2   \n",
      "20   Lm5500   50 mM Salt                    4  Plate_1_Well_D3  Plate_1   D3   \n",
      "21   Sp7498         Mock                    4  Plate_1_Well_D4  Plate_1   D4   \n",
      "22   Sp7498         Mock                    2  Plate_1_Well_D5  Plate_1   D5   \n",
      "23   Lm5500   50 mM Salt                    3  Plate_1_Well_D6  Plate_1   D6   \n",
      "24   Sp7498  150 mM Salt                    2  Plate_2_Well_A1  Plate_2   A1   \n",
      "25   Lm8627  150 mM Salt                    3  Plate_2_Well_A2  Plate_2   A2   \n",
      "26   Lm8627         Mock                    4  Plate_2_Well_A3  Plate_2   A3   \n",
      "27   Lm5500  150 mM Salt                    3  Plate_2_Well_A4  Plate_2   A4   \n",
      "28   Lm8627         Mock                    3  Plate_2_Well_A5  Plate_2   A5   \n",
      "29   Sp7498   50 mM Salt                    2  Plate_2_Well_A6  Plate_2   A6   \n",
      "30   Sp7498  150 mM Salt                    4  Plate_2_Well_B1  Plate_2   B1   \n",
      "31   Sp7498   50 mM Salt                    1  Plate_2_Well_B2  Plate_2   B2   \n",
      "32   Lm8627         Mock                    1  Plate_2_Well_B3  Plate_2   B3   \n",
      "33   Lm8627  150 mM Salt                    2  Plate_2_Well_B4  Plate_2   B4   \n",
      "34   Lm8627   50 mM Salt                    2  Plate_2_Well_B5  Plate_2   B5   \n",
      "35   Sp7498   50 mM Salt                    3  Plate_2_Well_B6  Plate_2   B6   \n",
      "\n",
      "        x      y  \n",
      "0    29.0  175.0  \n",
      "1    48.0  175.0  \n",
      "2    67.0  175.0  \n",
      "3    86.0  175.0  \n",
      "4   105.0  175.0  \n",
      "5   124.0  175.0  \n",
      "6    29.0  175.0  \n",
      "7    48.0  156.0  \n",
      "8    67.0  156.0  \n",
      "9    86.0  156.0  \n",
      "10  105.0  156.0  \n",
      "11  124.0  156.0  \n",
      "12   29.0  137.0  \n",
      "13   48.0  137.0  \n",
      "14   67.0  137.0  \n",
      "15   86.0  137.0  \n",
      "16  105.0  137.0  \n",
      "17  124.0  137.0  \n",
      "18   29.0  118.0  \n",
      "19   48.0  118.0  \n",
      "20   67.0  118.0  \n",
      "21   86.0  118.0  \n",
      "22  105.0  118.0  \n",
      "23  124.0  118.0  \n",
      "24   29.0   78.0  \n",
      "25   48.0   78.0  \n",
      "26   67.0   78.0  \n",
      "27   86.0   78.0  \n",
      "28  105.0   78.0  \n",
      "29  124.0   78.0  \n",
      "30   29.0   78.0  \n",
      "31   48.0   59.0  \n",
      "32   67.0   59.0  \n",
      "33   86.0   59.0  \n",
      "34  105.0   59.0  \n",
      "35  124.0   59.0  \n"
     ]
    }
   ],
   "source": [
    "#Retrieve absolute positions of wells from a library and then add those coordinatest to the plate set up dataframe\n",
    "df = pp.add_well_coords_to_df_from_file(expt_setup_file_path, expt_setup_filename)\n",
    "print(df)"
   ]
  },
  {
   "cell_type": "code",
   "execution_count": 6,
   "id": "13862d22",
   "metadata": {},
   "outputs": [
    {
     "name": "stdout",
     "output_type": "stream",
     "text": [
      "[{'media': '150 mM Salt', 'well-coords': [[48.0, 175.0], [124.0, 175.0], [29.0, 175.0], [86.0, 156.0], [48.0, 137.0], [105.0, 137.0], [48.0, 118.0], [29.0, 78.0], [48.0, 78.0], [86.0, 78.0], [29.0, 78.0], [86.0, 59.0]]}, {'media': '50 mM Salt', 'well-coords': [[29.0, 175.0], [67.0, 175.0], [48.0, 156.0], [124.0, 156.0], [124.0, 137.0], [29.0, 118.0], [67.0, 118.0], [124.0, 118.0], [124.0, 78.0], [48.0, 59.0], [105.0, 59.0], [124.0, 59.0]]}, {'media': 'Mock', 'well-coords': [[86.0, 175.0], [105.0, 175.0], [67.0, 156.0], [105.0, 156.0], [29.0, 137.0], [67.0, 137.0], [86.0, 137.0], [86.0, 118.0], [105.0, 118.0], [67.0, 78.0], [105.0, 78.0], [67.0, 59.0]]}]\n"
     ]
    }
   ],
   "source": [
    "#Reorganizes dataframe to create machine instructions sorted by media-type\n",
    "media_dicts = pp.pull_list_of_well_coord_dicts_by_dfcolumn(df, 'media')\n",
    "print(media_dicts)"
   ]
  },
  {
   "cell_type": "code",
   "execution_count": 15,
   "id": "eba8e49a",
   "metadata": {},
   "outputs": [],
   "source": [
    "#Pick up syringe toolhead\n",
    "m.toolChange(media_syringe)"
   ]
  },
  {
   "cell_type": "code",
   "execution_count": 16,
   "id": "c2f07170",
   "metadata": {},
   "outputs": [
    {
     "name": "stdout",
     "output_type": "stream",
     "text": [
      "Please ensure 150 mM Salt is available in the machine before continuing.\n",
      "Change syringe and/or needle if desired\n"
     ]
    },
    {
     "name": "stdin",
     "output_type": "stream",
     "text": [
      "Enter 'YES' to confirm that the correct media is in position YES\n"
     ]
    },
    {
     "name": "stdout",
     "output_type": "stream",
     "text": [
      "Move to Z = zero\n",
      "Move to reservoir position\n",
      "moved to height for aspiration\n",
      "G1    E70.20 F1000.00\n",
      "Moved to Z = zero\n",
      "Hovering over the first well to dispense into\n",
      "Prepare to dispense\n",
      "X = 48.0\n",
      "Y = 175.0\n",
      "G1    E-5.85 F1000.00\n",
      "Prepare to dispense\n",
      "X = 124.0\n",
      "Y = 175.0\n",
      "G1    E-5.85 F1000.00\n",
      "Prepare to dispense\n",
      "X = 29.0\n",
      "Y = 175.0\n",
      "G1    E-5.85 F1000.00\n",
      "Prepare to dispense\n",
      "X = 86.0\n",
      "Y = 156.0\n",
      "G1    E-5.85 F1000.00\n",
      "Prepare to dispense\n",
      "X = 48.0\n",
      "Y = 137.0\n",
      "G1    E-5.85 F1000.00\n",
      "Prepare to dispense\n",
      "X = 105.0\n",
      "Y = 137.0\n",
      "G1    E-5.85 F1000.00\n",
      "Prepare to dispense\n",
      "X = 48.0\n",
      "Y = 118.0\n",
      "G1    E-5.85 F1000.00\n",
      "Prepare to dispense\n",
      "X = 29.0\n",
      "Y = 78.0\n",
      "G1    E-5.85 F1000.00\n",
      "Prepare to dispense\n",
      "X = 48.0\n",
      "Y = 78.0\n",
      "G1    E-5.85 F1000.00\n",
      "Prepare to dispense\n",
      "X = 86.0\n",
      "Y = 78.0\n",
      "G1    E-5.85 F1000.00\n",
      "Prepare to dispense\n",
      "X = 29.0\n",
      "Y = 78.0\n",
      "G1    E-5.85 F1000.00\n",
      "Prepare to dispense\n",
      "X = 86.0\n",
      "Y = 59.0\n",
      "G1    E-5.85 F1000.00\n",
      "Please ensure 50 mM Salt is available in the machine before continuing.\n",
      "Change syringe and/or needle if desired\n"
     ]
    },
    {
     "name": "stdin",
     "output_type": "stream",
     "text": [
      "Enter 'YES' to confirm that the correct media is in position YES\n"
     ]
    },
    {
     "name": "stdout",
     "output_type": "stream",
     "text": [
      "Move to Z = zero\n",
      "Move to reservoir position\n",
      "moved to height for aspiration\n",
      "G1    E70.20 F1000.00\n",
      "Moved to Z = zero\n",
      "Hovering over the first well to dispense into\n",
      "Prepare to dispense\n",
      "X = 29.0\n",
      "Y = 175.0\n",
      "G1    E-5.85 F1000.00\n",
      "Prepare to dispense\n",
      "X = 67.0\n",
      "Y = 175.0\n",
      "G1    E-5.85 F1000.00\n",
      "Prepare to dispense\n",
      "X = 48.0\n",
      "Y = 156.0\n",
      "G1    E-5.85 F1000.00\n",
      "Prepare to dispense\n",
      "X = 124.0\n",
      "Y = 156.0\n",
      "G1    E-5.85 F1000.00\n",
      "Prepare to dispense\n",
      "X = 124.0\n",
      "Y = 137.0\n",
      "G1    E-5.85 F1000.00\n",
      "Prepare to dispense\n",
      "X = 29.0\n",
      "Y = 118.0\n",
      "G1    E-5.85 F1000.00\n",
      "Prepare to dispense\n",
      "X = 67.0\n",
      "Y = 118.0\n",
      "G1    E-5.85 F1000.00\n",
      "Prepare to dispense\n",
      "X = 124.0\n",
      "Y = 118.0\n",
      "G1    E-5.85 F1000.00\n",
      "Prepare to dispense\n",
      "X = 124.0\n",
      "Y = 78.0\n",
      "G1    E-5.85 F1000.00\n",
      "Prepare to dispense\n",
      "X = 48.0\n",
      "Y = 59.0\n",
      "G1    E-5.85 F1000.00\n",
      "Prepare to dispense\n",
      "X = 105.0\n",
      "Y = 59.0\n",
      "G1    E-5.85 F1000.00\n",
      "Prepare to dispense\n",
      "X = 124.0\n",
      "Y = 59.0\n",
      "G1    E-5.85 F1000.00\n",
      "Please ensure Mock is available in the machine before continuing.\n",
      "Change syringe and/or needle if desired\n"
     ]
    },
    {
     "name": "stdin",
     "output_type": "stream",
     "text": [
      "Enter 'YES' to confirm that the correct media is in position YES\n"
     ]
    },
    {
     "name": "stdout",
     "output_type": "stream",
     "text": [
      "Move to Z = zero\n",
      "Move to reservoir position\n",
      "moved to height for aspiration\n",
      "G1    E70.20 F1000.00\n",
      "Moved to Z = zero\n",
      "Hovering over the first well to dispense into\n",
      "Prepare to dispense\n",
      "X = 86.0\n",
      "Y = 175.0\n",
      "G1    E-5.85 F1000.00\n",
      "Prepare to dispense\n",
      "X = 105.0\n",
      "Y = 175.0\n",
      "G1    E-5.85 F1000.00\n",
      "Prepare to dispense\n",
      "X = 67.0\n",
      "Y = 156.0\n",
      "G1    E-5.85 F1000.00\n",
      "Prepare to dispense\n",
      "X = 105.0\n",
      "Y = 156.0\n",
      "G1    E-5.85 F1000.00\n",
      "Prepare to dispense\n",
      "X = 29.0\n",
      "Y = 137.0\n",
      "G1    E-5.85 F1000.00\n",
      "Prepare to dispense\n",
      "X = 67.0\n",
      "Y = 137.0\n",
      "G1    E-5.85 F1000.00\n",
      "Prepare to dispense\n",
      "X = 86.0\n",
      "Y = 137.0\n",
      "G1    E-5.85 F1000.00\n",
      "Prepare to dispense\n",
      "X = 86.0\n",
      "Y = 118.0\n",
      "G1    E-5.85 F1000.00\n",
      "Prepare to dispense\n",
      "X = 105.0\n",
      "Y = 118.0\n",
      "G1    E-5.85 F1000.00\n",
      "Prepare to dispense\n",
      "X = 67.0\n",
      "Y = 78.0\n",
      "G1    E-5.85 F1000.00\n",
      "Prepare to dispense\n",
      "X = 105.0\n",
      "Y = 78.0\n",
      "G1    E-5.85 F1000.00\n",
      "Prepare to dispense\n",
      "X = 67.0\n",
      "Y = 59.0\n",
      "G1    E-5.85 F1000.00\n"
     ]
    }
   ],
   "source": [
    "# Send machine instructions\n",
    "for media in media_dicts:\n",
    "    m.moveTo(x=0,y=0,z=0)\n",
    "    print(f\"Please ensure {media['media']} is available in the machine before continuing.\")\n",
    "    print(\"Change syringe and/or needle if desired\")\n",
    "    while True:\n",
    "        value = input(\"Enter 'YES' to confirm that the correct media is in position\")\n",
    "        if value != \"YES\":\n",
    "            print(\"Please confirm\")\n",
    "        else:\n",
    "            break\n",
    "    exp.dispense_to_wells(m, media[\"well-coords\"], dispense_offset, dispenses_per_syringe_fill, media_reservoir, z_dict)"
   ]
  },
  {
   "cell_type": "markdown",
   "id": "999efd6b",
   "metadata": {},
   "source": [
    "## 5. Transfer duckweed\n",
    "Place a container filled with fronds of the relevant duckweed type and the machine will attempt to move individual fronds into the relevant wells. After each attempt at filling all wells a camera will take pictures of each well to confirm success and then unsuccessful wells will be reattempted"
   ]
  },
  {
   "cell_type": "code",
   "execution_count": null,
   "id": "59ee7954-c5b6-4e19-ab39-44e64db1a087",
   "metadata": {},
   "outputs": [],
   "source": [
    "## testing duckweed transfer\n",
    "pp.fetch_well_position(2, 'A1')"
   ]
  },
  {
   "cell_type": "code",
   "execution_count": null,
   "id": "d84fb453-3c96-4c55-a06a-b2555ae77f81",
   "metadata": {},
   "outputs": [],
   "source": [
    "# manually probe the z height of the duckweed reservoir surface\n",
    "# enter the z value here\n",
    "duckweed_reservoir = [75, 241, -64.45]\n",
    "m.moveTo(x=duckweed_reservoir[0], y=duckweed_reservoir[1])"
   ]
  },
  {
   "cell_type": "code",
   "execution_count": null,
   "id": "ab7159af-f344-49be-86cb-cd363bc058e1",
   "metadata": {},
   "outputs": [],
   "source": [
    "# aspirate duckweed\n",
    "# M203 E2500 to increase max speed\n",
    "# M201 E2000 to increase max acc\n",
    "def aspirate_duckweed(reservoir):\n",
    "    # move to a random point to pick up duckweed\n",
    "    # assumes dense petri dish\n",
    "    r = 25\n",
    "    rx = r * random.random()\n",
    "    ry = r * random.random()\n",
    "\n",
    "    # move in xy first\n",
    "    m.moveTo(x=reservoir[0] + rx, y=reservoir[1] + ry)\n",
    "    m.move(de=10, s=1000) # prime the syringe. hopefully not necessary with 10cc.\n",
    "    # aspirate duckweed\n",
    "    # first move to surface\n",
    "    m.moveTo(z=reservoir[2])\n",
    "    m.dwell(3000)\n",
    "    m.move(dz=-0.75) # press slightly\n",
    "    m.dwell(3000)\n",
    "    m.move(dz=8, de=40, s=2000) # aspirate!\n",
    "    "
   ]
  },
  {
   "cell_type": "code",
   "execution_count": null,
   "id": "bb111561-9207-4b52-b33e-87870658b674",
   "metadata": {},
   "outputs": [],
   "source": [
    "# test aspirate\n",
    "aspirate_duckweed(duckweed_reservoir)\n",
    "m.dwell(5000)\n",
    "m.move(de=-20, s=1500)\n",
    "#m.move(dz=10, de=-25, s=2100) # aspirate!"
   ]
  },
  {
   "cell_type": "code",
   "execution_count": null,
   "id": "43f6b4a6-11cd-461e-8ae3-d086d32ee89f",
   "metadata": {},
   "outputs": [],
   "source": []
  },
  {
   "cell_type": "code",
   "execution_count": null,
   "id": "3965bc08",
   "metadata": {},
   "outputs": [],
   "source": [
    "#Automated transfer\n",
    "grouped_df = df.groupby('genotype')\n",
    "for field_value, sample_df in grouped_df:\n",
    "    print(\"Place container of duckweed type **{0}** into jubilee and ensure lid is open\".format(field_value))\n",
    "    print(\"\"\"Type anything into the input field to confirm that the media is available.\n",
    "    After this point the Jubilee will begin dispensing\"\"\")\n",
    "    input() \n",
    "    count = 0\n",
    "    for index,s in sample_df.iterrows():\n",
    "        #move to plate and well\n",
    "        aspirate_duckweed(duckweed_reservoir)\n",
    "        m.moveTo(z=-42)\n",
    "        well = pp.fetch_well_position(s[\"Plate\"][-1], str(s[\"Well\"]))\n",
    "        m.moveTo(x=well['x'], y=well['y'])\n",
    "        m.move(de=-25, s=2000) # dispense duckweed \n",
    "        count += 1\n",
    "        if count > 3:\n",
    "            break\n",
    "        #print(\"Move to {0}, well {1}\".format(s[\"Plate\"], s[\"Well\"]))\n",
    "        #print(\"Dispensing media of type {0} into {1}, well {2}\".format(field_value,s[\"Plate\"], s[\"Well\"]))\n"
   ]
  },
  {
   "cell_type": "code",
   "execution_count": null,
   "id": "793e944d-1dc4-40c0-88e7-878d7d1ee4a1",
   "metadata": {},
   "outputs": [
    {
     "name": "stdout",
     "output_type": "stream",
     "text": [
      "Place container of duckweed type **Lm5500** into jubilee and ensure lid is open\n",
      "Transfer Lm5500 to plate Plate_1, well A2\n",
      "Transfer Lm5500 to plate Plate_1, well A3\n",
      "Transfer Lm5500 to plate Plate_1, well A4\n",
      "Transfer Lm5500 to plate Plate_1, well B4\n",
      "Transfer Lm5500 to plate Plate_1, well B5\n",
      "Transfer Lm5500 to plate Plate_1, well B6\n",
      "Transfer Lm5500 to plate Plate_1, well C2\n",
      "Transfer Lm5500 to plate Plate_1, well C3\n",
      "Transfer Lm5500 to plate Plate_1, well C4\n",
      "Transfer Lm5500 to plate Plate_1, well D3\n",
      "Transfer Lm5500 to plate Plate_1, well D6\n",
      "Transfer Lm5500 to plate Plate_2, well A4\n"
     ]
    },
    {
     "name": "stdin",
     "output_type": "stream",
     "text": [
      " \n"
     ]
    },
    {
     "name": "stdout",
     "output_type": "stream",
     "text": [
      "Place container of duckweed type **Lm8627** into jubilee and ensure lid is open\n",
      "Transfer Lm8627 to plate Plate_1, well A1\n",
      "Transfer Lm8627 to plate Plate_1, well A5\n",
      "Transfer Lm8627 to plate Plate_1, well A6\n",
      "Transfer Lm8627 to plate Plate_1, well B1\n",
      "Transfer Lm8627 to plate Plate_1, well C6\n",
      "Transfer Lm8627 to plate Plate_1, well D1\n",
      "Transfer Lm8627 to plate Plate_2, well A2\n",
      "Transfer Lm8627 to plate Plate_2, well A3\n",
      "Transfer Lm8627 to plate Plate_2, well A5\n",
      "Transfer Lm8627 to plate Plate_2, well B3\n",
      "Transfer Lm8627 to plate Plate_2, well B4\n",
      "Transfer Lm8627 to plate Plate_2, well B5\n"
     ]
    },
    {
     "name": "stdin",
     "output_type": "stream",
     "text": [
      " \n"
     ]
    },
    {
     "name": "stdout",
     "output_type": "stream",
     "text": [
      "Place container of duckweed type **Sp7498** into jubilee and ensure lid is open\n",
      "Transfer Sp7498 to plate Plate_1, well B2\n",
      "Transfer Sp7498 to plate Plate_1, well B3\n",
      "Transfer Sp7498 to plate Plate_1, well C1\n",
      "Transfer Sp7498 to plate Plate_1, well C5\n",
      "Transfer Sp7498 to plate Plate_1, well D2\n",
      "Transfer Sp7498 to plate Plate_1, well D4\n",
      "Transfer Sp7498 to plate Plate_1, well D5\n",
      "Transfer Sp7498 to plate Plate_2, well A1\n",
      "Transfer Sp7498 to plate Plate_2, well A6\n",
      "Transfer Sp7498 to plate Plate_2, well B1\n",
      "Transfer Sp7498 to plate Plate_2, well B2\n",
      "Transfer Sp7498 to plate Plate_2, well B6\n"
     ]
    }
   ],
   "source": [
    "#Manual transfer\n",
    "\n",
    "grouped_df = df.groupby('genotype')\n",
    "for field_value, sample_df in grouped_df:\n",
    "    print(\"Place container of duckweed type **{0}** into jubilee and ensure lid is open\".format(field_value))\n",
    "    for index,s in sample_df.iterrows():\n",
    "        plate = s[\"Plate\"]\n",
    "        well = s[\"Well\"]\n",
    "        print(f\"Transfer {field_value} to plate {plate}, well {well}\")\n",
    "    input()\n",
    "        #print(\"Dispensing media of type {0} into {1}, well {2}\".format(field_value,s[\"Plate\"], s[\"Well\"]))\n"
   ]
  },
  {
   "cell_type": "code",
   "execution_count": null,
   "id": "9364eb08",
   "metadata": {},
   "outputs": [],
   "source": [
    "m.move(de=10, s=800)"
   ]
  },
  {
   "cell_type": "code",
   "execution_count": 18,
   "id": "f6b9ec7d-9175-42c0-afe0-f0fd2da5605c",
   "metadata": {},
   "outputs": [],
   "source": [
    "m.moveTo(z=z_dict[\"zero\"])"
   ]
  }
 ],
 "metadata": {
  "kernelspec": {
   "display_name": "Python 3 (ipykernel)",
   "language": "python",
   "name": "python3"
  },
  "language_info": {
   "codemirror_mode": {
    "name": "ipython",
    "version": 3
   },
   "file_extension": ".py",
   "mimetype": "text/x-python",
   "name": "python",
   "nbconvert_exporter": "python",
   "pygments_lexer": "ipython3",
   "version": "3.7.0"
  }
 },
 "nbformat": 4,
 "nbformat_minor": 5
}
