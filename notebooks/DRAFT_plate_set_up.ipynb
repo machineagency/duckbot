{
 "cells": [
  {
   "cell_type": "markdown",
   "id": "94241553",
   "metadata": {},
   "source": [
    "## Set up a duckweed genotypes x media growth assay"
   ]
  },
  {
   "cell_type": "markdown",
   "id": "cbe12e31",
   "metadata": {},
   "source": [
    "### Pre-requisites to use this script\n",
    "1. Precise plate and well positions for your machine defined in Plate_positions.py in the 'utils' subdirectory. \n",
    "2. All the parameters defined in the cell 'User paramters'. \n",
    "3. Sufficient 24-well plates, sterile media and duckweed plants available. \n",
    "4. Jubilee machine set up with Media-dispensing syringe tool (50 mL), Duckweed transfer syringe tool and lab automation bedplate. \n"
   ]
  },
  {
   "cell_type": "code",
   "execution_count": 1,
   "id": "d9261ed0",
   "metadata": {},
   "outputs": [],
   "source": [
    "#Importing python libraries downloaded from the internet\n",
    "import random\n",
    "import pandas as pd\n",
    "import os\n",
    "import json\n",
    "import time"
   ]
  },
  {
   "cell_type": "code",
   "execution_count": 2,
   "id": "a859b399",
   "metadata": {},
   "outputs": [],
   "source": [
    "#Importing python libraries from local files. \n",
    "import utils.DuckbotExptSetupUtils as exp\n",
    "import utils.MachineUtils\n",
    "from utils.MachineUtils import *\n",
    "import utils.Plate_positions as pp "
   ]
  },
  {
   "cell_type": "code",
   "execution_count": 12,
   "id": "383ee4c9",
   "metadata": {},
   "outputs": [],
   "source": [
    "#Establish machine communication \n",
    "port = '/dev/ttyACM0' #Check options using  - print([port.name for port in serial.tools.list_ports.comports()])\n",
    "m = MachineCommunication(port)"
   ]
  },
  {
   "cell_type": "markdown",
   "id": "4e56cfe1",
   "metadata": {},
   "source": [
    "## 1. Define user parameters"
   ]
  },
  {
   "cell_type": "markdown",
   "id": "18a64ccc",
   "metadata": {},
   "source": [
    "### Labware config \n",
    "All should be in arbitrary Jubilee motor units. Find this manually on the machine. They shouldn't need to be updated until you start using a new reservoir. And if that's the case you could create a labware library and then define the media_reservoir variable as one of the objects in your library. "
   ]
  },
  {
   "cell_type": "code",
   "execution_count": 4,
   "id": "d99f7a1f",
   "metadata": {},
   "outputs": [],
   "source": [
    "media_reservoir = { #\n",
    "'x' : 75, 'y' : 241, #X and Y should get the machine to the center of the reservoir. \n",
    "}\n",
    "\n",
    "#Tool positions\n",
    "media_syringe = 2 #What jubilee tool position did you define this as?\n",
    "duckweed_syringe = 3\n",
    "dispenses_per_syringe_fill = 20\n",
    "dispense_mL = 1.5 #In mL\n",
    "vol_conversion = 3.9 #One mL is 3.9 units. \n",
    "dispense_offset = dispense_mL * vol_conversion\n",
    "z_dict = {\"zero\": 0, #Note that zeros\n",
    "          \"aspirate\" : -53, #Measure this for yourself and your labware/toolheads.\n",
    "          \"dispense\" : - 34\n",
    "         }"
   ]
  },
  {
   "cell_type": "markdown",
   "id": "1135c3ef",
   "metadata": {},
   "source": [
    "### Define experimental variables, and desired file names and save locations. "
   ]
  },
  {
   "cell_type": "code",
   "execution_count": 5,
   "id": "a916546d",
   "metadata": {},
   "outputs": [],
   "source": [
    "\n",
    "#1. DEFINE EXPERIMENTAL VARIABLES\n",
    "genotypes = [\"Sp7498\", \"sp3484\"] # Replace with names for unique duckweed genotypes\n",
    "media = [\"Pink\", \"Green\"] # Replace with names for unique media\n",
    "reps  = 5 # Replace with your desired number of replicates for each duckweed/media combination. \n",
    "\n",
    "#2. DEFINE FILE LOCATION AND NAME\n",
    "expt_setup_parent_dir = os.getcwd() # Default uses current working directory but you can replace with your own choice. \n",
    "expt_setup_dir = \"TestExptDir\" # Name of the folder to hold experiment data and metadata including the setup file\n",
    "expt_setup_file_name = \"TestFile.json\" #Name for the experiment setup file (Metadata)\n",
    "\n",
    "exp_setup_file_path = os.path.join(expt_setup_parent_dir, expt_setup_dir)\n",
    "\n",
    "if not os.path.exists(exp_setup_file_path):\n",
    "    os.mkdir(exp_setup_file_path)     "
   ]
  },
  {
   "cell_type": "markdown",
   "id": "1ce24584",
   "metadata": {},
   "source": [
    "## 2. Create dataframe with experiment metadata"
   ]
  },
  {
   "cell_type": "code",
   "execution_count": 6,
   "id": "46b27146",
   "metadata": {},
   "outputs": [],
   "source": [
    "# Creates master list of sample info, shuffles and then assigns to plates and wells. \n",
    "master_expt_list = []\n",
    "\n",
    "for g in genotypes:\n",
    "    for m in media:\n",
    "        for x in range(reps):\n",
    "             master_expt_list.append({\"genotype\": g, \"media\": m, \"condition_replicate\": x + 1})\n",
    "\n",
    "\n",
    "random.shuffle(master_expt_list)\n",
    "master_expt_list = exp.assign_plates_and_wells(master_expt_list)\n",
    "expt_dict = {\"sample_info\" : master_expt_list}"
   ]
  },
  {
   "cell_type": "code",
   "execution_count": 7,
   "id": "84a9591b",
   "metadata": {},
   "outputs": [],
   "source": [
    "#Save experimental set up file\n",
    "\n",
    "os.chdir(exp_setup_file_path)\n",
    "with open(expt_setup_file_name, 'w') as f:\n",
    "    json.dump(expt_dict, f)"
   ]
  },
  {
   "cell_type": "code",
   "execution_count": 8,
   "id": "8ba77473",
   "metadata": {},
   "outputs": [],
   "source": [
    "# path = os.path.join(expt_setup_parent_dir, expt_setup_dir)\n",
    "\n",
    "# os.chdir(path)\n",
    "# print(os.getcwd())"
   ]
  },
  {
   "cell_type": "code",
   "execution_count": 9,
   "id": "5cce9399",
   "metadata": {},
   "outputs": [],
   "source": [
    "#Import from file (in case user wants to make any manual edits to the JSON file after creating it)\n",
    "\n",
    "with open(expt_setup_file_name) as datafile:\n",
    "    expt_data = json.load(datafile)\n",
    "\n",
    "# Turn samples list into a dataframe\n",
    "sample_data = expt_data[\"sample_info\"]\n",
    "df = pd.DataFrame(sample_data)\n",
    "# print (df[0:])\n"
   ]
  },
  {
   "cell_type": "markdown",
   "id": "61b71c98",
   "metadata": {},
   "source": [
    "## 3. Label 24-well plates and add to machine"
   ]
  },
  {
   "cell_type": "markdown",
   "id": "fe38bb67",
   "metadata": {},
   "source": [
    "#### Label Plates and add plates to machine"
   ]
  },
  {
   "cell_type": "code",
   "execution_count": 10,
   "id": "bc31ce67",
   "metadata": {},
   "outputs": [
    {
     "name": "stdout",
     "output_type": "stream",
     "text": [
      "1\n",
      "This experiment requires 1 24-well plate(s)\n",
      "----\n",
      "Label a plate with experiment ID or initials and 'plate 1'\n",
      "----\n",
      "Place the 24-well plate(s) in the jubilee\n",
      "Start at position 1 and fill empty plate slots in order\n"
     ]
    }
   ],
   "source": [
    "num_plates = df.Plate.nunique()\n",
    "print(num_plates)\n",
    "\n",
    "print(\"This experiment requires {} 24-well plate(s)\".format(num_plates))\n",
    "print(\"----\")\n",
    "lst = list(range(1,num_plates + 1))\n",
    "for n in lst:\n",
    "    print(\"Label a plate with experiment ID or initials and 'plate {}'\".format(n))\n",
    "print(\"----\")\n",
    "print (\"Place the 24-well plate(s) in the jubilee\".format(num_plates))\n",
    "print (\"Start at position 1 and fill empty plate slots in order\")"
   ]
  },
  {
   "cell_type": "markdown",
   "id": "3bd8f5e8",
   "metadata": {},
   "source": [
    "## 2. Dispense media\n",
    "When prompted insert containers of the relevant sterile media into the input slot on the Jubilee. "
   ]
  },
  {
   "cell_type": "code",
   "execution_count": 12,
   "id": "97e3d8a0",
   "metadata": {},
   "outputs": [],
   "source": [
    "#Retrieve absolute positions of wells from a library and then add those coordinatest to the plate set up dataframe\n",
    "\n",
    "num_plates = df.Plate.nunique()\n",
    "plates = list(range(1, num_plates + 1))\n",
    "# print(plates)\n",
    "\n",
    "for p in plates:\n",
    "    pp.add_well_coords_to_df(p, df)\n",
    "\n",
    "# print(df)"
   ]
  },
  {
   "cell_type": "code",
   "execution_count": 13,
   "id": "13862d22",
   "metadata": {},
   "outputs": [],
   "source": [
    "#Reorganizes dataframe to create machine instructions sorted by media-type\n",
    "\n",
    "media_df = df.groupby(['media']) #Returns a list of tuples with [0] being the group key and [1] the dataframe\n",
    "media_dicts = []\n",
    "\n",
    "for media in media_df:\n",
    "    well_coords = []\n",
    "    for index, row in media[1].iterrows():\n",
    "        this_well = []\n",
    "        this_well.append(row['x'])\n",
    "        this_well.append(row['y'])\n",
    "        well_coords.append(this_well)\n",
    "    media_dicts.append({'media': media[0], 'well-coords' : well_coords})\n",
    "# print(media_dicts)\n"
   ]
  },
  {
   "cell_type": "code",
   "execution_count": 13,
   "id": "eba8e49a",
   "metadata": {},
   "outputs": [],
   "source": [
    "#Pick up syringe toolhead\n",
    "# TODO: error on first run\n",
    "m.toolChange(media_syringe)"
   ]
  },
  {
   "cell_type": "code",
   "execution_count": null,
   "id": "c2f07170",
   "metadata": {},
   "outputs": [],
   "source": [
    "# Send machine instructions\n",
    "# TODO: very brief pause between dispenses\n",
    "# plunger not at zero\n",
    "for media in media_dicts:\n",
    "    m.moveTo(x=0,y=0,z=0)\n",
    "    print(f\"Please ensure {media['media']} is available in the machine before continuing.\")\n",
    "    print(\"Change syringe and/or needle if desired\")\n",
    "    while True:\n",
    "        value = input(\"Enter 'YES' to confirm that the correct media is in position\")\n",
    "        if value != \"YES\":\n",
    "            print(\"Please confirm\")\n",
    "        else:\n",
    "            break\n",
    "    exp.dispense_to_wells(m, media[\"well-coords\"], dispense_offset, dispenses_per_syringe_fill, media_reservoir, z_dict)"
   ]
  },
  {
   "cell_type": "markdown",
   "id": "999efd6b",
   "metadata": {},
   "source": [
    "## 5. Transfer duckweed\n",
    "Place a container filled with fronds of the relevant duckweed type and the machine will attempt to move individual fronds into the relevant wells. After each attempt at filling all wells a camera will take pictures of each well to confirm success and then unsuccessful wells will be reattempted"
   ]
  },
  {
   "cell_type": "code",
   "execution_count": null,
   "id": "59ee7954-c5b6-4e19-ab39-44e64db1a087",
   "metadata": {},
   "outputs": [],
   "source": [
    "## testing duckweed transfer\n",
    "pp.fetch_well_position(2, 'A1')"
   ]
  },
  {
   "cell_type": "code",
   "execution_count": 26,
   "id": "d84fb453-3c96-4c55-a06a-b2555ae77f81",
   "metadata": {},
   "outputs": [],
   "source": [
    "# manually probe the z height of the duckweed reservoir surface\n",
    "# enter the z value here\n",
    "duckweed_reservoir = [75, 241, -64.45]\n",
    "m.moveTo(x=duckweed_reservoir[0], y=duckweed_reservoir[1])"
   ]
  },
  {
   "cell_type": "code",
   "execution_count": 48,
   "id": "ab7159af-f344-49be-86cb-cd363bc058e1",
   "metadata": {},
   "outputs": [],
   "source": [
    "# aspirate duckweed\n",
    "# M203 E2500 to increase max speed\n",
    "# M201 E2000 to increase max acc\n",
    "def aspirate_duckweed(reservoir):\n",
    "    # move to a random point to pick up duckweed\n",
    "    # assumes dense petri dish\n",
    "    r = 25\n",
    "    rx = r * random.random()\n",
    "    ry = r * random.random()\n",
    "\n",
    "    # move in xy first\n",
    "    m.moveTo(x=reservoir[0] + rx, y=reservoir[1] + ry)\n",
    "    m.move(de=10, s=1000) # prime the syringe. hopefully not necessary with 10cc.\n",
    "    # aspirate duckweed\n",
    "    # first move to surface\n",
    "    m.moveTo(z=reservoir[2])\n",
    "    m.dwell(3000)\n",
    "    m.move(dz=-0.75) # press slightly\n",
    "    m.dwell(3000)\n",
    "    m.move(dz=8, de=40, s=2000) # aspirate!\n",
    "    "
   ]
  },
  {
   "cell_type": "code",
   "execution_count": 49,
   "id": "bb111561-9207-4b52-b33e-87870658b674",
   "metadata": {},
   "outputs": [
    {
     "name": "stdout",
     "output_type": "stream",
     "text": [
      "G1    E10.00 F1000.00\n",
      "G1   Z-0.75  F6000.00\n",
      "G1   Z8.00 E40.00 F2000.00\n",
      "G1    E-20.00 F1500.00\n"
     ]
    }
   ],
   "source": [
    "# test aspirate\n",
    "aspirate_duckweed(duckweed_reservoir)\n",
    "m.dwell(5000)\n",
    "m.move(de=-20, s=1500)\n",
    "#m.move(dz=10, de=-25, s=2100) # aspirate!"
   ]
  },
  {
   "cell_type": "code",
   "execution_count": null,
   "id": "43f6b4a6-11cd-461e-8ae3-d086d32ee89f",
   "metadata": {},
   "outputs": [],
   "source": []
  },
  {
   "cell_type": "code",
   "execution_count": 34,
   "id": "3965bc08",
   "metadata": {},
   "outputs": [
    {
     "name": "stdout",
     "output_type": "stream",
     "text": [
      "Place container of duckweed type **Sp7498** into jubilee and ensure lid is open\n",
      "Type anything into the input field to confirm that the media is available.\n",
      "    After this point the Jubilee will begin dispensing\n"
     ]
    },
    {
     "name": "stdin",
     "output_type": "stream",
     "text": [
      " 6\n"
     ]
    },
    {
     "name": "stdout",
     "output_type": "stream",
     "text": [
      "G1    E10.00 F1000.00\n",
      "G1   Z-0.75  F6000.00\n",
      "G1   Z5.00 E25.00 F2750.00\n",
      "G1    E-25.00 F2000.00\n",
      "G1    E10.00 F1000.00\n",
      "G1   Z-0.75  F6000.00\n",
      "G1   Z5.00 E25.00 F2750.00\n",
      "G1    E-25.00 F2000.00\n",
      "G1    E10.00 F1000.00\n",
      "G1   Z-0.75  F6000.00\n",
      "G1   Z5.00 E25.00 F2750.00\n",
      "G1    E-25.00 F2000.00\n",
      "G1    E10.00 F1000.00\n",
      "G1   Z-0.75  F6000.00\n",
      "G1   Z5.00 E25.00 F2750.00\n",
      "G1    E-25.00 F2000.00\n",
      "Place container of duckweed type **sp3484** into jubilee and ensure lid is open\n",
      "Type anything into the input field to confirm that the media is available.\n",
      "    After this point the Jubilee will begin dispensing\n"
     ]
    },
    {
     "ename": "KeyboardInterrupt",
     "evalue": "Interrupted by user",
     "output_type": "error",
     "traceback": [
      "\u001b[0;31m---------------------------------------------------------------------------\u001b[0m",
      "\u001b[0;31mKeyboardInterrupt\u001b[0m                         Traceback (most recent call last)",
      "\u001b[0;32m/tmp/ipykernel_1796/2970986995.py\u001b[0m in \u001b[0;36m<module>\u001b[0;34m\u001b[0m\n\u001b[1;32m      4\u001b[0m     print(\"\"\"Type anything into the input field to confirm that the media is available.\n\u001b[1;32m      5\u001b[0m     After this point the Jubilee will begin dispensing\"\"\")\n\u001b[0;32m----> 6\u001b[0;31m     \u001b[0minput\u001b[0m\u001b[0;34m(\u001b[0m\u001b[0;34m)\u001b[0m\u001b[0;34m\u001b[0m\u001b[0;34m\u001b[0m\u001b[0m\n\u001b[0m\u001b[1;32m      7\u001b[0m     \u001b[0mcount\u001b[0m \u001b[0;34m=\u001b[0m \u001b[0;36m0\u001b[0m\u001b[0;34m\u001b[0m\u001b[0;34m\u001b[0m\u001b[0m\n\u001b[1;32m      8\u001b[0m     \u001b[0;32mfor\u001b[0m \u001b[0mindex\u001b[0m\u001b[0;34m,\u001b[0m\u001b[0ms\u001b[0m \u001b[0;32min\u001b[0m \u001b[0msample_df\u001b[0m\u001b[0;34m.\u001b[0m\u001b[0miterrows\u001b[0m\u001b[0;34m(\u001b[0m\u001b[0;34m)\u001b[0m\u001b[0;34m:\u001b[0m\u001b[0;34m\u001b[0m\u001b[0;34m\u001b[0m\u001b[0m\n",
      "\u001b[0;32m~/duckbot/.venv/lib/python3.7/site-packages/ipykernel/kernelbase.py\u001b[0m in \u001b[0;36mraw_input\u001b[0;34m(self, prompt)\u001b[0m\n\u001b[1;32m   1179\u001b[0m             \u001b[0mself\u001b[0m\u001b[0;34m.\u001b[0m\u001b[0m_parent_ident\u001b[0m\u001b[0;34m[\u001b[0m\u001b[0;34m\"shell\"\u001b[0m\u001b[0;34m]\u001b[0m\u001b[0;34m,\u001b[0m\u001b[0;34m\u001b[0m\u001b[0;34m\u001b[0m\u001b[0m\n\u001b[1;32m   1180\u001b[0m             \u001b[0mself\u001b[0m\u001b[0;34m.\u001b[0m\u001b[0mget_parent\u001b[0m\u001b[0;34m(\u001b[0m\u001b[0;34m\"shell\"\u001b[0m\u001b[0;34m)\u001b[0m\u001b[0;34m,\u001b[0m\u001b[0;34m\u001b[0m\u001b[0;34m\u001b[0m\u001b[0m\n\u001b[0;32m-> 1181\u001b[0;31m             \u001b[0mpassword\u001b[0m\u001b[0;34m=\u001b[0m\u001b[0;32mFalse\u001b[0m\u001b[0;34m,\u001b[0m\u001b[0;34m\u001b[0m\u001b[0;34m\u001b[0m\u001b[0m\n\u001b[0m\u001b[1;32m   1182\u001b[0m         )\n\u001b[1;32m   1183\u001b[0m \u001b[0;34m\u001b[0m\u001b[0m\n",
      "\u001b[0;32m~/duckbot/.venv/lib/python3.7/site-packages/ipykernel/kernelbase.py\u001b[0m in \u001b[0;36m_input_request\u001b[0;34m(self, prompt, ident, parent, password)\u001b[0m\n\u001b[1;32m   1217\u001b[0m             \u001b[0;32mexcept\u001b[0m \u001b[0mKeyboardInterrupt\u001b[0m\u001b[0;34m:\u001b[0m\u001b[0;34m\u001b[0m\u001b[0;34m\u001b[0m\u001b[0m\n\u001b[1;32m   1218\u001b[0m                 \u001b[0;31m# re-raise KeyboardInterrupt, to truncate traceback\u001b[0m\u001b[0;34m\u001b[0m\u001b[0;34m\u001b[0m\u001b[0;34m\u001b[0m\u001b[0m\n\u001b[0;32m-> 1219\u001b[0;31m                 \u001b[0;32mraise\u001b[0m \u001b[0mKeyboardInterrupt\u001b[0m\u001b[0;34m(\u001b[0m\u001b[0;34m\"Interrupted by user\"\u001b[0m\u001b[0;34m)\u001b[0m \u001b[0;32mfrom\u001b[0m \u001b[0;32mNone\u001b[0m\u001b[0;34m\u001b[0m\u001b[0;34m\u001b[0m\u001b[0m\n\u001b[0m\u001b[1;32m   1220\u001b[0m             \u001b[0;32mexcept\u001b[0m \u001b[0mException\u001b[0m\u001b[0;34m:\u001b[0m\u001b[0;34m\u001b[0m\u001b[0;34m\u001b[0m\u001b[0m\n\u001b[1;32m   1221\u001b[0m                 \u001b[0mself\u001b[0m\u001b[0;34m.\u001b[0m\u001b[0mlog\u001b[0m\u001b[0;34m.\u001b[0m\u001b[0mwarning\u001b[0m\u001b[0;34m(\u001b[0m\u001b[0;34m\"Invalid Message:\"\u001b[0m\u001b[0;34m,\u001b[0m \u001b[0mexc_info\u001b[0m\u001b[0;34m=\u001b[0m\u001b[0;32mTrue\u001b[0m\u001b[0;34m)\u001b[0m\u001b[0;34m\u001b[0m\u001b[0;34m\u001b[0m\u001b[0m\n",
      "\u001b[0;31mKeyboardInterrupt\u001b[0m: Interrupted by user"
     ]
    }
   ],
   "source": [
    "grouped_df = df.groupby('genotype')\n",
    "for field_value, sample_df in grouped_df:\n",
    "    print(\"Place container of duckweed type **{0}** into jubilee and ensure lid is open\".format(field_value))\n",
    "    print(\"\"\"Type anything into the input field to confirm that the media is available.\n",
    "    After this point the Jubilee will begin dispensing\"\"\")\n",
    "    input() \n",
    "    count = 0\n",
    "    for index,s in sample_df.iterrows():\n",
    "        #move to plate and well\n",
    "        aspirate_duckweed(duckweed_reservoir)\n",
    "        m.moveTo(z=-42)\n",
    "        well = pp.fetch_well_position(s[\"Plate\"][-1], str(s[\"Well\"]))\n",
    "        m.moveTo(x=well['x'], y=well['y'])\n",
    "        m.move(de=-25, s=2000) # dispense duckweed \n",
    "        count += 1\n",
    "        if count > 3:\n",
    "            break\n",
    "        #print(\"Move to {0}, well {1}\".format(s[\"Plate\"], s[\"Well\"]))\n",
    "        #print(\"Dispensing media of type {0} into {1}, well {2}\".format(field_value,s[\"Plate\"], s[\"Well\"]))\n"
   ]
  },
  {
   "cell_type": "code",
   "execution_count": null,
   "id": "793e944d-1dc4-40c0-88e7-878d7d1ee4a1",
   "metadata": {},
   "outputs": [],
   "source": []
  }
 ],
 "metadata": {
  "kernelspec": {
   "display_name": "Python 3 (ipykernel)",
   "language": "python",
   "name": "python3"
  },
  "language_info": {
   "codemirror_mode": {
    "name": "ipython",
    "version": 3
   },
   "file_extension": ".py",
   "mimetype": "text/x-python",
   "name": "python",
   "nbconvert_exporter": "python",
   "pygments_lexer": "ipython3",
   "version": "3.7.3"
  }
 },
 "nbformat": 4,
 "nbformat_minor": 5
}
