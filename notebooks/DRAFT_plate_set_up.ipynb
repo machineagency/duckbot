{
 "cells": [
  {
   "cell_type": "markdown",
   "id": "94241553",
   "metadata": {},
   "source": [
    "## Duckbot Automated Growth assays code library"
   ]
  },
  {
   "cell_type": "markdown",
   "id": "cbe12e31",
   "metadata": {},
   "source": [
    "### READ ME\n",
    "1. Define the precise plate and well positions for your machine in Plate_positions.py\n",
    "2. Define the dimensions of the labwware you will use for media dispensing under \"Define labware and tools\"\n",
    "3. Run all cells in this  script in order and then \n",
    "Run these cells to import libraries and define methods"
   ]
  },
  {
   "cell_type": "code",
   "execution_count": 26,
   "id": "d9261ed0",
   "metadata": {},
   "outputs": [],
   "source": [
    "import random\n",
    "import pandas as pd\n",
    "import DuckbotExptSetupUtils as exp\n",
    "import os\n",
    "import json\n",
    "import Plate_positions as pp # <--- USER NOTE: Absolute positions of plates and wells are defined in this python script. "
   ]
  },
  {
   "cell_type": "code",
   "execution_count": null,
   "id": "d3f65ab4",
   "metadata": {},
   "outputs": [],
   "source": [
    "def divide_chunks(l, n):\n",
    "    for i in range(0, len(l), n):    # looping till length l\n",
    "        yield l[i:i + n]\n",
    "        \n",
    "def dispense_to_wells(m, well_coords, z, dispense_vol,dispenses_per_syringe_fill, media_reservoir):\n",
    "    dispense_chunks = list(divide_chunks(well_coords, dispenses_per_syringe_fill))\n",
    "    for wells in dispense_chunks:\n",
    "#         m.moveTo(x=media_reservoir[\"x\"], y=media_reservoir['y'])\n",
    "#         m.moveTo(z=media_reservoir[\"aspiration_position\"]\n",
    "#         m.move(de=dispense_vol * dispenses_per_syringe_fill)\n",
    "#         m.move(dz=media_reservoir [\"wall_height\"])\n",
    "        for well in wells:\n",
    "            print(\"dispensing\")\n",
    "#             m.moveTo(x=well_coords[0], y=well_coords[1])\n",
    "#             m.moveTo(z=z)\n",
    "#             m.move(de=-dispense_vol)\n",
    "        \n",
    "\n",
    "    \n",
    "def add_well_coords_to_df(plate_num, df):\n",
    "    well_coord_list_of_dicts = pp.fetch_plate_wellpostions(plate_num)\n",
    "    print(well_coord_list_of_dicts)\n",
    "#     plate_df = df.loc[df['Plate'] == f'Plate_{plate_num}']\n",
    "    for index, row in df.iterrows():\n",
    "        print(row['Well'])\n",
    "        for well in well_coord_list_of_dicts:\n",
    "            if row['Plate'] == f'Plate_{plate_num}' and row['Well'] == well['well_id']:\n",
    "                df.loc[index, 'x'] = well['x']\n",
    "                df.loc[index, 'y'] = well['y']\n",
    "    \n"
   ]
  },
  {
   "cell_type": "markdown",
   "id": "18a64ccc",
   "metadata": {},
   "source": [
    "## 1. Define labware and tools\n",
    "### Labware config note\n",
    "All should be in arbitrary Jubilee motor units. Find this manually on the machine. They shouldn't need to be updated until you start using a new reservoir. And if that's the case you could create a labware library and then define the media_reservoir variable as one of the objects in your library. "
   ]
  },
  {
   "cell_type": "code",
   "execution_count": 2,
   "id": "d99f7a1f",
   "metadata": {},
   "outputs": [],
   "source": [
    "media_reservoir = { #\n",
    "'x' : 50, 'y' : 50, #X and Y should get the machine to the center of the reservoir. \n",
    "'aspiration_position': 50, #Z-axis point that is just above the bottom of the reservoir.  \n",
    "'wall_height' : 50 #Relative Z-axis units from the aspiration position\n",
    "}\n",
    "well_z = 10 #Distance to move down into the well for dispensing\n",
    "\n",
    "\n",
    "#Tool positions\n",
    "media_syringe = 2 #What jubilee tool position did you define this as\n",
    "duckweed_syringe = 3\n",
    "dispenses_per_syringe_fill = 20\n",
    "dispense_vol = 10 \n"
   ]
  },
  {
   "cell_type": "code",
   "execution_count": 3,
   "id": "383ee4c9",
   "metadata": {},
   "outputs": [
    {
     "ename": "NameError",
     "evalue": "name 'MachineCommunication' is not defined",
     "output_type": "error",
     "traceback": [
      "\u001b[0;31m---------------------------------------------------------------------------\u001b[0m",
      "\u001b[0;31mNameError\u001b[0m                                 Traceback (most recent call last)",
      "\u001b[0;32m/var/folders/nc/pbz0zfmn5tq28c62lh3svf880000gn/T/ipykernel_25054/324091271.py\u001b[0m in \u001b[0;36m<module>\u001b[0;34m\u001b[0m\n\u001b[1;32m      1\u001b[0m \u001b[0;31m#Establish machine communication\u001b[0m\u001b[0;34m\u001b[0m\u001b[0;34m\u001b[0m\u001b[0m\n\u001b[1;32m      2\u001b[0m \u001b[0mport\u001b[0m \u001b[0;34m=\u001b[0m \u001b[0;34m'/dev/ttyACM0'\u001b[0m \u001b[0;31m#Check options using  - print([port.name for port in serial.tools.list_ports.comports()])\u001b[0m\u001b[0;34m\u001b[0m\u001b[0m\n\u001b[0;32m----> 3\u001b[0;31m \u001b[0mm\u001b[0m \u001b[0;34m=\u001b[0m \u001b[0mMachineCommunication\u001b[0m\u001b[0;34m(\u001b[0m\u001b[0mport\u001b[0m\u001b[0;34m)\u001b[0m\u001b[0;34m\u001b[0m\u001b[0m\n\u001b[0m",
      "\u001b[0;31mNameError\u001b[0m: name 'MachineCommunication' is not defined"
     ]
    }
   ],
   "source": [
    "#Establish machine communication \n",
    "port = '/dev/ttyACM0' #Check options using  - print([port.name for port in serial.tools.list_ports.comports()])\n",
    "m = MachineCommunication(port)"
   ]
  },
  {
   "cell_type": "markdown",
   "id": "1ce24584",
   "metadata": {},
   "source": [
    "### Create dataframe with experiment metadata"
   ]
  },
  {
   "cell_type": "code",
   "execution_count": 4,
   "id": "a916546d",
   "metadata": {},
   "outputs": [],
   "source": [
    "# USER ACTION REQUIRED\n",
    "\n",
    "#1. DEFINE EXPERIMENTAL VARIABLES\n",
    "genotypes = [\"Sp7498\", \"sp3484\"] # Replace with names for unique duckweed genotypes\n",
    "media = [\"Mock\", \"Salt\"] # Replace with names for unique media\n",
    "reps  = 3 # Replace with your desired number of replicates for each duckweed/media combination. \n",
    "\n",
    "#2. DEFINE FILE LOCATION AND NAME\n",
    "expt_setup_parent_dir = os.getcwd() # Default uses current working directory but you can replace with your own choice. \n",
    "expt_setup_dir = \"TestExptDir\" # Name of the folder to hold experiment data and metadata including the setup file\n",
    "expt_setup_file_name = \"TestFile.json\" #Name for the experiment setup file (Metadata)\n",
    "\n",
    "        "
   ]
  },
  {
   "cell_type": "code",
   "execution_count": 5,
   "id": "46b27146",
   "metadata": {},
   "outputs": [],
   "source": [
    "# Creates master list of sample info, shuffles and then assigns to plates and wells. \n",
    "master_expt_list = []\n",
    "\n",
    "for g in genotypes:\n",
    "    for m in media:\n",
    "        for x in range(reps):\n",
    "             master_expt_list.append({\"genotype\": g, \"media\": m, \"condition_replicate\": x + 1})\n",
    "\n",
    "\n",
    "random.shuffle(master_expt_list)\n",
    "master_expt_list = exp.assign_plates_and_wells(master_expt_list)\n",
    "expt_dict = {\"sample_info\" : master_expt_list}\n",
    "\n",
    "\n"
   ]
  },
  {
   "cell_type": "code",
   "execution_count": 6,
   "id": "84a9591b",
   "metadata": {},
   "outputs": [
    {
     "ename": "FileExistsError",
     "evalue": "[Errno 17] File exists: '/Users/Orlando/Documents/Github_clones/duckbot/notebooks/TestExptDir'",
     "output_type": "error",
     "traceback": [
      "\u001b[0;31m---------------------------------------------------------------------------\u001b[0m",
      "\u001b[0;31mFileExistsError\u001b[0m                           Traceback (most recent call last)",
      "\u001b[0;32m/var/folders/nc/pbz0zfmn5tq28c62lh3svf880000gn/T/ipykernel_25054/1811273317.py\u001b[0m in \u001b[0;36m<module>\u001b[0;34m\u001b[0m\n\u001b[1;32m      3\u001b[0m \u001b[0mpath\u001b[0m \u001b[0;34m=\u001b[0m \u001b[0mos\u001b[0m\u001b[0;34m.\u001b[0m\u001b[0mpath\u001b[0m\u001b[0;34m.\u001b[0m\u001b[0mjoin\u001b[0m\u001b[0;34m(\u001b[0m\u001b[0mexpt_setup_parent_dir\u001b[0m\u001b[0;34m,\u001b[0m \u001b[0mexpt_setup_dir\u001b[0m\u001b[0;34m)\u001b[0m\u001b[0;34m\u001b[0m\u001b[0m\n\u001b[1;32m      4\u001b[0m \u001b[0;34m\u001b[0m\u001b[0m\n\u001b[0;32m----> 5\u001b[0;31m \u001b[0mos\u001b[0m\u001b[0;34m.\u001b[0m\u001b[0mmkdir\u001b[0m\u001b[0;34m(\u001b[0m\u001b[0mpath\u001b[0m\u001b[0;34m)\u001b[0m\u001b[0;34m\u001b[0m\u001b[0m\n\u001b[0m\u001b[1;32m      6\u001b[0m \u001b[0mos\u001b[0m\u001b[0;34m.\u001b[0m\u001b[0mchdir\u001b[0m\u001b[0;34m(\u001b[0m\u001b[0mpath\u001b[0m\u001b[0;34m)\u001b[0m\u001b[0;34m\u001b[0m\u001b[0m\n\u001b[1;32m      7\u001b[0m \u001b[0;34m\u001b[0m\u001b[0m\n",
      "\u001b[0;31mFileExistsError\u001b[0m: [Errno 17] File exists: '/Users/Orlando/Documents/Github_clones/duckbot/notebooks/TestExptDir'"
     ]
    }
   ],
   "source": [
    "#Create folder and save experimental set up file to it\n",
    "\n",
    "path = os.path.join(expt_setup_parent_dir, expt_setup_dir)\n",
    "\n",
    "os.mkdir(path)\n",
    "os.chdir(path)\n",
    "\n",
    "with open(expt_setup_file_name, 'w') as f:\n",
    "    json.dump(expt_dict, f)"
   ]
  },
  {
   "cell_type": "code",
   "execution_count": 10,
   "id": "8ba77473",
   "metadata": {},
   "outputs": [
    {
     "name": "stdout",
     "output_type": "stream",
     "text": [
      "/Users/Orlando/Documents/Github_clones/duckbot/notebooks/TestExptDir\n"
     ]
    }
   ],
   "source": [
    "path = os.path.join(expt_setup_parent_dir, expt_setup_dir)\n",
    "\n",
    "os.chdir(path)\n",
    "print(os.getcwd())"
   ]
  },
  {
   "cell_type": "code",
   "execution_count": 11,
   "id": "5cce9399",
   "metadata": {},
   "outputs": [
    {
     "name": "stdout",
     "output_type": "stream",
     "text": [
      "   genotype media  condition_replicate    plate_well_id    Plate Well\n",
      "0    Sp7498  Salt                    3  Plate_1_Well_A1  Plate_1   A1\n",
      "1    Sp7498  Salt                    2  Plate_1_Well_A2  Plate_1   A2\n",
      "2    sp3484  Mock                    2  Plate_1_Well_A3  Plate_1   A3\n",
      "3    sp3484  Salt                    2  Plate_1_Well_A4  Plate_1   A4\n",
      "4    sp3484  Salt                    1  Plate_1_Well_A5  Plate_1   A5\n",
      "5    Sp7498  Mock                    3  Plate_1_Well_A6  Plate_1   A6\n",
      "6    sp3484  Salt                    3  Plate_1_Well_B1  Plate_1   B1\n",
      "7    sp3484  Mock                    1  Plate_1_Well_B2  Plate_1   B2\n",
      "8    sp3484  Mock                    3  Plate_1_Well_B3  Plate_1   B3\n",
      "9    Sp7498  Mock                    1  Plate_1_Well_B4  Plate_1   B4\n",
      "10   Sp7498  Mock                    2  Plate_1_Well_B5  Plate_1   B5\n",
      "11   Sp7498  Salt                    1  Plate_1_Well_B6  Plate_1   B6\n"
     ]
    }
   ],
   "source": [
    "# Turn samples list into a dataframe\n",
    "\n",
    "#Import from file (in case user wants to make any manual edits to the JSON file after creating it)\n",
    "\n",
    "#TO DO import from Json\n",
    "with open(expt_setup_file_name) as datafile:\n",
    "    expt_data = json.load(datafile)\n",
    "\n",
    "sample_data = expt_data[\"sample_info\"]\n",
    "df = pd.DataFrame(sample_data)\n",
    "print (df[0:])\n"
   ]
  },
  {
   "cell_type": "markdown",
   "id": "61b71c98",
   "metadata": {},
   "source": [
    "### Set up physical plates"
   ]
  },
  {
   "cell_type": "markdown",
   "id": "fe38bb67",
   "metadata": {},
   "source": [
    "#### Label Plates and add plates to machine"
   ]
  },
  {
   "cell_type": "code",
   "execution_count": 12,
   "id": "bc31ce67",
   "metadata": {},
   "outputs": [
    {
     "name": "stdout",
     "output_type": "stream",
     "text": [
      "1\n",
      "This experiment requires 1 24-well plate(s)\n",
      "----\n",
      "Label a plate with experiment ID or initials and 'plate 1'\n",
      "----\n",
      "Place the 24-well plate(s) in the jubilee\n",
      "Start at position 1 and fill empty plate slots in order\n"
     ]
    }
   ],
   "source": [
    "num_plates = df.Plate.nunique()\n",
    "print(num_plates)\n",
    "\n",
    "print(\"This experiment requires {} 24-well plate(s)\".format(num_plates))\n",
    "print(\"----\")\n",
    "lst = list(range(1,num_plates + 1))\n",
    "for n in lst:\n",
    "    print(\"Label a plate with experiment ID or initials and 'plate {}'\".format(n))\n",
    "print(\"----\")\n",
    "print (\"Place the 24-well plate(s) in the jubilee\".format(num_plates))\n",
    "print (\"Start at position 1 and fill empty plate slots in order\")\n",
    "\n"
   ]
  },
  {
   "cell_type": "markdown",
   "id": "3bd8f5e8",
   "metadata": {},
   "source": [
    "#### Add media to plates\n",
    "When prompted insert containers of the relevant sterile media into the input slot on the Jubilee. "
   ]
  },
  {
   "cell_type": "code",
   "execution_count": 15,
   "id": "97e3d8a0",
   "metadata": {},
   "outputs": [
    {
     "name": "stdout",
     "output_type": "stream",
     "text": [
      "[1]\n"
     ]
    }
   ],
   "source": [
    "#Retrieve absolute positions of wells from a library and then add those coordinatest to the plate set up dataframe\n",
    "\n",
    "num_plates = df.Plate.nunique()\n",
    "plates = list(range(1, num_plates + 1))\n",
    "print(plates)\n",
    "\n",
    "for p in plates:\n",
    "    add_well_coords_to_df(p, df)\n",
    "\n",
    "print(df)"
   ]
  },
  {
   "cell_type": "code",
   "execution_count": 24,
   "id": "13862d22",
   "metadata": {},
   "outputs": [
    {
     "name": "stdout",
     "output_type": "stream",
     "text": [
      "[{'media': 'Mock', 'well-coords': [[44.0, 210.0], [95.0, 210.0], [27.0, 193.0], [44.0, 193.0], [61.0, 193.0], [78.0, 193.0]]}, {'media': 'Salt', 'well-coords': [[10.0, 210.0], [27.0, 210.0], [61.0, 210.0], [78.0, 210.0], [10.0, 210.0], [95.0, 193.0]]}]\n"
     ]
    }
   ],
   "source": [
    "#Reorganize dataframe to create machine instructions sorted by media-type\n",
    "\n",
    "media_df = df.groupby(['media']) #Returns a list of tuples with [0] being the group key and [1] the dataframe\n",
    "media_dicts = []\n",
    "\n",
    "for media in media_df:\n",
    "    well_coords = []\n",
    "    for index, row in media[1].iterrows():\n",
    "        this_well = []\n",
    "        this_well.append(row['x'])\n",
    "        this_well.append(row['y'])\n",
    "        well_coords.append(this_well)\n",
    "    media_dicts.append({'media': media[0], 'well-coords' : well_coords})\n",
    "print(media_dicts)\n"
   ]
  },
  {
   "cell_type": "code",
   "execution_count": 25,
   "id": "c2f07170",
   "metadata": {},
   "outputs": [
    {
     "name": "stdout",
     "output_type": "stream",
     "text": [
      "Please ensure Mock is available in the machine before continuing.\n",
      "Enter 'YES' to confirm that the correct media is in positionYES\n",
      "dispensing\n",
      "dispensing\n",
      "dispensing\n",
      "dispensing\n",
      "dispensing\n",
      "dispensing\n",
      "Please ensure Salt is available in the machine before continuing.\n",
      "Enter 'YES' to confirm that the correct media is in positionYES\n",
      "dispensing\n",
      "dispensing\n",
      "dispensing\n",
      "dispensing\n",
      "dispensing\n",
      "dispensing\n"
     ]
    }
   ],
   "source": [
    "# Send machine instructions\n",
    "for media in media_dicts:\n",
    "     print(f\"Please ensure {media['media']} is available in the machine before continuing.\")\n",
    "     while True:\n",
    "        value = input(\"Enter 'YES' to confirm that the correct media is in position\")\n",
    "        if value != \"YES\":\n",
    "            print(\"Please confirm\")\n",
    "        else:\n",
    "            break\n",
    "     dispense_to_wells(m, media[\"well-coords\"], well_z, dispenses_per_syringe_fill, dispense_vol, media_reservoir)"
   ]
  },
  {
   "cell_type": "code",
   "execution_count": 1,
   "id": "faeab7b0",
   "metadata": {},
   "outputs": [],
   "source": [
    "# media_df = df.groupby('media')\n",
    "# for media_type, sample_df in media_df:\n",
    "#     print(\"Place container of media type **{0}** into jubilee and ensure lid is open\".format(media_type))\n",
    "#     print(\"\"\"Type anything into the input field to confirm that the media is available.\n",
    "#     After this point the Jubilee will begin dispensing\"\"\")\n",
    "#     input() \n",
    "#     for index,s in sample_df.iterrows():\n",
    "#         #move to plate and well\n",
    "#         print(\"Move to {0}, well {1}\".format(s[\"Plate\"], s[\"Well\"]))\n",
    "#         print(\"Dispensing media of type {0} into {1}, well {2}\".format(media_type,s[\"Plate\"], s[\"Well\"]))\n",
    "#     print(\"---\")\n",
    "    \n",
    "    \n",
    "\n"
   ]
  },
  {
   "cell_type": "code",
   "execution_count": null,
   "id": "655e5813",
   "metadata": {},
   "outputs": [],
   "source": [
    "m.toolChange(2)\n",
    "m.setExtruderRelative()\n",
    "for "
   ]
  },
  {
   "cell_type": "markdown",
   "id": "999efd6b",
   "metadata": {},
   "source": [
    "#### Add duckweed to wells\n",
    "Place a container filled with fronds of the relevant duckweed type and the machine will attempt to move individual fronds into the relevant wells. After each attempt at filling all wells a camera will take pictures of each well to confirm success and then unsuccessful wells will be reattempted"
   ]
  },
  {
   "cell_type": "code",
   "execution_count": 10,
   "id": "3965bc08",
   "metadata": {},
   "outputs": [
    {
     "name": "stdout",
     "output_type": "stream",
     "text": [
      "Place container of duckweed type **Sp7498** into jubilee and ensure lid is open\n",
      "Type anything into the input field to confirm that the media is available.\n",
      "    After this point the Jubilee will begin dispensing\n",
      "ok\n",
      "Move to Plate_1, well A2\n",
      "Dispensing media of type Sp7498 into Plate_1, well A2\n",
      "Move to Plate_1, well A3\n",
      "Dispensing media of type Sp7498 into Plate_1, well A3\n",
      "Move to Plate_1, well A4\n",
      "Dispensing media of type Sp7498 into Plate_1, well A4\n",
      "Move to Plate_1, well B1\n",
      "Dispensing media of type Sp7498 into Plate_1, well B1\n",
      "Move to Plate_1, well B2\n",
      "Dispensing media of type Sp7498 into Plate_1, well B2\n",
      "Move to Plate_1, well B5\n",
      "Dispensing media of type Sp7498 into Plate_1, well B5\n",
      "Place container of duckweed type **sp3484** into jubilee and ensure lid is open\n",
      "Type anything into the input field to confirm that the media is available.\n",
      "    After this point the Jubilee will begin dispensing\n",
      "ok\n",
      "Move to Plate_1, well A1\n",
      "Dispensing media of type sp3484 into Plate_1, well A1\n",
      "Move to Plate_1, well A5\n",
      "Dispensing media of type sp3484 into Plate_1, well A5\n",
      "Move to Plate_1, well A6\n",
      "Dispensing media of type sp3484 into Plate_1, well A6\n",
      "Move to Plate_1, well B3\n",
      "Dispensing media of type sp3484 into Plate_1, well B3\n",
      "Move to Plate_1, well B4\n",
      "Dispensing media of type sp3484 into Plate_1, well B4\n",
      "Move to Plate_1, well B6\n",
      "Dispensing media of type sp3484 into Plate_1, well B6\n"
     ]
    }
   ],
   "source": [
    "grouped_df = df.groupby('genotype')\n",
    "for field_value, sample_df in grouped_df:\n",
    "    print(\"Place container of duckweed type **{0}** into jubilee and ensure lid is open\".format(field_value))\n",
    "    print(\"\"\"Type anything into the input field to confirm that the media is available.\n",
    "    After this point the Jubilee will begin dispensing\"\"\")\n",
    "    input() \n",
    "    for index,s in sample_df.iterrows():\n",
    "        #move to plate and well\n",
    "        print(\"Move to {0}, well {1}\".format(s[\"Plate\"], s[\"Well\"]))\n",
    "        print(\"Dispensing media of type {0} into {1}, well {2}\".format(field_value,s[\"Plate\"], s[\"Well\"]))\n"
   ]
  },
  {
   "cell_type": "code",
   "execution_count": null,
   "id": "af5ab68e",
   "metadata": {},
   "outputs": [],
   "source": []
  }
 ],
 "metadata": {
  "kernelspec": {
   "display_name": "Python 3 (ipykernel)",
   "language": "python",
   "name": "python3"
  },
  "language_info": {
   "codemirror_mode": {
    "name": "ipython",
    "version": 3
   },
   "file_extension": ".py",
   "mimetype": "text/x-python",
   "name": "python",
   "nbconvert_exporter": "python",
   "pygments_lexer": "ipython3",
   "version": "3.7.0"
  }
 },
 "nbformat": 4,
 "nbformat_minor": 5
}
