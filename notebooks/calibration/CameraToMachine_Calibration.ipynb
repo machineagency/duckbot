{
 "cells": [
  {
   "cell_type": "markdown",
   "id": "81407bb0-9dd1-4ec2-a2a8-b636303c9cba",
   "metadata": {},
   "source": [
    "# Camera to Machine Calibration\n",
    "This notebook steps you through the calibration the pixel-space of the camera with the real-world machine coordinates, so that Jubilee can accurately move to a point in an image. Adapted with credit to Matthew Sorensen https://github.com/matthewsorensen/jubileeautofocus"
   ]
  },
  {
   "cell_type": "markdown",
   "id": "f3d40c3e-1490-4b2b-ba51-a0838d0a35fa",
   "metadata": {
    "tags": []
   },
   "source": [
    "### 0. Notebook Setup"
   ]
  },
  {
   "cell_type": "code",
   "execution_count": 1,
   "id": "2df538aa-4243-4c64-9034-a4fa6eead883",
   "metadata": {},
   "outputs": [],
   "source": [
    "# import required modules\n",
    "import sys\n",
    "sys.path.append('..')\n",
    "import os\n",
    "import numpy as np\n",
    "import time\n",
    "import math\n",
    "import json\n",
    "import ipywidgets as widgets\n",
    "import ipympl\n",
    "\n",
    "\n",
    "import cv2\n",
    "from utils.MachineUtils import *\n",
    "from utils.CameraUtils import * "
   ]
  },
  {
   "cell_type": "code",
   "execution_count": 2,
   "id": "bb3530e4-92f3-4d84-a029-5b0ae950ac12",
   "metadata": {},
   "outputs": [
    {
     "name": "stdout",
     "output_type": "stream",
     "text": [
      "['ttyACM0', 'ttyAMA0']\n"
     ]
    }
   ],
   "source": [
    "# Setup your machine connection\n",
    "# List available ports in thie cell\n",
    "\n",
    "ports = serial.tools.list_ports.comports()\n",
    "print([port.name for port in ports]) "
   ]
  },
  {
   "cell_type": "code",
   "execution_count": 3,
   "id": "2713979f-ae63-400b-90dc-2b9c441b2341",
   "metadata": {},
   "outputs": [],
   "source": [
    "# Choose the correct port from above and establish connection with machine\n",
    "port = '/dev/ttyACM0'\n",
    "m = MachineCommunication(port)"
   ]
  },
  {
   "cell_type": "code",
   "execution_count": null,
   "id": "5abca3da",
   "metadata": {},
   "outputs": [],
   "source": [
    "# Use the config file for our current machine hardware\n",
    "def search_up_dirs(target_dir, max_cycles):\n",
    "    n = 0\n",
    "    while n != max_cycles:\n",
    "        curr_folder = os.path.basename(os.path.normpath(os.getcwd()))\n",
    "        if curr_folder == target_dir:\n",
    "            break\n",
    "        os.chdir('..')\n",
    "        n = n + 1\n",
    "        \n",
    "search_up_dirs('duckbot', 5) #Shift to duckbot\n",
    "os.chdir('ConfigFiles')\n",
    "labware_config_file_dir = os.path.join(os.getcwd(),'HardwareLabwareConfigs')\n",
    "os.chdir(labware_config_file_dir)\n",
    "config_opts = os.listdir(os.getcwd())\n",
    "hl_choice = widgets.Dropdown(options = config_opts)\n",
    "display(hl_choice)"
   ]
  },
  {
   "cell_type": "code",
   "execution_count": null,
   "id": "36d29092",
   "metadata": {},
   "outputs": [],
   "source": [
    "with open(hl_choice.value,'r') as datafile:\n",
    "    hardwarelabwareconfig = json.load(datafile)\n",
    "    \n",
    "tool_positions = hardwarelabwareconfig['tool_positions']\n",
    "print(tool_positions)"
   ]
  },
  {
   "cell_type": "markdown",
   "id": "410d4416-d15b-40e9-bcd0-4ca801fdc6fd",
   "metadata": {
    "tags": []
   },
   "source": [
    "### 1. Home your machine\n",
    "Make sure the build plate is clear!"
   ]
  },
  {
   "cell_type": "code",
   "execution_count": null,
   "id": "fc9ba8ea-b119-4c79-bd3e-ff6b5594934f",
   "metadata": {},
   "outputs": [],
   "source": [
    "m.homeAll()"
   ]
  },
  {
   "cell_type": "markdown",
   "id": "45b00608-83c2-44f1-83da-799fc2d27b21",
   "metadata": {
    "tags": []
   },
   "source": [
    "### 2. Set your height for calibration\n",
    "This procedure calibrates *for a particular z height*. You should choose the best height for the images you want to take on your machine. "
   ]
  },
  {
   "cell_type": "code",
   "execution_count": null,
   "id": "e0effe0f",
   "metadata": {},
   "outputs": [],
   "source": [
    "m.toolChange(tool_positions['camera'])"
   ]
  },
  {
   "cell_type": "code",
   "execution_count": null,
   "id": "a0d29eb0",
   "metadata": {},
   "outputs": [],
   "source": [
    "# change this height depending on your application\n",
    "# for this example, we will be calibrating at height of z=10, for close imaging of individual well plates\n",
    "m.moveTo(z=10)"
   ]
  },
  {
   "cell_type": "markdown",
   "id": "509ff686",
   "metadata": {},
   "source": [
    "### 3. Print a calibration circle\n",
    "We will use a printed circle to conduct the calibration. Move the camera over an open spot on your bed and focus the camera. Then, determine a suitable size circle to print out which fits within the resulting picture. \n",
    "ToDo: link to illustrator/inkscape file to make the circle, or make it directly here in jupyter"
   ]
  },
  {
   "cell_type": "code",
   "execution_count": null,
   "id": "220e5a7f",
   "metadata": {},
   "outputs": [],
   "source": [
    "# move to an open spot on the bed\n",
    "m.moveTo(x=97, y=150)"
   ]
  },
  {
   "cell_type": "code",
   "execution_count": 64,
   "id": "38657387",
   "metadata": {},
   "outputs": [
    {
     "name": "stdout",
     "output_type": "stream",
     "text": [
      "(320, 240)\n"
     ]
    }
   ],
   "source": [
    "# focus the camera\n",
    "# choose the correct video device if you have >1 camera\n",
    "# center the tool under the microscope\n",
    "# make note of the x,y coordinates\n",
    "cap = cv2.VideoCapture(0) #Note that the index corresponding to your camera may not be zero but this is the most common default\n",
    "\n",
    "# draw a circle in the center of the frame\n",
    "center = None\n",
    "while center is None:\n",
    "    # the first frame grab is sometimes empty\n",
    "    ret, frame = cap.read()\n",
    "    h, w = frame.shape[0:2]\n",
    "    center = (int(w/2), int(h/2))\n",
    "    print(center)\n",
    "\n",
    "while True:\n",
    "    ret, frame = cap.read()\n",
    "    target = cv2.circle(frame, center, 5, (0,255,0), -1)\n",
    "    cv2.imshow('Input', frame)\n",
    "    c = cv2.waitKey(1)\n",
    "    if c ==27: #27 is the built in code for ESC so press escape to close the window. \n",
    "        break \n",
    "        \n",
    "cap.release()\n",
    "cv2.destroyAllWindows()"
   ]
  },
  {
   "cell_type": "code",
   "execution_count": null,
   "id": "3b42f9c6",
   "metadata": {},
   "outputs": [],
   "source": [
    "# It's important that your calibration circle doesn't move during the calibration process\n",
    "# Print a circle at a size suitable for your z height, and tape it to the bed plate"
   ]
  },
  {
   "cell_type": "markdown",
   "id": "0ca08930-75fb-4fcc-9d98-d27c6d386d3a",
   "metadata": {},
   "source": [
    "## 4. Find the size of the printed circle in pixels\n",
    "To accurately detect the circle, we'll find the radius of the circle in pixels"
   ]
  },
  {
   "cell_type": "code",
   "execution_count": null,
   "id": "d345dc95",
   "metadata": {},
   "outputs": [],
   "source": []
  },
  {
   "cell_type": "code",
   "execution_count": null,
   "id": "1354c0c8",
   "metadata": {},
   "outputs": [],
   "source": [
    "%matplotlib tk #trying different backends\n",
    "\n",
    "\n",
    "# take a picture\n",
    "f = getFrame()\n",
    "\n",
    "# Try finding a single circle in the image\n",
    "# If the circle is much bigger or smaller than the bounds here, change them until a single circle is found\n",
    "circle, circleData = getSingleWell(f, minR = 0, maxR = 500)\n",
    "showFrame(circle)"
   ]
  },
  {
   "cell_type": "code",
   "execution_count": null,
   "id": "2182e1b1",
   "metadata": {},
   "outputs": [],
   "source": [
    "# set the min and max radius bounds based on the results above\n",
    "tolerance = 5\n",
    "circleRadius = circleData[0][2] # circle data returns a list of (center_x, center_y, radius) coordinates\n",
    "minRadius = circleRadius - tolerance\n",
    "maxRadius = circleRadius + tolerance"
   ]
  },
  {
   "cell_type": "markdown",
   "id": "4a25a403-0483-48d7-8dbb-028e4ff227f2",
   "metadata": {},
   "source": [
    "### 5. Run the calibration\n",
    "Using the parameters set above, we can now run the calibration procedure!"
   ]
  },
  {
   "cell_type": "code",
   "execution_count": null,
   "id": "dc3722b7-16ea-4f3c-9902-0c0427bd2b27",
   "metadata": {},
   "outputs": [],
   "source": [
    "# ToDo: port the calibration code"
   ]
  },
  {
   "cell_type": "markdown",
   "id": "00ba3f30",
   "metadata": {},
   "source": [
    "### 6. Check Calibration\n",
    "We can move to a few points to confirm that the calibration looks good!\n",
    "ToDo: file organization, where the calibration file gets written to"
   ]
  },
  {
   "cell_type": "code",
   "execution_count": null,
   "id": "3b8395e8",
   "metadata": {},
   "outputs": [],
   "source": [
    "# loads in the relevant calibration files\n",
    "\n",
    "with open(\"/home/pi/autofocus-test/JubileeAutofocus/camera_cal_z_10.json\") as f:\n",
    "    cal = json.load(f)\n",
    "matrix = np.array(cal['transform'])\n",
    "size = cal['resolution']\n",
    "print(matrix)\n",
    "print(size)\n",
    "\n",
    "m.transform = matrix\n",
    "m.img_size = size\n",
    "\n",
    "# convert px coord to real coord\n",
    "def px_to_real(x,y, absolute = False):\n",
    "        x = (x / m.img_size[0]) - 0.5\n",
    "        y = (y / m.img_size[1]) - 0.5\n",
    "        a = 1 if absolute else 0\n",
    "\n",
    "        return (m.transform.T @ np.array([x**2, y**2, x * y, x, y, a]))"
   ]
  },
  {
   "cell_type": "code",
   "execution_count": null,
   "id": "0de91a16",
   "metadata": {},
   "outputs": [],
   "source": [
    "# move to the center of the calibration circle\n",
    "center = m.transform.T @ np.array([0, 0, 0, 0, 0, 1])\n",
    "m.moveTo(x=center[0], y=center[1])"
   ]
  },
  {
   "cell_type": "code",
   "execution_count": null,
   "id": "1a4aec30",
   "metadata": {},
   "outputs": [],
   "source": [
    "# check position\n",
    "showFrame(getFrame())"
   ]
  },
  {
   "cell_type": "code",
   "execution_count": null,
   "id": "8d7c0b58",
   "metadata": {
    "scrolled": true
   },
   "outputs": [],
   "source": [
    "# ToDo: can't switch backends mid notebook for inline/gui  \n",
    "f = getFrame()\n",
    "pts = selectPoint(f, num_pts=3)"
   ]
  },
  {
   "cell_type": "code",
   "execution_count": null,
   "id": "a99863b0",
   "metadata": {},
   "outputs": [],
   "source": [
    "for pt in pts:\n",
    "    off = px_to_real(pt[0], pt[1])\n",
    "    m.moveTo(x=center[0]-off[0], y=center[1]-off[1])\n",
    "    showFrame(getFrame(), grid=True)\n",
    "    input()"
   ]
  },
  {
   "cell_type": "code",
   "execution_count": null,
   "id": "f229fce3",
   "metadata": {},
   "outputs": [],
   "source": [
    "### Testing Syringe Alignment\n",
    "m.moveTo(z=50)\n",
    "m.toolChange(3)"
   ]
  },
  {
   "cell_type": "code",
   "execution_count": null,
   "id": "bddf8952",
   "metadata": {},
   "outputs": [],
   "source": [
    "m.moveTo(x=center[0], y=center[1])"
   ]
  },
  {
   "cell_type": "code",
   "execution_count": null,
   "id": "34269597",
   "metadata": {},
   "outputs": [],
   "source": [
    "syringe_off = [-0.3, 1.1]"
   ]
  },
  {
   "cell_type": "code",
   "execution_count": null,
   "id": "f117ee2b",
   "metadata": {},
   "outputs": [],
   "source": [
    "m.moveTo(x=center[0] + syringe_off[0], y=center[1]+syringe_off[1])"
   ]
  },
  {
   "cell_type": "code",
   "execution_count": 65,
   "id": "5fc10f1b",
   "metadata": {},
   "outputs": [],
   "source": [
    "# fnum = 1"
   ]
  },
  {
   "cell_type": "code",
   "execution_count": 114,
   "id": "6edd013d",
   "metadata": {},
   "outputs": [],
   "source": [
    "f = getFrame()"
   ]
  },
  {
   "cell_type": "code",
   "execution_count": 115,
   "id": "e6ab54e7",
   "metadata": {},
   "outputs": [
    {
     "name": "stdout",
     "output_type": "stream",
     "text": [
      "15\n",
      "15\n"
     ]
    }
   ],
   "source": [
    "print(fnum)\n",
    "showFrame(f)\n",
    "print(fnum)"
   ]
  },
  {
   "cell_type": "code",
   "execution_count": 116,
   "id": "508db609",
   "metadata": {},
   "outputs": [],
   "source": [
    "saveFrame(f, f\"/home/pi/Downloads/pscope-hex-circles-{fnum}.png\")\n",
    "fnum += 1"
   ]
  },
  {
   "cell_type": "code",
   "execution_count": null,
   "id": "9272e24e",
   "metadata": {},
   "outputs": [],
   "source": []
  }
 ],
 "metadata": {
  "kernelspec": {
   "display_name": "Python 3 (ipykernel)",
   "language": "python",
   "name": "python3"
  },
  "language_info": {
   "codemirror_mode": {
    "name": "ipython",
    "version": 3
   },
   "file_extension": ".py",
   "mimetype": "text/x-python",
   "name": "python",
   "nbconvert_exporter": "python",
   "pygments_lexer": "ipython3",
   "version": "3.7.3"
  }
 },
 "nbformat": 4,
 "nbformat_minor": 5
}
