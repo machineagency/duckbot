{
 "cells": [
  {
   "cell_type": "markdown",
   "id": "19366248",
   "metadata": {},
   "source": [
    "# Labware Calibration\n",
    "To use a new piece of labware, we need to know it's well count, spacing, and height. Run through this calibration process for each new labware you wish to use; the results are saved in config/labware and can be reused in subsequent notebooks."
   ]
  },
  {
   "cell_type": "code",
   "execution_count": 2,
   "id": "0f29d106",
   "metadata": {},
   "outputs": [
    {
     "name": "stdout",
     "output_type": "stream",
     "text": [
      "The autoreload extension is already loaded. To reload it, use:\n",
      "  %reload_ext autoreload\n"
     ]
    }
   ],
   "source": [
    "from duckbot.Machine import Machine, get_root_dir\n",
    "import json\n",
    "import os\n",
    "%load_ext autoreload\n",
    "%autoreload 2"
   ]
  },
  {
   "cell_type": "code",
   "execution_count": 3,
   "id": "6dbd036d",
   "metadata": {},
   "outputs": [
    {
     "name": "stdout",
     "output_type": "stream",
     "text": [
      "configuring tools\n"
     ]
    }
   ],
   "source": [
    "m = Machine()"
   ]
  },
  {
   "cell_type": "code",
   "execution_count": 4,
   "id": "3129fae0",
   "metadata": {},
   "outputs": [],
   "source": [
    "m.set_plate(config=\"base_plate_config\")"
   ]
  },
  {
   "cell_type": "code",
   "execution_count": 6,
   "id": "4dd6f286",
   "metadata": {},
   "outputs": [
    {
     "data": {
      "text/plain": [
       "{0: {'origin': [14.5, 91.2], 'labware': None},\n",
       " 1: {'origin': [15.1, 187.8], 'labware': None},\n",
       " 2: {'origin': [15.9, 284.7], 'labware': None},\n",
       " 3: {'origin': [155.8, 283.6], 'labware': None},\n",
       " 4: {'origin': [155.1, 186.7], 'labware': None},\n",
       " 5: {'origin': [154.3, 89.8], 'labware': None}}"
      ]
     },
     "execution_count": 6,
     "metadata": {},
     "output_type": "execute_result"
    }
   ],
   "source": [
    "m.plate.slots"
   ]
  },
  {
   "cell_type": "code",
   "execution_count": 7,
   "id": "8db1a096",
   "metadata": {},
   "outputs": [],
   "source": [
    "# what is the name of this labware?\n",
    "# this will be how you refer to this labware in all future experiments\n",
    "# anything works; we suggest the naming convention <brand>_<wellcount>_<description>\n",
    "labware_name = \"opentrons_96_tiprack_300ul\"\n",
    "calibration_positions = {}"
   ]
  },
  {
   "cell_type": "code",
   "execution_count": 8,
   "id": "035e408a",
   "metadata": {},
   "outputs": [],
   "source": [
    "# how many wells, rows, and columns does this labware have?\n",
    "# note: rows are generally letters, columns are numbers\n",
    "well_count = 96\n",
    "row_count = 8\n",
    "column_count = 12"
   ]
  },
  {
   "cell_type": "code",
   "execution_count": 9,
   "id": "284ab467",
   "metadata": {},
   "outputs": [
    {
     "data": {
      "text/plain": [
       "{0: 'Inoculation Loop',\n",
       " 1: 'BrokenTrons',\n",
       " 2: 'Side Camera',\n",
       " 3: 'Top-Down Camera'}"
      ]
     },
     "execution_count": 9,
     "metadata": {},
     "output_type": "execute_result"
    }
   ],
   "source": [
    "m._configured_tools"
   ]
  },
  {
   "cell_type": "code",
   "execution_count": 10,
   "id": "9e0d591b",
   "metadata": {},
   "outputs": [],
   "source": [
    "# Pick up your camera tool\n",
    "m.tool_change(3)"
   ]
  },
  {
   "cell_type": "code",
   "execution_count": 11,
   "id": "d7d687f2",
   "metadata": {},
   "outputs": [],
   "source": [
    "# drop the bed down and load your labware \n",
    "m.move_to(z=100)"
   ]
  },
  {
   "cell_type": "code",
   "execution_count": 14,
   "id": "3d025612",
   "metadata": {},
   "outputs": [],
   "source": [
    "# move to the slot 0's origin\n",
    "slot_index = 0\n",
    "origin_x = m.plate.slots[slot_index]['origin'][0]\n",
    "origin_y = m.plate.slots[slot_index]['origin'][1]\n",
    "\n",
    "m.move_to(x=origin_x, y=origin_y)"
   ]
  },
  {
   "cell_type": "code",
   "execution_count": 13,
   "id": "bf549491",
   "metadata": {},
   "outputs": [],
   "source": [
    "# using duet web control, *carefully* move the bed up until the camera is just above the labware\n",
    "# then move down by the camera's focal length\n",
    "# ToDo: set camera focal length in config\n",
    "m.move(dz=30)"
   ]
  },
  {
   "cell_type": "code",
   "execution_count": 15,
   "id": "ebce24d1",
   "metadata": {},
   "outputs": [
    {
     "name": "stdout",
     "output_type": "stream",
     "text": [
      "(320, 240)\n"
     ]
    }
   ],
   "source": [
    "# open a camera feed and center the camera over well A1\n",
    "m.tool.video_stream(2)"
   ]
  },
  {
   "cell_type": "code",
   "execution_count": 19,
   "id": "5e838c96",
   "metadata": {},
   "outputs": [],
   "source": [
    "# save this position\n",
    "a1_x = float(m.get_position()['X'])\n",
    "a1_y = float(m.get_position()['Y'])\n",
    "\n",
    "calibration_positions[\"A1\"] = (a1_x - origin_x, a1_y - origin_y)"
   ]
  },
  {
   "cell_type": "code",
   "execution_count": 20,
   "id": "4ff27687",
   "metadata": {},
   "outputs": [
    {
     "name": "stdout",
     "output_type": "stream",
     "text": [
      "(320, 240)\n"
     ]
    }
   ],
   "source": [
    "# repeat for the last well in row A\n",
    "m.tool.video_stream(2)"
   ]
  },
  {
   "cell_type": "code",
   "execution_count": 23,
   "id": "0b286d5b",
   "metadata": {},
   "outputs": [],
   "source": [
    "# save this position\n",
    "aj_x = float(m.get_position()['X'])\n",
    "aj_y = float(m.get_position()['Y'])\n",
    "\n",
    "calibration_positions[f\"A{column_count}\"] = (aj_x - origin_x, aj_y - origin_y)"
   ]
  },
  {
   "cell_type": "code",
   "execution_count": 24,
   "id": "d05ac0b5",
   "metadata": {},
   "outputs": [
    {
     "name": "stdout",
     "output_type": "stream",
     "text": [
      "(320, 240)\n"
     ]
    }
   ],
   "source": [
    "# repeat for the well in the last row and column\n",
    "m.tool.video_stream(2)"
   ]
  },
  {
   "cell_type": "code",
   "execution_count": 29,
   "id": "666a1b78",
   "metadata": {},
   "outputs": [],
   "source": [
    "ij_x = float(m.get_position()['X'])\n",
    "ij_y = float(m.get_position()['Y'])\n",
    "\n",
    "\n",
    "letter = chr(ord('@')+row_count) # this converts a number to a letter\n",
    "calibration_positions[f\"{letter}{column_count}\"] = (ij_x - origin_x, ij_y - origin_y)"
   ]
  },
  {
   "cell_type": "code",
   "execution_count": 30,
   "id": "3f0aca1a",
   "metadata": {},
   "outputs": [],
   "source": [
    "labware_config_path = os.path.join(get_root_dir(), f'config/labware/{labware_name}.json')\n",
    "labware_config = {}\n",
    "labware_config['calibration_positions'] = calibration_positions\n",
    "labware_config['well_count'] = well_count\n",
    "labware_config['row_count'] = row_count\n",
    "labware_config['column_count'] = column_count\n",
    "with open(labware_config_path, 'w') as f:\n",
    "    json.dump(labware_config, f, indent=4)"
   ]
  },
  {
   "cell_type": "code",
   "execution_count": null,
   "id": "310979f1",
   "metadata": {},
   "outputs": [],
   "source": []
  }
 ],
 "metadata": {
  "kernelspec": {
   "display_name": "Python 3 (ipykernel)",
   "language": "python",
   "name": "python3"
  },
  "language_info": {
   "codemirror_mode": {
    "name": "ipython",
    "version": 3
   },
   "file_extension": ".py",
   "mimetype": "text/x-python",
   "name": "python",
   "nbconvert_exporter": "python",
   "pygments_lexer": "ipython3",
   "version": "3.8.9"
  }
 },
 "nbformat": 4,
 "nbformat_minor": 5
}
