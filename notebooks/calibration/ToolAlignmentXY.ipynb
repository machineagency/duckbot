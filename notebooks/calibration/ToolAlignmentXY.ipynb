{
 "cells": [
  {
   "cell_type": "markdown",
   "id": "a8d00750-08d6-4f66-8a1c-f20c9290c4d1",
   "metadata": {},
   "source": [
    "# Calculating XY Tool offsets Helper Notebook"
   ]
  },
  {
   "cell_type": "code",
   "execution_count": 1,
   "id": "99c0d166-34bb-44bc-9831-3600b872ef94",
   "metadata": {},
   "outputs": [],
   "source": [
    "import sys\n",
    "sys.path.append('..')\n",
    "from utils.MachineUtils import *\n",
    "from utils.CameraUtils import *\n",
    "import cv2 as cv2"
   ]
  },
  {
   "cell_type": "code",
   "execution_count": 2,
   "id": "582ff45f-835f-4d1c-99e8-64413a7394db",
   "metadata": {},
   "outputs": [
    {
     "name": "stdout",
     "output_type": "stream",
     "text": [
      "['ttyACM0', 'ttyAMA0']\n"
     ]
    }
   ],
   "source": [
    "# Setup your machine connection\n",
    "# List available ports in thie cell\n",
    "\n",
    "ports = serial.tools.list_ports.comports()\n",
    "print([port.name for port in ports]) "
   ]
  },
  {
   "cell_type": "code",
   "execution_count": 9,
   "id": "4f707c7f-d39b-4d3d-bf24-d85918b50809",
   "metadata": {},
   "outputs": [],
   "source": [
    "# Choose the correct port from above and establish connection with machine\n",
    "port = '/dev/ttyACM0'\n",
    "m = MachineCommunication(port)"
   ]
  },
  {
   "cell_type": "code",
   "execution_count": null,
   "id": "1de951cc-f0c1-4f13-8f81-593938db3da2",
   "metadata": {},
   "outputs": [],
   "source": [
    "# Make sure no XY tool offsets are set for your second tool\n",
    "# TODO: send G10 commands from jupyter\n",
    "# for now, send from duet console"
   ]
  },
  {
   "cell_type": "code",
   "execution_count": null,
   "id": "6e1694be-4bb6-4cff-97cc-e92f9f4f8d63",
   "metadata": {},
   "outputs": [],
   "source": [
    "# Pick up the tool and move it to a reference position (e.g. 150, 150)\n",
    "tool_number = 4\n",
    "m.toolChange(tool_number)\n",
    "m.moveTo(x=59.9, y=131.6) # approx location on magnetic bed\n"
   ]
  },
  {
   "cell_type": "code",
   "execution_count": null,
   "id": "1c375048-c972-4630-858e-603edc97d047",
   "metadata": {},
   "outputs": [],
   "source": [
    "# Move the bed down and install the USB microscope onto the bed facing up\n",
    "m.move_to(z=150)"
   ]
  },
  {
   "cell_type": "code",
   "execution_count": 18,
   "id": "15c2f0c4-3d94-4f6d-8b22-cdf8fbba439c",
   "metadata": {
    "scrolled": true
   },
   "outputs": [
    {
     "name": "stdout",
     "output_type": "stream",
     "text": [
      "480\n",
      "640\n",
      "(320, 240)\n"
     ]
    }
   ],
   "source": [
    "# Open a live video window and center the z-probe\n",
    "# choose the correct video device if you have >1 camera\n",
    "cap = cv2.VideoCapture(0) #Note that the index corresponding to your camera may not be zero but this is the most common default\n",
    "\n",
    "# draw a circle in the center of the frame\n",
    "center = None\n",
    "while center is None:\n",
    "    # the first frame grab is sometimes empty\n",
    "    ret, frame = cap.read()\n",
    "    h, w = frame.shape[0:2]\n",
    "    print(h)\n",
    "    print(w)\n",
    "    center = (int(w/2), int(h/2))\n",
    "    print(center)\n",
    "\n",
    "while True:\n",
    "    ret, frame = cap.read()\n",
    "    target = cv2.circle(frame, center, 5, (0,255,0), -1)\n",
    "    cv2.imshow('Input', frame)\n",
    "    c = cv2.waitKey(1)\n",
    "    if c ==27: #27 is the built in code for ESC so press escape to close the window. \n",
    "        break \n",
    "        \n",
    "cap.release()\n",
    "cv2.destroyAllWindows()"
   ]
  },
  {
   "cell_type": "code",
   "execution_count": 19,
   "id": "745936ee",
   "metadata": {},
   "outputs": [
    {
     "name": "stdout",
     "output_type": "stream",
     "text": [
      "{'X': '149.900', 'Y': '150.000', 'Z': '130.000', 'U': '0.000', 'V': '0.500', 'E': '0.000', 'E0': '-0.0'}\n",
      "149.9 150.0\n"
     ]
    }
   ],
   "source": [
    "# record the coordinates at which the z-probe is centered\n",
    "pos = m.get_position()\n",
    "print(pos)\n",
    "zprobe_x = float(pos['X'])\n",
    "zprobe_y = float(pos['Y'])\n",
    "print(zprobe_x, zprobe_y) # using a height of 150 with tool equipped"
   ]
  },
  {
   "cell_type": "code",
   "execution_count": 20,
   "id": "2a42231d",
   "metadata": {},
   "outputs": [
    {
     "name": "stdout",
     "output_type": "stream",
     "text": [
      "480\n",
      "640\n",
      "(320, 240)\n"
     ]
    }
   ],
   "source": [
    "# open a live feed again, and center the equipped tool\n",
    "\n",
    "cap = cv2.VideoCapture(0) #Note that the index corresponding to your camera may not be zero but this is the most common default\n",
    "\n",
    "# draw a circle in the center of the frame\n",
    "center = None\n",
    "while center is None:\n",
    "    # the first frame grab is sometimes empty\n",
    "    ret, frame = cap.read()\n",
    "    h, w = frame.shape[0:2]\n",
    "    print(h)\n",
    "    print(w)\n",
    "    center = (int(w/2), int(h/2))\n",
    "    print(center)\n",
    "\n",
    "while True:\n",
    "    ret, frame = cap.read()\n",
    "    target = cv2.circle(frame, center, 5, (0,255,0), -1)\n",
    "    cv2.imshow('Input', frame)\n",
    "    c = cv2.waitKey(1)\n",
    "    if c ==27: #27 is the built in code for ESC so press escape to close the window. \n",
    "        break \n",
    "        \n",
    "cap.release()\n",
    "cv2.destroyAllWindows()"
   ]
  },
  {
   "cell_type": "code",
   "execution_count": 21,
   "id": "5097e4ac",
   "metadata": {},
   "outputs": [
    {
     "name": "stdout",
     "output_type": "stream",
     "text": [
      "150.6 106.2\n"
     ]
    }
   ],
   "source": [
    "# record these coordinates\n",
    "pos = m.get_position()\n",
    "tool_x = float(pos['X'])\n",
    "tool_y = float(pos['Y'])\n",
    "print(tool_x, tool_y)"
   ]
  },
  {
   "cell_type": "code",
   "execution_count": 22,
   "id": "db25834c",
   "metadata": {},
   "outputs": [
    {
     "name": "stdout",
     "output_type": "stream",
     "text": [
      "G10 P1 X-0.70 Y43.80\n"
     ]
    }
   ],
   "source": [
    "# subtract your tool (x,y) coords from the probe (x,y) coords - this is your XY tool offset\n",
    "# add the following command to your Toffsets.g file\n",
    "xoff = zprobe_x - tool_x\n",
    "yoff = zprobe_y - tool_y\n",
    "tool_number = 1\n",
    "print(f\"G10 P{tool_number} X{xoff:.2f} Y{yoff:.2f}\")\n",
    "\n",
    "# BUT I have X-4.5 Y44.04 in TOffsets.g for p2 already. so... add them to this gets me \n",
    "# the right Toffset\n",
    "#e.g. if the center of syringe was 152.4, 154.5, then i apply -4.5-2.4 = -6.9, 44.04 - 4.5 = 39.54\n",
    "# --> G10 P2 X-6.9 Y39.54\n",
    "# Apply directly in GCode\n",
    "# TODO: add G10 commands from jupyter\n",
    "# for now, send from duet console\n",
    "# G10 P1 X0.5 Y"
   ]
  },
  {
   "cell_type": "code",
   "execution_count": null,
   "id": "68873949-7fb6-4c03-99ba-01a259502c0c",
   "metadata": {},
   "outputs": [],
   "source": [
    "# once the tool is centered, take a pic of the first tool\n",
    "# (close vlc/any video player so we have access to the camera here)\n",
    "%matplotlib inline\n",
    "tool1 = getFrameCamera(0)\n",
    "showFrame(tool1, grid=True)\n",
    "cv2.imwrite(\"/home/pi/zprobe.jpg\", tool1)"
   ]
  },
  {
   "cell_type": "code",
   "execution_count": null,
   "id": "e07899a0-1c71-4266-8ba0-e578709624d3",
   "metadata": {},
   "outputs": [],
   "source": [
    "# now pick up the second tool & move it to the reference point set by first tool\n",
    "m.toolChange(0)\n",
    "m.moveTo(x=64.3, y=147.7)"
   ]
  },
  {
   "cell_type": "code",
   "execution_count": null,
   "id": "8218f408-0a4e-4beb-ba39-61a509511aed",
   "metadata": {},
   "outputs": [],
   "source": [
    "#Open a live video window\n",
    "# choose the correct video device if you have >1 camera\n",
    "# center the tool under the microscope\n",
    "# make note of the x,y coordinates\n",
    "cap = cv2.VideoCapture(0) #Note that the index corresponding to your camera may not be zero but this is the most common default\n",
    "\n",
    "# draw a circle in the center of the frame\n",
    "center = None\n",
    "while center is None:\n",
    "    # the first frame grab is sometimes empty\n",
    "    ret, frame = cap.read()\n",
    "    h, w = frame.shape[0:2]\n",
    "    print(h)\n",
    "    center = (int(w/2), int(h/2))\n",
    "\n",
    "while True:\n",
    "    ret, frame = cap.read()\n",
    "    target = cv2.circle(frame, center, 5, (0,255,0), -1)\n",
    "    cv2.imshow('Input', frame)\n",
    "    c = cv2.waitKey(1)\n",
    "    if c ==27: #27 is the built in code for ESC so press escape to close the window. \n",
    "        break \n",
    "        \n",
    "cap.release()\n",
    "cv2.destroyAllWindows()"
   ]
  },
  {
   "cell_type": "code",
   "execution_count": null,
   "id": "654d3927-f5cc-4204-8ed2-a49ddd35febf",
   "metadata": {},
   "outputs": [],
   "source": [
    "# take a picture of the second tool\n",
    "tool2 = getFrameCamera(1)\n",
    "showFrame(tool2, grid=True)\n",
    "cv2.imwrite(\"/home/pi/tool2.jpg\", tool2)"
   ]
  },
  {
   "cell_type": "code",
   "execution_count": null,
   "id": "327d0449-567f-4fda-afe0-1419089159c0",
   "metadata": {},
   "outputs": [],
   "source": [
    "# compare the two pictures above\n",
    "# decide which direction the second tool needs to move to be centered\n",
    "# m.moveTo(x=150, y=150) # change based on your picture\n",
    "\n",
    "tool2 = getFrameCamera(1)\n",
    "showFrame(tool2, grid=True)"
   ]
  },
  {
   "cell_type": "code",
   "execution_count": null,
   "id": "bb72e791-a5c6-4b33-ae59-d2583188ba1c",
   "metadata": {},
   "outputs": [],
   "source": [
    "# subtract your final values above from 150 - this is your XY tool offset\n",
    "# BUT I have X-4.5 Y44.04 in TOffsets.g for p2 already. so... add them to this gets me \n",
    "# the right Toffset\n",
    "#e.g. if the center of syringe was 152.4, 154.5, then i apply -4.5-2.4 = -6.9, 44.04 - 4.5 = 39.54\n",
    "# --> G10 P2 X-6.9 Y39.54\n",
    "# Apply directly in GCode\n",
    "# TODO: add G10 commands from jupyter\n",
    "# for now, send from duet console"
   ]
  },
  {
   "cell_type": "code",
   "execution_count": null,
   "id": "aaddac26-be34-485d-942d-8d552e0dd816",
   "metadata": {},
   "outputs": [],
   "source": [
    "# Now move to the reference point\n",
    "# the tool should be centered (i.e. not move)\n",
    "m.moveTo(x=57.9, y=153.4)"
   ]
  },
  {
   "cell_type": "code",
   "execution_count": null,
   "id": "543bda24-553d-42a5-97f7-1c169f265dd7",
   "metadata": {},
   "outputs": [],
   "source": [
    "# # Do a toolchange from scratch to make sure\n",
    "#m.toolChange(1)\n",
    "# m.toolChange(2)\n",
    "#m.moveTo(x=73, y=144.7)\n",
    "toolCheck = getFrameCamera(1)\n",
    "showFrame(toolCheck, grid=True)"
   ]
  },
  {
   "cell_type": "code",
   "execution_count": null,
   "id": "08ff27d7-da07-4d9d-9456-6b2522f3fcd0",
   "metadata": {},
   "outputs": [],
   "source": []
  }
 ],
 "metadata": {
  "kernelspec": {
   "display_name": "Python 3 (ipykernel)",
   "language": "python",
   "name": "python3"
  },
  "language_info": {
   "codemirror_mode": {
    "name": "ipython",
    "version": 3
   },
   "file_extension": ".py",
   "mimetype": "text/x-python",
   "name": "python",
   "nbconvert_exporter": "python",
   "pygments_lexer": "ipython3",
   "version": "3.7.3"
  }
 },
 "nbformat": 4,
 "nbformat_minor": 5
}
