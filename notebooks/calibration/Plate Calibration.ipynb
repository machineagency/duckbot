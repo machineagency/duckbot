{
 "cells": [
  {
   "cell_type": "markdown",
   "id": "19366248",
   "metadata": {},
   "source": [
    "# Plate Calibration\n",
    "After installing a lab automation bed plate on the machine, we need to record reference positions for each of the six slots for exact alingment. Step through this notebook to create a base_plate_config.json file!"
   ]
  },
  {
   "cell_type": "code",
   "execution_count": 1,
   "id": "0f29d106",
   "metadata": {},
   "outputs": [],
   "source": [
    "from duckbot.Machine import Machine, get_root_dir\n",
    "import json\n",
    "import os\n",
    "%load_ext autoreload\n",
    "%autoreload 2"
   ]
  },
  {
   "cell_type": "code",
   "execution_count": 2,
   "id": "6dbd036d",
   "metadata": {},
   "outputs": [
    {
     "name": "stdout",
     "output_type": "stream",
     "text": [
      "configuring tools\n"
     ]
    }
   ],
   "source": [
    "m = Machine()\n",
    "plate_config = {}"
   ]
  },
  {
   "cell_type": "code",
   "execution_count": 3,
   "id": "284ab467",
   "metadata": {},
   "outputs": [
    {
     "data": {
      "text/plain": [
       "{0: 'Inoculation Loop',\n",
       " 1: 'BrokenTrons',\n",
       " 2: 'Side Camera',\n",
       " 3: 'Top-Down Camera'}"
      ]
     },
     "execution_count": 3,
     "metadata": {},
     "output_type": "execute_result"
    }
   ],
   "source": [
    "m._configured_tools"
   ]
  },
  {
   "cell_type": "code",
   "execution_count": 12,
   "id": "9e0d591b",
   "metadata": {},
   "outputs": [],
   "source": [
    "# Pick up your camera tool\n",
    "m.tool_change(3)"
   ]
  },
  {
   "cell_type": "code",
   "execution_count": 4,
   "id": "d7d687f2",
   "metadata": {},
   "outputs": [],
   "source": [
    "# move to your camera's focus height\n",
    "# for me, that's z=30mm\n",
    "m.move_to(z=30)"
   ]
  },
  {
   "cell_type": "code",
   "execution_count": 14,
   "id": "ebce24d1",
   "metadata": {},
   "outputs": [
    {
     "name": "stdout",
     "output_type": "stream",
     "text": [
      "(320, 240)\n"
     ]
    }
   ],
   "source": [
    "# The reservoir slot is closest to the machine's (0,0)\n",
    "# open a camera feed and position the camera using the duet web controller\n",
    "# so that the center of the camera is over the slot corner closest to well A1\n",
    "# press esc when done to close the camera feed\n",
    "m.move_to(x=30, y=30)\n",
    "m.tool.video_stream(2)"
   ]
  },
  {
   "cell_type": "code",
   "execution_count": 15,
   "id": "5e838c96",
   "metadata": {},
   "outputs": [],
   "source": [
    "# save this position\n",
    "slot0_x = m.get_position()['X']\n",
    "slot0_y = m.get_position()['Y']\n",
    "\n",
    "plate_config[0] = (slot0_x, slot0_y)"
   ]
  },
  {
   "cell_type": "code",
   "execution_count": null,
   "id": "4ff27687",
   "metadata": {},
   "outputs": [],
   "source": [
    "# now, repeat this in the following cells for each of the other slots!\n",
    "# align to the same corner for each slot"
   ]
  },
  {
   "cell_type": "code",
   "execution_count": 16,
   "id": "0b286d5b",
   "metadata": {},
   "outputs": [
    {
     "name": "stdout",
     "output_type": "stream",
     "text": [
      "(320, 240)\n"
     ]
    }
   ],
   "source": [
    "# slot 1\n",
    "m.tool.video_stream(2)"
   ]
  },
  {
   "cell_type": "code",
   "execution_count": 17,
   "id": "2d9d9cdc",
   "metadata": {},
   "outputs": [],
   "source": [
    "slot1_x = m.get_position()['X']\n",
    "slot1_y = m.get_position()['Y']\n",
    "\n",
    "plate_config[1] = (slot1_x, slot1_y)"
   ]
  },
  {
   "cell_type": "code",
   "execution_count": 18,
   "id": "044ede74",
   "metadata": {},
   "outputs": [
    {
     "name": "stdout",
     "output_type": "stream",
     "text": [
      "(320, 240)\n"
     ]
    }
   ],
   "source": [
    "# slot 2\n",
    "m.tool.video_stream(2)"
   ]
  },
  {
   "cell_type": "code",
   "execution_count": 19,
   "id": "666a1b78",
   "metadata": {},
   "outputs": [],
   "source": [
    "slot2_x = m.get_position()['X']\n",
    "slot2_y = m.get_position()['Y']\n",
    "\n",
    "plate_config[2] = (slot2_x, slot2_y)"
   ]
  },
  {
   "cell_type": "code",
   "execution_count": 20,
   "id": "cf5a4f67",
   "metadata": {},
   "outputs": [
    {
     "name": "stdout",
     "output_type": "stream",
     "text": [
      "(320, 240)\n"
     ]
    }
   ],
   "source": [
    "# slot 3\n",
    "m.tool.video_stream(2)"
   ]
  },
  {
   "cell_type": "code",
   "execution_count": 21,
   "id": "5d21b486",
   "metadata": {},
   "outputs": [],
   "source": [
    "slot3_x = m.get_position()['X']\n",
    "slot3_y = m.get_position()['Y']\n",
    "\n",
    "plate_config[3] = (slot3_x, slot3_y)"
   ]
  },
  {
   "cell_type": "code",
   "execution_count": 22,
   "id": "3608bc74",
   "metadata": {},
   "outputs": [
    {
     "name": "stdout",
     "output_type": "stream",
     "text": [
      "(320, 240)\n"
     ]
    }
   ],
   "source": [
    "# slot 4\n",
    "m.tool.video_stream(2)"
   ]
  },
  {
   "cell_type": "code",
   "execution_count": 23,
   "id": "f6132fbf",
   "metadata": {},
   "outputs": [],
   "source": [
    "slot4_x = m.get_position()['X']\n",
    "slot4_y = m.get_position()['Y']\n",
    "\n",
    "plate_config[4] = (slot4_x, slot4_y)"
   ]
  },
  {
   "cell_type": "code",
   "execution_count": 24,
   "id": "58d437f4",
   "metadata": {},
   "outputs": [
    {
     "name": "stdout",
     "output_type": "stream",
     "text": [
      "(320, 240)\n"
     ]
    }
   ],
   "source": [
    "# slot 5\n",
    "m.tool.video_stream(2)"
   ]
  },
  {
   "cell_type": "code",
   "execution_count": 25,
   "id": "f428490e",
   "metadata": {},
   "outputs": [],
   "source": [
    "slot5_x = m.get_position()['X']\n",
    "slot5_y = m.get_position()['Y']\n",
    "\n",
    "plate_config[5] = (slot5_x, slot5_y)"
   ]
  },
  {
   "cell_type": "code",
   "execution_count": 26,
   "id": "3f0aca1a",
   "metadata": {},
   "outputs": [],
   "source": [
    "plate_config_path = os.path.join(get_root_dir(), 'config/machine/base_plate_config.json')\n",
    "with open(plate_config_path, 'w') as f:\n",
    "    json.dump(plate_config, f, indent=4)"
   ]
  },
  {
   "cell_type": "code",
   "execution_count": null,
   "id": "310979f1",
   "metadata": {},
   "outputs": [],
   "source": [
    "# done!"
   ]
  }
 ],
 "metadata": {
  "kernelspec": {
   "display_name": "Python 3 (ipykernel)",
   "language": "python",
   "name": "python3"
  },
  "language_info": {
   "codemirror_mode": {
    "name": "ipython",
    "version": 3
   },
   "file_extension": ".py",
   "mimetype": "text/x-python",
   "name": "python",
   "nbconvert_exporter": "python",
   "pygments_lexer": "ipython3",
   "version": "3.7.3"
  }
 },
 "nbformat": 4,
 "nbformat_minor": 5
}
