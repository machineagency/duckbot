{
 "cells": [
  {
   "cell_type": "markdown",
   "id": "81407bb0-9dd1-4ec2-a2a8-b636303c9cba",
   "metadata": {},
   "source": [
    "# Setting Jubilee Tool Parking Positions\n",
    "This notebook scaffolds the steps outlined [here](https://www.jubilee3d.com/index.php?title=Setting_Tool_Parking_Positions) to set tool parking positions from the Jubilee wiki. Some of these steps are manual, and others require sending commands. This notebook will walk through all necessary steps!"
   ]
  },
  {
   "cell_type": "markdown",
   "id": "f3d40c3e-1490-4b2b-ba51-a0838d0a35fa",
   "metadata": {
    "tags": []
   },
   "source": [
    "### 0. Notebook Setup\n",
    "We'll need to send commands to the machine-- the following cells set up this communication. Be sure to have a usb cable connecting your duet board to your machine,"
   ]
  },
  {
   "cell_type": "code",
   "execution_count": 4,
   "id": "2df538aa-4243-4c64-9034-a4fa6eead883",
   "metadata": {},
   "outputs": [],
   "source": [
    "# import required modules\n",
    "import os\n",
    "import sys\n",
    "from jinja2 import Environment, FileSystemLoader, select_autoescape\n",
    "\n",
    "sys.path.append('..')\n",
    "from utils.MachineUtils import *"
   ]
  },
  {
   "cell_type": "code",
   "execution_count": 2,
   "id": "bb3530e4-92f3-4d84-a029-5b0ae950ac12",
   "metadata": {},
   "outputs": [
    {
     "name": "stdout",
     "output_type": "stream",
     "text": [
      "['ttyACM1', 'ttyAMA0']\n"
     ]
    }
   ],
   "source": [
    "# Setup your machine connection\n",
    "# List available ports in thie cell\n",
    "\n",
    "ports = serial.tools.list_ports.comports()\n",
    "print([port.name for port in ports]) "
   ]
  },
  {
   "cell_type": "code",
   "execution_count": 4,
   "id": "2713979f-ae63-400b-90dc-2b9c441b2341",
   "metadata": {},
   "outputs": [],
   "source": [
    "# Choose the correct port from above and establish connection with machine\n",
    "port = '/dev/ttyACM1'\n",
    "m = MachineCommunication(port)"
   ]
  },
  {
   "cell_type": "markdown",
   "id": "410d4416-d15b-40e9-bcd0-4ca801fdc6fd",
   "metadata": {
    "tags": []
   },
   "source": [
    "### 1. Home your machine\n",
    "Make sure the build plate is clear!"
   ]
  },
  {
   "cell_type": "code",
   "execution_count": 6,
   "id": "fc9ba8ea-b119-4c79-bd3e-ff6b5594934f",
   "metadata": {},
   "outputs": [],
   "source": [
    "m.homeAll()"
   ]
  },
  {
   "cell_type": "markdown",
   "id": "45b00608-83c2-44f1-83da-799fc2d27b21",
   "metadata": {
    "tags": []
   },
   "source": [
    "### 2. Coursely place your parking post.\n",
    "Take your parking post assembly and loosely fasten it to the rail approximately where you want it; you should still be able to move the parking post around to adjust it for X-axis position and parking post height."
   ]
  },
  {
   "cell_type": "markdown",
   "id": "0ca08930-75fb-4fcc-9d98-d27c6d386d3a",
   "metadata": {},
   "source": [
    "## 3. Move the build plate\n",
    "Move your build plate down in the Z-axis (positive Z values) such that any tools you’re about to mount will fully clear the bed. Usually a value of z=50 or more is enough for this-- you can edit the value in the cell below to accommodate longer tools."
   ]
  },
  {
   "cell_type": "code",
   "execution_count": 5,
   "id": "54762f44-e3f0-4080-aea9-6517d58cbed1",
   "metadata": {},
   "outputs": [],
   "source": [
    "m.moveTo(z=100)"
   ]
  },
  {
   "cell_type": "markdown",
   "id": "4a25a403-0483-48d7-8dbb-028e4ff227f2",
   "metadata": {},
   "source": [
    "### 4. Jog the carriage to somewhere close to the center of the printer bed."
   ]
  },
  {
   "cell_type": "code",
   "execution_count": 6,
   "id": "7c1a35eb-a11e-49e4-b119-d869e07dacb3",
   "metadata": {},
   "outputs": [],
   "source": [
    "m.moveTo(x=150, y=150)"
   ]
  },
  {
   "cell_type": "markdown",
   "id": "37ebfa73-ea9b-4b70-81ab-2852e9276124",
   "metadata": {},
   "source": [
    "### 5. With no active tool, manually place your tool against the lock carriage, and lock the tool onto the carriage using the tool lock macro (Do not select a tool using the Tx commands - this is critical)\n",
    "Run the following tool lock cell once you have placed the tool against the lock carriage."
   ]
  },
  {
   "cell_type": "code",
   "execution_count": 7,
   "id": "8d521ce7-873a-4a0c-a327-a14bf09cc278",
   "metadata": {},
   "outputs": [],
   "source": [
    "m.tool_lock()"
   ]
  },
  {
   "cell_type": "markdown",
   "id": "3e38442b-6e55-4618-918a-c1a3b6e12824",
   "metadata": {},
   "source": [
    "### 6. Jog the carriage to roughly where you want to end up across the X-axis. Eyeball it, or use a measuring tape/ruler if you want to.\n",
    "You can send coordinates below, otherwise the duet3 dashboard is useful for this step."
   ]
  },
  {
   "cell_type": "code",
   "execution_count": null,
   "id": "5638fbff-1a4c-4745-a790-d6b7f35da35d",
   "metadata": {},
   "outputs": [],
   "source": [
    "#m.moveTo(x=<approx-position>)"
   ]
  },
  {
   "cell_type": "markdown",
   "id": "bf5359d9-2ee9-47fe-b0ac-04439f6b310f",
   "metadata": {},
   "source": [
    "### 6. Jog the carriage forward in the Y-axis until its just in front of the parking post assembly, making sure you don’t engage the parking dowel pins just yet.\n",
    "Again, controls from the duet console are useful here"
   ]
  },
  {
   "cell_type": "code",
   "execution_count": null,
   "id": "f75de5a0-2951-4ab5-9b40-1132d4c69903",
   "metadata": {},
   "outputs": [],
   "source": [
    "#m.moveTo(y=<approx-position>)"
   ]
  },
  {
   "cell_type": "markdown",
   "id": "8009b383-1290-49a9-8490-c4595707e3d8",
   "metadata": {},
   "source": [
    "### 8. Line up the parking post on the rail to the tool across the X-axis.\n",
    "You can do this by physically moving the parking post along the rail"
   ]
  },
  {
   "cell_type": "markdown",
   "id": "512061bc-1ca2-4887-95fe-3639d3da5282",
   "metadata": {},
   "source": [
    "### 9. Slowly jog the carriage forward in the Y-axis until the tool starts engaging the parking dowel pins.\n",
    "You can do this by incrementing by y=+1 from the duet3 control dashboard."
   ]
  },
  {
   "cell_type": "markdown",
   "id": "1b283f23-0349-478a-95cf-4f8178fbfbb9",
   "metadata": {},
   "source": [
    "### 10. Take a look to make sure everything is lined up: dowel pins, parking wings, etc."
   ]
  },
  {
   "cell_type": "markdown",
   "id": "1e8ae2c1-bb16-4fa9-825a-e8014ef67785",
   "metadata": {},
   "source": [
    "### 11. Jog the carriage further in the Y-axis in small (1mm) increments until you’ve achieved a full dock. Depending on your tool mount, you may or may not have the tool actually touching the front of the extrusion that holds the parking posts.\n",
    "You can do this by incrementing by y=+1 from the duet3 dashboard"
   ]
  },
  {
   "cell_type": "markdown",
   "id": "807d8f11-71de-4f53-b257-cf7b89d7c827",
   "metadata": {},
   "source": [
    "### 12. Adjust the position in the X-axis to your liking (not by hand, we don’t want to lose position).\n",
    "You can do this by incrementing by x=+/-0.1 from the duet3 dashboard"
   ]
  },
  {
   "cell_type": "markdown",
   "id": "612c8e59-7398-4477-8400-f42cbc9536fd",
   "metadata": {},
   "source": [
    "### 13. Once your tool and parking post are fully engaged and in the final position you want them to be, take a note of the X and Y values reported for the printer’s current position in the web interface. This will be needed for the tpost and tfree macros for this specific tool and parking position."
   ]
  },
  {
   "cell_type": "code",
   "execution_count": 9,
   "id": "97669623-3752-4aff-9c73-2fd5e6dfcdf3",
   "metadata": {},
   "outputs": [
    {
     "data": {
      "text/plain": [
       "('286.000', '329.000')"
      ]
     },
     "execution_count": 9,
     "metadata": {},
     "output_type": "execute_result"
    }
   ],
   "source": [
    "pos = m.getPosition()\n",
    "toolX = pos['X']\n",
    "toolY = pos['Y']\n",
    "toolX, toolY"
   ]
  },
  {
   "cell_type": "markdown",
   "id": "a133e5b5-ad7f-418c-854a-3d81f90e462a",
   "metadata": {},
   "source": [
    "### 14. Tighten down the tee-nuts to lock in your X-axis position for this tool."
   ]
  },
  {
   "cell_type": "markdown",
   "id": "f71fa8cd-362e-439e-ad1c-d359805abb5c",
   "metadata": {},
   "source": [
    "### 15. Adjust your parking post height adjustment until you’re satisfied that the tool is properly supported and parallel to the Y-axis rails of your printer. Tighten down the screws for the height adjustment to lock it in."
   ]
  },
  {
   "cell_type": "markdown",
   "id": "08edf85a-4b1e-49f7-b5ff-dbf18d3d0428",
   "metadata": {},
   "source": [
    "### 16. Unlock the tool from the carriage using the tool unlock macro (and not using a T-1 or Tx command)."
   ]
  },
  {
   "cell_type": "code",
   "execution_count": 10,
   "id": "01e22774-e3f5-489c-bf77-e5389b35b78b",
   "metadata": {},
   "outputs": [],
   "source": [
    "m.tool_unlock()"
   ]
  },
  {
   "cell_type": "markdown",
   "id": "6c7652c7-43d5-4366-a160-f3822188a5df",
   "metadata": {},
   "source": [
    "### 17. Jog the now-decoupled carriage backwards in the Y-axis direction until it fully clears your tool(s) and parking post(s). Take a note of this value of the Y-axis position from the web interface, as this will be close to your final choice of “Tool Clearance Limit” for all of your tfree files.\n",
    "Duet3 console controls can be used here; you can run the following cell once the carriage is clear"
   ]
  },
  {
   "cell_type": "code",
   "execution_count": 10,
   "id": "dea0d974-4c88-4325-bc3a-3249ae140420",
   "metadata": {},
   "outputs": [
    {
     "data": {
      "text/plain": [
       "'237.000'"
      ]
     },
     "execution_count": 10,
     "metadata": {},
     "output_type": "execute_result"
    }
   ],
   "source": [
    "yClearPos = m.getPosition()['Y']\n",
    "yClearPos"
   ]
  },
  {
   "cell_type": "markdown",
   "id": "71c8a54f-563e-4fde-9a96-e1acbf3f31aa",
   "metadata": {},
   "source": [
    "### 18. Update the relevant tpost and tfree files for the tool you have just set up. \n",
    "There are 3 files which need to be updated with the values you've found. We'll use template files to make this quicker and more reliable-- run the following cell to set up the templating engine. "
   ]
  },
  {
   "cell_type": "code",
   "execution_count": 11,
   "id": "759fca08",
   "metadata": {},
   "outputs": [],
   "source": [
    "env = Environment(loader= FileSystemLoader(\"templates\"))"
   ]
  },
  {
   "cell_type": "markdown",
   "id": "377ddfa6",
   "metadata": {},
   "source": [
    "The \"Txpost.g\" file is called for tool number 'x' after the firmware thinks Toolx is selected. From the duet console, navigate to system-->Txpost.g, where x is the number of the tool you are currently calibrating-- create the file if it doesn't yet exist. Run the following cell and replace the contents (i.e. copy-paste) with the output produced:"
   ]
  },
  {
   "cell_type": "code",
   "execution_count": 17,
   "id": "27e64377",
   "metadata": {},
   "outputs": [
    {
     "name": "stdout",
     "output_type": "stream",
     "text": [
      "; tpost100.g\n",
      "; called after firmware thinks Tool100 is selected\n",
      "; Note: tool offsets are applied at this point!\n",
      "; Note that commands preempted with G53 will NOT apply the tool offset.\n",
      "\n",
      "; M116 P1                    ; Wait for set temperatures to be reached\n",
      "; M302 P1                    ; Prevent Cold Extrudes, just in case temp setpoints are at 0\n",
      "\n",
      "G90                        ; Ensure the machine is in absolute mode before issuing movements.\n",
      "\n",
      "G53 G1 X50 F6000           ; Move to the pickup position with tool-1.\n",
      "G53 G1 Y330 F6000\n",
      "M98 P\"/macros/tool_lock.g\" ; Lock the tool\n",
      "\n",
      "G1 R2 Z0                   ; Restore prior Z position before tool change was initiated.\n",
      "                           ; Note: tool tip position is automatically saved to slot 2 upon the start of a tool change.\n",
      "                           ; Restore Z first so we don't crash the tool on retraction.\n",
      "G1 R0 Y0                   ; Retract tool by restoring Y position next now accounting for new tool offset.\n",
      "                           ; Restoring Y next ensures the tool is fully removed from parking post.\n",
      "G1 R0 X0                   ; Restore X position now accounting for new tool offset.\n",
      "M106 R2                    ; restore print cooling fan speed\n"
     ]
    }
   ],
   "source": [
    "template = env.get_template(\"tpost.g\")\n",
    "tpost_content = template.render(tool_number=tool_number, x_park=x_park, \n",
    "                          y_park=y_park, y_clear=y_clear, manhattan_offset = manhattan_offset)\n",
    "\n",
    "print(tpost_content)"
   ]
  },
  {
   "cell_type": "markdown",
   "id": "97b00d70-b4c7-49fb-bda6-ef19cb97e10f",
   "metadata": {},
   "source": [
    "Similarly, tfreex.g uns at the start of a toolchange if the current tool is tool-x. Again, copy-paste the following output into tfreex.g:"
   ]
  },
  {
   "cell_type": "code",
   "execution_count": 19,
   "id": "26cda35a-9c7b-4626-90e8-250cb17e13ce",
   "metadata": {},
   "outputs": [
    {
     "name": "stdout",
     "output_type": "stream",
     "text": [
      "; tfree100.g\n",
      "; Runs at the start of a toolchange if the current tool is tool-100.\n",
      "; Note: tool offsets are applied at this point unless we preempt commands with G53!\n",
      "\n",
      "G91                          ; Relative Mode.\n",
      "G1 Z2                        ; Pop Z up slightly so we don't crash while traveling over the usable bed region.\n",
      "G90                          ; Absolute Mode.\n",
      "\n",
      "G53 G0 X50 Y305 F12000    ; Rapid to the back of the post. Stay away from the tool rack so we don't collide with tools.\n",
      "                             ; This position must be chosen such that the most protruding y face of the current tool\n",
      "                             ; (while on the carriage) does not collide with the most protruding y face of any parked tool.\n",
      "\n",
      "G53 G1 Y330 F6000            ; Controlled move to the park position with tool-1. (park_x, park_y)\n",
      "M98 P\"/macros/tool_unlock.g\" ; Unlock the tool\n",
      "G53 G1 Y305 F6000            ; Retract the pin.\n"
     ]
    }
   ],
   "source": [
    "template = env.get_template(\"tfree.g\")\n",
    "tfree_content = template.render(tool_number=tool_number, x_park=x_park, \n",
    "                          y_park=y_park, y_clear=y_clear, manhattan_offset = manhattan_offset)\n",
    "\n",
    "print(tfree_content)"
   ]
  },
  {
   "cell_type": "markdown",
   "id": "22deea68-3d1c-42f0-b1f0-a76bd0d9dc62",
   "metadata": {},
   "source": [
    "Finally, the tprex.g file is where the carriage will move to immediately before & after picking up a tool. It is recommended that all pick-up/drop-off moves are 'Manhattan' style (a big negative move in the Y-axis until you’re completely clear of any tools and parking posts, then a move in the X-axis) to avoid collisions with other tools or parking posts). We use a default value of 60mm. Replace tpre.x with the following contents:"
   ]
  },
  {
   "cell_type": "code",
   "execution_count": 20,
   "id": "7831307b-e556-4d39-a18f-486265e89d74",
   "metadata": {},
   "outputs": [
    {
     "name": "stdout",
     "output_type": "stream",
     "text": [
      "; tpre100.g\n",
      "; Runs after freeing the previous tool if the next tool is tool-100.\n",
      "; Note: tool offsets are not applied at this point!\n",
      "\n",
      "G90                   ; Ensure the machine is in absolute mode before issuing movements.\n",
      "G0 X110 Y305 F20000 ; Rapid to the approach position without any current tool.\n",
      "G60 S0                ; Save this position as the reference point from which to later apply new tool offsets.\n"
     ]
    }
   ],
   "source": [
    "template = env.get_template(\"tpre.g\")\n",
    "tpre_content = template.render(tool_number=tool_number, x_park=x_park, \n",
    "                          y_park=y_park, y_clear=y_clear, manhattan_offset = manhattan_offset)\n",
    "\n",
    "print(tpre_content)"
   ]
  },
  {
   "cell_type": "code",
   "execution_count": 8,
   "id": "5c233c4e",
   "metadata": {},
   "outputs": [],
   "source": [
    "# try the template engine to do this\n",
    "tool_number = 100\n",
    "x_park = 50\n",
    "y_park = 330\n",
    "y_clear = 305\n",
    "manhattan_offset = 60"
   ]
  },
  {
   "cell_type": "code",
   "execution_count": 9,
   "id": "105af984",
   "metadata": {},
   "outputs": [
    {
     "name": "stdout",
     "output_type": "stream",
     "text": [
      "; tpre100.g\n",
      "; Runs after freeing the previous tool if the next tool is tool-100.\n",
      "; Note: tool offsets are not applied at this point!\n",
      "\n",
      "G90                   ; Ensure the machine is in absolute mode before issuing movements.\n",
      "G0 X110 Y305 F20000 ; Rapid to the approach position without any current tool.\n",
      "G60 S0                ; Save this position as the reference point from which to later apply new tool offsets.\n"
     ]
    }
   ],
   "source": [
    "env = Environment(loader= FileSystemLoader(\"templates\"))\n",
    "template = env.get_template(\"tpre.g\")\n",
    "content = template.render(tool_number=tool_number, x_park=x_park, \n",
    "                          y_park=y_park, y_clear=y_clear, manhattan_offset = manhattan_offset)\n",
    "\n",
    "print(content)"
   ]
  },
  {
   "cell_type": "markdown",
   "id": "966bd754-abb8-4cd9-8fa3-861493df401b",
   "metadata": {},
   "source": [
    "### 19. Try out a tool change to the new parking post using the Tx command!\n",
    "Test both selecting a tool and parking it. While testing, check to see if your setup needs a few tweaks to make sure the lock pin fully engages the ramp (change the Y-axis value used in tpost - higher Y values move the locking carriage closer to the tool dock) upon locking. Check to see if the tool has been docked correctly after unlocking (change the Y-axis values in tfree to adjust this to your needs)."
   ]
  },
  {
   "cell_type": "code",
   "execution_count": 34,
   "id": "f697a181-fb4a-460f-8b43-9163a808445a",
   "metadata": {},
   "outputs": [],
   "source": [
    "toolNumber = 1 # Change this to match the tool you've just set up\n",
    "m.toolChange(toolNumber)"
   ]
  },
  {
   "cell_type": "code",
   "execution_count": null,
   "id": "dc3722b7-16ea-4f3c-9902-0c0427bd2b27",
   "metadata": {},
   "outputs": [],
   "source": []
  }
 ],
 "metadata": {
  "kernelspec": {
   "display_name": ".venv",
   "language": "python",
   "name": ".venv"
  },
  "language_info": {
   "codemirror_mode": {
    "name": "ipython",
    "version": 3
   },
   "file_extension": ".py",
   "mimetype": "text/x-python",
   "name": "python",
   "nbconvert_exporter": "python",
   "pygments_lexer": "ipython3",
   "version": "3.7.3"
  }
 },
 "nbformat": 4,
 "nbformat_minor": 5
}
