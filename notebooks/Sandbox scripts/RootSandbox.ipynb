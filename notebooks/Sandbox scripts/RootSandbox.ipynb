{
 "cells": [
  {
   "cell_type": "markdown",
   "id": "4541664a-6872-41c6-b0b2-3a09d4e475c3",
   "metadata": {},
   "source": [
    "### Root Imaging\n",
    "Test notebook for root imaging"
   ]
  },
  {
   "cell_type": "code",
   "execution_count": 1,
   "id": "3c5553db-f513-45f2-9f97-ff23ae815a86",
   "metadata": {},
   "outputs": [],
   "source": [
    "# import required modules\n",
    "import sys\n",
    "sys.path.append('..')\n",
    "from utils.MachineUtils import *\n",
    "import time\n",
    "import random\n",
    "import numpy as np\n",
    "import cv2 as cv2\n",
    "import utils.PlatePositionUtils as pp \n",
    "from utils.CameraUtils import *\n",
    "import json"
   ]
  },
  {
   "cell_type": "code",
   "execution_count": 2,
   "id": "a2c30acd-2343-43e3-8a71-110794c268ef",
   "metadata": {},
   "outputs": [
    {
     "name": "stdout",
     "output_type": "stream",
     "text": [
      "['ttyACM0', 'ttyAMA0']\n"
     ]
    }
   ],
   "source": [
    "# Setup your machine connection\n",
    "# List available ports in thie cell\n",
    "\n",
    "ports = serial.tools.list_ports.comports()\n",
    "print([port.name for port in ports]) "
   ]
  },
  {
   "cell_type": "code",
   "execution_count": 3,
   "id": "4024af6f-4ddb-4aa8-a290-ca6fc67327be",
   "metadata": {},
   "outputs": [],
   "source": [
    "# Choose the correct port from above and establish connection with machine\n",
    "# (if emergency stopped, change last number between 0 and 1)\n",
    "port = '/dev/ttyACM0'\n",
    "m = MachineCommunication(port)"
   ]
  },
  {
   "cell_type": "code",
   "execution_count": 4,
   "id": "5e28da92",
   "metadata": {},
   "outputs": [],
   "source": [
    "# important machine commands!\n",
    "# m.moveTo() -- absolute move\n",
    "# m.move() == relative\n",
    "# m.toolChange(), -1 for no tool "
   ]
  },
  {
   "cell_type": "code",
   "execution_count": 5,
   "id": "f11b0bc2",
   "metadata": {},
   "outputs": [],
   "source": [
    "# Place duckweed photobooth into plate position 6\n",
    "# place 24 wells into plate position 1-3\n",
    "# place petri dish with water into position 4"
   ]
  },
  {
   "cell_type": "code",
   "execution_count": 7,
   "id": "f60ad63d",
   "metadata": {},
   "outputs": [],
   "source": [
    "# important camera commands!\n",
    "# f = getFrame() take a pic\n",
    "# showFrame(f) show\n",
    "# showFrame(f, grid=True)pic.jpg\n",
    "# saveFrame(f, '~/Downloads/')"
   ]
  },
  {
   "cell_type": "code",
   "execution_count": null,
   "id": "6aeb7ca9-7528-4a01-ad9a-473716e164ab",
   "metadata": {},
   "outputs": [],
   "source": [
    "# well plate @1\n",
    "# photobooth @2\n",
    "# water @ 5"
   ]
  },
  {
   "cell_type": "code",
   "execution_count": 5,
   "id": "d26c7037",
   "metadata": {},
   "outputs": [],
   "source": [
    "# pickup LH syringe\n",
    "m.toolChange(2)"
   ]
  },
  {
   "cell_type": "code",
   "execution_count": 6,
   "id": "b776da9a-53b3-43c1-8b0e-6e25b0691046",
   "metadata": {},
   "outputs": [],
   "source": [
    "# moves water into photo changer\n",
    "m.moveTo(x=225, y=45)\n",
    "m.moveTo(z=-42)\n",
    "m.move(de=15, s=1000)\n",
    "m.moveTo(z=0)\n",
    "m.moveTo(x=75.5, y=47)\n",
    "m.move(de=-10, s=1000)\n",
    "m.moveTo(x=225, y=45)\n",
    "m.move(de=-5, s=1000)\n",
    "m.moveTo(z=100)"
   ]
  },
  {
   "cell_type": "code",
   "execution_count": 7,
   "id": "7aa4df37",
   "metadata": {},
   "outputs": [],
   "source": [
    "# find the water height manually \n",
    "m.toolChange(3)\n",
    "\n",
    "well = pp.fetch_well_position(1, 'A1')\n",
    "\n",
    "m.moveTo(x=well['x'], y=well['y'])\n"
   ]
  },
  {
   "cell_type": "code",
   "execution_count": 88,
   "id": "847f50d3",
   "metadata": {},
   "outputs": [],
   "source": [
    "# user changes well plate frond height for 10cc syringe\n",
    "\n",
    "# Change me!\n",
    "water_height = -10.2"
   ]
  },
  {
   "cell_type": "code",
   "execution_count": 89,
   "id": "c541b5e8",
   "metadata": {},
   "outputs": [],
   "source": [
    "# camera is currently calibrated at z=80 to translate to machine coordinates\n",
    "m.moveTo(z=80)"
   ]
  },
  {
   "cell_type": "code",
   "execution_count": 90,
   "id": "b992c3f8",
   "metadata": {},
   "outputs": [],
   "source": [
    "# \n",
    "m.toolChange(1)\n",
    "m.moveTo(x=well['x'], y=well['y'])"
   ]
  },
  {
   "cell_type": "code",
   "execution_count": 11,
   "id": "548ec31b",
   "metadata": {},
   "outputs": [
    {
     "name": "stdout",
     "output_type": "stream",
     "text": [
      "[[ -0.7296065   -0.35246752]\n",
      " [  0.38097134  -0.71682782]\n",
      " [ -0.32375357   0.6160794 ]\n",
      " [  1.60644767  83.44887212]\n",
      " [-82.50757965   1.39357274]\n",
      " [ 75.86369137 238.95022829]]\n",
      "[1200, 1200]\n"
     ]
    }
   ],
   "source": [
    "# loads in the relevant calibration files\n",
    "\n",
    "# with open(\"/home/pi/autofocus-test/JubileeAutofocus/camera_cal_z_60_tape.json\") as f:\n",
    "with open(\"/home/pi/autofocus-test/JubileeAutofocus/camera_cal_z_80.json\") as f:\n",
    "    cal = json.load(f)\n",
    "matrix = np.array(cal['transform'])\n",
    "size = cal['resolution']\n",
    "print(matrix)\n",
    "print(size)\n",
    "\n",
    "m.transform = matrix\n",
    "m.img_size = size"
   ]
  },
  {
   "cell_type": "code",
   "execution_count": 12,
   "id": "1463dbce-6778-4f18-8f46-c93754b6c0d0",
   "metadata": {},
   "outputs": [
    {
     "name": "stdout",
     "output_type": "stream",
     "text": [
      "(320, 240)\n"
     ]
    }
   ],
   "source": [
    "#focus camera\n",
    "cap = cv2.VideoCapture(0) #Note that the index corresponding to your camera may not be zero but this is the most common default\n",
    "\n",
    "# draw a circle in the center of the frame\n",
    "center = None\n",
    "while center is None:\n",
    "    # the first frame grab is sometimes empty\n",
    "    ret, frame = cap.read()\n",
    "    h, w = frame.shape[0:2]\n",
    "    center = (int(w/2), int(h/2))\n",
    "    print(center)\n",
    "\n",
    "while True:\n",
    "    ret, frame = cap.read()\n",
    "    target = cv2.circle(frame, center, 5, (0,255,0), -1)\n",
    "    cv2.imshow('Input', frame)\n",
    "    c = cv2.waitKey(1)\n",
    "    if c ==27: #27 is the built in code for ESC so press escape to close the window. \n",
    "        break \n",
    "        \n",
    "cap.release()\n",
    "cv2.destroyAllWindows()"
   ]
  },
  {
   "cell_type": "code",
   "execution_count": 91,
   "id": "3e463736-53f6-4f9b-8d2c-64b7ff83180d",
   "metadata": {
    "scrolled": true
   },
   "outputs": [
    {
     "name": "stdout",
     "output_type": "stream",
     "text": [
      "[(635.2142857142858, 549.4999999999998)]\n"
     ]
    },
    {
     "name": "stderr",
     "output_type": "stream",
     "text": [
      "Exception in Tkinter callback\n",
      "Traceback (most recent call last):\n",
      "  File \"/usr/lib/python3.7/tkinter/__init__.py\", line 1705, in __call__\n",
      "    return self.func(*args)\n",
      "  File \"/usr/lib/python3.7/tkinter/__init__.py\", line 749, in callit\n",
      "    func(*args)\n",
      "  File \"/home/pi/duckbot/.venv/lib/python3.7/site-packages/matplotlib/backends/_backend_tk.py\", line 476, in delayed_destroy\n",
      "    self.window.destroy()\n",
      "  File \"/usr/lib/python3.7/tkinter/__init__.py\", line 2061, in destroy\n",
      "    for c in list(self.children.values()): c.destroy()\n",
      "  File \"/usr/lib/python3.7/tkinter/__init__.py\", line 2308, in destroy\n",
      "    Misc.destroy(self)\n",
      "  File \"/usr/lib/python3.7/tkinter/__init__.py\", line 592, in destroy\n",
      "    self.tk.deletecommand(name)\n",
      "_tkinter.TclError: can't delete Tcl command\n"
     ]
    }
   ],
   "source": [
    "f = getFrame()\n",
    "pts = selectPoint(f, num_pts=1)"
   ]
  },
  {
   "cell_type": "code",
   "execution_count": 92,
   "id": "28a2acf6",
   "metadata": {},
   "outputs": [],
   "source": [
    "# convert px coord to real coord\n",
    "def px_to_real(x,y, absolute = False):\n",
    "        x = (x / m.img_size[0]) - 0.5\n",
    "        y = (y / m.img_size[1]) - 0.5\n",
    "        a = 1 if absolute else 0\n",
    "\n",
    "        return (m.transform.T @ np.array([x**2, y**2, x * y, x, y, a]))\n",
    "\n",
    "fronds = []\n",
    "for pt in pts:\n",
    "    frond_off = px_to_real(pt[0], pt[1])\n",
    "    frond = [well['x'] - frond_off[0], well['y'] - frond_off[1]]\n",
    "    fronds.append(frond)"
   ]
  },
  {
   "cell_type": "code",
   "execution_count": 93,
   "id": "b44cc5cc",
   "metadata": {},
   "outputs": [],
   "source": [
    "# to increase syringe speed, send:\n",
    "# M201 E2500\n",
    "# M203 E2500\n",
    "m.toolChange(3)\n",
    "m.moveTo(x=well['x'], y=well['y'])"
   ]
  },
  {
   "cell_type": "code",
   "execution_count": 94,
   "id": "7952535a",
   "metadata": {},
   "outputs": [
    {
     "data": {
      "text/plain": [
       "(25.480218208296126, 172.6121530214497)"
      ]
     },
     "execution_count": 94,
     "metadata": {},
     "output_type": "execute_result"
    }
   ],
   "source": [
    "idx = 0\n",
    "fx = fronds[idx][0]\n",
    "fy = fronds[idx][1]\n",
    "fx, fy"
   ]
  },
  {
   "cell_type": "code",
   "execution_count": 95,
   "id": "44500337",
   "metadata": {},
   "outputs": [],
   "source": [
    "syringe_off = [-0.76, 4.2] # pink\n",
    "m.moveTo(m.moveTo(x=fx + syringe_off[0], y=fy + syringe_off[1]))"
   ]
  },
  {
   "cell_type": "code",
   "execution_count": 18,
   "id": "79739e0f",
   "metadata": {},
   "outputs": [],
   "source": [
    "def aspirate_2():\n",
    "#     m.move(de=5, s=1000) ; # 'prime' syringe\n",
    "    m.moveTo(z=water_height + 2)\n",
    "    m.dwell(1000)\n",
    "    m.move(dz=-3.5, de=5) # press slightly\n",
    "#     m.dwell(250)\n",
    "    m.move(de=40, s=1800) # aspirate! #1200 for lemna minor\n",
    "    m.move(dz=6, s=500, de=5) # aspirate!\n",
    "#     m.move(dz=5, de=50, s=1000) # aspirate!\n",
    "    \n",
    "def dispense():\n",
    "    m.dwell(1000)\n",
    "    m.move(de=-50, s=1400) # dispense\n",
    "    m.dwell(500)"
   ]
  },
  {
   "cell_type": "code",
   "execution_count": 96,
   "id": "2ac65166",
   "metadata": {},
   "outputs": [],
   "source": [
    "\n",
    "aspirate_2()\n",
    "m.moveTo(z=45)\n",
    "m.moveTo(x=75.5, y=47)\n"
   ]
  },
  {
   "cell_type": "code",
   "execution_count": 63,
   "id": "773d410a",
   "metadata": {},
   "outputs": [],
   "source": [
    "m.moveTo(z=6)\n",
    "m.move(de=-12, s=200)\n",
    "m.moveTo(z=20)\n",
    "m.dwell(1000)\n",
    "m.moveTo(z=10)\n",
    "m.moveTo(z=20)\n",
    "m.dwell(1000)\n",
    "m.moveTo(z=10)\n",
    "m.moveTo(z=20)\n",
    "m.dwell(1000)\n",
    "m.moveTo(z=10)\n",
    "m.moveTo(z=20)\n",
    "m.dwell(1000)\n",
    "m.moveTo(z=10)\n",
    "m.moveTo(z=20)\n",
    "m.dwell(1000)\n",
    "m.moveTo(z=10)\n",
    "m.moveTo(z=45)"
   ]
  },
  {
   "cell_type": "code",
   "execution_count": 97,
   "id": "3af6cefc-c27d-4731-bff0-f8311d9b8e5c",
   "metadata": {},
   "outputs": [],
   "source": [
    "m.moveTo(x=225, y=45)"
   ]
  },
  {
   "cell_type": "code",
   "execution_count": 76,
   "id": "576007d0",
   "metadata": {},
   "outputs": [],
   "source": [
    "\n",
    "m.move(de=-35, s=1000)"
   ]
  },
  {
   "cell_type": "code",
   "execution_count": 98,
   "id": "f304f58d",
   "metadata": {},
   "outputs": [],
   "source": [
    "# no dw\n",
    "dispense()"
   ]
  },
  {
   "cell_type": "code",
   "execution_count": 5,
   "id": "b473d358-5120-4d7e-a942-799de8556395",
   "metadata": {},
   "outputs": [],
   "source": [
    "m.toolChange(4)"
   ]
  },
  {
   "cell_type": "code",
   "execution_count": 53,
   "id": "cbb3d79d",
   "metadata": {},
   "outputs": [],
   "source": [
    "m.moveTo(x=79, y=87)\n",
    "m.moveTo(z=-55.2)"
   ]
  },
  {
   "cell_type": "code",
   "execution_count": 64,
   "id": "65e6871e-25e1-45f1-b802-695754b192e8",
   "metadata": {},
   "outputs": [
    {
     "name": "stdout",
     "output_type": "stream",
     "text": [
      "(320, 240)\n"
     ]
    }
   ],
   "source": [
    "cap = cv2.VideoCapture(0) #Note that the index corresponding to your camera may not be zero but this is the most common default\n",
    "\n",
    "# draw a circle in the center of the frame\n",
    "center = None\n",
    "while center is None:\n",
    "    # the first frame grab is sometimes empty\n",
    "    ret, frame = cap.read()\n",
    "    h, w = frame.shape[0:2]\n",
    "    center = (int(w/2), int(h/2))\n",
    "    print(center)\n",
    "\n",
    "while True:\n",
    "    ret, frame = cap.read()\n",
    "    target = cv2.circle(frame, center, 5, (0,255,0), -1)\n",
    "    cv2.imshow('Input', frame)\n",
    "    c = cv2.waitKey(1)\n",
    "    if c ==27: #27 is the built in code for ESC so press escape to close the window. \n",
    "        break \n",
    "        \n",
    "cap.release()\n",
    "cv2.destroyAllWindows()"
   ]
  },
  {
   "cell_type": "code",
   "execution_count": 65,
   "id": "5c7218e1-90af-4e11-b508-984be197d2ca",
   "metadata": {},
   "outputs": [],
   "source": [
    "f = getFrame()\n",
    "showFrame(f)"
   ]
  },
  {
   "cell_type": "code",
   "execution_count": 66,
   "id": "1a88d28a-c7b7-4fce-b79d-68dc223b01b8",
   "metadata": {},
   "outputs": [],
   "source": [
    "saveFrame(f, '/home/pi/Downloads/root4pink-backlight.jpeg')"
   ]
  },
  {
   "cell_type": "code",
   "execution_count": 23,
   "id": "d90230bf-3568-4e84-9af3-0ca720797877",
   "metadata": {},
   "outputs": [],
   "source": [
    "m.moveTo(x=well['x'], y=well['y'])"
   ]
  },
  {
   "cell_type": "code",
   "execution_count": 24,
   "id": "233fa7be-3f4d-41d5-9e70-06964aba0a3e",
   "metadata": {},
   "outputs": [],
   "source": [
    "dispense()"
   ]
  },
  {
   "cell_type": "code",
   "execution_count": 36,
   "id": "4abbf83a-8482-4706-acd4-b51a2b339bf2",
   "metadata": {},
   "outputs": [],
   "source": []
  },
  {
   "cell_type": "code",
   "execution_count": null,
   "id": "1367f8cc-ee77-40ee-b6f7-c3d7592c5f8f",
   "metadata": {},
   "outputs": [],
   "source": []
  },
  {
   "cell_type": "code",
   "execution_count": null,
   "id": "48755e4b-5eb3-47f0-a528-4bb68298adaa",
   "metadata": {},
   "outputs": [],
   "source": []
  },
  {
   "cell_type": "code",
   "execution_count": 5,
   "id": "34cec067-a0c3-4f41-9ec0-a28c47d7d9ae",
   "metadata": {},
   "outputs": [],
   "source": []
  },
  {
   "cell_type": "code",
   "execution_count": 6,
   "id": "413b69d7-4935-485b-bf50-d65478f89950",
   "metadata": {},
   "outputs": [],
   "source": []
  },
  {
   "cell_type": "code",
   "execution_count": null,
   "id": "29706baf-a2e5-4823-9007-5dc80fbe6c63",
   "metadata": {},
   "outputs": [],
   "source": []
  },
  {
   "cell_type": "code",
   "execution_count": null,
   "id": "f811f6e3-8602-4f87-93bf-9d4b79a27611",
   "metadata": {},
   "outputs": [],
   "source": []
  },
  {
   "cell_type": "code",
   "execution_count": null,
   "id": "a7f1a70b-18b3-4675-82be-e2b01600835f",
   "metadata": {},
   "outputs": [],
   "source": []
  },
  {
   "cell_type": "code",
   "execution_count": null,
   "id": "7519a2b1-77cd-43b1-8e45-7c1bbc8dc882",
   "metadata": {},
   "outputs": [],
   "source": []
  },
  {
   "cell_type": "code",
   "execution_count": null,
   "id": "b3d6ca8a-86d5-4401-9d7d-2ccb6967d5e2",
   "metadata": {},
   "outputs": [],
   "source": []
  },
  {
   "cell_type": "code",
   "execution_count": null,
   "id": "77db84f0-0bdc-4a69-a322-00d59ba90fe2",
   "metadata": {},
   "outputs": [],
   "source": []
  },
  {
   "cell_type": "code",
   "execution_count": null,
   "id": "ba0d46e2-dc2f-459c-9418-02535f3735e1",
   "metadata": {},
   "outputs": [],
   "source": []
  },
  {
   "cell_type": "code",
   "execution_count": null,
   "id": "3e52d8f6-2fb8-4c64-93af-2adf884c45b3",
   "metadata": {},
   "outputs": [],
   "source": []
  },
  {
   "cell_type": "code",
   "execution_count": null,
   "id": "baf6b221-758a-4565-bc11-feccfc459781",
   "metadata": {},
   "outputs": [],
   "source": []
  },
  {
   "cell_type": "code",
   "execution_count": null,
   "id": "7ae3d5fe-6267-4214-98a3-3b516d943c62",
   "metadata": {},
   "outputs": [],
   "source": []
  },
  {
   "cell_type": "code",
   "execution_count": null,
   "id": "3df6a081-2446-4ee3-96ac-5eda5c18b18b",
   "metadata": {},
   "outputs": [],
   "source": []
  },
  {
   "cell_type": "code",
   "execution_count": 7,
   "id": "eecef678-6c1c-4fa8-b1bf-db105cf72125",
   "metadata": {},
   "outputs": [],
   "source": []
  },
  {
   "cell_type": "code",
   "execution_count": 21,
   "id": "e38bd834",
   "metadata": {},
   "outputs": [],
   "source": []
  },
  {
   "cell_type": "code",
   "execution_count": null,
   "id": "a0925309",
   "metadata": {},
   "outputs": [],
   "source": []
  },
  {
   "cell_type": "code",
   "execution_count": null,
   "id": "881a254e",
   "metadata": {},
   "outputs": [],
   "source": []
  },
  {
   "cell_type": "code",
   "execution_count": null,
   "id": "68ad603d",
   "metadata": {},
   "outputs": [],
   "source": []
  }
 ],
 "metadata": {
  "kernelspec": {
   "display_name": "Python 3 (ipykernel)",
   "language": "python",
   "name": "python3"
  },
  "language_info": {
   "codemirror_mode": {
    "name": "ipython",
    "version": 3
   },
   "file_extension": ".py",
   "mimetype": "text/x-python",
   "name": "python",
   "nbconvert_exporter": "python",
   "pygments_lexer": "ipython3",
   "version": "3.7.3"
  }
 },
 "nbformat": 4,
 "nbformat_minor": 5
}
