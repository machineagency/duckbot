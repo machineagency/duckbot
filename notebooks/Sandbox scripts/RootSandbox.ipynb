{
 "cells": [
  {
   "cell_type": "markdown",
   "id": "4541664a-6872-41c6-b0b2-3a09d4e475c3",
   "metadata": {},
   "source": [
    "### Root Imaging\n",
    "Test notebook for root imaging"
   ]
  },
  {
   "cell_type": "code",
   "execution_count": 1,
   "id": "3c5553db-f513-45f2-9f97-ff23ae815a86",
   "metadata": {},
   "outputs": [],
   "source": [
    "# import required modules\n",
    "from utils.MachineUtils import *\n",
    "import time\n",
    "import random\n",
    "import numpy as np\n",
    "import cv2 as cv2\n",
    "from utils.PlatePositionUtils import *\n",
    "from utils.CameraUtils import *"
   ]
  },
  {
   "cell_type": "code",
   "execution_count": 2,
   "id": "a2c30acd-2343-43e3-8a71-110794c268ef",
   "metadata": {},
   "outputs": [
    {
     "name": "stdout",
     "output_type": "stream",
     "text": [
      "['ttyACM0', 'ttyAMA0']\n"
     ]
    }
   ],
   "source": [
    "# Setup your machine connection\n",
    "# List available ports in thie cell\n",
    "\n",
    "ports = serial.tools.list_ports.comports()\n",
    "print([port.name for port in ports]) "
   ]
  },
  {
   "cell_type": "code",
   "execution_count": 3,
   "id": "4024af6f-4ddb-4aa8-a290-ca6fc67327be",
   "metadata": {},
   "outputs": [],
   "source": [
    "# Choose the correct port from above and establish connection with machine\n",
    "port = '/dev/ttyACM0'\n",
    "m = MachineCommunication(port)"
   ]
  },
  {
   "cell_type": "code",
   "execution_count": 4,
   "id": "5e28da92",
   "metadata": {},
   "outputs": [],
   "source": [
    "# important machine commands!\n",
    "# m.moveTo() -- absolute move\n",
    "# m.move() == relative\n",
    "# m.toolChange(), -1 for no tool "
   ]
  },
  {
   "cell_type": "code",
   "execution_count": 5,
   "id": "f11b0bc2",
   "metadata": {},
   "outputs": [],
   "source": [
    "# Place duckweed photobooth into plate position 6\n",
    "# place 24 wells into plate position 1-3\n",
    "# place petri dish with water into position 4"
   ]
  },
  {
   "cell_type": "code",
   "execution_count": 7,
   "id": "f60ad63d",
   "metadata": {},
   "outputs": [],
   "source": [
    "m.toolChange(1)"
   ]
  },
  {
   "cell_type": "code",
   "execution_count": 8,
   "id": "6aeb7ca9-7528-4a01-ad9a-473716e164ab",
   "metadata": {},
   "outputs": [],
   "source": [
    "m.moveTo(x=150, y=150)"
   ]
  },
  {
   "cell_type": "code",
   "execution_count": 9,
   "id": "d26c7037",
   "metadata": {},
   "outputs": [],
   "source": [
    "# important camera commands!\n",
    "# f = getFrame() take a pic\n",
    "# showFrame(f) show\n",
    "# showFrame(f, grid=True)pic.jpg\n",
    "# saveFrame(f, '~/Downloads/')"
   ]
  },
  {
   "cell_type": "code",
   "execution_count": 16,
   "id": "b776da9a-53b3-43c1-8b0e-6e25b0691046",
   "metadata": {},
   "outputs": [
    {
     "name": "stdout",
     "output_type": "stream",
     "text": [
      "G1    E15.00 F6000.00\n",
      "G1    E-10.00 F6000.00\n",
      "G1    E-5.00 F6000.00\n"
     ]
    }
   ],
   "source": [
    "# moves water into photo changer\n",
    "m.toolChange(2)\n",
    "m.moveTo(x=75, y=245)\n",
    "m.moveTo(z=-42)\n",
    "m.move(de=15)\n",
    "m.moveTo(z=0)\n",
    "m.moveTo(x=74, y=45)\n",
    "m.move(de=-10)\n",
    "m.moveTo(x=75, y=245)\n",
    "m.move(de=-5)\n",
    "m.moveTo(z=100)"
   ]
  },
  {
   "cell_type": "code",
   "execution_count": 17,
   "id": "7aa4df37",
   "metadata": {},
   "outputs": [],
   "source": [
    "# find first duckweed\n",
    "m.toolChange(1)"
   ]
  },
  {
   "cell_type": "code",
   "execution_count": 18,
   "id": "1463dbce-6778-4f18-8f46-c93754b6c0d0",
   "metadata": {},
   "outputs": [
    {
     "name": "stdout",
     "output_type": "stream",
     "text": [
      "(320, 240)\n"
     ]
    }
   ],
   "source": [
    "#focus camera\n",
    "cap = cv2.VideoCapture(0) #Note that the index corresponding to your camera may not be zero but this is the most common default\n",
    "\n",
    "# draw a circle in the center of the frame\n",
    "center = None\n",
    "while center is None:\n",
    "    # the first frame grab is sometimes empty\n",
    "    ret, frame = cap.read()\n",
    "    h, w = frame.shape[0:2]\n",
    "    center = (int(w/2), int(h/2))\n",
    "    print(center)\n",
    "\n",
    "while True:\n",
    "    ret, frame = cap.read()\n",
    "    target = cv2.circle(frame, center, 5, (0,255,0), -1)\n",
    "    cv2.imshow('Input', frame)\n",
    "    c = cv2.waitKey(1)\n",
    "    if c ==27: #27 is the built in code for ESC so press escape to close the window. \n",
    "        break \n",
    "        \n",
    "cap.release()\n",
    "cv2.destroyAllWindows()"
   ]
  },
  {
   "cell_type": "code",
   "execution_count": 26,
   "id": "3e463736-53f6-4f9b-8d2c-64b7ff83180d",
   "metadata": {},
   "outputs": [],
   "source": [
    "# take a picture, and take only green pixels:\n",
    "f = getFrame()\n",
    "showFrame(f, grid=True)\n",
    "saveFrame(f, 'petri-test.jpg')"
   ]
  },
  {
   "cell_type": "code",
   "execution_count": null,
   "id": "3af6cefc-c27d-4731-bff0-f8311d9b8e5c",
   "metadata": {},
   "outputs": [],
   "source": [
    "m = cv2.imread('petri.jpg')\n",
    "for i in range(im.shape[0]): #im.shape[0] is the y-axis\n",
    "    for j in range(im.shape[1]): #im.shape[1] is the x returns X and Y axes of the image\n",
    "        if im[i, j][0] > 0.9*im[i, j][1]:  #If more blue than green in pixel than set to black.         \n",
    "            im[i, j] = [0, 0, 0]\n",
    "        if np.array([x < 90 for x in im[i, j]]).all():\n",
    "            im[i, j] = [0, 0, 0]\n",
    "showFrame(im)"
   ]
  },
  {
   "cell_type": "code",
   "execution_count": null,
   "id": "b473d358-5120-4d7e-a942-799de8556395",
   "metadata": {},
   "outputs": [],
   "source": []
  },
  {
   "cell_type": "code",
   "execution_count": 13,
   "id": "5b5d28e4-46a7-4fc6-8356-aa9050f45cb9",
   "metadata": {},
   "outputs": [],
   "source": []
  },
  {
   "cell_type": "code",
   "execution_count": 28,
   "id": "a44ee44e-13a9-4960-8766-46d3788630c4",
   "metadata": {},
   "outputs": [
    {
     "name": "stdout",
     "output_type": "stream",
     "text": [
      "[(486.6255911718338, 511.5336311087757), (929.8355603933637, 630.4436228511373), (692.0155769086405, 612.426957435628), (666.7922453269273, 769.1719465505593), (951.455558891975, 832.230275504842), (520.8572554613015, 879.0736055851662), (329.8806020569025, 882.6769386682681), (618.1472487050521, 190.8369867127094)]\n"
     ]
    }
   ],
   "source": [
    "# alternatively, manually click a frond\n",
    "im = cv2.imread('petri-test.jpg')\n",
    "# px = selectPoint(im)"
   ]
  },
  {
   "cell_type": "code",
   "execution_count": 29,
   "id": "65e6871e-25e1-45f1-b802-695754b192e8",
   "metadata": {},
   "outputs": [],
   "source": []
  },
  {
   "cell_type": "code",
   "execution_count": 30,
   "id": "5c7218e1-90af-4e11-b508-984be197d2ca",
   "metadata": {},
   "outputs": [
    {
     "name": "stdout",
     "output_type": "stream",
     "text": [
      "[74.50973180356098, 247.13457282174033]\n",
      "[81.72959090991758, 219.43785515794124]\n",
      "[80.73226636693782, 234.24078707308126]\n",
      "[90.48323082498254, 235.88768262277003]\n",
      "[94.23979418048287, 218.2152336342473]\n",
      "[97.30446748575547, 245.1629590167579]\n",
      "[97.5822902940912, 257.2209332733764]\n",
      "[54.07914212185028, 239.23789861777004]\n"
     ]
    }
   ],
   "source": []
  },
  {
   "cell_type": "code",
   "execution_count": 37,
   "id": "1a88d28a-c7b7-4fce-b79d-68dc223b01b8",
   "metadata": {},
   "outputs": [
    {
     "name": "stdout",
     "output_type": "stream",
     "text": [
      "10.5\n"
     ]
    }
   ],
   "source": []
  },
  {
   "cell_type": "code",
   "execution_count": 43,
   "id": "d90230bf-3568-4e84-9af3-0ca720797877",
   "metadata": {},
   "outputs": [
    {
     "name": "stdout",
     "output_type": "stream",
     "text": [
      "G1   Z-0.50  F6000.00\n",
      "G1   Z5.00 E50.00 F1800.00\n",
      "G1   Z10.00  F6000.00\n",
      "G1    E-50.00 F1500.00\n",
      "G1   Z-0.50  F6000.00\n",
      "G1   Z5.00 E50.00 F1800.00\n",
      "G1   Z10.00  F6000.00\n",
      "G1    E-50.00 F1500.00\n",
      "G1   Z-0.50  F6000.00\n",
      "G1   Z5.00 E50.00 F1800.00\n",
      "G1   Z10.00  F6000.00\n",
      "G1    E-50.00 F1500.00\n",
      "G1   Z-0.50  F6000.00\n",
      "G1   Z5.00 E50.00 F1800.00\n",
      "G1   Z10.00  F6000.00\n",
      "G1    E-50.00 F1500.00\n",
      "G1   Z-0.50  F6000.00\n",
      "G1   Z5.00 E50.00 F1800.00\n",
      "G1   Z10.00  F6000.00\n",
      "G1    E-50.00 F1500.00\n",
      "G1   Z-0.50  F6000.00\n",
      "G1   Z5.00 E50.00 F1800.00\n",
      "G1   Z10.00  F6000.00\n",
      "G1    E-50.00 F1500.00\n",
      "G1   Z-0.50  F6000.00\n",
      "G1   Z5.00 E50.00 F1800.00\n",
      "G1   Z10.00  F6000.00\n",
      "G1    E-50.00 F1500.00\n",
      "G1   Z-0.50  F6000.00\n",
      "G1   Z5.00 E50.00 F1800.00\n",
      "G1   Z10.00  F6000.00\n",
      "G1    E-50.00 F1500.00\n"
     ]
    }
   ],
   "source": []
  },
  {
   "cell_type": "code",
   "execution_count": 35,
   "id": "233fa7be-3f4d-41d5-9e70-06964aba0a3e",
   "metadata": {},
   "outputs": [],
   "source": []
  },
  {
   "cell_type": "code",
   "execution_count": 36,
   "id": "4abbf83a-8482-4706-acd4-b51a2b339bf2",
   "metadata": {},
   "outputs": [],
   "source": []
  },
  {
   "cell_type": "code",
   "execution_count": null,
   "id": "1367f8cc-ee77-40ee-b6f7-c3d7592c5f8f",
   "metadata": {},
   "outputs": [],
   "source": []
  },
  {
   "cell_type": "code",
   "execution_count": null,
   "id": "48755e4b-5eb3-47f0-a528-4bb68298adaa",
   "metadata": {},
   "outputs": [],
   "source": []
  },
  {
   "cell_type": "code",
   "execution_count": 5,
   "id": "34cec067-a0c3-4f41-9ec0-a28c47d7d9ae",
   "metadata": {},
   "outputs": [],
   "source": []
  },
  {
   "cell_type": "code",
   "execution_count": 6,
   "id": "413b69d7-4935-485b-bf50-d65478f89950",
   "metadata": {},
   "outputs": [],
   "source": []
  },
  {
   "cell_type": "code",
   "execution_count": null,
   "id": "29706baf-a2e5-4823-9007-5dc80fbe6c63",
   "metadata": {},
   "outputs": [],
   "source": []
  },
  {
   "cell_type": "code",
   "execution_count": 150,
   "id": "f811f6e3-8602-4f87-93bf-9d4b79a27611",
   "metadata": {},
   "outputs": [
    {
     "name": "stdout",
     "output_type": "stream",
     "text": [
      "G1   Z5.00 E30.00 F1800.00\n"
     ]
    }
   ],
   "source": []
  },
  {
   "cell_type": "code",
   "execution_count": 181,
   "id": "a7f1a70b-18b3-4675-82be-e2b01600835f",
   "metadata": {},
   "outputs": [
    {
     "name": "stdout",
     "output_type": "stream",
     "text": [
      "G1    E-25.00 F1500.00\n"
     ]
    }
   ],
   "source": []
  },
  {
   "cell_type": "code",
   "execution_count": null,
   "id": "7519a2b1-77cd-43b1-8e45-7c1bbc8dc882",
   "metadata": {},
   "outputs": [],
   "source": []
  },
  {
   "cell_type": "code",
   "execution_count": null,
   "id": "b3d6ca8a-86d5-4401-9d7d-2ccb6967d5e2",
   "metadata": {},
   "outputs": [],
   "source": []
  },
  {
   "cell_type": "code",
   "execution_count": 65,
   "id": "77db84f0-0bdc-4a69-a322-00d59ba90fe2",
   "metadata": {},
   "outputs": [
    {
     "name": "stdout",
     "output_type": "stream",
     "text": [
      "G1   Z-5.00 E30.00 F1800.00\n"
     ]
    }
   ],
   "source": []
  },
  {
   "cell_type": "code",
   "execution_count": 67,
   "id": "ba0d46e2-dc2f-459c-9418-02535f3735e1",
   "metadata": {},
   "outputs": [
    {
     "name": "stdout",
     "output_type": "stream",
     "text": [
      "G1    E-50.00 F1000.00\n"
     ]
    }
   ],
   "source": []
  },
  {
   "cell_type": "code",
   "execution_count": 46,
   "id": "3e52d8f6-2fb8-4c64-93af-2adf884c45b3",
   "metadata": {},
   "outputs": [
    {
     "name": "stdout",
     "output_type": "stream",
     "text": [
      "G1    E10.00 F1000.00\n"
     ]
    }
   ],
   "source": []
  },
  {
   "cell_type": "code",
   "execution_count": null,
   "id": "baf6b221-758a-4565-bc11-feccfc459781",
   "metadata": {},
   "outputs": [],
   "source": []
  },
  {
   "cell_type": "code",
   "execution_count": 42,
   "id": "7ae3d5fe-6267-4214-98a3-3b516d943c62",
   "metadata": {},
   "outputs": [
    {
     "name": "stdout",
     "output_type": "stream",
     "text": [
      "G1    E25.00 F1800.00\n"
     ]
    }
   ],
   "source": []
  },
  {
   "cell_type": "code",
   "execution_count": 23,
   "id": "3df6a081-2446-4ee3-96ac-5eda5c18b18b",
   "metadata": {},
   "outputs": [
    {
     "name": "stdout",
     "output_type": "stream",
     "text": [
      "G1   Z-0.50  F6000.00\n",
      "G1   Z5.00 E50.00 F1800.00\n",
      "G1    E-50.00 F2000.00\n",
      "G1   Z-0.50  F6000.00\n",
      "G1   Z5.00 E50.00 F1800.00\n",
      "G1    E-50.00 F2000.00\n",
      "G1   Z-0.50  F6000.00\n",
      "G1   Z5.00 E50.00 F1800.00\n",
      "G1    E-50.00 F2000.00\n",
      "G1   Z-0.50  F6000.00\n",
      "G1   Z5.00 E50.00 F1800.00\n",
      "G1    E-50.00 F2000.00\n",
      "G1   Z-0.50  F6000.00\n",
      "G1   Z5.00 E50.00 F1800.00\n",
      "G1    E-50.00 F2000.00\n",
      "G1   Z-0.50  F6000.00\n",
      "G1   Z5.00 E50.00 F1800.00\n",
      "G1    E-50.00 F2000.00\n",
      "G1   Z-0.50  F6000.00\n",
      "G1   Z5.00 E50.00 F1800.00\n",
      "G1    E-50.00 F2000.00\n"
     ]
    },
    {
     "ename": "KeyboardInterrupt",
     "evalue": "",
     "output_type": "error",
     "traceback": [
      "\u001b[0;31m---------------------------------------------------------------------------\u001b[0m",
      "\u001b[0;31mKeyboardInterrupt\u001b[0m                         Traceback (most recent call last)",
      "\u001b[0;32m/tmp/ipykernel_1496/3270385212.py\u001b[0m in \u001b[0;36m<module>\u001b[0;34m\u001b[0m\n\u001b[1;32m     17\u001b[0m \u001b[0;32mfor\u001b[0m \u001b[0mfrond\u001b[0m \u001b[0;32min\u001b[0m \u001b[0mfronds\u001b[0m\u001b[0;34m:\u001b[0m\u001b[0;34m\u001b[0m\u001b[0;34m\u001b[0m\u001b[0m\n\u001b[1;32m     18\u001b[0m     \u001b[0mm\u001b[0m\u001b[0;34m.\u001b[0m\u001b[0mmoveTo\u001b[0m\u001b[0;34m(\u001b[0m\u001b[0mm\u001b[0m\u001b[0;34m.\u001b[0m\u001b[0mmoveTo\u001b[0m\u001b[0;34m(\u001b[0m\u001b[0mx\u001b[0m\u001b[0;34m=\u001b[0m\u001b[0mfrond\u001b[0m\u001b[0;34m[\u001b[0m\u001b[0;36m0\u001b[0m\u001b[0;34m]\u001b[0m \u001b[0;34m+\u001b[0m \u001b[0msyringe_off\u001b[0m\u001b[0;34m[\u001b[0m\u001b[0;36m0\u001b[0m\u001b[0;34m]\u001b[0m\u001b[0;34m,\u001b[0m \u001b[0my\u001b[0m\u001b[0;34m=\u001b[0m\u001b[0mfrond\u001b[0m\u001b[0;34m[\u001b[0m\u001b[0;36m1\u001b[0m\u001b[0;34m]\u001b[0m \u001b[0;34m+\u001b[0m \u001b[0msyringe_off\u001b[0m\u001b[0;34m[\u001b[0m\u001b[0;36m1\u001b[0m\u001b[0;34m]\u001b[0m\u001b[0;34m)\u001b[0m\u001b[0;34m)\u001b[0m\u001b[0;34m\u001b[0m\u001b[0;34m\u001b[0m\u001b[0m\n\u001b[0;32m---> 19\u001b[0;31m     \u001b[0maspirate\u001b[0m\u001b[0;34m(\u001b[0m\u001b[0;34m)\u001b[0m\u001b[0;34m\u001b[0m\u001b[0;34m\u001b[0m\u001b[0m\n\u001b[0m\u001b[1;32m     20\u001b[0m     \u001b[0mm\u001b[0m\u001b[0;34m.\u001b[0m\u001b[0mdwell\u001b[0m\u001b[0;34m(\u001b[0m\u001b[0;36m3000\u001b[0m\u001b[0;34m)\u001b[0m\u001b[0;34m\u001b[0m\u001b[0;34m\u001b[0m\u001b[0m\n\u001b[1;32m     21\u001b[0m     \u001b[0mdispense\u001b[0m\u001b[0;34m(\u001b[0m\u001b[0;34m)\u001b[0m\u001b[0;34m\u001b[0m\u001b[0;34m\u001b[0m\u001b[0m\n",
      "\u001b[0;32m/tmp/ipykernel_1496/3270385212.py\u001b[0m in \u001b[0;36maspirate\u001b[0;34m()\u001b[0m\n\u001b[1;32m      4\u001b[0m \u001b[0;32mdef\u001b[0m \u001b[0maspirate\u001b[0m\u001b[0;34m(\u001b[0m\u001b[0;34m)\u001b[0m\u001b[0;34m:\u001b[0m\u001b[0;34m\u001b[0m\u001b[0;34m\u001b[0m\u001b[0m\n\u001b[1;32m      5\u001b[0m     \u001b[0;31m# m.moveTo(z=surface_depth)\u001b[0m\u001b[0;34m\u001b[0m\u001b[0;34m\u001b[0m\u001b[0;34m\u001b[0m\u001b[0m\n\u001b[0;32m----> 6\u001b[0;31m     \u001b[0mm\u001b[0m\u001b[0;34m.\u001b[0m\u001b[0mdwell\u001b[0m\u001b[0;34m(\u001b[0m\u001b[0;36m1000\u001b[0m\u001b[0;34m)\u001b[0m\u001b[0;34m\u001b[0m\u001b[0;34m\u001b[0m\u001b[0m\n\u001b[0m\u001b[1;32m      7\u001b[0m     \u001b[0mm\u001b[0m\u001b[0;34m.\u001b[0m\u001b[0mmove\u001b[0m\u001b[0;34m(\u001b[0m\u001b[0mdz\u001b[0m\u001b[0;34m=\u001b[0m\u001b[0;34m-\u001b[0m\u001b[0;36m0.5\u001b[0m\u001b[0;34m)\u001b[0m \u001b[0;31m# press slightly\u001b[0m\u001b[0;34m\u001b[0m\u001b[0;34m\u001b[0m\u001b[0m\n\u001b[1;32m      8\u001b[0m     \u001b[0mm\u001b[0m\u001b[0;34m.\u001b[0m\u001b[0mdwell\u001b[0m\u001b[0;34m(\u001b[0m\u001b[0;36m1000\u001b[0m\u001b[0;34m)\u001b[0m\u001b[0;34m\u001b[0m\u001b[0;34m\u001b[0m\u001b[0m\n",
      "\u001b[0;32m~/duckbot/notebooks/utils/MachineUtils.py\u001b[0m in \u001b[0;36mdwell\u001b[0;34m(self, t, millis)\u001b[0m\n\u001b[1;32m    114\u001b[0m         \u001b[0mcmd\u001b[0m \u001b[0;34m=\u001b[0m \u001b[0;34mf\"G4 {param}{t}\"\u001b[0m\u001b[0;34m\u001b[0m\u001b[0;34m\u001b[0m\u001b[0m\n\u001b[1;32m    115\u001b[0m \u001b[0;34m\u001b[0m\u001b[0m\n\u001b[0;32m--> 116\u001b[0;31m         \u001b[0mself\u001b[0m\u001b[0;34m.\u001b[0m\u001b[0msend\u001b[0m\u001b[0;34m(\u001b[0m\u001b[0mcmd\u001b[0m\u001b[0;34m)\u001b[0m\u001b[0;34m\u001b[0m\u001b[0;34m\u001b[0m\u001b[0m\n\u001b[0m\u001b[1;32m    117\u001b[0m \u001b[0;34m\u001b[0m\u001b[0m\n\u001b[1;32m    118\u001b[0m \u001b[0;34m\u001b[0m\u001b[0m\n",
      "\u001b[0;32m~/duckbot/notebooks/utils/MachineUtils.py\u001b[0m in \u001b[0;36msend\u001b[0;34m(self, cmd)\u001b[0m\n\u001b[1;32m     20\u001b[0m         \u001b[0mcmd\u001b[0m \u001b[0;34m+=\u001b[0m \u001b[0mself\u001b[0m\u001b[0;34m.\u001b[0m\u001b[0mlineEnding\u001b[0m\u001b[0;34m\u001b[0m\u001b[0;34m\u001b[0m\u001b[0m\n\u001b[1;32m     21\u001b[0m         \u001b[0mbcmd\u001b[0m \u001b[0;34m=\u001b[0m \u001b[0mcmd\u001b[0m\u001b[0;34m.\u001b[0m\u001b[0mencode\u001b[0m\u001b[0;34m(\u001b[0m\u001b[0;34m'UTF-8'\u001b[0m\u001b[0;34m)\u001b[0m\u001b[0;34m\u001b[0m\u001b[0;34m\u001b[0m\u001b[0m\n\u001b[0;32m---> 22\u001b[0;31m         \u001b[0mself\u001b[0m\u001b[0;34m.\u001b[0m\u001b[0mser\u001b[0m\u001b[0;34m.\u001b[0m\u001b[0mwrite\u001b[0m\u001b[0;34m(\u001b[0m\u001b[0mbcmd\u001b[0m\u001b[0;34m)\u001b[0m\u001b[0;34m\u001b[0m\u001b[0;34m\u001b[0m\u001b[0m\n\u001b[0m\u001b[1;32m     23\u001b[0m \u001b[0;34m\u001b[0m\u001b[0m\n\u001b[1;32m     24\u001b[0m \u001b[0;34m\u001b[0m\u001b[0m\n",
      "\u001b[0;32m~/duckbot/.venv/lib/python3.7/site-packages/serial/serialposix.py\u001b[0m in \u001b[0;36mwrite\u001b[0;34m(self, data)\u001b[0m\n\u001b[1;32m    638\u001b[0m                     \u001b[0;32massert\u001b[0m \u001b[0mtimeout\u001b[0m\u001b[0;34m.\u001b[0m\u001b[0mtime_left\u001b[0m\u001b[0;34m(\u001b[0m\u001b[0;34m)\u001b[0m \u001b[0;32mis\u001b[0m \u001b[0;32mNone\u001b[0m\u001b[0;34m\u001b[0m\u001b[0;34m\u001b[0m\u001b[0m\n\u001b[1;32m    639\u001b[0m                     \u001b[0;31m# wait for write operation\u001b[0m\u001b[0;34m\u001b[0m\u001b[0;34m\u001b[0m\u001b[0;34m\u001b[0m\u001b[0m\n\u001b[0;32m--> 640\u001b[0;31m                     \u001b[0mabort\u001b[0m\u001b[0;34m,\u001b[0m \u001b[0mready\u001b[0m\u001b[0;34m,\u001b[0m \u001b[0m_\u001b[0m \u001b[0;34m=\u001b[0m \u001b[0mselect\u001b[0m\u001b[0;34m.\u001b[0m\u001b[0mselect\u001b[0m\u001b[0;34m(\u001b[0m\u001b[0;34m[\u001b[0m\u001b[0mself\u001b[0m\u001b[0;34m.\u001b[0m\u001b[0mpipe_abort_write_r\u001b[0m\u001b[0;34m]\u001b[0m\u001b[0;34m,\u001b[0m \u001b[0;34m[\u001b[0m\u001b[0mself\u001b[0m\u001b[0;34m.\u001b[0m\u001b[0mfd\u001b[0m\u001b[0;34m]\u001b[0m\u001b[0;34m,\u001b[0m \u001b[0;34m[\u001b[0m\u001b[0;34m]\u001b[0m\u001b[0;34m,\u001b[0m \u001b[0;32mNone\u001b[0m\u001b[0;34m)\u001b[0m\u001b[0;34m\u001b[0m\u001b[0;34m\u001b[0m\u001b[0m\n\u001b[0m\u001b[1;32m    641\u001b[0m                     \u001b[0;32mif\u001b[0m \u001b[0mabort\u001b[0m\u001b[0;34m:\u001b[0m\u001b[0;34m\u001b[0m\u001b[0;34m\u001b[0m\u001b[0m\n\u001b[1;32m    642\u001b[0m                         \u001b[0mos\u001b[0m\u001b[0;34m.\u001b[0m\u001b[0mread\u001b[0m\u001b[0;34m(\u001b[0m\u001b[0mself\u001b[0m\u001b[0;34m.\u001b[0m\u001b[0mpipe_abort_write_r\u001b[0m\u001b[0;34m,\u001b[0m \u001b[0;36m1\u001b[0m\u001b[0;34m)\u001b[0m\u001b[0;34m\u001b[0m\u001b[0;34m\u001b[0m\u001b[0m\n",
      "\u001b[0;31mKeyboardInterrupt\u001b[0m: "
     ]
    }
   ],
   "source": []
  },
  {
   "cell_type": "code",
   "execution_count": 7,
   "id": "eecef678-6c1c-4fa8-b1bf-db105cf72125",
   "metadata": {},
   "outputs": [],
   "source": []
  },
  {
   "cell_type": "code",
   "execution_count": 21,
   "id": "e38bd834",
   "metadata": {},
   "outputs": [],
   "source": []
  },
  {
   "cell_type": "code",
   "execution_count": 37,
   "id": "a0925309",
   "metadata": {},
   "outputs": [
    {
     "name": "stdout",
     "output_type": "stream",
     "text": [
      "G1   Z-0.50  F6000.00\n",
      "G1    E20.00 F2000.00\n",
      "G1   Z5.00  F500.00\n",
      "G1    E-20.00 F2000.00\n",
      "G1   Z-0.50  F6000.00\n",
      "G1    E20.00 F2000.00\n",
      "G1   Z5.00  F500.00\n",
      "G1    E-20.00 F2000.00\n",
      "G1   Z-0.50  F6000.00\n",
      "G1    E20.00 F2000.00\n",
      "G1   Z5.00  F500.00\n",
      "G1    E-20.00 F2000.00\n",
      "G1   Z-0.50  F6000.00\n",
      "G1    E20.00 F2000.00\n",
      "G1   Z5.00  F500.00\n",
      "G1    E-20.00 F2000.00\n",
      "G1   Z-0.50  F6000.00\n",
      "G1    E20.00 F2000.00\n",
      "G1   Z5.00  F500.00\n",
      "G1    E-20.00 F2000.00\n",
      "G1   Z-0.50  F6000.00\n",
      "G1    E20.00 F2000.00\n",
      "G1   Z5.00  F500.00\n",
      "G1    E-20.00 F2000.00\n",
      "G1   Z-0.50  F6000.00\n",
      "G1    E20.00 F2000.00\n",
      "G1   Z5.00  F500.00\n",
      "G1    E-20.00 F2000.00\n",
      "G1   Z-0.50  F6000.00\n",
      "G1    E20.00 F2000.00\n",
      "G1   Z5.00  F500.00\n",
      "G1    E-20.00 F2000.00\n",
      "G1   Z-0.50  F6000.00\n",
      "G1    E20.00 F2000.00\n",
      "G1   Z5.00  F500.00\n",
      "G1    E-20.00 F2000.00\n",
      "G1   Z-0.50  F6000.00\n",
      "G1    E20.00 F2000.00\n",
      "G1   Z5.00  F500.00\n",
      "G1    E-20.00 F2000.00\n"
     ]
    }
   ],
   "source": []
  },
  {
   "cell_type": "code",
   "execution_count": 36,
   "id": "881a254e",
   "metadata": {},
   "outputs": [
    {
     "name": "stdout",
     "output_type": "stream",
     "text": [
      "G1    E-20.00 F2000.00\n"
     ]
    }
   ],
   "source": []
  },
  {
   "cell_type": "code",
   "execution_count": null,
   "id": "68ad603d",
   "metadata": {},
   "outputs": [],
   "source": []
  }
 ],
 "metadata": {
  "kernelspec": {
   "display_name": "Python 3 (ipykernel)",
   "language": "python",
   "name": "python3"
  },
  "language_info": {
   "codemirror_mode": {
    "name": "ipython",
    "version": 3
   },
   "file_extension": ".py",
   "mimetype": "text/x-python",
   "name": "python",
   "nbconvert_exporter": "python",
   "pygments_lexer": "ipython3",
   "version": "3.7.3"
  }
 },
 "nbformat": 4,
 "nbformat_minor": 5
}
