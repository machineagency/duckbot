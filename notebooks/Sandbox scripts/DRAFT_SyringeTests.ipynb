{
 "cells": [
  {
   "cell_type": "markdown",
   "id": "1a384faf-ea06-4e9d-b634-52efb876e6c7",
   "metadata": {},
   "source": [
    "# Testing 50cc syringe\n",
    "WARNING: This is a living test document. Do not run these cells on the machine without checking locations & heights of labware. "
   ]
  },
  {
   "cell_type": "code",
   "execution_count": 1,
   "id": "4f40811f-1f5e-418c-8ff4-2991cfa5595d",
   "metadata": {},
   "outputs": [],
   "source": [
    "# import required modules\n",
    "import sys\n",
    "sys.path.append(\"..\")\n",
    "from utils.MachineUtils import *\n",
    "%load_ext autoreload\n",
    "%autoreload 2"
   ]
  },
  {
   "cell_type": "code",
   "execution_count": 2,
   "id": "21710fd6-4ffd-4a2a-9f94-f808862f5e0b",
   "metadata": {},
   "outputs": [
    {
     "name": "stdout",
     "output_type": "stream",
     "text": [
      "['ttyACM0', 'ttyAMA0']\n"
     ]
    }
   ],
   "source": [
    "# Setup your machine connection\n",
    "# List available ports in thie cell\n",
    "\n",
    "ports = serial.tools.list_ports.comports()\n",
    "print([port.name for port in ports]) "
   ]
  },
  {
   "cell_type": "code",
   "execution_count": 3,
   "id": "e9c7043e-2dd4-4f47-bca5-d17fc73ab8c9",
   "metadata": {},
   "outputs": [],
   "source": [
    "# Choose the correct port from above and establish connection with machine\n",
    "port = '/dev/ttyACM0'\n",
    "m = MachineCommunication(port)"
   ]
  },
  {
   "cell_type": "code",
   "execution_count": 4,
   "id": "d1501db8-b611-4d34-a7ef-56afab454340",
   "metadata": {},
   "outputs": [],
   "source": [
    "# pickup brokentrons\n",
    "m.toolChange(1)"
   ]
  },
  {
   "cell_type": "code",
   "execution_count": 5,
   "id": "91bb65c3",
   "metadata": {},
   "outputs": [],
   "source": [
    "# position of the first pipette tip (container in slot 0)\n",
    "tip_pickup = [135, 274.1, 45.2]\n",
    "reservoir = [212, 244, 43]\n",
    "target = [212, 144, 50]"
   ]
  },
  {
   "cell_type": "code",
   "execution_count": 6,
   "id": "74164c6f",
   "metadata": {},
   "outputs": [],
   "source": [
    "m.moveTo(z=100)"
   ]
  },
  {
   "cell_type": "code",
   "execution_count": 21,
   "id": "366cba8d",
   "metadata": {},
   "outputs": [],
   "source": [
    "m.aspirate_prime() # make sure pipette is at bottom of its range"
   ]
  },
  {
   "cell_type": "code",
   "execution_count": 22,
   "id": "8a1c7375",
   "metadata": {},
   "outputs": [],
   "source": [
    "m.moveTo(x=tip_pickup[0], y = tip_pickup[1])"
   ]
  },
  {
   "cell_type": "code",
   "execution_count": 23,
   "id": "d887a56f",
   "metadata": {},
   "outputs": [],
   "source": [
    "m.moveTo(z=tip_pickup[2]) # pickup tip"
   ]
  },
  {
   "cell_type": "code",
   "execution_count": 24,
   "id": "d6373353",
   "metadata": {},
   "outputs": [],
   "source": [
    "m.moveTo(z=125) # safe z with pipette tip on"
   ]
  },
  {
   "cell_type": "code",
   "execution_count": 25,
   "id": "cf355fe2",
   "metadata": {},
   "outputs": [],
   "source": [
    "m.moveTo(x=reservoir[0], y = reservoir[1]) # hover over reservoir"
   ]
  },
  {
   "cell_type": "code",
   "execution_count": 26,
   "id": "4edfa6ed",
   "metadata": {},
   "outputs": [],
   "source": [
    "m.moveTo(z=reservoir[2]) # dip into water"
   ]
  },
  {
   "cell_type": "code",
   "execution_count": 27,
   "id": "90843d23",
   "metadata": {},
   "outputs": [
    {
     "name": "stdout",
     "output_type": "stream",
     "text": [
      "the raw response is: X:212.000 Y:244.000 Z:43.000 U:0.000 V:36.500 E:0.000 E0:-0.0 Count 41190 1030 241600 0 7300 Machine 211.100 200.800 151.000 0.000 36.500 Bed comp 0.000\n",
      "\n",
      "now im returning: {'X': '212.000', 'Y': '244.000', 'Z': '43.000', 'U': '0.000', 'V': '36.500', 'E': '0.000', 'E0': '-0.0'}\n",
      "7.699999999999999\n"
     ]
    }
   ],
   "source": [
    "m.aspirate(40)"
   ]
  },
  {
   "cell_type": "code",
   "execution_count": 28,
   "id": "fda9d221",
   "metadata": {},
   "outputs": [],
   "source": [
    "m.moveTo(z=125) # drop bed down"
   ]
  },
  {
   "cell_type": "code",
   "execution_count": 29,
   "id": "fb93b346",
   "metadata": {},
   "outputs": [],
   "source": [
    "m.moveTo(x=target[0], y = target[1]) # move over petri dish in slot 4"
   ]
  },
  {
   "cell_type": "code",
   "execution_count": 30,
   "id": "b1a7b242",
   "metadata": {},
   "outputs": [],
   "source": [
    "m.moveTo(z=target[2])"
   ]
  },
  {
   "cell_type": "code",
   "execution_count": 31,
   "id": "29f6abd2-46d9-4bd7-91c0-1292d3516bfa",
   "metadata": {},
   "outputs": [
    {
     "name": "stdout",
     "output_type": "stream",
     "text": [
      "the raw response is: X:212.000 Y:144.000 Z:50.000 U:0.000 V:7.700 E:0.000 E0:-0.0 Count 31190 11030 252800 0 1540 Machine 211.100 100.800 158.000 0.000 7.700 Bed comp 0.000\n",
      "\n",
      "now im returning: {'X': '212.000', 'Y': '144.000', 'Z': '50.000', 'U': '0.000', 'V': '7.700', 'E': '0.000', 'E0': '-0.0'}\n"
     ]
    }
   ],
   "source": [
    "m.dispense(44)"
   ]
  },
  {
   "cell_type": "code",
   "execution_count": 32,
   "id": "b93b0ab9",
   "metadata": {},
   "outputs": [],
   "source": [
    "m.moveTo(z=125) # move to safe z"
   ]
  },
  {
   "cell_type": "code",
   "execution_count": 33,
   "id": "b2d67990",
   "metadata": {},
   "outputs": [],
   "source": [
    "m.moveTo(y=44) # move over slot 5 to eject tip"
   ]
  },
  {
   "cell_type": "code",
   "execution_count": 34,
   "id": "f4adc331",
   "metadata": {},
   "outputs": [],
   "source": [
    "m.eject_tip() # eject tip"
   ]
  },
  {
   "cell_type": "code",
   "execution_count": null,
   "id": "9d4ebf9b",
   "metadata": {},
   "outputs": [],
   "source": []
  },
  {
   "cell_type": "code",
   "execution_count": null,
   "id": "d1965eba",
   "metadata": {},
   "outputs": [],
   "source": [
    "#### old stuff"
   ]
  },
  {
   "cell_type": "code",
   "execution_count": 83,
   "id": "d7fa6283-ccce-407e-962c-7e3cf2cd3de0",
   "metadata": {},
   "outputs": [],
   "source": [
    "# negative dispenses-- look at config file for extruder\n",
    "m.move(de=-1)"
   ]
  },
  {
   "cell_type": "code",
   "execution_count": 88,
   "id": "26d1ee92-4174-4e8b-ab2a-a04327475287",
   "metadata": {},
   "outputs": [],
   "source": [
    "## Set up the location to suck up media\n",
    "media_location = [154, 195, -42]"
   ]
  },
  {
   "cell_type": "code",
   "execution_count": 98,
   "id": "8f213ab4-999c-48a9-9d06-449401a039e5",
   "metadata": {},
   "outputs": [],
   "source": [
    "# set up the location to dispense media\n",
    "well_location = [184,125, -19]"
   ]
  },
  {
   "cell_type": "code",
   "execution_count": 109,
   "id": "67a1c139-2065-49e0-bbb3-4df4214badb2",
   "metadata": {},
   "outputs": [],
   "source": [
    "# move to pick-up media\n",
    "# first move xy\n",
    "m.moveTo(x=media_location[0], y=media_location[1])\n",
    "\n",
    "# then move z\n",
    "m.moveTo(z=media_location[2])\n",
    "\n",
    "# pick up media\n",
    "m.move(de=10)\n",
    "\n",
    "# pop z axis down to avoid collisions!\n",
    "m.move(dz=50)\n",
    "\n",
    "# move to dispense location xy pos\n",
    "m.moveTo(x=well_location[0], y=well_location[1])\n",
    "\n",
    "# then move z\n",
    "m.moveTo(z=well_location[2])\n",
    "\n",
    "# dispense the media!\n",
    "m.move(de=-10)"
   ]
  },
  {
   "cell_type": "code",
   "execution_count": 94,
   "id": "49828705-4cf5-4956-9940-521f5994ad3c",
   "metadata": {},
   "outputs": [],
   "source": [
    "# pick up media\n",
    "m.move(de=8)"
   ]
  },
  {
   "cell_type": "code",
   "execution_count": 104,
   "id": "f3d70388-5dca-4a66-93ad-586ccefe99f2",
   "metadata": {},
   "outputs": [],
   "source": [
    "# pop z axis down to avoid collisions!\n",
    "m.move(dz=50)"
   ]
  },
  {
   "cell_type": "code",
   "execution_count": 105,
   "id": "9dd5be86-8d47-40a1-b0db-57eeb9625795",
   "metadata": {},
   "outputs": [],
   "source": [
    "# move to dispense location xy pos\n",
    "m.moveTo(x=well_location[0], y=well_location[1])"
   ]
  },
  {
   "cell_type": "code",
   "execution_count": 106,
   "id": "b4ae3dc8-7d5d-4e7e-883d-b3773cc73515",
   "metadata": {},
   "outputs": [],
   "source": [
    "# then move z\n",
    "m.moveTo(z=well_location[2])"
   ]
  },
  {
   "cell_type": "code",
   "execution_count": 107,
   "id": "61f32792-9fa8-423f-8ec0-72f0089cd889",
   "metadata": {},
   "outputs": [],
   "source": [
    "# dispense the media!\n",
    "m.move(de=-10)"
   ]
  },
  {
   "cell_type": "code",
   "execution_count": null,
   "id": "b5bda70e-b446-4759-b971-b7b19b8fbea8",
   "metadata": {},
   "outputs": [],
   "source": []
  }
 ],
 "metadata": {
  "kernelspec": {
   "display_name": "Python 3 (ipykernel)",
   "language": "python",
   "name": "python3"
  },
  "language_info": {
   "codemirror_mode": {
    "name": "ipython",
    "version": 3
   },
   "file_extension": ".py",
   "mimetype": "text/x-python",
   "name": "python",
   "nbconvert_exporter": "python",
   "pygments_lexer": "ipython3",
   "version": "3.7.3"
  }
 },
 "nbformat": 4,
 "nbformat_minor": 5
}
