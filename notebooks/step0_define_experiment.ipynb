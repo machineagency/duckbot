{
 "cells": [
  {
   "cell_type": "markdown",
   "id": "ef238c27",
   "metadata": {},
   "source": [
    "# Define variables and create experiment config file\n",
    "Run all python code cells in this notebook, filling in your own choices where prompted"
   ]
  },
  {
   "cell_type": "markdown",
   "id": "59a7f526",
   "metadata": {},
   "source": [
    "### Import required libraries and define fixed variables"
   ]
  },
  {
   "cell_type": "code",
   "execution_count": null,
   "id": "1689331a",
   "metadata": {
    "tags": []
   },
   "outputs": [],
   "source": [
    "import os\n",
    "import json\n",
    "from pprint import pprint\n",
    "from pathlib import Path\n",
    "from science_jubilee.labware.Labware import Labware\n",
    "from utils.GrowthAssayHelpers import assign_plates_and_wells\n",
    "\n",
    "# We'll set up the directory where experiment configs will be saved\n",
    "root_dir = Path(os.path.abspath('')).resolve().parent\n",
    "config_file_dir = os.path.join(root_dir, \"experiments\")"
   ]
  },
  {
   "cell_type": "markdown",
   "id": "a173b7d0",
   "metadata": {},
   "source": [
    "##  1. ACTION REQUIRED: Define your experimental variables \n",
    "Replace values in this cell to define your experiment"
   ]
  },
  {
   "cell_type": "code",
   "execution_count": null,
   "id": "c564c904",
   "metadata": {
    "tags": []
   },
   "outputs": [],
   "source": [
    "experiment_name = \"TestExperiment\" # This will be used as set up filename as well as experimental data prefix\n",
    "genotypes = [\"Sp7498\", \"Lm5500\", \"Lm8627\", \"Wa7733\"] # Replace with names for unique duckweed genotypes\n",
    "media = [\"0mM\", \"25mM\", \"50mM\", \"100mM\"] # Replace with names for unique media\n",
    "reps  = 4 # Replace with your desired number of replicates for each duckweed/media combination. "
   ]
  },
  {
   "cell_type": "code",
   "execution_count": null,
   "id": "d0ed014b-fc5d-4adc-9857-ebe2355afce7",
   "metadata": {
    "tags": []
   },
   "outputs": [],
   "source": [
    "# Define the labware you will be using for this experiment.\n",
    "# We'll use three 24-well plates.\n",
    "# Note that you will have to use labware with enough cumulative wells to accommomdate the experimental parameters defined above.\n",
    "# If you're using labware of different number of wells, be sure to label them now for use in subsequent steps\n",
    "labware_path = os.path.join(root_dir, \"science_jubilee\")\n",
    "plate1 = Labware(\"corning_24_wellplate_3.4ml_flat\")\n",
    "plate2 = Labware(\"corning_24_wellplate_3.4ml_flat\")\n",
    "plate3 = Labware(\"corning_24_wellplate_3.4ml_flat\")"
   ]
  },
  {
   "cell_type": "markdown",
   "id": "de796356",
   "metadata": {},
   "source": [
    "## 2. Create and save experiment setup config file\n",
    "Simply run these cells, you don't need to edit anything. The final cell will print out the same thing that is saved as a JSON file in case you want to have a look. "
   ]
  },
  {
   "cell_type": "code",
   "execution_count": null,
   "id": "b9589537",
   "metadata": {},
   "outputs": [],
   "source": [
    "# We will create a list of sample information, shuffle it, and then assign each to plates and wells.\n",
    "# Take a look at the assign_plates_and_wells() function in GrowthAssayHelpers.py for more details.\n",
    " # Call the assign_plates_and wells function with your experiment information\n",
    "growth_assay_setup = assign_plates_and_wells(experiment_name, genotypes, media, reps, plate1, plate2, plate3)"
   ]
  },
  {
   "cell_type": "code",
   "execution_count": null,
   "id": "aba7b5d4",
   "metadata": {},
   "outputs": [],
   "source": [
    "# Now we'll save the experimental setup file\n",
    "experiment_info = {}\n",
    "experiment_info[\"experiment_name\"] = experiment_name\n",
    "experiment_info[\"sample_info\"] = growth_assay_setup\n",
    "\n",
    "experiment_setup_file_dir = os.path.join(config_file_dir, experiment_name)\n",
    "if not os.path.exists(experiment_setup_file_dir):\n",
    "    os.mkdir(experiment_setup_file_dir) \n",
    "    \n",
    "config_file_path = os.path.join(experiment_setup_file_dir, f\"{experiment_name}.json\")\n",
    "with open(config_file_path, 'w') as f:\n",
    "    json.dump(experiment_info, f)\n",
    "    \n",
    "print(f\"Experiment config file successfully created and saved {config_file_path}. Contents are displayed below:\")\n",
    "pprint(experiment_info)"
   ]
  },
  {
   "cell_type": "markdown",
   "id": "30dc164d-4f63-4a84-8116-9b7fa0b8c67f",
   "metadata": {},
   "source": [
    "## 2. Visualize the setup\n",
    "The following cell will provide a visualization of the experiment."
   ]
  },
  {
   "cell_type": "code",
   "execution_count": null,
   "id": "ef19d6f3-0006-4076-b511-cad6dcfded0a",
   "metadata": {},
   "outputs": [],
   "source": [
    "from utils.GrowthAssayHelpers import visualize_plate_setup\n",
    "# Call the visualize_plate_setup function using the name of the file you just created\n",
    "# See the function in GrowthAssayHelpers.py for more information\n",
    "visualize_plate_setup(config_file_path)"
   ]
  },
  {
   "cell_type": "code",
   "execution_count": null,
   "id": "15a723e4-e15b-40e8-9153-98724d71f597",
   "metadata": {},
   "outputs": [],
   "source": []
  }
 ],
 "metadata": {
  "kernelspec": {
   "display_name": "updating-for-sj-duckbot",
   "language": "python",
   "name": "updating-for-sj-duckbot"
  },
  "language_info": {
   "codemirror_mode": {
    "name": "ipython",
    "version": 3
   },
   "file_extension": ".py",
   "mimetype": "text/x-python",
   "name": "python",
   "nbconvert_exporter": "python",
   "pygments_lexer": "ipython3",
   "version": "3.7.3"
  }
 },
 "nbformat": 4,
 "nbformat_minor": 5
}
