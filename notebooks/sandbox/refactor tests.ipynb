{
 "cells": [
  {
   "cell_type": "code",
   "execution_count": null,
   "id": "83d4182e",
   "metadata": {},
   "outputs": [],
   "source": [
    "from duckbot.Machine import Machine"
   ]
  },
  {
   "cell_type": "code",
   "execution_count": null,
   "id": "cd62b1a7",
   "metadata": {},
   "outputs": [],
   "source": [
    "m = Machine()"
   ]
  },
  {
   "cell_type": "code",
   "execution_count": null,
   "id": "d2bc244b",
   "metadata": {},
   "outputs": [],
   "source": [
    "m._configured_tools"
   ]
  },
  {
   "cell_type": "code",
   "execution_count": null,
   "id": "f6bbaf7f",
   "metadata": {},
   "outputs": [],
   "source": [
    "Machine.TOOL_TYPES"
   ]
  },
  {
   "cell_type": "code",
   "execution_count": null,
   "id": "6eee8ac0",
   "metadata": {},
   "outputs": [],
   "source": [
    "m.tool_change(1)"
   ]
  },
  {
   "cell_type": "code",
   "execution_count": null,
   "id": "c06a9b4f",
   "metadata": {},
   "outputs": [],
   "source": [
    "m.tool.pickup_tip()"
   ]
  },
  {
   "cell_type": "code",
   "execution_count": null,
   "id": "1aedc1c1",
   "metadata": {},
   "outputs": [],
   "source": []
  }
 ],
 "metadata": {
  "kernelspec": {
   "display_name": "Python 3 (ipykernel)",
   "language": "python",
   "name": "python3"
  },
  "language_info": {
   "codemirror_mode": {
    "name": "ipython",
    "version": 3
   },
   "file_extension": ".py",
   "mimetype": "text/x-python",
   "name": "python",
   "nbconvert_exporter": "python",
   "pygments_lexer": "ipython3",
   "version": "3.7.3"
  }
 },
 "nbformat": 4,
 "nbformat_minor": 5
}
