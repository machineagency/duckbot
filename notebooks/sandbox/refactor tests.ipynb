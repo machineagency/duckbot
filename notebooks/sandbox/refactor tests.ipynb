{
 "cells": [
  {
   "cell_type": "code",
   "execution_count": 1,
   "id": "06cbddda",
   "metadata": {},
   "outputs": [],
   "source": [
    "from duckbot.Machine import Machine"
   ]
  },
  {
   "cell_type": "code",
   "execution_count": 2,
   "id": "f8254190",
   "metadata": {},
   "outputs": [
    {
     "name": "stdout",
     "output_type": "stream",
     "text": [
      "configuring tools\n"
     ]
    }
   ],
   "source": [
    "m = Machine()"
   ]
  },
  {
   "cell_type": "code",
   "execution_count": 3,
   "id": "20c3ed21",
   "metadata": {},
   "outputs": [
    {
     "data": {
      "text/plain": [
       "{0: 'Inoculation Loop',\n",
       " 1: 'BrokenTrons',\n",
       " 2: 'Side Camera',\n",
       " 3: 'Top-Down Camera'}"
      ]
     },
     "execution_count": 3,
     "metadata": {},
     "output_type": "execute_result"
    }
   ],
   "source": [
    "m._configured_tools"
   ]
  },
  {
   "cell_type": "code",
   "execution_count": 4,
   "id": "9ee50a11",
   "metadata": {},
   "outputs": [
    {
     "data": {
      "text/plain": [
       "{'Inoculation Loop': {'tool_type': duckbot.tools.Loop.Loop, 'details': ''},\n",
       " 'BrokenTrons': {'tool_type': duckbot.tools.Pipette.Pipette,\n",
       "  'details': 'p50_gen1'},\n",
       " 'Side Camera': {'tool_type': duckbot.tools.Camera.Camera, 'details': ''},\n",
       " 'Top-Down Camera': {'tool_type': duckbot.tools.Camera.Camera, 'details': ''},\n",
       " '10cc Syringe': {'tool_type': duckbot.tools.Syringe.Syringe, 'details': ''}}"
      ]
     },
     "execution_count": 4,
     "metadata": {},
     "output_type": "execute_result"
    }
   ],
   "source": [
    "Machine.TOOL_TYPES"
   ]
  },
  {
   "cell_type": "code",
   "execution_count": 5,
   "id": "d45955dd",
   "metadata": {},
   "outputs": [],
   "source": [
    "m.tool_change(1)"
   ]
  },
  {
   "cell_type": "code",
   "execution_count": 20,
   "id": "126fd123",
   "metadata": {},
   "outputs": [
    {
     "name": "stdout",
     "output_type": "stream",
     "text": [
      "i picked up a tip!\n"
     ]
    }
   ],
   "source": [
    "m.tool.pickup_tip()"
   ]
  },
  {
   "cell_type": "code",
   "execution_count": 12,
   "id": "2a071240",
   "metadata": {},
   "outputs": [],
   "source": [
    "m.tool.aspirate_prime()"
   ]
  },
  {
   "cell_type": "code",
   "execution_count": 8,
   "id": "70433621",
   "metadata": {},
   "outputs": [],
   "source": [
    "m.tool.aspirate(10)"
   ]
  },
  {
   "cell_type": "code",
   "execution_count": 10,
   "id": "0ac6458a",
   "metadata": {},
   "outputs": [
    {
     "ename": "AttributeError",
     "evalue": "'Pipette' object has no attribute 'mm_to_ml'",
     "output_type": "error",
     "traceback": [
      "\u001b[0;31m---------------------------------------------------------------------------\u001b[0m",
      "\u001b[0;31mAttributeError\u001b[0m                            Traceback (most recent call last)",
      "\u001b[0;32m/tmp/ipykernel_5997/2607704663.py\u001b[0m in \u001b[0;36m<module>\u001b[0;34m\u001b[0m\n\u001b[0;32m----> 1\u001b[0;31m \u001b[0mm\u001b[0m\u001b[0;34m.\u001b[0m\u001b[0mtool\u001b[0m\u001b[0;34m.\u001b[0m\u001b[0mdispense\u001b[0m\u001b[0;34m(\u001b[0m\u001b[0;36m10\u001b[0m\u001b[0;34m)\u001b[0m\u001b[0;34m\u001b[0m\u001b[0;34m\u001b[0m\u001b[0m\n\u001b[0m",
      "\u001b[0;32m~/duckbot/duckbot/tools/Pipette.py\u001b[0m in \u001b[0;36mdispense\u001b[0;34m(self, vol)\u001b[0m\n\u001b[1;32m     65\u001b[0m \u001b[0;34m\u001b[0m\u001b[0m\n\u001b[1;32m     66\u001b[0m     \u001b[0;32mdef\u001b[0m \u001b[0mdispense\u001b[0m\u001b[0;34m(\u001b[0m\u001b[0mself\u001b[0m\u001b[0;34m,\u001b[0m \u001b[0mvol\u001b[0m\u001b[0;34m)\u001b[0m\u001b[0;34m:\u001b[0m \u001b[0;31m# volume is in microliters. 50 is the max volume\u001b[0m\u001b[0;34m\u001b[0m\u001b[0;34m\u001b[0m\u001b[0m\n\u001b[0;32m---> 67\u001b[0;31m         \u001b[0mdv\u001b[0m \u001b[0;34m=\u001b[0m \u001b[0mvol\u001b[0m \u001b[0;34m*\u001b[0m \u001b[0mself\u001b[0m\u001b[0;34m.\u001b[0m\u001b[0mmm_to_ul\u001b[0m\u001b[0;34m\u001b[0m\u001b[0;34m\u001b[0m\u001b[0m\n\u001b[0m\u001b[1;32m     68\u001b[0m         \u001b[0mend_pos\u001b[0m \u001b[0;34m=\u001b[0m \u001b[0mfloat\u001b[0m\u001b[0;34m(\u001b[0m\u001b[0mself\u001b[0m\u001b[0;34m.\u001b[0m\u001b[0m_machine\u001b[0m\u001b[0;34m.\u001b[0m\u001b[0mget_position\u001b[0m\u001b[0;34m(\u001b[0m\u001b[0;34m)\u001b[0m\u001b[0;34m[\u001b[0m\u001b[0;34m'V'\u001b[0m\u001b[0;34m]\u001b[0m\u001b[0;34m)\u001b[0m \u001b[0;34m+\u001b[0m \u001b[0mdv\u001b[0m\u001b[0;34m\u001b[0m\u001b[0;34m\u001b[0m\u001b[0m\n\u001b[1;32m     69\u001b[0m         \u001b[0mself\u001b[0m\u001b[0;34m.\u001b[0m\u001b[0mcheck_bounds\u001b[0m\u001b[0;34m(\u001b[0m\u001b[0mend_pos\u001b[0m\u001b[0;34m)\u001b[0m\u001b[0;34m\u001b[0m\u001b[0;34m\u001b[0m\u001b[0m\n",
      "\u001b[0;31mAttributeError\u001b[0m: 'Pipette' object has no attribute 'mm_to_ml'"
     ]
    }
   ],
   "source": [
    "m.tool.dispense(10)"
   ]
  },
  {
   "cell_type": "code",
   "execution_count": 21,
   "id": "5b871149",
   "metadata": {},
   "outputs": [
    {
     "name": "stdout",
     "output_type": "stream",
     "text": [
      "i ejected a tip!\n"
     ]
    }
   ],
   "source": [
    "m.tool.eject_tip()"
   ]
  },
  {
   "cell_type": "code",
   "execution_count": null,
   "id": "0b94f931",
   "metadata": {},
   "outputs": [],
   "source": []
  }
 ],
 "metadata": {
  "kernelspec": {
   "display_name": "Python 3 (ipykernel)",
   "language": "python",
   "name": "python3"
  },
  "language_info": {
   "codemirror_mode": {
    "name": "ipython",
    "version": 3
   },
   "file_extension": ".py",
   "mimetype": "text/x-python",
   "name": "python",
   "nbconvert_exporter": "python",
   "pygments_lexer": "ipython3",
   "version": "3.7.3"
  }
 },
 "nbformat": 4,
 "nbformat_minor": 5
}
