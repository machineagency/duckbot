{
 "cells": [
  {
   "cell_type": "code",
   "execution_count": null,
   "id": "887a7221",
   "metadata": {},
   "outputs": [],
   "source": [
    "from duckbot.Machine import Machine"
   ]
  },
  {
   "cell_type": "code",
   "execution_count": null,
   "id": "4d1a73c2",
   "metadata": {},
   "outputs": [],
   "source": [
    "m = Machine()"
   ]
  },
  {
   "cell_type": "code",
   "execution_count": null,
   "id": "1004e451",
   "metadata": {},
   "outputs": [],
   "source": [
    "m._configured_tools"
   ]
  },
  {
   "cell_type": "code",
   "execution_count": null,
   "id": "100e6fa5",
   "metadata": {},
   "outputs": [],
   "source": [
    "Machine.TOOL_TYPES"
   ]
  },
  {
   "cell_type": "code",
   "execution_count": null,
   "id": "db05f705",
   "metadata": {},
   "outputs": [],
   "source": [
    "m.tool_change(1)"
   ]
  },
  {
   "cell_type": "code",
   "execution_count": null,
   "id": "4c5c3b92",
   "metadata": {},
   "outputs": [],
   "source": [
    "m.tool.pickup_tip()"
   ]
  },
  {
   "cell_type": "code",
   "execution_count": null,
   "id": "79b6ace5",
   "metadata": {},
   "outputs": [],
   "source": [
    "m.tool.aspirate_prime()"
   ]
  },
  {
   "cell_type": "code",
   "execution_count": null,
   "id": "94d91ba8",
   "metadata": {},
   "outputs": [],
   "source": [
    "m.tool.aspirate(10)"
   ]
  },
  {
   "cell_type": "code",
   "execution_count": null,
   "id": "a079a856",
   "metadata": {},
   "outputs": [],
   "source": [
    "m.tool.dispense(10)"
   ]
  },
  {
   "cell_type": "code",
   "execution_count": null,
   "id": "2c25e598",
   "metadata": {},
   "outputs": [],
   "source": [
    "m.tool.eject_tip()"
   ]
  },
  {
   "cell_type": "code",
   "execution_count": null,
   "id": "4c8f097e",
   "metadata": {},
   "outputs": [],
   "source": []
  }
 ],
 "metadata": {
  "kernelspec": {
   "display_name": "Python 3 (ipykernel)",
   "language": "python",
   "name": "python3"
  },
  "language_info": {
   "codemirror_mode": {
    "name": "ipython",
    "version": 3
   },
   "file_extension": ".py",
   "mimetype": "text/x-python",
   "name": "python",
   "nbconvert_exporter": "python",
   "pygments_lexer": "ipython3",
   "version": "3.7.3"
  }
 },
 "nbformat": 4,
 "nbformat_minor": 5
}
