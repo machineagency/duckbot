{
 "cells": [
  {
   "cell_type": "code",
   "execution_count": 1,
   "id": "7d0df48e",
   "metadata": {},
   "outputs": [],
   "source": [
    "from duckbot.Machine import Machine\n",
    "%load_ext autoreload\n",
    "%autoreload 2"
   ]
  },
  {
   "cell_type": "code",
   "execution_count": 2,
   "id": "09a3aed8",
   "metadata": {},
   "outputs": [
    {
     "name": "stdout",
     "output_type": "stream",
     "text": [
      "configuring tools\n"
     ]
    }
   ],
   "source": [
    "m = Machine()\n",
    "m.set_plate(config='base_plate_config')"
   ]
  },
  {
   "cell_type": "code",
   "execution_count": 3,
   "id": "26d0228d",
   "metadata": {},
   "outputs": [
    {
     "data": {
      "text/plain": [
       "{0: 'Inoculation Loop',\n",
       " 1: 'BrokenTrons',\n",
       " 2: 'Side Camera',\n",
       " 3: 'Top-Down Camera'}"
      ]
     },
     "execution_count": 3,
     "metadata": {},
     "output_type": "execute_result"
    }
   ],
   "source": [
    "m._configured_tools"
   ]
  },
  {
   "cell_type": "code",
   "execution_count": 4,
   "id": "ce5cf787",
   "metadata": {},
   "outputs": [
    {
     "data": {
      "text/plain": [
       "{0: {'origin': [14.5, 91.2], 'labware': None},\n",
       " 1: {'origin': [15.1, 187.8], 'labware': None},\n",
       " 2: {'origin': [15.9, 284.7], 'labware': None},\n",
       " 3: {'origin': [155.8, 283.6], 'labware': None},\n",
       " 4: {'origin': [155.1, 186.7], 'labware': None},\n",
       " 5: {'origin': [154.3, 89.8], 'labware': None}}"
      ]
     },
     "execution_count": 4,
     "metadata": {},
     "output_type": "execute_result"
    }
   ],
   "source": [
    "m.plate.slots"
   ]
  },
  {
   "cell_type": "code",
   "execution_count": 61,
   "id": "1559f5ad",
   "metadata": {},
   "outputs": [
    {
     "name": "stdout",
     "output_type": "stream",
     "text": [
      "-0.009099849926008994 -0.004792295581258808\n"
     ]
    }
   ],
   "source": [
    "m.plate.load_labware(4, \"opentrons_96_tiprack_300ul\")"
   ]
  },
  {
   "cell_type": "code",
   "execution_count": 62,
   "id": "aea1e7c4",
   "metadata": {},
   "outputs": [
    {
     "data": {
      "text/plain": [
       "{0: {'origin': [14.5, 91.2],\n",
       "  'labware': 'opentrons_96_tiprack_300ul',\n",
       "  'calibration_positions': {'A1': [28.5, 77.0],\n",
       "   'A12': [127.4, 76.1],\n",
       "   'H12': [127.1, 13.5]},\n",
       "  'well_count': 96,\n",
       "  'row_count': 8,\n",
       "  'column_count': 12,\n",
       "  'labware_width': 98.90409496072445,\n",
       "  'labware_height': 62.60071884571294,\n",
       "  'x_spacing': 8.991281360065859,\n",
       "  'y_spacing': 8.942959835101849,\n",
       "  'theta': -0.006946072753633755},\n",
       " 1: {'origin': [15.1, 187.8], 'labware': None},\n",
       " 2: {'origin': [15.9, 284.7], 'labware': None},\n",
       " 3: {'origin': [155.8, 283.6], 'labware': None},\n",
       " 4: {'origin': [155.1, 186.7],\n",
       "  'labware': 'opentrons_96_tiprack_300ul',\n",
       "  'calibration_positions': {'A1': [169.1, 172.5],\n",
       "   'A12': [268.0, 171.59999999999997],\n",
       "   'H12': [267.7, 108.99999999999999]},\n",
       "  'well_count': 96,\n",
       "  'row_count': 8,\n",
       "  'column_count': 12,\n",
       "  'labware_width': 98.90409496072445,\n",
       "  'labware_height': 62.600718845712926,\n",
       "  'x_spacing': 8.991281360065859,\n",
       "  'y_spacing': 8.942959835101847,\n",
       "  'theta': -0.006946072753633901},\n",
       " 5: {'origin': [154.3, 89.8], 'labware': None}}"
      ]
     },
     "execution_count": 62,
     "metadata": {},
     "output_type": "execute_result"
    }
   ],
   "source": [
    "m.plate.slots"
   ]
  },
  {
   "cell_type": "code",
   "execution_count": 95,
   "id": "7617178c",
   "metadata": {},
   "outputs": [],
   "source": [
    "well_pos = m.plate.get_well_position(4, \"H12\")"
   ]
  },
  {
   "cell_type": "code",
   "execution_count": 96,
   "id": "5d150daf",
   "metadata": {},
   "outputs": [
    {
     "data": {
      "text/plain": [
       "[268.00409496072444,\n",
       " 109.89928115428707,\n",
       " -0.6869895148951192,\n",
       " -0.43482565093973197]"
      ]
     },
     "execution_count": 96,
     "metadata": {},
     "output_type": "execute_result"
    }
   ],
   "source": [
    "well_pos"
   ]
  },
  {
   "cell_type": "code",
   "execution_count": 97,
   "id": "eb0671b6",
   "metadata": {},
   "outputs": [
    {
     "data": {
      "text/plain": [
       "(268.00409496072444, 109.89928115428707)"
      ]
     },
     "execution_count": 97,
     "metadata": {},
     "output_type": "execute_result"
    }
   ],
   "source": [
    "well_pos[0], well_pos[1]"
   ]
  },
  {
   "cell_type": "code",
   "execution_count": 98,
   "id": "543d121e",
   "metadata": {},
   "outputs": [],
   "source": [
    "m.move_to(x=well_pos[0], y=well_pos[1])"
   ]
  },
  {
   "cell_type": "code",
   "execution_count": 90,
   "id": "c43ac27f",
   "metadata": {},
   "outputs": [
    {
     "name": "stdout",
     "output_type": "stream",
     "text": [
      "(320, 240)\n"
     ]
    }
   ],
   "source": [
    "m.tool.video_stream(2)"
   ]
  },
  {
   "cell_type": "code",
   "execution_count": null,
   "id": "288690ae",
   "metadata": {},
   "outputs": [],
   "source": []
  }
 ],
 "metadata": {
  "kernelspec": {
   "display_name": "Python 3 (ipykernel)",
   "language": "python",
   "name": "python3"
  },
  "language_info": {
   "codemirror_mode": {
    "name": "ipython",
    "version": 3
   },
   "file_extension": ".py",
   "mimetype": "text/x-python",
   "name": "python",
   "nbconvert_exporter": "python",
   "pygments_lexer": "ipython3",
   "version": "3.7.3"
  }
 },
 "nbformat": 4,
 "nbformat_minor": 5
}
