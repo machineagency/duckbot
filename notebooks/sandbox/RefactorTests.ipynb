{
 "cells": [
  {
   "cell_type": "code",
   "execution_count": 1,
   "id": "7d0df48e",
   "metadata": {},
   "outputs": [
    {
     "name": "stdout",
     "output_type": "stream",
     "text": [
      "duckbot.tools\n",
      "duckbot.tools\n",
      "duckbot.tools\n",
      "duckbot.tools\n",
      "duckbot.tools\n",
      "duckbot.plates\n"
     ]
    }
   ],
   "source": [
    "from duckbot.Machine import Machine\n",
    "%load_ext autoreload\n",
    "%autoreload 2"
   ]
  },
  {
   "cell_type": "code",
   "execution_count": 2,
   "id": "09a3aed8",
   "metadata": {},
   "outputs": [
    {
     "name": "stdout",
     "output_type": "stream",
     "text": [
      "configuring tools\n",
      "0\n",
      "['210.400', '305.000']\n",
      "1\n",
      "['210.400', '305.000']\n",
      "2\n",
      "['210.400', '305.000']\n",
      "3\n",
      "['210.400', '305.000']\n",
      "4\n",
      "['210.400', '305.000']\n",
      "5\n",
      "['210.400', '305.000']\n"
     ]
    }
   ],
   "source": [
    "m = Machine()\n",
    "m.set_plate('base_plate_config')"
   ]
  },
  {
   "cell_type": "code",
   "execution_count": null,
   "id": "26d0228d",
   "metadata": {},
   "outputs": [],
   "source": [
    "m._configured_tools"
   ]
  },
  {
   "cell_type": "code",
   "execution_count": null,
   "id": "ce5cf787",
   "metadata": {},
   "outputs": [],
   "source": [
    "Machine.TOOL_TYPES"
   ]
  },
  {
   "cell_type": "code",
   "execution_count": null,
   "id": "1559f5ad",
   "metadata": {},
   "outputs": [],
   "source": [
    "m.tool_change(3)"
   ]
  },
  {
   "cell_type": "code",
   "execution_count": null,
   "id": "aea1e7c4",
   "metadata": {},
   "outputs": [],
   "source": [
    "%matplotlib inline\n",
    "f = m.tool.get_show_frame()"
   ]
  },
  {
   "cell_type": "code",
   "execution_count": null,
   "id": "7617178c",
   "metadata": {},
   "outputs": [],
   "source": [
    "m.tool.open_video_stream(2)"
   ]
  },
  {
   "cell_type": "code",
   "execution_count": null,
   "id": "eb0671b6",
   "metadata": {},
   "outputs": [],
   "source": [
    "# position of camera over alignment circle\n",
    "m.get_position()"
   ]
  },
  {
   "cell_type": "code",
   "execution_count": null,
   "id": "543d121e",
   "metadata": {},
   "outputs": [],
   "source": [
    "m.move_to(x=90.3, y=248.9)"
   ]
  },
  {
   "cell_type": "code",
   "execution_count": null,
   "id": "c43ac27f",
   "metadata": {},
   "outputs": [],
   "source": []
  }
 ],
 "metadata": {
  "kernelspec": {
   "display_name": "Python 3 (ipykernel)",
   "language": "python",
   "name": "python3"
  },
  "language_info": {
   "codemirror_mode": {
    "name": "ipython",
    "version": 3
   },
   "file_extension": ".py",
   "mimetype": "text/x-python",
   "name": "python",
   "nbconvert_exporter": "python",
   "pygments_lexer": "ipython3",
   "version": "3.7.3"
  }
 },
 "nbformat": 4,
 "nbformat_minor": 5
}
