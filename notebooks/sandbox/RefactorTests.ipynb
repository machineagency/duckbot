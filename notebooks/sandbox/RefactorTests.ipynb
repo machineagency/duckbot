{
 "cells": [
  {
   "cell_type": "code",
   "execution_count": 20,
   "id": "7d0df48e",
   "metadata": {
    "tags": []
   },
   "outputs": [],
   "source": [
    "from duckbot.Machine import Machine\n",
    "%load_ext autoreload\n",
    "%autoreload 2"
   ]
  },
  {
   "cell_type": "code",
   "execution_count": 25,
   "id": "09a3aed8",
   "metadata": {},
   "outputs": [],
   "source": [
    "m = Machine(simulated=True)\n",
    "m.set_plate(config='base_plate_config')"
   ]
  },
  {
   "cell_type": "code",
   "execution_count": 26,
   "id": "928fd520",
   "metadata": {},
   "outputs": [
    {
     "data": {
      "text/plain": [
       "{0: 'Inoculation Loop',\n",
       " 1: 'BrokenTrons',\n",
       " 2: 'Side Camera',\n",
       " 3: 'Top-Down Camera',\n",
       " 4: '10cc Syringe'}"
      ]
     },
     "execution_count": 26,
     "metadata": {},
     "output_type": "execute_result"
    }
   ],
   "source": [
    "m.configured_tools"
   ]
  },
  {
   "cell_type": "code",
   "execution_count": 27,
   "id": "26d0228d",
   "metadata": {},
   "outputs": [],
   "source": [
    "m.tool_change(\"Top-Down Camera\")"
   ]
  },
  {
   "cell_type": "code",
   "execution_count": 23,
   "id": "b4f6a72a",
   "metadata": {},
   "outputs": [
    {
     "data": {
      "text/plain": [
       "<duckbot.tools.Camera.Camera at 0x136abf9d0>"
      ]
     },
     "execution_count": 23,
     "metadata": {},
     "output_type": "execute_result"
    }
   ],
   "source": [
    "m.tool"
   ]
  },
  {
   "cell_type": "code",
   "execution_count": null,
   "id": "091a0272",
   "metadata": {},
   "outputs": [],
   "source": []
  },
  {
   "cell_type": "code",
   "execution_count": 17,
   "id": "66c689b7",
   "metadata": {},
   "outputs": [
    {
     "data": {
      "text/plain": [
       "3"
      ]
     },
     "execution_count": 5,
     "metadata": {},
     "output_type": "execute_result"
    }
   ],
   "source": [
    "m.active_tool_index"
   ]
  },
  {
   "cell_type": "code",
   "execution_count": 9,
   "id": "ce5cf787",
   "metadata": {
    "tags": []
   },
   "outputs": [
    {
     "data": {
      "text/plain": [
       "{'origin': [314.3, 41.0], 'labware': None}"
      ]
     },
     "execution_count": 9,
     "metadata": {},
     "output_type": "execute_result"
    }
   ],
   "source": [
    "m.plate.sharps_container"
   ]
  },
  {
   "cell_type": "code",
   "execution_count": 41,
   "id": "1559f5ad",
   "metadata": {},
   "outputs": [],
   "source": [
    "m.plate.load_labware(4, \"opentrons_96_tiprack_300ul\")"
   ]
  },
  {
   "cell_type": "code",
   "execution_count": 42,
   "id": "aea1e7c4",
   "metadata": {},
   "outputs": [
    {
     "data": {
      "text/plain": [
       "{0: {'origin': [14.5, 91.2], 'labware': None},\n",
       " 1: {'origin': [15.1, 187.8], 'labware': None},\n",
       " 2: {'origin': [15.9, 284.7], 'labware': None},\n",
       " 3: {'origin': [155.8, 283.6], 'labware': None},\n",
       " 4: {'origin': [155.1, 186.7],\n",
       "  'labware': 'opentrons_96_tiprack_300ul',\n",
       "  'calibration_positions': {'A1': [169.1, 172.5],\n",
       "   'A12': [268.0, 171.59999999999997],\n",
       "   'H12': [267.7, 108.99999999999999]},\n",
       "  'well_count': 96,\n",
       "  'row_count': 8,\n",
       "  'column_count': 12,\n",
       "  'labware_width': 98.90409496072445,\n",
       "  'labware_height': 62.600718845712926,\n",
       "  'x_spacing': 8.991281360065859,\n",
       "  'y_spacing': 8.942959835101847,\n",
       "  'theta': -0.006946072753633901},\n",
       " 5: {'origin': [154.3, 89.8], 'labware': None}}"
      ]
     },
     "execution_count": 42,
     "metadata": {},
     "output_type": "execute_result"
    }
   ],
   "source": [
    "m.plate.slots"
   ]
  },
  {
   "cell_type": "code",
   "execution_count": 62,
   "id": "7617178c",
   "metadata": {},
   "outputs": [
    {
     "name": "stdout",
     "output_type": "stream",
     "text": [
      "-0.006946072753633901\n"
     ]
    }
   ],
   "source": [
    "well_pos = m.plate.get_well_position(4, \"H12\")"
   ]
  },
  {
   "cell_type": "code",
   "execution_count": 63,
   "id": "5d150daf",
   "metadata": {},
   "outputs": [
    {
     "data": {
      "text/plain": [
       "[268.00409496072444, 109.89928115428707, 268.4365346624953, 110.58778084055737]"
      ]
     },
     "execution_count": 63,
     "metadata": {},
     "output_type": "execute_result"
    }
   ],
   "source": [
    "well_pos"
   ]
  },
  {
   "cell_type": "code",
   "execution_count": null,
   "id": "eb0671b6",
   "metadata": {},
   "outputs": [],
   "source": [
    "well_pos[0], well_pos[1]"
   ]
  },
  {
   "cell_type": "code",
   "execution_count": null,
   "id": "543d121e",
   "metadata": {},
   "outputs": [],
   "source": [
    "m.move_to(x=well_pos[0], y=well_pos[1])"
   ]
  },
  {
   "cell_type": "code",
   "execution_count": null,
   "id": "c43ac27f",
   "metadata": {},
   "outputs": [],
   "source": [
    "m.tool.video_stream(2)"
   ]
  },
  {
   "cell_type": "code",
   "execution_count": null,
   "id": "288690ae",
   "metadata": {},
   "outputs": [],
   "source": []
  }
 ],
 "metadata": {
  "kernelspec": {
   "display_name": "Python 3 (ipykernel)",
   "language": "python",
   "name": "python3"
  },
  "language_info": {
   "codemirror_mode": {
    "name": "ipython",
    "version": 3
   },
   "file_extension": ".py",
   "mimetype": "text/x-python",
   "name": "python",
   "nbconvert_exporter": "python",
   "pygments_lexer": "ipython3",
   "version": "3.7.3"
  }
 },
 "nbformat": 4,
 "nbformat_minor": 5
}
