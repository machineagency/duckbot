{
 "cells": [
  {
   "cell_type": "code",
   "execution_count": null,
   "id": "9f23c2fa",
   "metadata": {},
   "outputs": [],
   "source": [
    "### This tutorial will walk you through defining variables for controlling your OT Pipette"
   ]
  },
  {
   "cell_type": "code",
   "execution_count": 4,
   "id": "5a3a87f5",
   "metadata": {},
   "outputs": [],
   "source": [
    "### Find V range ###\n",
    "\n",
    "# In your Duet config file, find your steps/mm setting. This sould be either 48 or 200, depending on the generation\n",
    "# of your pipette. The command in the confing will look like \"M92 V48\" or \"M92 V200\"\n",
    "\n",
    "steps_mm = 48 # Enter steps/mm here\n",
    "v_range = 9600/steps_mm\n",
    "max_vol = 50 # Enter the max volume of your pipette in mircoliters\n",
    "aspiration_home = v_range*0.76 # 76% of the motor range is used for liquid handling. the rest is for ejecting tips\n",
    "steps_microliter = aspiration_home/max_vol"
   ]
  },
  {
   "cell_type": "code",
   "execution_count": null,
   "id": "d9275a3f",
   "metadata": {},
   "outputs": [],
   "source": [
    "### Open your MachineUtils.py in jupyter notebooks ###"
   ]
  },
  {
   "cell_type": "code",
   "execution_count": 12,
   "id": "8d82248c",
   "metadata": {},
   "outputs": [
    {
     "name": "stdout",
     "output_type": "stream",
     "text": [
      "def moveTo(self, x=None, y=None, z=None, v=None, s = 6000):\n",
      "\n",
      "    if v and (v > 200.0 or v < 0):\n",
      "        v=None\n",
      "        raise Exception ('V cannot be less than O or greater than 200.0')\n",
      "\n",
      "    x = \"{0:.2f}\".format(x) if x is not None else None\n",
      "    y = \"{0:.2f}\".format(y) if y is not None else None\n",
      "    z = \"{0:.2f}\".format(z) if z is not None else None\n",
      "    v = \"{0:.2f}\".format(v) if v is not None else None\n",
      "    s = \"{0:.2f}\".format(s)\n",
      "\n",
      "    x_cmd = y_cmd = z_cmd = v_cmd = f_cmd ''\n",
      "\n",
      "    if x is not None:\n",
      "        x_cmd = f'X{x}'\n",
      "    if y is not None:\n",
      "        y_cmd = f'Y{y}'\n",
      "    if z is not None:\n",
      "        z_cmd = f'Z{z}'\n",
      "    if v is not None:\n",
      "        v_cmd = f'V{v}'\n",
      "    if s is not None:\n",
      "        f_cmd = f'F{s}'\n",
      "\n",
      "    self.setAbsolute()\n",
      "    cmd = f\"G0 {x_cmd} {y_cmd} {z_cmd} {v_cmd} {f_cmd}\"\n",
      "    self.send(cmd)\n"
     ]
    }
   ],
   "source": [
    "### Add v axis movement to \"moveTo\" function ###\n",
    "\n",
    "# You can copy and replace your \"moveTo function with the print output from this cell\n",
    "# If your machine has additional axes, you can instead add v-axis parts where appropriate\n",
    " \n",
    "\n",
    "print(\"def moveTo(self, x=None, y=None, z=None, v=None, s = 6000):\") # adds 'v=None' to parameters\n",
    "print()\n",
    "print(\"    if v and (v > \" + str(v_range) + \" or v < 0):\") # checks to make sure the motor will stay in range\n",
    "print(\"        v=None\")\n",
    "print(\"        raise Exception ('V cannot be less than O or greater than \" + str(v_range) + \"')\")\n",
    "print()\n",
    "print(\"    x = \\\"{0:.2f}\\\".format(x) if x is not None else None\")\n",
    "print(\"    y = \\\"{0:.2f}\\\".format(y) if y is not None else None\")\n",
    "print(\"    z = \\\"{0:.2f}\\\".format(z) if z is not None else None\")\n",
    "print(\"    v = \\\"{0:.2f}\\\".format(v) if v is not None else None\") # adds formatting for duet control\n",
    "print(\"    s = \\\"{0:.2f}\\\".format(s)\")\n",
    "print()\n",
    "print(\"    x_cmd = y_cmd = z_cmd = v_cmd = f_cmd \\'\\'\") # initializes command variables\n",
    "print()\n",
    "print(\"    if x is not None:\")\n",
    "print(\"        x_cmd = f\\'X{x}\\'\")\n",
    "print(\"    if y is not None:\")\n",
    "print(\"        y_cmd = f\\'Y{y}\\'\")\n",
    "print(\"    if z is not None:\")\n",
    "print(\"        z_cmd = f\\'Z{z}\\'\")\n",
    "print(\"    if v is not None:\")\n",
    "print(\"        v_cmd = f\\'V{v}\\'\") # assigns command variable\n",
    "print(\"    if s is not None:\")\n",
    "print(\"        f_cmd = f\\'F{s}\\'\")\n",
    "print()\n",
    "print(\"    self.setAbsolute()\")\n",
    "print(\"    cmd = f\\\"G0 {x_cmd} {y_cmd} {z_cmd} {v_cmd} {f_cmd}\\\"\")\n",
    "print(\"    self.send(cmd)\")"
   ]
  },
  {
   "cell_type": "code",
   "execution_count": 16,
   "id": "b7c279cb",
   "metadata": {},
   "outputs": [
    {
     "name": "stdout",
     "output_type": "stream",
     "text": [
      "    def aspirate_prime(self):\n",
      "        self.moveTo(v=152.0)\n"
     ]
    }
   ],
   "source": [
    "### Add function to prime the pipette for aspiration ###\n",
    "\n",
    "# Copy the output of this cell somewhere below the \"moveTo\" function\n",
    "\n",
    "print(\"    def aspirate_prime(self):\")\n",
    "print(\"        self.moveTo(v=\"+ str(aspiration_home) +\")\")"
   ]
  },
  {
   "cell_type": "code",
   "execution_count": 20,
   "id": "11ce01cb",
   "metadata": {},
   "outputs": [
    {
     "name": "stdout",
     "output_type": "stream",
     "text": [
      "    def eject_tip(self):\n",
      "        self.moveTo(v=190.0)\n",
      "        self.aspirate_prime()\n"
     ]
    }
   ],
   "source": [
    "### Add function to eject tip ###\n",
    "\n",
    "# Copy the output of this cell somewhere below the \"moveTo\" function\n",
    "\n",
    "print(\"    def eject_tip(self):\")\n",
    "print(\"        self.moveTo(v=\"+ str(v_range*0.95) +\")\") # pushes off tip\n",
    "print(\"        self.aspirate_prime()\") # resets position to aspirate"
   ]
  },
  {
   "cell_type": "code",
   "execution_count": 11,
   "id": "72deb556",
   "metadata": {},
   "outputs": [
    {
     "name": "stdout",
     "output_type": "stream",
     "text": [
      "    def aspirate(self, vol): # volume is in microliters\n",
      "        dv=-(vol*3.04)\n",
      "        end_pos = float(self.getPosition()['V']) + dv\n",
      "        self.moveTo(v=end_pos)\n"
     ]
    }
   ],
   "source": [
    "### Add function to aspirate liquid ###\n",
    "\n",
    "# Copy the output of this cell somewhere below the \"moveTo\" and  \"getPosition\" function\n",
    "\n",
    "print(\"    def aspirate(self, vol): # volume is in microliters\")\n",
    "print(\"        dv=-(vol*\"+ str(steps_microliter)+\")\") # this divides motor range by max liquid in microliters to\n",
    "                                                         # get a rough calculation of steps/microliter\n",
    "    \n",
    "print(\"        end_pos = float(self.getPosition()['V']) + dv\") # this calculates the final v position by retrieving\n",
    "                                                               # the current position and add the change in position\n",
    "print(\"        self.moveTo(v=end_pos)\")"
   ]
  },
  {
   "cell_type": "code",
   "execution_count": 8,
   "id": "2889974d",
   "metadata": {},
   "outputs": [
    {
     "name": "stdout",
     "output_type": "stream",
     "text": [
      "    def dispense(self, vol): # volume is in microliters. 50 is the max volume\n",
      "        dv=(vol*3.04)\n",
      "        end_pos = float(self.getPosition()['V']) + dv\n",
      "        self.moveTo(v=end_pos)\n"
     ]
    }
   ],
   "source": [
    "### Add function to dispense liquid ###\n",
    "\n",
    "# Copy the output of this cell somewhere below the \"moveTo\" and  \"getPosition\" function\n",
    "\n",
    "print(\"    def dispense(self, vol): # volume is in microliters. 50 is the max volume\")\n",
    "print(\"        dv=(vol*\"+ str(steps_microliter)+\")\")\n",
    "print(\"        end_pos = float(self.getPosition()['V']) + dv\")\n",
    "print(\"        self.moveTo(v=end_pos)\")"
   ]
  },
  {
   "cell_type": "code",
   "execution_count": null,
   "id": "a0eacc84",
   "metadata": {},
   "outputs": [],
   "source": [
    "### The OT pipette should now be safe to use and roughly calibrated ###"
   ]
  }
 ],
 "metadata": {
  "kernelspec": {
   "display_name": "Python 3 (ipykernel)",
   "language": "python",
   "name": "python3"
  },
  "language_info": {
   "codemirror_mode": {
    "name": "ipython",
    "version": 3
   },
   "file_extension": ".py",
   "mimetype": "text/x-python",
   "name": "python",
   "nbconvert_exporter": "python",
   "pygments_lexer": "ipython3",
   "version": "3.7.3"
  }
 },
 "nbformat": 4,
 "nbformat_minor": 5
}
