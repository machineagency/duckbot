{
 "cells": [
  {
   "cell_type": "markdown",
   "id": "b50e21ab",
   "metadata": {},
   "source": [
    "# Image plates of duckweed in growth assay experiment"
   ]
  },
  {
   "cell_type": "markdown",
   "id": "3432466a",
   "metadata": {},
   "source": [
    "Ensure the following before running anything in this notebook:\n",
    " - The machine is switched on, connected to the computer and all axes have been homed. \n",
    " - The camera tool is accessible and in position 1 on the Jubilee\n",
    " \n",
    " Once those steps are complete run the cells in this notebook in order"
   ]
  },
  {
   "cell_type": "code",
   "execution_count": null,
   "id": "85622224",
   "metadata": {
    "tags": []
   },
   "outputs": [],
   "source": [
    "#Importing python libraries\n",
    "import matplotlib\n",
    "matplotlib.use('TkAgg') \n",
    "from matplotlib import pyplot as plt\n",
    "import numpy as np\n",
    "import os\n",
    "from pathlib import Path\n",
    "import pandas as pd\n",
    "import json\n",
    "import threading\n",
    "from datetime import date\n",
    "import ipywidgets as widgets\n",
    "\n",
    "# from utils.CameraUtils import *\n",
    "# from utils.MachineUtils import *\n"
   ]
  },
  {
   "cell_type": "code",
   "execution_count": null,
   "id": "dfffce12",
   "metadata": {
    "tags": []
   },
   "outputs": [],
   "source": [
    "from science_jubilee.Machine import Machine\n",
    "from science_jubilee.decks.Deck import Deck\n",
    "from science_jubilee.tools.Camera import Camera"
   ]
  },
  {
   "cell_type": "code",
   "execution_count": null,
   "id": "bf43367f",
   "metadata": {
    "tags": []
   },
   "outputs": [],
   "source": [
    "# Initialize your connection to the machine\n",
    "m = Machine()\n",
    "deck = m.load_deck(\"lab_automation_deck_MA\")\n",
    "\n",
    "camera = Camera(3, \"Camera\")\n",
    "\n",
    "m.load_tool(camera)"
   ]
  },
  {
   "cell_type": "code",
   "execution_count": null,
   "id": "3a7e9352-e6fb-4d3f-a2d2-4128089190f4",
   "metadata": {
    "tags": []
   },
   "outputs": [],
   "source": [
    "# Load the plates used for the experiment\n",
    "plate1 = deck.load_labware(\"greiner_24_wellplate_3300ul\", 1)\n",
    "plate2 = deck.load_labware(\"greiner_24_wellplate_3300ul\", 2)\n",
    "plate3 = deck.load_labware(\"greiner_24_wellplate_3300ul\", 3)"
   ]
  },
  {
   "cell_type": "markdown",
   "id": "8a731fd0",
   "metadata": {},
   "source": [
    "## 1. Select config file and define directory for storing output image data"
   ]
  },
  {
   "cell_type": "markdown",
   "id": "9ef8ee55",
   "metadata": {},
   "source": [
    "### Select config file\n",
    "Select the config file that matches the experiment you are collecting data for"
   ]
  },
  {
   "cell_type": "code",
   "execution_count": null,
   "id": "f56d2d14",
   "metadata": {
    "tags": []
   },
   "outputs": [],
   "source": [
    "root_dir = Path(os.path.abspath('')).resolve().parent\n",
    "config_file_dir = os.path.join(root_dir, \"experiments\")\n",
    "\n",
    "config_opts = os.listdir(config_file_dir)\n",
    "expt_choice = widgets.Dropdown(options = config_opts)\n",
    "display(expt_choice)"
   ]
  },
  {
   "cell_type": "code",
   "execution_count": null,
   "id": "5e41d8db",
   "metadata": {
    "tags": []
   },
   "outputs": [],
   "source": [
    "print(\"You selected:\")\n",
    "print(expt_choice.value)\n",
    "print(\"If this is not correct re-select before continuing\")"
   ]
  },
  {
   "cell_type": "code",
   "execution_count": null,
   "id": "63561397",
   "metadata": {
    "tags": []
   },
   "outputs": [],
   "source": [
    "experimental_config_file = os.path.join(config_file_dir, expt_choice.value, f'{expt_choice.value}.json')\n",
    "with open(experimental_config_file, 'r') as f:\n",
    "    experiment_data = json.load(f)\n",
    "plate_info = experiment_data['sample_info']\n",
    "df = pd.DataFrame(plate_info)\n",
    "\n",
    "# Directory to save images to\n",
    "data_dir = os.path.join(config_file_dir, expt_choice.value, 'images')\n",
    "\n",
    "if not os.path.exists(data_dir):\n",
    "    os.mkdir(data_dir) "
   ]
  },
  {
   "cell_type": "markdown",
   "id": "5fa41c5b",
   "metadata": {},
   "source": [
    "## 2. Load plates into machine"
   ]
  },
  {
   "cell_type": "code",
   "execution_count": null,
   "id": "bf3dedb1-3e7d-4b60-8daf-853621474f84",
   "metadata": {
    "tags": []
   },
   "outputs": [],
   "source": [
    "#Drop bed down and add plates\n",
    "\n",
    "m.move_to(z=100)\n",
    "\n",
    "print('Load your experimental plates into the appropriate positions on the deck')"
   ]
  },
  {
   "cell_type": "markdown",
   "id": "b28a6469",
   "metadata": {},
   "source": [
    "## 3. Focus camera\n",
    "Run the cells below. It will move the camera over the first well of the first plate and then pop up a live camera window. Manually adjust the focus to the desired point by twisting the housing of the camera lens. You will need to loosen the nut that holds the lens in place to be able to adjust the focus and then tighten it again once you are done. Then hit the escape key to close the window"
   ]
  },
  {
   "cell_type": "code",
   "execution_count": null,
   "id": "a784048b-11fa-4323-a383-f182a2bfa28c",
   "metadata": {
    "tags": []
   },
   "outputs": [],
   "source": [
    "m.pickup_tool(camera)"
   ]
  },
  {
   "cell_type": "code",
   "execution_count": null,
   "id": "fbf3abb4-1b64-4746-bf21-c305afbf28aa",
   "metadata": {
    "tags": []
   },
   "outputs": [],
   "source": [
    "#Move camera over first well to be imaged\n",
    "plate1_A1 = plate1[\"A1\"]\n",
    "\n",
    "m.move_to(x=plate1_A1.x, y=plate1_A1.y)"
   ]
  },
  {
   "cell_type": "code",
   "execution_count": null,
   "id": "feba91f2-f131-4e86-adf6-7d32d270948a",
   "metadata": {
    "tags": []
   },
   "outputs": [],
   "source": [
    "#Open a live video window\n",
    "m.move_to(z=30) # your focus height\n",
    "camera.video_stream() # esc to exit"
   ]
  },
  {
   "cell_type": "markdown",
   "id": "5517b096",
   "metadata": {},
   "source": [
    "## 4. Capture and save images"
   ]
  },
  {
   "cell_type": "code",
   "execution_count": null,
   "id": "9eb324b2",
   "metadata": {
    "tags": []
   },
   "outputs": [],
   "source": [
    "%matplotlib inline\n",
    "\n",
    "from utils.GrowthAssayHelpers import image_plates\n",
    "\n",
    "image_plates(m, camera, df, data_dir, expt_choice.value)\n",
    "\n",
    "\n",
    "# show_image_grid(data_dir)"
   ]
  },
  {
   "cell_type": "code",
   "execution_count": null,
   "id": "26f3723b-ac55-4bde-a3b9-8f86b694d2a0",
   "metadata": {},
   "outputs": [],
   "source": [
    "m.move_to(z=100)\n",
    "print(\"Please remove plates from machine then hit any key to continue\")\n",
    "input()"
   ]
  }
 ],
 "metadata": {
  "kernelspec": {
   "display_name": "plos-revision-submission",
   "language": "python",
   "name": "plos-revision-submission"
  },
  "language_info": {
   "codemirror_mode": {
    "name": "ipython",
    "version": 3
   },
   "file_extension": ".py",
   "mimetype": "text/x-python",
   "name": "python",
   "nbconvert_exporter": "python",
   "pygments_lexer": "ipython3",
   "version": "3.7.3"
  }
 },
 "nbformat": 4,
 "nbformat_minor": 5
}
