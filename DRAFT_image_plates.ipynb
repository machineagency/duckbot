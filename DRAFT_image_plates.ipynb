{
 "cells": [
  {
   "cell_type": "code",
   "execution_count": 22,
   "id": "678f9f8d",
   "metadata": {},
   "outputs": [],
   "source": [
    "import pandas as pd\n",
    "import os\n",
    "import json\n",
    "import datetime\n"
   ]
  },
  {
   "cell_type": "markdown",
   "id": "1d2032c8",
   "metadata": {},
   "source": [
    "#### Check that correct expt set up file is being uploaded"
   ]
  },
  {
   "cell_type": "code",
   "execution_count": 6,
   "id": "123577f5",
   "metadata": {},
   "outputs": [],
   "source": [
    "# FILE LOCATION AND NAME\n",
    "expt_setup_dir = \"/Users/Orlando/duckweed_automated_growth_assay/duckbot/notebooks/TestExptDir\" # Name of the folder to hold experiment data and metadata including the setup file\n",
    "expt_setup_file_name = \"TestFile.json\" #Name for the experiment setup file (Metadata)"
   ]
  },
  {
   "cell_type": "code",
   "execution_count": 7,
   "id": "2daf1448",
   "metadata": {},
   "outputs": [
    {
     "name": "stdout",
     "output_type": "stream",
     "text": [
      "/Users/Orlando/duckweed_automated_growth_assay/duckbot/notebooks/TestExptDir\n"
     ]
    }
   ],
   "source": [
    "os.chdir(expt_setup_dir)\n",
    "print(os.getcwd())"
   ]
  },
  {
   "cell_type": "code",
   "execution_count": 8,
   "id": "c044e5a0",
   "metadata": {},
   "outputs": [
    {
     "name": "stdout",
     "output_type": "stream",
     "text": [
      "   genotype media  condition_replicate    plate_well_id    Plate Well\n",
      "0    sp3484  Mock                    3  Plate_1_Well_A1  Plate_1   A1\n",
      "1    sp3484  Salt                    2  Plate_1_Well_A2  Plate_1   A2\n",
      "2    Sp7498  Mock                    1  Plate_1_Well_A3  Plate_1   A3\n",
      "3    Sp7498  Salt                    1  Plate_1_Well_A4  Plate_1   A4\n",
      "4    Sp7498  Mock                    3  Plate_1_Well_A5  Plate_1   A5\n",
      "5    sp3484  Mock                    1  Plate_1_Well_A6  Plate_1   A6\n",
      "6    sp3484  Mock                    2  Plate_1_Well_B1  Plate_1   B1\n",
      "7    sp3484  Salt                    3  Plate_1_Well_B2  Plate_1   B2\n",
      "8    sp3484  Salt                    1  Plate_1_Well_B3  Plate_1   B3\n",
      "9    Sp7498  Salt                    3  Plate_1_Well_B4  Plate_1   B4\n",
      "10   Sp7498  Mock                    2  Plate_1_Well_B5  Plate_1   B5\n",
      "11   Sp7498  Salt                    2  Plate_1_Well_B6  Plate_1   B6\n"
     ]
    }
   ],
   "source": [
    "with open(expt_setup_file_name) as datafile:\n",
    "    expt_data = json.load(datafile)\n",
    "    \n"
   ]
  },
  {
   "cell_type": "code",
   "execution_count": 11,
   "id": "7ac47da2",
   "metadata": {},
   "outputs": [
    {
     "name": "stdout",
     "output_type": "stream",
     "text": [
      "   genotype media  condition_replicate    plate_well_id    Plate Well\n",
      "0    sp3484  Mock                    3  Plate_1_Well_A1  Plate_1   A1\n",
      "1    sp3484  Salt                    2  Plate_1_Well_A2  Plate_1   A2\n",
      "2    Sp7498  Mock                    1  Plate_1_Well_A3  Plate_1   A3\n",
      "3    Sp7498  Salt                    1  Plate_1_Well_A4  Plate_1   A4\n",
      "4    Sp7498  Mock                    3  Plate_1_Well_A5  Plate_1   A5\n",
      "5    sp3484  Mock                    1  Plate_1_Well_A6  Plate_1   A6\n",
      "6    sp3484  Mock                    2  Plate_1_Well_B1  Plate_1   B1\n",
      "7    sp3484  Salt                    3  Plate_1_Well_B2  Plate_1   B2\n",
      "8    sp3484  Salt                    1  Plate_1_Well_B3  Plate_1   B3\n",
      "9    Sp7498  Salt                    3  Plate_1_Well_B4  Plate_1   B4\n",
      "10   Sp7498  Mock                    2  Plate_1_Well_B5  Plate_1   B5\n",
      "11   Sp7498  Salt                    2  Plate_1_Well_B6  Plate_1   B6\n"
     ]
    }
   ],
   "source": [
    "sample_data = expt_data[\"sample_info\"]\n",
    "df = pd.DataFrame(sample_data)\n",
    "print (df[0:])"
   ]
  },
  {
   "cell_type": "markdown",
   "id": "9b34dbdb",
   "metadata": {},
   "source": [
    "### Ensure that the 24 well plates are loaded into the machine in the correct positions"
   ]
  },
  {
   "cell_type": "code",
   "execution_count": 9,
   "id": "2dfdb421",
   "metadata": {},
   "outputs": [
    {
     "name": "stdout",
     "output_type": "stream",
     "text": [
      "Type anything to confirm that the plates are in the machine\n",
      "ok\n"
     ]
    },
    {
     "data": {
      "text/plain": [
       "'ok'"
      ]
     },
     "execution_count": 9,
     "metadata": {},
     "output_type": "execute_result"
    }
   ],
   "source": [
    "print(\"Type anything to confirm that the plates are in the machine\")\n",
    "input()"
   ]
  },
  {
   "cell_type": "code",
   "execution_count": 18,
   "id": "9d6b1a7f",
   "metadata": {},
   "outputs": [
    {
     "name": "stdout",
     "output_type": "stream",
     "text": [
      "   genotype media  condition_replicate    plate_well_id    Plate Well\n",
      "0    sp3484  Mock                    3  Plate_1_Well_A1  Plate_1   A1\n",
      "1    sp3484  Salt                    2  Plate_1_Well_A2  Plate_1   A2\n",
      "2    Sp7498  Mock                    1  Plate_1_Well_A3  Plate_1   A3\n",
      "3    Sp7498  Salt                    1  Plate_1_Well_A4  Plate_1   A4\n",
      "4    Sp7498  Mock                    3  Plate_1_Well_A5  Plate_1   A5\n",
      "5    sp3484  Mock                    1  Plate_1_Well_A6  Plate_1   A6\n",
      "6    sp3484  Mock                    2  Plate_1_Well_B1  Plate_1   B1\n",
      "7    sp3484  Salt                    3  Plate_1_Well_B2  Plate_1   B2\n",
      "8    sp3484  Salt                    1  Plate_1_Well_B3  Plate_1   B3\n",
      "9    Sp7498  Salt                    3  Plate_1_Well_B4  Plate_1   B4\n",
      "10   Sp7498  Mock                    2  Plate_1_Well_B5  Plate_1   B5\n",
      "11   Sp7498  Salt                    2  Plate_1_Well_B6  Plate_1   B6\n"
     ]
    }
   ],
   "source": [
    "grouped_df = df.groupby('Plate')\n",
    "for plate, plate_df in grouped_df:\n",
    "    print(plate_df)"
   ]
  },
  {
   "cell_type": "code",
   "execution_count": 20,
   "id": "708b993f",
   "metadata": {},
   "outputs": [
    {
     "name": "stdout",
     "output_type": "stream",
     "text": [
      "Collecting images from Plate_1\n",
      "Imaging well A1\n",
      "Imaging well A2\n",
      "Imaging well A3\n",
      "Imaging well A4\n",
      "Imaging well A5\n",
      "Imaging well A6\n",
      "Imaging well B1\n",
      "Imaging well B2\n",
      "Imaging well B3\n",
      "Imaging well B4\n",
      "Imaging well B5\n",
      "Imaging well B6\n"
     ]
    }
   ],
   "source": [
    "for plate, plate_df in grouped_df:\n",
    "    print(\"Collecting images from {}\".format(plate))\n",
    "    for index,s in plate_df.iterrows():\n",
    "        print(\"Imaging well {}\".format(s[\"Well\"]))\n"
   ]
  },
  {
   "cell_type": "code",
   "execution_count": 26,
   "id": "0560ff35",
   "metadata": {},
   "outputs": [
    {
     "name": "stdout",
     "output_type": "stream",
     "text": [
      "Today's date: 2022-06-24\n",
      "2022-06-24 10:48:38.937637\n"
     ]
    }
   ],
   "source": [
    "from datetime import date\n",
    "from datetime import datetime\n",
    "today = date.today()\n",
    "print(\"Today's date:\", today)\n",
    "print(datetime.now())"
   ]
  },
  {
   "cell_type": "code",
   "execution_count": null,
   "id": "3b16b731",
   "metadata": {},
   "outputs": [],
   "source": []
  }
 ],
 "metadata": {
  "kernelspec": {
   "display_name": "Python 3 (ipykernel)",
   "language": "python",
   "name": "python3"
  },
  "language_info": {
   "codemirror_mode": {
    "name": "ipython",
    "version": 3
   },
   "file_extension": ".py",
   "mimetype": "text/x-python",
   "name": "python",
   "nbconvert_exporter": "python",
   "pygments_lexer": "ipython3",
   "version": "3.7.0"
  }
 },
 "nbformat": 4,
 "nbformat_minor": 5
}
