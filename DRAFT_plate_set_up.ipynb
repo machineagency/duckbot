{
 "cells": [
  {
   "cell_type": "markdown",
   "id": "94241553",
   "metadata": {},
   "source": [
    "## Duckbot Automated Growth assays code library"
   ]
  },
  {
   "cell_type": "code",
   "execution_count": 1,
   "id": "d9261ed0",
   "metadata": {},
   "outputs": [],
   "source": [
    "import random\n",
    "import pandas as pd\n",
    "import DuckbotExptSetupUtils as exp\n",
    "import os\n",
    "import json"
   ]
  },
  {
   "cell_type": "markdown",
   "id": "1ce24584",
   "metadata": {},
   "source": [
    "### Create dataframe with experiment metadata"
   ]
  },
  {
   "cell_type": "code",
   "execution_count": 2,
   "id": "a916546d",
   "metadata": {},
   "outputs": [],
   "source": [
    "# USER ACTION REQUIRED\n",
    "\n",
    "#1. DEFINE EXPERIMENTAL VARIABLES\n",
    "genotypes = [\"Sp7498\", \"sp3484\"] # Replace with names for unique duckweed genotypes\n",
    "media = [\"Mock\", \"Salt\"] # Replace with names for unique media\n",
    "reps  = 3 # Replace with your desired number of replicates for each duckweed/media combination. \n",
    "\n",
    "#2. DEFINE FILE LOCATION AND NAME\n",
    "expt_setup_parent_dir = os.getcwd() # Default uses current working directory but you can replace with your own choice. \n",
    "expt_setup_dir = \"TestExptDir\" # Name of the folder to hold experiment data and metadata including the setup file\n",
    "expt_setup_file_name = \"TestFile.json\" #Name for the experiment setup file (Metadata)\n",
    "\n",
    "        "
   ]
  },
  {
   "cell_type": "code",
   "execution_count": 3,
   "id": "46b27146",
   "metadata": {},
   "outputs": [],
   "source": [
    "# Creates master list of sample info, shuffles and then assigns to plates and wells. \n",
    "master_expt_list = []\n",
    "\n",
    "for g in genotypes:\n",
    "    for m in media:\n",
    "        for x in range(reps):\n",
    "             master_expt_list.append({\"genotype\": g, \"media\": m, \"condition_replicate\": x + 1})\n",
    "\n",
    "\n",
    "random.shuffle(master_expt_list)\n",
    "master_expt_list = exp.assign_plates_and_wells(master_expt_list)\n",
    "expt_dict = {\"sample_info\" : master_expt_list}\n",
    "\n",
    "\n"
   ]
  },
  {
   "cell_type": "code",
   "execution_count": 4,
   "id": "33e7bf34",
   "metadata": {},
   "outputs": [
    {
     "name": "stdout",
     "output_type": "stream",
     "text": [
      "[{'genotype': 'Sp7498', 'media': 'Salt', 'condition_replicate': 2, 'plate_well_id': 'Plate_1_Well_A1', 'Plate': 'Plate_1', 'Well': 'A1'}, {'genotype': 'Sp7498', 'media': 'Mock', 'condition_replicate': 2, 'plate_well_id': 'Plate_1_Well_A2', 'Plate': 'Plate_1', 'Well': 'A2'}, {'genotype': 'sp3484', 'media': 'Salt', 'condition_replicate': 3, 'plate_well_id': 'Plate_1_Well_A3', 'Plate': 'Plate_1', 'Well': 'A3'}, {'genotype': 'Sp7498', 'media': 'Salt', 'condition_replicate': 1, 'plate_well_id': 'Plate_1_Well_A4', 'Plate': 'Plate_1', 'Well': 'A4'}, {'genotype': 'Sp7498', 'media': 'Mock', 'condition_replicate': 1, 'plate_well_id': 'Plate_1_Well_A5', 'Plate': 'Plate_1', 'Well': 'A5'}, {'genotype': 'sp3484', 'media': 'Mock', 'condition_replicate': 1, 'plate_well_id': 'Plate_1_Well_A6', 'Plate': 'Plate_1', 'Well': 'A6'}, {'genotype': 'Sp7498', 'media': 'Mock', 'condition_replicate': 3, 'plate_well_id': 'Plate_1_Well_B1', 'Plate': 'Plate_1', 'Well': 'B1'}, {'genotype': 'sp3484', 'media': 'Mock', 'condition_replicate': 3, 'plate_well_id': 'Plate_1_Well_B2', 'Plate': 'Plate_1', 'Well': 'B2'}, {'genotype': 'Sp7498', 'media': 'Salt', 'condition_replicate': 3, 'plate_well_id': 'Plate_1_Well_B3', 'Plate': 'Plate_1', 'Well': 'B3'}, {'genotype': 'sp3484', 'media': 'Salt', 'condition_replicate': 1, 'plate_well_id': 'Plate_1_Well_B4', 'Plate': 'Plate_1', 'Well': 'B4'}, {'genotype': 'sp3484', 'media': 'Mock', 'condition_replicate': 2, 'plate_well_id': 'Plate_1_Well_B5', 'Plate': 'Plate_1', 'Well': 'B5'}, {'genotype': 'sp3484', 'media': 'Salt', 'condition_replicate': 2, 'plate_well_id': 'Plate_1_Well_B6', 'Plate': 'Plate_1', 'Well': 'B6'}]\n"
     ]
    }
   ],
   "source": [
    "print(expt_dict[\"sample_info\"])"
   ]
  },
  {
   "cell_type": "code",
   "execution_count": 4,
   "id": "84a9591b",
   "metadata": {},
   "outputs": [],
   "source": [
    "#Create folder and save experimental set up file to it\n",
    "\n",
    "path = os.path.join(expt_setup_parent_dir, expt_setup_dir)\n",
    "\n",
    "os.mkdir(path)\n",
    "os.chdir(path)\n",
    "\n",
    "with open(expt_setup_file_name, 'w') as f:\n",
    "    json.dump(expt_dict, f)"
   ]
  },
  {
   "cell_type": "code",
   "execution_count": 6,
   "id": "5cce9399",
   "metadata": {},
   "outputs": [
    {
     "name": "stdout",
     "output_type": "stream",
     "text": [
      "   genotype media  condition_replicate    plate_well_id    Plate Well\n",
      "0    sp3484  Mock                    3  Plate_1_Well_A1  Plate_1   A1\n",
      "1    sp3484  Salt                    2  Plate_1_Well_A2  Plate_1   A2\n",
      "2    Sp7498  Mock                    1  Plate_1_Well_A3  Plate_1   A3\n",
      "3    Sp7498  Salt                    1  Plate_1_Well_A4  Plate_1   A4\n",
      "4    Sp7498  Mock                    3  Plate_1_Well_A5  Plate_1   A5\n",
      "5    sp3484  Mock                    1  Plate_1_Well_A6  Plate_1   A6\n",
      "6    sp3484  Mock                    2  Plate_1_Well_B1  Plate_1   B1\n",
      "7    sp3484  Salt                    3  Plate_1_Well_B2  Plate_1   B2\n",
      "8    sp3484  Salt                    1  Plate_1_Well_B3  Plate_1   B3\n",
      "9    Sp7498  Salt                    3  Plate_1_Well_B4  Plate_1   B4\n",
      "10   Sp7498  Mock                    2  Plate_1_Well_B5  Plate_1   B5\n",
      "11   Sp7498  Salt                    2  Plate_1_Well_B6  Plate_1   B6\n"
     ]
    }
   ],
   "source": [
    "# Turn samples list into a dataframe\n",
    "\n",
    "#Import from file (in case user wants to make any manual edits to the JSON file after creating it)\n",
    "\n",
    "#TO DO import from Json\n",
    "with open(expt_setup_file_name) as datafile:\n",
    "    expt_data = json.load(datafile)\n",
    "\n",
    "sample_data = expt_data[\"sample_info\"]\n",
    "df = pd.DataFrame(sample_data)\n",
    "print (df[0:])\n"
   ]
  },
  {
   "cell_type": "markdown",
   "id": "61b71c98",
   "metadata": {},
   "source": [
    "### Set up physical plates"
   ]
  },
  {
   "cell_type": "markdown",
   "id": "fe38bb67",
   "metadata": {},
   "source": [
    "#### Label Plates and add plates to machine"
   ]
  },
  {
   "cell_type": "code",
   "execution_count": 10,
   "id": "bc31ce67",
   "metadata": {},
   "outputs": [
    {
     "name": "stdout",
     "output_type": "stream",
     "text": [
      "This experiment requires 1 24-well plate(s)\n",
      "----\n",
      "[1]\n",
      "Label a plate with experiment ID or initials and 'plate 1'\n",
      "----\n",
      "Place the 24-well plate(s) in the jubilee\n",
      "Start at position 1 and fill empty plate slots in order\n"
     ]
    }
   ],
   "source": [
    "num_plates = df.Plate.nunique()\n",
    "\n",
    "print(\"This experiment requires {} 24-well plate(s)\".format(num_plates))\n",
    "print(\"----\")\n",
    "lst = list(range(1,num_plates + 1))\n",
    "for n in lst:\n",
    "    print(\"Label a plate with experiment ID or initials and 'plate {}'\".format(n))\n",
    "print(\"----\")\n",
    "print (\"Place the 24-well plate(s) in the jubilee\".format(num_plates))\n",
    "print (\"Start at position 1 and fill empty plate slots in order\")\n",
    "\n"
   ]
  },
  {
   "cell_type": "markdown",
   "id": "3bd8f5e8",
   "metadata": {},
   "source": [
    "#### Add media to plates\n",
    "When prompted insert containers of the relevant sterile media into the input slot on the Jubilee. "
   ]
  },
  {
   "cell_type": "code",
   "execution_count": 5,
   "id": "faeab7b0",
   "metadata": {},
   "outputs": [
    {
     "name": "stdout",
     "output_type": "stream",
     "text": [
      "Place container of media type **Mock** into jubilee and ensure lid is open\n",
      "Type anything into the input field to confirm that the media is available.\n",
      "    After this point the Jubilee will begin dispensing\n",
      "ok\n",
      "Move to Plate_1, well A3\n",
      "Dispensing media of type Mock into Plate_1, well A3\n",
      "Move to Plate_1, well B2\n",
      "Dispensing media of type Mock into Plate_1, well B2\n",
      "Move to Plate_1, well B3\n",
      "Dispensing media of type Mock into Plate_1, well B3\n",
      "Move to Plate_1, well B4\n",
      "Dispensing media of type Mock into Plate_1, well B4\n",
      "Move to Plate_1, well B5\n",
      "Dispensing media of type Mock into Plate_1, well B5\n",
      "Move to Plate_1, well B6\n",
      "Dispensing media of type Mock into Plate_1, well B6\n",
      "Place container of media type **Salt** into jubilee and ensure lid is open\n",
      "Type anything into the input field to confirm that the media is available.\n",
      "    After this point the Jubilee will begin dispensing\n",
      "ok\n",
      "Move to Plate_1, well A1\n",
      "Dispensing media of type Salt into Plate_1, well A1\n",
      "Move to Plate_1, well A2\n",
      "Dispensing media of type Salt into Plate_1, well A2\n",
      "Move to Plate_1, well A4\n",
      "Dispensing media of type Salt into Plate_1, well A4\n",
      "Move to Plate_1, well A5\n",
      "Dispensing media of type Salt into Plate_1, well A5\n",
      "Move to Plate_1, well A6\n",
      "Dispensing media of type Salt into Plate_1, well A6\n",
      "Move to Plate_1, well B1\n",
      "Dispensing media of type Salt into Plate_1, well B1\n"
     ]
    }
   ],
   "source": [
    "media_df = df.groupby('media')\n",
    "for media_type, sample_df in media_df:\n",
    "    print(\"Place container of media type **{0}** into jubilee and ensure lid is open\".format(media_type))\n",
    "    print(\"\"\"Type anything into the input field to confirm that the media is available.\n",
    "    After this point the Jubilee will begin dispensing\"\"\")\n",
    "    input() \n",
    "    for index,s in sample_df.iterrows():\n",
    "        #move to plate and well\n",
    "        print(\"Move to {0}, well {1}\".format(s[\"Plate\"], s[\"Well\"]))\n",
    "        print(\"Dispensing media of type {0} into {1}, well {2}\".format(media_type,s[\"Plate\"], s[\"Well\"]))\n",
    "    print(\"---\")\n"
   ]
  },
  {
   "cell_type": "markdown",
   "id": "999efd6b",
   "metadata": {},
   "source": [
    "#### Add duckweed to wells\n",
    "Place a container filled with fronds of the relevant duckweed type and the machine will attempt to move individual fronds into the relevant wells. After each attempt at filling all wells a camera will take pictures of each well to confirm success and then unsuccessful wells will be reattempted"
   ]
  },
  {
   "cell_type": "code",
   "execution_count": 10,
   "id": "3965bc08",
   "metadata": {},
   "outputs": [
    {
     "name": "stdout",
     "output_type": "stream",
     "text": [
      "Place container of duckweed type **Sp7498** into jubilee and ensure lid is open\n",
      "Type anything into the input field to confirm that the media is available.\n",
      "    After this point the Jubilee will begin dispensing\n",
      "ok\n",
      "Move to Plate_1, well A2\n",
      "Dispensing media of type Sp7498 into Plate_1, well A2\n",
      "Move to Plate_1, well A3\n",
      "Dispensing media of type Sp7498 into Plate_1, well A3\n",
      "Move to Plate_1, well A4\n",
      "Dispensing media of type Sp7498 into Plate_1, well A4\n",
      "Move to Plate_1, well B1\n",
      "Dispensing media of type Sp7498 into Plate_1, well B1\n",
      "Move to Plate_1, well B2\n",
      "Dispensing media of type Sp7498 into Plate_1, well B2\n",
      "Move to Plate_1, well B5\n",
      "Dispensing media of type Sp7498 into Plate_1, well B5\n",
      "Place container of duckweed type **sp3484** into jubilee and ensure lid is open\n",
      "Type anything into the input field to confirm that the media is available.\n",
      "    After this point the Jubilee will begin dispensing\n",
      "ok\n",
      "Move to Plate_1, well A1\n",
      "Dispensing media of type sp3484 into Plate_1, well A1\n",
      "Move to Plate_1, well A5\n",
      "Dispensing media of type sp3484 into Plate_1, well A5\n",
      "Move to Plate_1, well A6\n",
      "Dispensing media of type sp3484 into Plate_1, well A6\n",
      "Move to Plate_1, well B3\n",
      "Dispensing media of type sp3484 into Plate_1, well B3\n",
      "Move to Plate_1, well B4\n",
      "Dispensing media of type sp3484 into Plate_1, well B4\n",
      "Move to Plate_1, well B6\n",
      "Dispensing media of type sp3484 into Plate_1, well B6\n"
     ]
    }
   ],
   "source": [
    "grouped_df = df.groupby('genotype')\n",
    "for field_value, sample_df in grouped_df:\n",
    "    print(\"Place container of duckweed type **{0}** into jubilee and ensure lid is open\".format(field_value))\n",
    "    print(\"\"\"Type anything into the input field to confirm that the media is available.\n",
    "    After this point the Jubilee will begin dispensing\"\"\")\n",
    "    input() \n",
    "    for index,s in sample_df.iterrows():\n",
    "        #move to plate and well\n",
    "        print(\"Move to {0}, well {1}\".format(s[\"Plate\"], s[\"Well\"]))\n",
    "        print(\"Dispensing media of type {0} into {1}, well {2}\".format(field_value,s[\"Plate\"], s[\"Well\"]))\n"
   ]
  },
  {
   "cell_type": "code",
   "execution_count": null,
   "id": "af5ab68e",
   "metadata": {},
   "outputs": [],
   "source": []
  }
 ],
 "metadata": {
  "kernelspec": {
   "display_name": "Python 3 (ipykernel)",
   "language": "python",
   "name": "python3"
  },
  "language_info": {
   "codemirror_mode": {
    "name": "ipython",
    "version": 3
   },
   "file_extension": ".py",
   "mimetype": "text/x-python",
   "name": "python",
   "nbconvert_exporter": "python",
   "pygments_lexer": "ipython3",
   "version": "3.7.0"
  }
 },
 "nbformat": 4,
 "nbformat_minor": 5
}
