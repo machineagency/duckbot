{
 "cells": [
  {
   "cell_type": "markdown",
   "id": "31fb4c78",
   "metadata": {},
   "source": [
    "#### What does this script do?\n",
    " - Generate a randomized plate layout, combining each duckweed line and each media_type with the given number of replicates.\n",
    " - Generate machine instructions to guide a Jubilee with appropriate tools/bedplate to prepare the plate using provided media and duckweed. \n",
    " - Guide user through collection of image data during time course. \n",
    " - Calculate growth rates from image data and produce relevant summary statistics and graphs, updating as more data are added\n",
    " \n",
    " #### What does the user do?\n",
    "  - Ensure that the Jubilee is set up with the right tools and bedplate (see documentation www.URL.com)\n",
    "  - Provide the duckweed and the media in suitable containers at the set up of the container. \n",
    "  - Move the duckweed from the machine into the growth chamber and back and forth for each time they want to collect image data. \n",
    "  - \n",
    "\n"
   ]
  },
  {
   "cell_type": "code",
   "execution_count": 15,
   "id": "4d62ed82",
   "metadata": {},
   "outputs": [],
   "source": [
    "import math"
   ]
  },
  {
   "cell_type": "markdown",
   "id": "3b9ac876",
   "metadata": {},
   "source": [
    "### Step 1: Define experimental parameters\n",
    "#### Only execute once, at the start of the experiment"
   ]
  },
  {
   "cell_type": "code",
   "execution_count": 11,
   "id": "4add4742",
   "metadata": {},
   "outputs": [],
   "source": [
    "#Number of replicates. Integer\n",
    "no_of_replicates = 3"
   ]
  },
  {
   "cell_type": "code",
   "execution_count": 5,
   "id": "20648793",
   "metadata": {},
   "outputs": [],
   "source": [
    "# Array of strings e.g. \"[\"Control\",  \"100 mM NaCL\"]\"\n",
    "media_types = [\"Media1\",\"Media2\"]"
   ]
  },
  {
   "cell_type": "code",
   "execution_count": 6,
   "id": "99ac04ca",
   "metadata": {},
   "outputs": [],
   "source": [
    "# Array of strings e.g. \"[\"sp7498\",  \"sp6523\"]\"\n",
    "duckweed_lines = [\"line1\",\"line2\"]"
   ]
  },
  {
   "cell_type": "code",
   "execution_count": 7,
   "id": "8d59897c",
   "metadata": {},
   "outputs": [],
   "source": [
    "#String. Desired prefix for all files associated with this experiment. \n",
    "expt_name = \"expt_prefix\""
   ]
  },
  {
   "cell_type": "code",
   "execution_count": 8,
   "id": "bba5592f",
   "metadata": {},
   "outputs": [],
   "source": [
    "#String. Full path to desired directory to store experimental files, including data. \n",
    "expt_directory = \"Orlando/Documents/\""
   ]
  },
  {
   "cell_type": "markdown",
   "id": "bc220998",
   "metadata": {},
   "source": [
    "### Step 2: Set up sample plate(s)\n",
    "#### Only execute once, at the start of the experiment\n",
    "\n",
    "Creates a randomized plate layout. Saves it as a file in the expt_directory. \n",
    "Then sends machine commands to add media into wells and then duckweed into wells for each plate in the experiment. "
   ]
  },
  {
   "cell_type": "markdown",
   "id": "6da3e1f6",
   "metadata": {},
   "source": [
    "My notes\n",
    " - I should have a library that defines an object type for plates and then I can instantiate a plate object and fill it with sample data. "
   ]
  },
  {
   "cell_type": "code",
   "execution_count": 12,
   "id": "73f2e3e0",
   "metadata": {},
   "outputs": [],
   "source": [
    "#Select plate type\n",
    "# Insert a selection widget - https://ipywidgets.readthedocs.io/en/latest/examples/Widget%20List.html\n",
    "plate_type = 24"
   ]
  },
  {
   "cell_type": "code",
   "execution_count": 20,
   "id": "502a4618",
   "metadata": {},
   "outputs": [
    {
     "name": "stdout",
     "output_type": "stream",
     "text": [
      "12\n",
      "1\n"
     ]
    }
   ],
   "source": [
    "num_wells = (len(duckweed_lines) * len(media_types) * no_of_replicates)\n",
    "num_plates = math.ceil(num_wells / plate_type)\n",
    "print(num_wells)\n",
    "print(num_plates)"
   ]
  },
  {
   "cell_type": "markdown",
   "id": "42058297",
   "metadata": {},
   "source": [
    "### Step 3: Image plate(s) \n",
    "\n",
    "##### Execute at start of experiment and as many times as desired during experiment\n"
   ]
  },
  {
   "cell_type": "code",
   "execution_count": null,
   "id": "e6faab7e",
   "metadata": {},
   "outputs": [],
   "source": [
    "#Calibrate for one plate\n"
   ]
  },
  {
   "cell_type": "code",
   "execution_count": 1,
   "id": "c45ef517",
   "metadata": {},
   "outputs": [],
   "source": [
    "#For each plate...\n",
    "    #Print(load plate X)\n",
    "    #Take images\n",
    "    #Save images to the defined folder with the plate ID and date. "
   ]
  },
  {
   "cell_type": "code",
   "execution_count": null,
   "id": "4573b93f",
   "metadata": {},
   "outputs": [],
   "source": []
  },
  {
   "cell_type": "markdown",
   "id": "624a3dca",
   "metadata": {},
   "source": [
    "### Step 4: Analyze data"
   ]
  },
  {
   "cell_type": "code",
   "execution_count": null,
   "id": "17f5a7b7",
   "metadata": {},
   "outputs": [],
   "source": []
  }
 ],
 "metadata": {
  "kernelspec": {
   "display_name": "Python 3 (ipykernel)",
   "language": "python",
   "name": "python3"
  },
  "language_info": {
   "codemirror_mode": {
    "name": "ipython",
    "version": 3
   },
   "file_extension": ".py",
   "mimetype": "text/x-python",
   "name": "python",
   "nbconvert_exporter": "python",
   "pygments_lexer": "ipython3",
   "version": "3.7.0"
  }
 },
 "nbformat": 4,
 "nbformat_minor": 5
}
